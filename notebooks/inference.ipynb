{
 "cells": [
  {
   "cell_type": "code",
   "execution_count": 1,
   "metadata": {},
   "outputs": [],
   "source": [
    "import calendar\n",
    "import numpy as np\n",
    "import pandas as pd\n",
    "import plotly.express as px\n",
    "from scipy.optimize import minimize\n",
    "from sklearn.metrics import mean_squared_error, mean_absolute_error\n",
    "from statsmodels.tsa.api import ETSModel, SimpleExpSmoothing, seasonal_decompose, Holt\n",
    "from statsmodels.tsa.seasonal import seasonal_decompose\n",
    "from statsmodels.tsa.arima.model import ARIMA\n",
    "from statsmodels.tsa.statespace.sarimax import SARIMAX\n",
    "from statsmodels.graphics.tsaplots import plot_acf, plot_pacf\n",
    "import statsmodels.formula.api as smf\n",
    "import matplotlib.pyplot as plt\n",
    "import seaborn as sns\n",
    "import statsmodels.api as sm\n",
    "from statsmodels.tsa.stattools import adfuller\n",
    "import altair_ally as aly\n",
    "import plotly.graph_objects as go\n",
    "import pmdarima as pm\n",
    "from sklearn.model_selection import TimeSeriesSplit\n",
    "from sklearn.linear_model import LinearRegression\n",
    "from sklearn.model_selection import train_test_split\n",
    "\n",
    "\n",
    "%matplotlib inline"
   ]
  },
  {
   "cell_type": "markdown",
   "metadata": {},
   "source": [
    "#### Read in data from excel workbook"
   ]
  },
  {
   "cell_type": "code",
   "execution_count": 2,
   "metadata": {},
   "outputs": [],
   "source": [
    "excel_df = pd.read_excel('LP_data.xlsx', sheet_name='Sheet2')\n",
    "excel_df[excel_df.select_dtypes(include='number').columns] = excel_df.select_dtypes(include='number').round(2)"
   ]
  },
  {
   "cell_type": "markdown",
   "metadata": {},
   "source": [
    "#### Read in weather data downloaded from https://vancouver.weatherstats.ca/"
   ]
  },
  {
   "cell_type": "code",
   "execution_count": 3,
   "metadata": {},
   "outputs": [],
   "source": [
    "van_weather_df = pd.read_csv('weatherstats_vancouver_daily.csv')\n",
    "van_weather_df['date'] = pd.to_datetime(van_weather_df['date'])"
   ]
  },
  {
   "cell_type": "markdown",
   "metadata": {},
   "source": [
    "#### Filter dates that have corresponding sales data"
   ]
  },
  {
   "cell_type": "code",
   "execution_count": 4,
   "metadata": {},
   "outputs": [],
   "source": [
    "start_date = excel_df['date'].min()\n",
    "end_date = excel_df['date'].max()\n",
    "van_weather_df = van_weather_df[(van_weather_df['date'] >= start_date) & \n",
    "               (van_weather_df['date'] <= end_date)\n",
    "               ]\n",
    "van_weather_df = van_weather_df.iloc[::-1] #flip the order with the most recent date at the bottom\n"
   ]
  },
  {
   "cell_type": "code",
   "execution_count": 5,
   "metadata": {},
   "outputs": [],
   "source": [
    "## filtering for weather columns that we will use for the modelling\n",
    "weather_columns_for_model = ['date','avg_temperature', 'rain', 'snow', 'avg_cloud_cover_8']"
   ]
  },
  {
   "cell_type": "code",
   "execution_count": 6,
   "metadata": {},
   "outputs": [],
   "source": [
    "## joining the weather data to our dataset\n",
    "combined_df = pd.merge(excel_df, van_weather_df[weather_columns_for_model], on='date', how='left')\n"
   ]
  },
  {
   "cell_type": "code",
   "execution_count": 7,
   "metadata": {},
   "outputs": [],
   "source": [
    "def is_long_weekend(type_of_days):\n",
    "\n",
    "    is_long_weekend_list = [False] * len(type_of_days)\n",
    "\n",
    "    for i ,day in enumerate(type_of_days):\n",
    "\n",
    "        if day == 'Holiday':\n",
    "            prev_day = type_of_days[i-1] if i > 0 else None\n",
    "            next_day = type_of_days[i+1] if i < len(type_of_days) - 1 else None \n",
    "            \n",
    "            if prev_day == 'Weekend':\n",
    "                is_long_weekend_list[i] = True\n",
    "                is_long_weekend_list[i-1] = True\n",
    "                is_long_weekend_list[i-2] = True\n",
    "            \n",
    "            if next_day == 'Weekend':\n",
    "                is_long_weekend_list[i] = True\n",
    "                is_long_weekend_list[i+1] = True\n",
    "                is_long_weekend_list[i+2] = True\n",
    "    \n",
    "    return pd.Series(is_long_weekend_list, name='is_long_weekend')"
   ]
  },
  {
   "cell_type": "code",
   "execution_count": 8,
   "metadata": {},
   "outputs": [],
   "source": [
    "def is_HCF(dates, start, end):\n",
    "\n",
    "    start = pd.Timestamp(start)\n",
    "    end = pd.Timestamp(end)\n",
    "\n",
    "    HCF_days = dates.apply(lambda day: start <= day <= end)\n",
    "    HCF_days.name = 'is_HCF'\n",
    "\n",
    "    return HCF_days"
   ]
  },
  {
   "cell_type": "code",
   "execution_count": 9,
   "metadata": {},
   "outputs": [],
   "source": [
    "def is_holiday(dates):\n",
    "\n",
    "    holidays = dates.apply(lambda day: day == 'Holiday')\n",
    "\n",
    "    return holidays"
   ]
  },
  {
   "cell_type": "code",
   "execution_count": 10,
   "metadata": {},
   "outputs": [],
   "source": [
    "def has_pop_up(dates, pop_up_days):\n",
    "\n",
    "    pop_up_days_dt = pd.to_datetime(pop_up_days)\n",
    "\n",
    "    have_pop_up = dates.apply(lambda day: day in pop_up_days_dt)\n",
    "    have_pop_up.name = 'has_pop_up'\n",
    "\n",
    "    return have_pop_up"
   ]
  },
  {
   "cell_type": "code",
   "execution_count": 11,
   "metadata": {},
   "outputs": [],
   "source": [
    "pop_up_days = [\n",
    "    '2024-11-16',\n",
    "    '2024-11-17',\n",
    "    '2024-11-23',\n",
    "    '2024-12-28',\n",
    "    '2024-12-29',\n",
    "    '2025-01-25',\n",
    "    '2025-01-26',\n",
    "    '2025-03-01',\n",
    "    '2025-03-02',\n",
    "    '2025-03-08',\n",
    "    '2025-03-09',\n",
    "    '2025-03-15',\n",
    "    '2025-03-16',\n",
    "    '2025-03-22',\n",
    "    '2025-03-23',\n",
    "    '2025-03-29',\n",
    "    '2025-03-30',\n",
    "    '2025-03-30',\n",
    "    '2025-04-05',\n",
    "    '2025-04-06',\n",
    "    '2025-04-12',\n",
    "    '2025-04-13',\n",
    "    '2025-04-18',\n",
    "    '2025-04-19',\n",
    "    '2025-04-20',\n",
    "    '2025-04-21',\n",
    "    '2025-04-26',\n",
    "    '2025-04-27',\n",
    "    '2025-05-03',\n",
    "    '2025-05-04',\n",
    "]"
   ]
  },
  {
   "cell_type": "code",
   "execution_count": 12,
   "metadata": {},
   "outputs": [],
   "source": [
    "def get_season(dates: pd.Series) -> pd.Series:\n",
    "    \"\"\"\n",
    "    Given a Series of datetime objects, return a Series with the season for each date.\n",
    "    Seasons are based on meteorological seasons in the Northern Hemisphere.\n",
    "    \"\"\"\n",
    "    def season_of_date(date):\n",
    "        month = date.month\n",
    "        if month in [12, 1, 2]:\n",
    "            return 'Winter'\n",
    "        elif month in [3, 4, 5]:\n",
    "            return 'Spring'\n",
    "        elif month in [6, 7, 8]:\n",
    "            return 'Summer'\n",
    "        else:\n",
    "            return 'Fall'\n",
    "\n",
    "    return dates.apply(season_of_date).rename(\"season\")"
   ]
  },
  {
   "cell_type": "code",
   "execution_count": 136,
   "metadata": {},
   "outputs": [
    {
     "data": {
      "text/plain": [
       "Index(['date', 'hours_opened', 'net_sales_normalized', 'tips_normalized',\n",
       "       'total_sales_normalized', 'in_store_sales', 'pick-up', 'ubereats',\n",
       "       'in_store_orders', 'pick_up_orders', 'uber_orders', 'item_A_sales',\n",
       "       'item_B_sales', 'item_C_sales', 'item_D_sales', 'item_E_sales',\n",
       "       'other_sales', 'gift_card_sales', 'HCF_sales', 'net_sales_per_order',\n",
       "       'type_of_day', 'note'],\n",
       "      dtype='object')"
      ]
     },
     "execution_count": 136,
     "metadata": {},
     "output_type": "execute_result"
    }
   ],
   "source": [
    "excel_df.columns"
   ]
  },
  {
   "cell_type": "code",
   "execution_count": 137,
   "metadata": {},
   "outputs": [],
   "source": [
    "excel_columns_for_model = excel_df[['date', 'hours_opened', 'total_sales_normalized', 'type_of_day', 'note']]"
   ]
  },
  {
   "cell_type": "code",
   "execution_count": 14,
   "metadata": {},
   "outputs": [],
   "source": [
    "combined_df['is_long_weekend'] = is_long_weekend(combined_df['type_of_day'])\n",
    "combined_df['is_HCF'] = is_HCF(combined_df['date'], '2025-01-18', '2025-02-14')\n",
    "combined_df['has_pop_up'] = has_pop_up(combined_df['date'], pop_up_days)\n",
    "combined_df['season'] = get_season(combined_df['date'])\n",
    "combined_df['is_holiday'] = is_holiday(combined_df['type_of_day'])\n",
    "combined_df['day_of_week'] = combined_df['date'].dt.day_name()"
   ]
  },
  {
   "cell_type": "code",
   "execution_count": 15,
   "metadata": {},
   "outputs": [],
   "source": [
    "## set sales of unusual days as average of usual days \n",
    "\n",
    "combined_df.loc[combined_df['type_of_day'] == 'Unusual', 'total_sales_normalized'] = combined_df.loc[(combined_df['type_of_day'] != 'Unusual') & (combined_df['day_of_week'] == 'Monday'), 'total_sales_normalized'].mean()"
   ]
  },
  {
   "cell_type": "code",
   "execution_count": 21,
   "metadata": {},
   "outputs": [],
   "source": [
    "train_df = combined_df[['total_sales_normalized', 'item_A_sales', 'item_B_sales', 'item_C_sales' ,'hours_opened', 'is_long_weekend', 'is_HCF', 'type_of_day', 'has_pop_up', 'rain', 'snow', 'avg_cloud_cover_8', 'avg_temperature', 'season', 'day_of_week', 'is_holiday']].copy()"
   ]
  },
  {
   "cell_type": "code",
   "execution_count": 22,
   "metadata": {},
   "outputs": [],
   "source": [
    "train_df['is_long_weekend'] = pd.Categorical(train_df['is_long_weekend'], categories=[False, True])\n",
    "train_df['is_holiday'] = pd.Categorical(train_df['is_holiday'], categories=[False, True])\n",
    "train_df['is_HCF'] = pd.Categorical(train_df['is_HCF'], categories=[False, True])\n",
    "train_df['type_of_day'] = pd.Categorical(train_df['type_of_day'], categories=['Weekday', 'Friday', 'Weekend', 'Holiday'])\n",
    "train_df['day_of_week'] = pd.Categorical(train_df['day_of_week'], categories=['Monday', 'Tuesday', 'Wednesday', 'Thursday', 'Friday', 'Saturday', 'Sunday'])\n",
    "train_df['has_pop_up'] = pd.Categorical(train_df['has_pop_up'], categories=[False, True])\n",
    "train_df['season'] = pd.Categorical(train_df['season'], categories=['Winter', 'Spring', 'Summer', 'Fall'])\n",
    "train_df['log_total_sales_normalized'] = np.log(train_df['total_sales_normalized'])\n",
    "train_df['log_item_A_sales'] = np.log(train_df['item_A_sales'].replace(0, 1e-6))\n",
    "train_df['log_item_B_sales'] = np.log(train_df['item_B_sales'].replace(0, 1e-6))\n",
    "train_df['log_item_C_sales'] = np.log(train_df['item_C_sales'].replace(0, 1e-6))\n"
   ]
  },
  {
   "cell_type": "markdown",
   "metadata": {},
   "source": [
    "#### Exploratory data analysis"
   ]
  },
  {
   "cell_type": "code",
   "execution_count": 187,
   "metadata": {},
   "outputs": [
    {
     "data": {
      "text/html": [
       "\n",
       "<style>\n",
       "  #altair-viz-bbc2590e096843d3906128138e419f7f.vega-embed {\n",
       "    width: 100%;\n",
       "    display: flex;\n",
       "  }\n",
       "\n",
       "  #altair-viz-bbc2590e096843d3906128138e419f7f.vega-embed details,\n",
       "  #altair-viz-bbc2590e096843d3906128138e419f7f.vega-embed details summary {\n",
       "    position: relative;\n",
       "  }\n",
       "</style>\n",
       "<div id=\"altair-viz-bbc2590e096843d3906128138e419f7f\"></div>\n",
       "<script type=\"text/javascript\">\n",
       "  var VEGA_DEBUG = (typeof VEGA_DEBUG == \"undefined\") ? {} : VEGA_DEBUG;\n",
       "  (function(spec, embedOpt){\n",
       "    let outputDiv = document.currentScript.previousElementSibling;\n",
       "    if (outputDiv.id !== \"altair-viz-bbc2590e096843d3906128138e419f7f\") {\n",
       "      outputDiv = document.getElementById(\"altair-viz-bbc2590e096843d3906128138e419f7f\");\n",
       "    }\n",
       "\n",
       "    const paths = {\n",
       "      \"vega\": \"https://cdn.jsdelivr.net/npm/vega@5?noext\",\n",
       "      \"vega-lib\": \"https://cdn.jsdelivr.net/npm/vega-lib?noext\",\n",
       "      \"vega-lite\": \"https://cdn.jsdelivr.net/npm/vega-lite@5.20.1?noext\",\n",
       "      \"vega-embed\": \"https://cdn.jsdelivr.net/npm/vega-embed@6?noext\",\n",
       "    };\n",
       "\n",
       "    function maybeLoadScript(lib, version) {\n",
       "      var key = `${lib.replace(\"-\", \"\")}_version`;\n",
       "      return (VEGA_DEBUG[key] == version) ?\n",
       "        Promise.resolve(paths[lib]) :\n",
       "        new Promise(function(resolve, reject) {\n",
       "          var s = document.createElement('script');\n",
       "          document.getElementsByTagName(\"head\")[0].appendChild(s);\n",
       "          s.async = true;\n",
       "          s.onload = () => {\n",
       "            VEGA_DEBUG[key] = version;\n",
       "            return resolve(paths[lib]);\n",
       "          };\n",
       "          s.onerror = () => reject(`Error loading script: ${paths[lib]}`);\n",
       "          s.src = paths[lib];\n",
       "        });\n",
       "    }\n",
       "\n",
       "    function showError(err) {\n",
       "      outputDiv.innerHTML = `<div class=\"error\" style=\"color:red;\">${err}</div>`;\n",
       "      throw err;\n",
       "    }\n",
       "\n",
       "    function displayChart(vegaEmbed) {\n",
       "      vegaEmbed(outputDiv, spec, embedOpt)\n",
       "        .catch(err => showError(`Javascript Error: ${err.message}<br>This usually means there's a typo in your chart specification. See the javascript console for the full traceback.`));\n",
       "    }\n",
       "\n",
       "    if(typeof define === \"function\" && define.amd) {\n",
       "      requirejs.config({paths});\n",
       "      let deps = [\"vega-embed\"];\n",
       "      require(deps, displayChart, err => showError(`Error loading script: ${err.message}`));\n",
       "    } else {\n",
       "      maybeLoadScript(\"vega\", \"5\")\n",
       "        .then(() => maybeLoadScript(\"vega-lite\", \"5.20.1\"))\n",
       "        .then(() => maybeLoadScript(\"vega-embed\", \"6\"))\n",
       "        .catch(showError)\n",
       "        .then(() => displayChart(vegaEmbed));\n",
       "    }\n",
       "  })({\"config\": {\"view\": {\"continuousWidth\": 300, \"continuousHeight\": 300}}, \"concat\": [{\"layer\": [{\"mark\": {\"type\": \"area\", \"opacity\": 0.1}, \"encoding\": {\"color\": {\"field\": \"\", \"title\": null, \"type\": \"quantitative\"}, \"x\": {\"axis\": {\"grid\": false}, \"field\": \"log_item_C_sales\", \"type\": \"quantitative\"}, \"y\": {\"field\": \"density\", \"stack\": false, \"title\": null, \"type\": \"quantitative\"}}, \"transform\": [{\"density\": \"log_item_C_sales\", \"groupby\": [\":Q\"], \"minsteps\": 100, \"as\": [\"log_item_C_sales\", \"density\"]}]}, {\"mark\": {\"type\": \"line\"}, \"encoding\": {\"color\": {\"field\": \"\", \"title\": null, \"type\": \"quantitative\"}, \"x\": {\"axis\": {\"grid\": false}, \"field\": \"log_item_C_sales\", \"type\": \"quantitative\"}, \"y\": {\"field\": \"density\", \"stack\": false, \"title\": null, \"type\": \"quantitative\"}}, \"transform\": [{\"density\": \"log_item_C_sales\", \"groupby\": [\":Q\"], \"minsteps\": 100, \"as\": [\"log_item_C_sales\", \"density\"]}]}, {\"mark\": {\"type\": \"tick\", \"color\": \"black\", \"height\": 5, \"opacity\": 0.3, \"yOffset\": 65}, \"encoding\": {\"tooltip\": {\"value\": \"Individual observations\"}, \"x\": {\"axis\": {\"offset\": 8}, \"field\": \"log_item_C_sales\", \"type\": \"quantitative\"}}}], \"height\": 120, \"width\": 185}, {\"layer\": [{\"mark\": {\"type\": \"area\", \"opacity\": 0.1}, \"encoding\": {\"color\": {\"field\": \"\", \"title\": null, \"type\": \"quantitative\"}, \"x\": {\"axis\": {\"grid\": false}, \"field\": \"log_item_B_sales\", \"type\": \"quantitative\"}, \"y\": {\"field\": \"density\", \"stack\": false, \"title\": null, \"type\": \"quantitative\"}}, \"transform\": [{\"density\": \"log_item_B_sales\", \"groupby\": [\":Q\"], \"minsteps\": 100, \"as\": [\"log_item_B_sales\", \"density\"]}]}, {\"mark\": {\"type\": \"line\"}, \"encoding\": {\"color\": {\"field\": \"\", \"title\": null, \"type\": \"quantitative\"}, \"x\": {\"axis\": {\"grid\": false}, \"field\": \"log_item_B_sales\", \"type\": \"quantitative\"}, \"y\": {\"field\": \"density\", \"stack\": false, \"title\": null, \"type\": \"quantitative\"}}, \"transform\": [{\"density\": \"log_item_B_sales\", \"groupby\": [\":Q\"], \"minsteps\": 100, \"as\": [\"log_item_B_sales\", \"density\"]}]}, {\"mark\": {\"type\": \"tick\", \"color\": \"black\", \"height\": 5, \"opacity\": 0.3, \"yOffset\": 65}, \"encoding\": {\"tooltip\": {\"value\": \"Individual observations\"}, \"x\": {\"axis\": {\"offset\": 8}, \"field\": \"log_item_B_sales\", \"type\": \"quantitative\"}}}], \"height\": 120, \"width\": 185}, {\"layer\": [{\"mark\": {\"type\": \"area\", \"opacity\": 0.1}, \"encoding\": {\"color\": {\"field\": \"\", \"title\": null, \"type\": \"quantitative\"}, \"x\": {\"axis\": {\"grid\": false}, \"field\": \"log_item_A_sales\", \"type\": \"quantitative\"}, \"y\": {\"field\": \"density\", \"stack\": false, \"title\": null, \"type\": \"quantitative\"}}, \"transform\": [{\"density\": \"log_item_A_sales\", \"groupby\": [\":Q\"], \"minsteps\": 100, \"as\": [\"log_item_A_sales\", \"density\"]}]}, {\"mark\": {\"type\": \"line\"}, \"encoding\": {\"color\": {\"field\": \"\", \"title\": null, \"type\": \"quantitative\"}, \"x\": {\"axis\": {\"grid\": false}, \"field\": \"log_item_A_sales\", \"type\": \"quantitative\"}, \"y\": {\"field\": \"density\", \"stack\": false, \"title\": null, \"type\": \"quantitative\"}}, \"transform\": [{\"density\": \"log_item_A_sales\", \"groupby\": [\":Q\"], \"minsteps\": 100, \"as\": [\"log_item_A_sales\", \"density\"]}]}, {\"mark\": {\"type\": \"tick\", \"color\": \"black\", \"height\": 5, \"opacity\": 0.3, \"yOffset\": 65}, \"encoding\": {\"tooltip\": {\"value\": \"Individual observations\"}, \"x\": {\"axis\": {\"offset\": 8}, \"field\": \"log_item_A_sales\", \"type\": \"quantitative\"}}}], \"height\": 120, \"width\": 185}, {\"layer\": [{\"mark\": {\"type\": \"area\", \"opacity\": 0.1}, \"encoding\": {\"color\": {\"field\": \"\", \"title\": null, \"type\": \"quantitative\"}, \"x\": {\"axis\": {\"grid\": false}, \"field\": \"log_total_sales_normalized\", \"type\": \"quantitative\"}, \"y\": {\"field\": \"density\", \"stack\": false, \"title\": null, \"type\": \"quantitative\"}}, \"transform\": [{\"density\": \"log_total_sales_normalized\", \"groupby\": [\":Q\"], \"minsteps\": 100, \"as\": [\"log_total_sales_normalized\", \"density\"]}]}, {\"mark\": {\"type\": \"line\"}, \"encoding\": {\"color\": {\"field\": \"\", \"title\": null, \"type\": \"quantitative\"}, \"x\": {\"axis\": {\"grid\": false}, \"field\": \"log_total_sales_normalized\", \"type\": \"quantitative\"}, \"y\": {\"field\": \"density\", \"stack\": false, \"title\": null, \"type\": \"quantitative\"}}, \"transform\": [{\"density\": \"log_total_sales_normalized\", \"groupby\": [\":Q\"], \"minsteps\": 100, \"as\": [\"log_total_sales_normalized\", \"density\"]}]}, {\"mark\": {\"type\": \"tick\", \"color\": \"black\", \"height\": 5, \"opacity\": 0.3, \"yOffset\": 65}, \"encoding\": {\"tooltip\": {\"value\": \"Individual observations\"}, \"x\": {\"axis\": {\"offset\": 8}, \"field\": \"log_total_sales_normalized\", \"type\": \"quantitative\"}}}], \"height\": 120, \"width\": 185}, {\"layer\": [{\"mark\": {\"type\": \"area\", \"opacity\": 0.1}, \"encoding\": {\"color\": {\"field\": \"\", \"title\": null, \"type\": \"quantitative\"}, \"x\": {\"axis\": {\"grid\": false}, \"field\": \"avg_temperature\", \"type\": \"quantitative\"}, \"y\": {\"field\": \"density\", \"stack\": false, \"title\": null, \"type\": \"quantitative\"}}, \"transform\": [{\"density\": \"avg_temperature\", \"groupby\": [\":Q\"], \"minsteps\": 100, \"as\": [\"avg_temperature\", \"density\"]}]}, {\"mark\": {\"type\": \"line\"}, \"encoding\": {\"color\": {\"field\": \"\", \"title\": null, \"type\": \"quantitative\"}, \"x\": {\"axis\": {\"grid\": false}, \"field\": \"avg_temperature\", \"type\": \"quantitative\"}, \"y\": {\"field\": \"density\", \"stack\": false, \"title\": null, \"type\": \"quantitative\"}}, \"transform\": [{\"density\": \"avg_temperature\", \"groupby\": [\":Q\"], \"minsteps\": 100, \"as\": [\"avg_temperature\", \"density\"]}]}, {\"mark\": {\"type\": \"tick\", \"color\": \"black\", \"height\": 5, \"opacity\": 0.3, \"yOffset\": 65}, \"encoding\": {\"tooltip\": {\"value\": \"Individual observations\"}, \"x\": {\"axis\": {\"offset\": 8}, \"field\": \"avg_temperature\", \"type\": \"quantitative\"}}}], \"height\": 120, \"width\": 185}, {\"layer\": [{\"mark\": {\"type\": \"area\", \"opacity\": 0.1}, \"encoding\": {\"color\": {\"field\": \"\", \"title\": null, \"type\": \"quantitative\"}, \"x\": {\"axis\": {\"grid\": false}, \"field\": \"avg_cloud_cover_8\", \"type\": \"quantitative\"}, \"y\": {\"field\": \"density\", \"stack\": false, \"title\": null, \"type\": \"quantitative\"}}, \"transform\": [{\"density\": \"avg_cloud_cover_8\", \"groupby\": [\":Q\"], \"minsteps\": 100, \"as\": [\"avg_cloud_cover_8\", \"density\"]}]}, {\"mark\": {\"type\": \"line\"}, \"encoding\": {\"color\": {\"field\": \"\", \"title\": null, \"type\": \"quantitative\"}, \"x\": {\"axis\": {\"grid\": false}, \"field\": \"avg_cloud_cover_8\", \"type\": \"quantitative\"}, \"y\": {\"field\": \"density\", \"stack\": false, \"title\": null, \"type\": \"quantitative\"}}, \"transform\": [{\"density\": \"avg_cloud_cover_8\", \"groupby\": [\":Q\"], \"minsteps\": 100, \"as\": [\"avg_cloud_cover_8\", \"density\"]}]}, {\"mark\": {\"type\": \"tick\", \"color\": \"black\", \"height\": 5, \"opacity\": 0.3, \"yOffset\": 65}, \"encoding\": {\"tooltip\": {\"value\": \"Individual observations\"}, \"x\": {\"axis\": {\"offset\": 8}, \"field\": \"avg_cloud_cover_8\", \"type\": \"quantitative\"}}}], \"height\": 120, \"width\": 185}, {\"layer\": [{\"mark\": {\"type\": \"area\", \"opacity\": 0.1}, \"encoding\": {\"color\": {\"field\": \"\", \"title\": null, \"type\": \"quantitative\"}, \"x\": {\"axis\": {\"grid\": false}, \"field\": \"snow\", \"type\": \"quantitative\"}, \"y\": {\"field\": \"density\", \"stack\": false, \"title\": null, \"type\": \"quantitative\"}}, \"transform\": [{\"density\": \"snow\", \"groupby\": [\":Q\"], \"minsteps\": 100, \"as\": [\"snow\", \"density\"]}]}, {\"mark\": {\"type\": \"line\"}, \"encoding\": {\"color\": {\"field\": \"\", \"title\": null, \"type\": \"quantitative\"}, \"x\": {\"axis\": {\"grid\": false}, \"field\": \"snow\", \"type\": \"quantitative\"}, \"y\": {\"field\": \"density\", \"stack\": false, \"title\": null, \"type\": \"quantitative\"}}, \"transform\": [{\"density\": \"snow\", \"groupby\": [\":Q\"], \"minsteps\": 100, \"as\": [\"snow\", \"density\"]}]}, {\"mark\": {\"type\": \"tick\", \"color\": \"black\", \"height\": 5, \"opacity\": 0.3, \"yOffset\": 65}, \"encoding\": {\"tooltip\": {\"value\": \"Individual observations\"}, \"x\": {\"axis\": {\"offset\": 8}, \"field\": \"snow\", \"type\": \"quantitative\"}}}], \"height\": 120, \"width\": 185}, {\"layer\": [{\"mark\": {\"type\": \"area\", \"opacity\": 0.1}, \"encoding\": {\"color\": {\"field\": \"\", \"title\": null, \"type\": \"quantitative\"}, \"x\": {\"axis\": {\"grid\": false}, \"field\": \"rain\", \"type\": \"quantitative\"}, \"y\": {\"field\": \"density\", \"stack\": false, \"title\": null, \"type\": \"quantitative\"}}, \"transform\": [{\"density\": \"rain\", \"groupby\": [\":Q\"], \"minsteps\": 100, \"as\": [\"rain\", \"density\"]}]}, {\"mark\": {\"type\": \"line\"}, \"encoding\": {\"color\": {\"field\": \"\", \"title\": null, \"type\": \"quantitative\"}, \"x\": {\"axis\": {\"grid\": false}, \"field\": \"rain\", \"type\": \"quantitative\"}, \"y\": {\"field\": \"density\", \"stack\": false, \"title\": null, \"type\": \"quantitative\"}}, \"transform\": [{\"density\": \"rain\", \"groupby\": [\":Q\"], \"minsteps\": 100, \"as\": [\"rain\", \"density\"]}]}, {\"mark\": {\"type\": \"tick\", \"color\": \"black\", \"height\": 5, \"opacity\": 0.3, \"yOffset\": 65}, \"encoding\": {\"tooltip\": {\"value\": \"Individual observations\"}, \"x\": {\"axis\": {\"offset\": 8}, \"field\": \"rain\", \"type\": \"quantitative\"}}}], \"height\": 120, \"width\": 185}, {\"layer\": [{\"mark\": {\"type\": \"area\", \"opacity\": 0.1}, \"encoding\": {\"color\": {\"field\": \"\", \"title\": null, \"type\": \"quantitative\"}, \"x\": {\"axis\": {\"grid\": false}, \"field\": \"hours_opened\", \"type\": \"quantitative\"}, \"y\": {\"field\": \"density\", \"stack\": false, \"title\": null, \"type\": \"quantitative\"}}, \"transform\": [{\"density\": \"hours_opened\", \"groupby\": [\":Q\"], \"minsteps\": 100, \"as\": [\"hours_opened\", \"density\"]}]}, {\"mark\": {\"type\": \"line\"}, \"encoding\": {\"color\": {\"field\": \"\", \"title\": null, \"type\": \"quantitative\"}, \"x\": {\"axis\": {\"grid\": false}, \"field\": \"hours_opened\", \"type\": \"quantitative\"}, \"y\": {\"field\": \"density\", \"stack\": false, \"title\": null, \"type\": \"quantitative\"}}, \"transform\": [{\"density\": \"hours_opened\", \"groupby\": [\":Q\"], \"minsteps\": 100, \"as\": [\"hours_opened\", \"density\"]}]}, {\"mark\": {\"type\": \"tick\", \"color\": \"black\", \"height\": 5, \"opacity\": 0.3, \"yOffset\": 65}, \"encoding\": {\"tooltip\": {\"value\": \"Individual observations\"}, \"x\": {\"axis\": {\"offset\": 8}, \"field\": \"hours_opened\", \"type\": \"quantitative\"}}}], \"height\": 120, \"width\": 185}, {\"layer\": [{\"mark\": {\"type\": \"area\", \"opacity\": 0.1}, \"encoding\": {\"color\": {\"field\": \"\", \"title\": null, \"type\": \"quantitative\"}, \"x\": {\"axis\": {\"grid\": false}, \"field\": \"item_C_sales\", \"type\": \"quantitative\"}, \"y\": {\"field\": \"density\", \"stack\": false, \"title\": null, \"type\": \"quantitative\"}}, \"transform\": [{\"density\": \"item_C_sales\", \"groupby\": [\":Q\"], \"minsteps\": 100, \"as\": [\"item_C_sales\", \"density\"]}]}, {\"mark\": {\"type\": \"line\"}, \"encoding\": {\"color\": {\"field\": \"\", \"title\": null, \"type\": \"quantitative\"}, \"x\": {\"axis\": {\"grid\": false}, \"field\": \"item_C_sales\", \"type\": \"quantitative\"}, \"y\": {\"field\": \"density\", \"stack\": false, \"title\": null, \"type\": \"quantitative\"}}, \"transform\": [{\"density\": \"item_C_sales\", \"groupby\": [\":Q\"], \"minsteps\": 100, \"as\": [\"item_C_sales\", \"density\"]}]}, {\"mark\": {\"type\": \"tick\", \"color\": \"black\", \"height\": 5, \"opacity\": 0.3, \"yOffset\": 65}, \"encoding\": {\"tooltip\": {\"value\": \"Individual observations\"}, \"x\": {\"axis\": {\"offset\": 8}, \"field\": \"item_C_sales\", \"type\": \"quantitative\"}}}], \"height\": 120, \"width\": 185}, {\"layer\": [{\"mark\": {\"type\": \"area\", \"opacity\": 0.1}, \"encoding\": {\"color\": {\"field\": \"\", \"title\": null, \"type\": \"quantitative\"}, \"x\": {\"axis\": {\"grid\": false}, \"field\": \"item_B_sales\", \"type\": \"quantitative\"}, \"y\": {\"field\": \"density\", \"stack\": false, \"title\": null, \"type\": \"quantitative\"}}, \"transform\": [{\"density\": \"item_B_sales\", \"groupby\": [\":Q\"], \"minsteps\": 100, \"as\": [\"item_B_sales\", \"density\"]}]}, {\"mark\": {\"type\": \"line\"}, \"encoding\": {\"color\": {\"field\": \"\", \"title\": null, \"type\": \"quantitative\"}, \"x\": {\"axis\": {\"grid\": false}, \"field\": \"item_B_sales\", \"type\": \"quantitative\"}, \"y\": {\"field\": \"density\", \"stack\": false, \"title\": null, \"type\": \"quantitative\"}}, \"transform\": [{\"density\": \"item_B_sales\", \"groupby\": [\":Q\"], \"minsteps\": 100, \"as\": [\"item_B_sales\", \"density\"]}]}, {\"mark\": {\"type\": \"tick\", \"color\": \"black\", \"height\": 5, \"opacity\": 0.3, \"yOffset\": 65}, \"encoding\": {\"tooltip\": {\"value\": \"Individual observations\"}, \"x\": {\"axis\": {\"offset\": 8}, \"field\": \"item_B_sales\", \"type\": \"quantitative\"}}}], \"height\": 120, \"width\": 185}, {\"layer\": [{\"mark\": {\"type\": \"area\", \"opacity\": 0.1}, \"encoding\": {\"color\": {\"field\": \"\", \"title\": null, \"type\": \"quantitative\"}, \"x\": {\"axis\": {\"grid\": false}, \"field\": \"item_A_sales\", \"type\": \"quantitative\"}, \"y\": {\"field\": \"density\", \"stack\": false, \"title\": null, \"type\": \"quantitative\"}}, \"transform\": [{\"density\": \"item_A_sales\", \"groupby\": [\":Q\"], \"minsteps\": 100, \"as\": [\"item_A_sales\", \"density\"]}]}, {\"mark\": {\"type\": \"line\"}, \"encoding\": {\"color\": {\"field\": \"\", \"title\": null, \"type\": \"quantitative\"}, \"x\": {\"axis\": {\"grid\": false}, \"field\": \"item_A_sales\", \"type\": \"quantitative\"}, \"y\": {\"field\": \"density\", \"stack\": false, \"title\": null, \"type\": \"quantitative\"}}, \"transform\": [{\"density\": \"item_A_sales\", \"groupby\": [\":Q\"], \"minsteps\": 100, \"as\": [\"item_A_sales\", \"density\"]}]}, {\"mark\": {\"type\": \"tick\", \"color\": \"black\", \"height\": 5, \"opacity\": 0.3, \"yOffset\": 65}, \"encoding\": {\"tooltip\": {\"value\": \"Individual observations\"}, \"x\": {\"axis\": {\"offset\": 8}, \"field\": \"item_A_sales\", \"type\": \"quantitative\"}}}], \"height\": 120, \"width\": 185}, {\"layer\": [{\"mark\": {\"type\": \"area\", \"opacity\": 0.1}, \"encoding\": {\"color\": {\"field\": \"\", \"title\": null, \"type\": \"quantitative\"}, \"x\": {\"axis\": {\"grid\": false}, \"field\": \"total_sales_normalized\", \"type\": \"quantitative\"}, \"y\": {\"field\": \"density\", \"stack\": false, \"title\": null, \"type\": \"quantitative\"}}, \"transform\": [{\"density\": \"total_sales_normalized\", \"groupby\": [\":Q\"], \"minsteps\": 100, \"as\": [\"total_sales_normalized\", \"density\"]}]}, {\"mark\": {\"type\": \"line\"}, \"encoding\": {\"color\": {\"field\": \"\", \"title\": null, \"type\": \"quantitative\"}, \"x\": {\"axis\": {\"grid\": false}, \"field\": \"total_sales_normalized\", \"type\": \"quantitative\"}, \"y\": {\"field\": \"density\", \"stack\": false, \"title\": null, \"type\": \"quantitative\"}}, \"transform\": [{\"density\": \"total_sales_normalized\", \"groupby\": [\":Q\"], \"minsteps\": 100, \"as\": [\"total_sales_normalized\", \"density\"]}]}, {\"mark\": {\"type\": \"tick\", \"color\": \"black\", \"height\": 5, \"opacity\": 0.3, \"yOffset\": 65}, \"encoding\": {\"tooltip\": {\"value\": \"Individual observations\"}, \"x\": {\"axis\": {\"offset\": 8}, \"field\": \"total_sales_normalized\", \"type\": \"quantitative\"}}}], \"height\": 120, \"width\": 185}], \"columns\": 4, \"data\": {\"name\": \"data-83fc63ee7b7c1a40496767034cc6a5bd\"}, \"$schema\": \"https://vega.github.io/schema/vega-lite/v5.20.1.json\", \"datasets\": {\"data-83fc63ee7b7c1a40496767034cc6a5bd\": [{\"total_sales_normalized\": 6433.36, \"item_A_sales\": 3810.2, \"item_B_sales\": 1500.7, \"item_C_sales\": 765.5, \"hours_opened\": 9, \"is_long_weekend\": false, \"is_HCF\": false, \"type_of_day\": \"Weekend\", \"has_pop_up\": false, \"rain\": 4.0, \"snow\": 0.0, \"avg_cloud_cover_8\": 8.0, \"avg_temperature\": 14.7, \"season\": \"Summer\", \"log_total_sales_normalized\": 8.769252231293997, \"log_item_A_sales\": 8.245436960181335, \"log_item_B_sales\": 7.313686944901944, \"log_item_C_sales\": 6.640529215097739}, {\"total_sales_normalized\": 4755.46, \"item_A_sales\": 2262.63, \"item_B_sales\": 1690.6, \"item_C_sales\": 432.25, \"hours_opened\": 8, \"is_long_weekend\": false, \"is_HCF\": false, \"type_of_day\": \"Weekend\", \"has_pop_up\": false, \"rain\": 19.0, \"snow\": 0.0, \"avg_cloud_cover_8\": 7.0, \"avg_temperature\": 12.5, \"season\": \"Summer\", \"log_total_sales_normalized\": 8.467048710573849, \"log_item_A_sales\": 7.724283132486937, \"log_item_B_sales\": 7.432838774494828, \"log_item_C_sales\": 6.0690041245634}, {\"total_sales_normalized\": 3487.14, \"item_A_sales\": 1624.26, \"item_B_sales\": 1321.91, \"item_C_sales\": 350.0, \"hours_opened\": 11, \"is_long_weekend\": false, \"is_HCF\": false, \"type_of_day\": \"Weekday\", \"has_pop_up\": false, \"rain\": 10.5, \"snow\": 0.0, \"avg_cloud_cover_8\": 6.5, \"avg_temperature\": 13.65, \"season\": \"Summer\", \"log_total_sales_normalized\": 8.156837194995019, \"log_item_A_sales\": 7.39280760642939, \"log_item_B_sales\": 7.18683293942549, \"log_item_C_sales\": 5.857933154483459}, {\"total_sales_normalized\": 3739.6, \"item_A_sales\": 1876.9, \"item_B_sales\": 1376.2, \"item_C_sales\": 334.0, \"hours_opened\": 11, \"is_long_weekend\": false, \"is_HCF\": false, \"type_of_day\": \"Weekday\", \"has_pop_up\": false, \"rain\": 5.6, \"snow\": 0.0, \"avg_cloud_cover_8\": 5.0, \"avg_temperature\": 13.55, \"season\": \"Summer\", \"log_total_sales_normalized\": 8.22673393281716, \"log_item_A_sales\": 7.537376758662204, \"log_item_B_sales\": 7.227081356768379, \"log_item_C_sales\": 5.811140992976701}, {\"total_sales_normalized\": 4172.75, \"item_A_sales\": 1791.1, \"item_B_sales\": 1807.4, \"item_C_sales\": 429.0, \"hours_opened\": 11, \"is_long_weekend\": false, \"is_HCF\": false, \"type_of_day\": \"Weekday\", \"has_pop_up\": false, \"rain\": 0.0, \"snow\": 0.0, \"avg_cloud_cover_8\": 4.0, \"avg_temperature\": 12.95, \"season\": \"Summer\", \"log_total_sales_normalized\": 8.336330569858527, \"log_item_A_sales\": 7.490585235231213, \"log_item_B_sales\": 7.499644627467855, \"log_item_C_sales\": 6.061456918928017}, {\"total_sales_normalized\": 3782.73, \"item_A_sales\": 1570.6, \"item_B_sales\": 1713.3, \"item_C_sales\": 369.0, \"hours_opened\": 11, \"is_long_weekend\": false, \"is_HCF\": false, \"type_of_day\": \"Weekday\", \"has_pop_up\": false, \"rain\": 0.0, \"snow\": 0.0, \"avg_cloud_cover_8\": 4.0, \"avg_temperature\": 13.05, \"season\": \"Summer\", \"log_total_sales_normalized\": 8.23820125015889, \"log_item_A_sales\": 7.359212990940774, \"log_item_B_sales\": 7.446176614338927, \"log_item_C_sales\": 5.910796644040527}, {\"total_sales_normalized\": 5121.94, \"item_A_sales\": 1894.03, \"item_B_sales\": 2526.6, \"item_C_sales\": 457.25, \"hours_opened\": 12, \"is_long_weekend\": false, \"is_HCF\": false, \"type_of_day\": \"Friday\", \"has_pop_up\": false, \"rain\": 0.0, \"snow\": 0.0, \"avg_cloud_cover_8\": 2.0, \"avg_temperature\": 14.1, \"season\": \"Summer\", \"log_total_sales_normalized\": 8.541288552516708, \"log_item_A_sales\": 7.546462113113717, \"log_item_B_sales\": 7.834629804395937, \"log_item_C_sales\": 6.125230287270975}, {\"total_sales_normalized\": 7444.84, \"item_A_sales\": 2579.63, \"item_B_sales\": 3633.71, \"item_C_sales\": 785.0, \"hours_opened\": 12, \"is_long_weekend\": false, \"is_HCF\": false, \"type_of_day\": \"Weekend\", \"has_pop_up\": false, \"rain\": 0.0, \"snow\": 0.0, \"avg_cloud_cover_8\": 4.0, \"avg_temperature\": 16.45, \"season\": \"Summer\", \"log_total_sales_normalized\": 8.915276453953664, \"log_item_A_sales\": 7.85540125677863, \"log_item_B_sales\": 8.198009443900562, \"log_item_C_sales\": 6.665683717782408}, {\"total_sales_normalized\": 6349.94, \"item_A_sales\": 2322.0, \"item_B_sales\": 3080.8, \"item_C_sales\": 754.5, \"hours_opened\": 12, \"is_long_weekend\": false, \"is_HCF\": false, \"type_of_day\": \"Weekend\", \"has_pop_up\": false, \"rain\": 0.0, \"snow\": 0.0, \"avg_cloud_cover_8\": 4.0, \"avg_temperature\": 17.3, \"season\": \"Summer\", \"log_total_sales_normalized\": 8.756200643023199, \"log_item_A_sales\": 7.7501841622578365, \"log_item_B_sales\": 8.032944582500699, \"log_item_C_sales\": 6.626055278207904}, {\"total_sales_normalized\": 3060.39, \"item_A_sales\": 1324.2, \"item_B_sales\": 1361.5, \"item_C_sales\": 273.0, \"hours_opened\": 11, \"is_long_weekend\": false, \"is_HCF\": false, \"type_of_day\": \"Weekday\", \"has_pop_up\": false, \"rain\": 0.0, \"snow\": 0.0, \"avg_cloud_cover_8\": 5.0, \"avg_temperature\": 15.1, \"season\": \"Summer\", \"log_total_sales_normalized\": 8.026297637805632, \"log_item_A_sales\": 7.188563782490745, \"log_item_B_sales\": 7.216342312113814, \"log_item_C_sales\": 5.60947179518496}, {\"total_sales_normalized\": 2693.91, \"item_A_sales\": 1245.3, \"item_B_sales\": 1076.8, \"item_C_sales\": 272.5, \"hours_opened\": 11, \"is_long_weekend\": false, \"is_HCF\": false, \"type_of_day\": \"Weekday\", \"has_pop_up\": false, \"rain\": 2.0, \"snow\": 0.0, \"avg_cloud_cover_8\": 5.0, \"avg_temperature\": 15.55, \"season\": \"Summer\", \"log_total_sales_normalized\": 7.898748948839881, \"log_item_A_sales\": 7.1271317437271025, \"log_item_B_sales\": 6.9817489588904635, \"log_item_C_sales\": 5.607638614103299}, {\"total_sales_normalized\": 3178.39, \"item_A_sales\": 1307.36, \"item_B_sales\": 1336.03, \"item_C_sales\": 414.0, \"hours_opened\": 11, \"is_long_weekend\": false, \"is_HCF\": false, \"type_of_day\": \"Weekday\", \"has_pop_up\": false, \"rain\": 1.2, \"snow\": 0.0, \"avg_cloud_cover_8\": 4.0, \"avg_temperature\": 13.7, \"season\": \"Summer\", \"log_total_sales_normalized\": 8.064130058258339, \"log_item_A_sales\": 7.1757651156363975, \"log_item_B_sales\": 7.1974578089343, \"log_item_C_sales\": 6.025865973825314}, {\"total_sales_normalized\": 2899.63, \"item_A_sales\": 1127.7, \"item_B_sales\": 1452.3, \"item_C_sales\": 182.5, \"hours_opened\": 11, \"is_long_weekend\": false, \"is_HCF\": false, \"type_of_day\": \"Weekday\", \"has_pop_up\": false, \"rain\": 0.0, \"snow\": 0.0, \"avg_cloud_cover_8\": 3.5, \"avg_temperature\": 13.8, \"season\": \"Summer\", \"log_total_sales_normalized\": 7.972338421627857, \"log_item_A_sales\": 7.027935439238242, \"log_item_B_sales\": 7.280903785613758, \"log_item_C_sales\": 5.206750173022546}, {\"total_sales_normalized\": 4784.87, \"item_A_sales\": 2172.0, \"item_B_sales\": 1973.4, \"item_C_sales\": 433.0, \"hours_opened\": 12, \"is_long_weekend\": false, \"is_HCF\": false, \"type_of_day\": \"Friday\", \"has_pop_up\": false, \"rain\": 0.9, \"snow\": 0.0, \"avg_cloud_cover_8\": 4.5, \"avg_temperature\": 13.45, \"season\": \"Summer\", \"log_total_sales_normalized\": 8.473214135283927, \"log_item_A_sales\": 7.683403681053826, \"log_item_B_sales\": 7.587513222423066, \"log_item_C_sales\": 6.07073772800249}, {\"total_sales_normalized\": 5981.17, \"item_A_sales\": 2648.4, \"item_B_sales\": 2447.0, \"item_C_sales\": 578.5, \"hours_opened\": 12, \"is_long_weekend\": false, \"is_HCF\": false, \"type_of_day\": \"Weekend\", \"has_pop_up\": false, \"rain\": 0.0, \"snow\": 0.0, \"avg_cloud_cover_8\": 5.5, \"avg_temperature\": 13.1, \"season\": \"Summer\", \"log_total_sales_normalized\": 8.6963714799812, \"log_item_A_sales\": 7.881710963050691, \"log_item_B_sales\": 7.802618063442671, \"log_item_C_sales\": 6.360438546633731}, {\"total_sales_normalized\": 4644.26, \"item_A_sales\": 2085.3, \"item_B_sales\": 2011.9, \"item_C_sales\": 359.5, \"hours_opened\": 12, \"is_long_weekend\": false, \"is_HCF\": false, \"type_of_day\": \"Weekend\", \"has_pop_up\": false, \"rain\": 5.8, \"snow\": 0.0, \"avg_cloud_cover_8\": 7.0, \"avg_temperature\": 11.95, \"season\": \"Summer\", \"log_total_sales_normalized\": 8.44338732746939, \"log_item_A_sales\": 7.6426680087745495, \"log_item_B_sales\": 7.606834828195191, \"log_item_C_sales\": 5.884714177161102}, {\"total_sales_normalized\": 2437.49, \"item_A_sales\": 1090.1, \"item_B_sales\": 915.6, \"item_C_sales\": 293.0, \"hours_opened\": 11, \"is_long_weekend\": false, \"is_HCF\": false, \"type_of_day\": \"Weekday\", \"has_pop_up\": false, \"rain\": 0.8, \"snow\": 0.0, \"avg_cloud_cover_8\": 7.5, \"avg_temperature\": 13.8, \"season\": \"Summer\", \"log_total_sales_normalized\": 7.798724100299484, \"log_item_A_sales\": 6.994024714134313, \"log_item_B_sales\": 6.819579588078412, \"log_item_C_sales\": 5.680172609017068}, {\"total_sales_normalized\": 2931.73, \"item_A_sales\": 1276.83, \"item_B_sales\": 1152.8, \"item_C_sales\": 351.0, \"hours_opened\": 11, \"is_long_weekend\": false, \"is_HCF\": false, \"type_of_day\": \"Weekday\", \"has_pop_up\": false, \"rain\": 0.0, \"snow\": 0.0, \"avg_cloud_cover_8\": 4.0, \"avg_temperature\": 14.95, \"season\": \"Summer\", \"log_total_sales_normalized\": 7.9833479714538305, \"log_item_A_sales\": 7.152135722660113, \"log_item_B_sales\": 7.049949044685312, \"log_item_C_sales\": 5.860786223465865}, {\"total_sales_normalized\": 3501.82, \"item_A_sales\": 1402.63, \"item_B_sales\": 1492.01, \"item_C_sales\": 437.0, \"hours_opened\": 11, \"is_long_weekend\": false, \"is_HCF\": false, \"type_of_day\": \"Weekday\", \"has_pop_up\": false, \"rain\": 0.0, \"snow\": 0.0, \"avg_cloud_cover_8\": 1.5, \"avg_temperature\": 15.1, \"season\": \"Summer\", \"log_total_sales_normalized\": 8.161038112324356, \"log_item_A_sales\": 7.246104324723352, \"log_item_B_sales\": 7.307879483154114, \"log_item_C_sales\": 6.07993319509559}, {\"total_sales_normalized\": 3351.01, \"item_A_sales\": 1256.1, \"item_B_sales\": 1479.11, \"item_C_sales\": 445.2, \"hours_opened\": 11, \"is_long_weekend\": false, \"is_HCF\": false, \"type_of_day\": \"Weekday\", \"has_pop_up\": false, \"rain\": 0.0, \"snow\": 0.0, \"avg_cloud_cover_8\": 1.5, \"avg_temperature\": 16.7, \"season\": \"Summer\", \"log_total_sales_normalized\": 8.117017071916683, \"log_item_A_sales\": 7.135766961693207, \"log_item_B_sales\": 7.299195834522565, \"log_item_C_sales\": 6.09852361940139}, {\"total_sales_normalized\": 4935.17, \"item_A_sales\": 1523.5, \"item_B_sales\": 2505.2, \"item_C_sales\": 549.5, \"hours_opened\": 12, \"is_long_weekend\": false, \"is_HCF\": false, \"type_of_day\": \"Friday\", \"has_pop_up\": false, \"rain\": 0.0, \"snow\": 0.0, \"avg_cloud_cover_8\": 4.0, \"avg_temperature\": 18.0, \"season\": \"Summer\", \"log_total_sales_normalized\": 8.50414239909595, \"log_item_A_sales\": 7.328765598425764, \"log_item_B_sales\": 7.826123850651258, \"log_item_C_sales\": 6.309008773843676}, {\"total_sales_normalized\": 6855.91, \"item_A_sales\": 2498.6, \"item_B_sales\": 3287.3, \"item_C_sales\": 626.5, \"hours_opened\": 12, \"is_long_weekend\": false, \"is_HCF\": false, \"type_of_day\": \"Weekend\", \"has_pop_up\": false, \"rain\": 0.0, \"snow\": 0.0, \"avg_cloud_cover_8\": 5.5, \"avg_temperature\": 18.14, \"season\": \"Summer\", \"log_total_sales_normalized\": 8.832866333003588, \"log_item_A_sales\": 7.823485853997729, \"log_item_B_sales\": 8.097821838133504, \"log_item_C_sales\": 6.440148774336123}, {\"total_sales_normalized\": 5636.36, \"item_A_sales\": 1925.1, \"item_B_sales\": 2980.8, \"item_C_sales\": 410.45, \"hours_opened\": 12, \"is_long_weekend\": false, \"is_HCF\": false, \"type_of_day\": \"Weekend\", \"has_pop_up\": false, \"rain\": 0.0, \"snow\": 0.0, \"avg_cloud_cover_8\": 5.5, \"avg_temperature\": 16.1, \"season\": \"Summer\", \"log_total_sales_normalized\": 8.63699374606736, \"log_item_A_sales\": 7.562733193424579, \"log_item_B_sales\": 7.9999469998473245, \"log_item_C_sales\": 6.017254118794275}, {\"total_sales_normalized\": 3550.65, \"item_A_sales\": 1284.2, \"item_B_sales\": 1713.16, \"item_C_sales\": 359.35, \"hours_opened\": 11, \"is_long_weekend\": false, \"is_HCF\": false, \"type_of_day\": \"Weekday\", \"has_pop_up\": false, \"rain\": 0.0, \"snow\": 0.0, \"avg_cloud_cover_8\": 4.0, \"avg_temperature\": 15.6, \"season\": \"Summer\", \"log_total_sales_normalized\": 8.17488596430051, \"log_item_A_sales\": 7.157891235359948, \"log_item_B_sales\": 7.446094897348168, \"log_item_C_sales\": 5.884296843914452}, {\"total_sales_normalized\": 3275.62, \"item_A_sales\": 1101.73, \"item_B_sales\": 1699.71, \"item_C_sales\": 246.5, \"hours_opened\": 11, \"is_long_weekend\": false, \"is_HCF\": false, \"type_of_day\": \"Weekday\", \"has_pop_up\": false, \"rain\": 0.0, \"snow\": 0.0, \"avg_cloud_cover_8\": 4.0, \"avg_temperature\": 16.55, \"season\": \"Summer\", \"log_total_sales_normalized\": 8.094262443129011, \"log_item_A_sales\": 7.004636950618823, \"log_item_B_sales\": 7.438212927257186, \"log_item_C_sales\": 5.5073619934827445}, {\"total_sales_normalized\": 3272.4, \"item_A_sales\": 1319.0, \"item_B_sales\": 1481.1, \"item_C_sales\": 238.0, \"hours_opened\": 11, \"is_long_weekend\": false, \"is_HCF\": false, \"type_of_day\": \"Weekday\", \"has_pop_up\": false, \"rain\": 2.7, \"snow\": 0.0, \"avg_cloud_cover_8\": 6.5, \"avg_temperature\": 16.6, \"season\": \"Summer\", \"log_total_sales_normalized\": 8.093278939639543, \"log_item_A_sales\": 7.1846291527173145, \"log_item_B_sales\": 7.3005403339329265, \"log_item_C_sales\": 5.472270673671475}, {\"total_sales_normalized\": 3023.42, \"item_A_sales\": 1043.6, \"item_B_sales\": 1610.5, \"item_C_sales\": 204.0, \"hours_opened\": 11, \"is_long_weekend\": false, \"is_HCF\": false, \"type_of_day\": \"Weekday\", \"has_pop_up\": false, \"rain\": 5.6, \"snow\": 0.0, \"avg_cloud_cover_8\": 7.5, \"avg_temperature\": 14.14, \"season\": \"Summer\", \"log_total_sales_normalized\": 8.014143919961855, \"log_item_A_sales\": 6.950431553262574, \"log_item_B_sales\": 7.384299968771254, \"log_item_C_sales\": 5.318119993844216}, {\"total_sales_normalized\": 4649.72, \"item_A_sales\": 1582.7, \"item_B_sales\": 2389.3, \"item_C_sales\": 381.0, \"hours_opened\": 12, \"is_long_weekend\": false, \"is_HCF\": false, \"type_of_day\": \"Friday\", \"has_pop_up\": false, \"rain\": 5.8, \"snow\": 0.0, \"avg_cloud_cover_8\": 5.0, \"avg_temperature\": 15.0, \"season\": \"Summer\", \"log_total_sales_normalized\": 8.444562281714639, \"log_item_A_sales\": 7.366887528339237, \"log_item_B_sales\": 7.778755714996485, \"log_item_C_sales\": 5.942799375126701}, {\"total_sales_normalized\": 5435.89, \"item_A_sales\": 1964.9, \"item_B_sales\": 2785.1, \"item_C_sales\": 415.0, \"hours_opened\": 12, \"is_long_weekend\": true, \"is_HCF\": false, \"type_of_day\": \"Weekend\", \"has_pop_up\": false, \"rain\": 0.2, \"snow\": 0.0, \"avg_cloud_cover_8\": 6.5, \"avg_temperature\": 17.5, \"season\": \"Summer\", \"log_total_sales_normalized\": 8.60077853959904, \"log_item_A_sales\": 7.58319663242315, \"log_item_B_sales\": 7.932039058359485, \"log_item_C_sales\": 6.028278520230698}, {\"total_sales_normalized\": 6522.26, \"item_A_sales\": 2103.0, \"item_B_sales\": 3243.8, \"item_C_sales\": 651.0, \"hours_opened\": 12, \"is_long_weekend\": true, \"is_HCF\": false, \"type_of_day\": \"Weekend\", \"has_pop_up\": false, \"rain\": 0.0, \"snow\": 0.0, \"avg_cloud_cover_8\": 4.5, \"avg_temperature\": 19.14, \"season\": \"Summer\", \"log_total_sales_normalized\": 8.782976220626738, \"log_item_A_sales\": 7.6511201757027, \"log_item_B_sales\": 8.084500761053588, \"log_item_C_sales\": 6.478509642208569}, {\"total_sales_normalized\": 5064.18, \"item_A_sales\": 2096.1, \"item_B_sales\": 2444.0, \"item_C_sales\": 241.5, \"hours_opened\": 11, \"is_long_weekend\": true, \"is_HCF\": false, \"type_of_day\": \"Holiday\", \"has_pop_up\": false, \"rain\": 0.0, \"snow\": 0.0, \"avg_cloud_cover_8\": 4.5, \"avg_temperature\": 17.25, \"season\": \"Summer\", \"log_total_sales_normalized\": 8.529947508215999, \"log_item_A_sales\": 7.6478337542265145, \"log_item_B_sales\": 7.8013913202914855, \"log_item_C_sales\": 5.486869473092628}, {\"total_sales_normalized\": 3277.86, \"item_A_sales\": 1426.0, \"item_B_sales\": 1502.8, \"item_C_sales\": 150.0, \"hours_opened\": 11, \"is_long_weekend\": false, \"is_HCF\": false, \"type_of_day\": \"Weekday\", \"has_pop_up\": false, \"rain\": 0.0, \"snow\": 0.0, \"avg_cloud_cover_8\": 4.5, \"avg_temperature\": 16.39, \"season\": \"Summer\", \"log_total_sales_normalized\": 8.094946049422838, \"log_item_A_sales\": 7.262628600974241, \"log_item_B_sales\": 7.3150853136998135, \"log_item_C_sales\": 5.0106352940962555}, {\"total_sales_normalized\": 2891.45, \"item_A_sales\": 1075.7, \"item_B_sales\": 1528.07, \"item_C_sales\": 104.0, \"hours_opened\": 11, \"is_long_weekend\": false, \"is_HCF\": false, \"type_of_day\": \"Weekday\", \"has_pop_up\": false, \"rain\": 0.0, \"snow\": 0.0, \"avg_cloud_cover_8\": 3.0, \"avg_temperature\": 15.55, \"season\": \"Summer\", \"log_total_sales_normalized\": 7.96951338538582, \"log_item_A_sales\": 6.98072689143796, \"log_item_B_sales\": 7.3317607801954745, \"log_item_C_sales\": 4.6443908991413725}, {\"total_sales_normalized\": 3334.9, \"item_A_sales\": 975.33, \"item_B_sales\": 1988.31, \"item_C_sales\": 152.0, \"hours_opened\": 11, \"is_long_weekend\": false, \"is_HCF\": false, \"type_of_day\": \"Weekday\", \"has_pop_up\": false, \"rain\": 0.0, \"snow\": 0.0, \"avg_cloud_cover_8\": 0.5, \"avg_temperature\": 16.75, \"season\": \"Summer\", \"log_total_sales_normalized\": 8.112197972892668, \"log_item_A_sales\": 6.882775875271124, \"log_item_B_sales\": 7.595040310673507, \"log_item_C_sales\": 5.0238805208462765}, {\"total_sales_normalized\": 4248.84, \"item_A_sales\": 1455.2, \"item_B_sales\": 2273.9, \"item_C_sales\": 257.0, \"hours_opened\": 12, \"is_long_weekend\": false, \"is_HCF\": false, \"type_of_day\": \"Friday\", \"has_pop_up\": false, \"rain\": 0.0, \"snow\": 0.0, \"avg_cloud_cover_8\": 0.5, \"avg_temperature\": 18.45, \"season\": \"Summer\", \"log_total_sales_normalized\": 8.35440128348677, \"log_item_A_sales\": 7.282898627203912, \"log_item_B_sales\": 7.729251697969746, \"log_item_C_sales\": 5.54907608489522}, {\"total_sales_normalized\": 5453.83, \"item_A_sales\": 1698.8, \"item_B_sales\": 3127.2, \"item_C_sales\": 338.5, \"hours_opened\": 12, \"is_long_weekend\": false, \"is_HCF\": false, \"type_of_day\": \"Weekend\", \"has_pop_up\": false, \"rain\": 0.0, \"snow\": 0.0, \"avg_cloud_cover_8\": 0.5, \"avg_temperature\": 19.5, \"season\": \"Summer\", \"log_total_sales_normalized\": 8.604073393136101, \"log_item_A_sales\": 7.437677398439116, \"log_item_B_sales\": 8.047893314478745, \"log_item_C_sales\": 5.82452409235233}, {\"total_sales_normalized\": 4927.01, \"item_A_sales\": 1467.5, \"item_B_sales\": 2965.0, \"item_C_sales\": 201.0, \"hours_opened\": 12, \"is_long_weekend\": false, \"is_HCF\": false, \"type_of_day\": \"Weekend\", \"has_pop_up\": false, \"rain\": 0.0, \"snow\": 0.0, \"avg_cloud_cover_8\": 0.5, \"avg_temperature\": 20.35, \"season\": \"Summer\", \"log_total_sales_normalized\": 8.502487592174539, \"log_item_A_sales\": 7.291315551702252, \"log_item_B_sales\": 7.994632311431825, \"log_item_C_sales\": 5.303304908059076}, {\"total_sales_normalized\": 3514.87, \"item_A_sales\": 1172.83, \"item_B_sales\": 1937.8, \"item_C_sales\": 203.0, \"hours_opened\": 11, \"is_long_weekend\": false, \"is_HCF\": false, \"type_of_day\": \"Weekday\", \"has_pop_up\": false, \"rain\": 0.0, \"snow\": 0.0, \"avg_cloud_cover_8\": 2.0, \"avg_temperature\": 20.6, \"season\": \"Summer\", \"log_total_sales_normalized\": 8.164757819208054, \"log_item_A_sales\": 7.067174910614233, \"log_item_B_sales\": 7.5693085879509034, \"log_item_C_sales\": 5.313205979041787}, {\"total_sales_normalized\": 3026.74, \"item_A_sales\": 1088.6, \"item_B_sales\": 1517.6, \"item_C_sales\": 254.5, \"hours_opened\": 11, \"is_long_weekend\": false, \"is_HCF\": false, \"type_of_day\": \"Weekday\", \"has_pop_up\": false, \"rain\": 0.0, \"snow\": 0.0, \"avg_cloud_cover_8\": 0.0, \"avg_temperature\": 21.95, \"season\": \"Summer\", \"log_total_sales_normalized\": 8.0152414117086, \"log_item_A_sales\": 6.9926477460001, \"log_item_B_sales\": 7.324885418620805, \"log_item_C_sales\": 5.539300835990577}, {\"total_sales_normalized\": 3449.07, \"item_A_sales\": 1166.2, \"item_B_sales\": 1638.2, \"item_C_sales\": 346.5, \"hours_opened\": 11, \"is_long_weekend\": false, \"is_HCF\": false, \"type_of_day\": \"Weekday\", \"has_pop_up\": false, \"rain\": 0.0, \"snow\": 0.0, \"avg_cloud_cover_8\": 1.0, \"avg_temperature\": 19.7, \"season\": \"Summer\", \"log_total_sales_normalized\": 8.14585990846878, \"log_item_A_sales\": 7.061505878788056, \"log_item_B_sales\": 7.4013533570815015, \"log_item_C_sales\": 5.847882818629958}, {\"total_sales_normalized\": 3169.48, \"item_A_sales\": 1034.93, \"item_B_sales\": 1641.2, \"item_C_sales\": 318.5, \"hours_opened\": 11, \"is_long_weekend\": false, \"is_HCF\": false, \"type_of_day\": \"Weekday\", \"has_pop_up\": false, \"rain\": 0.0, \"snow\": 0.0, \"avg_cloud_cover_8\": 0.5, \"avg_temperature\": 18.79, \"season\": \"Summer\", \"log_total_sales_normalized\": 8.061322815560755, \"log_item_A_sales\": 6.942089070562024, \"log_item_B_sales\": 7.4031829605680315, \"log_item_C_sales\": 5.763622475012218}, {\"total_sales_normalized\": 4938.0, \"item_A_sales\": 1560.93, \"item_B_sales\": 2669.5, \"item_C_sales\": 415.1, \"hours_opened\": 12, \"is_long_weekend\": false, \"is_HCF\": false, \"type_of_day\": \"Friday\", \"has_pop_up\": false, \"rain\": 0.0, \"snow\": 0.0, \"avg_cloud_cover_8\": 2.5, \"avg_temperature\": 18.5, \"season\": \"Summer\", \"log_total_sales_normalized\": 8.504715669905124, \"log_item_A_sales\": 7.353037076460625, \"log_item_B_sales\": 7.889646467940241, \"log_item_C_sales\": 6.028519455058993}, {\"total_sales_normalized\": 5979.7, \"item_A_sales\": 1816.6, \"item_B_sales\": 3322.9, \"item_C_sales\": 565.75, \"hours_opened\": 12, \"is_long_weekend\": false, \"is_HCF\": false, \"type_of_day\": \"Weekend\", \"has_pop_up\": false, \"rain\": 0.0, \"snow\": 0.0, \"avg_cloud_cover_8\": 1.0, \"avg_temperature\": 20.1, \"season\": \"Summer\", \"log_total_sales_normalized\": 8.69612567846218, \"log_item_A_sales\": 7.504721901068113, \"log_item_B_sales\": 8.108593174612587, \"log_item_C_sales\": 6.338152284513646}, {\"total_sales_normalized\": 5859.06, \"item_A_sales\": 1545.3, \"item_B_sales\": 3387.2, \"item_C_sales\": 494.5, \"hours_opened\": 12, \"is_long_weekend\": false, \"is_HCF\": false, \"type_of_day\": \"Weekend\", \"has_pop_up\": false, \"rain\": 0.0, \"snow\": 0.0, \"avg_cloud_cover_8\": 0.0, \"avg_temperature\": 20.45, \"season\": \"Summer\", \"log_total_sales_normalized\": 8.675744460147756, \"log_item_A_sales\": 7.342973345239649, \"log_item_B_sales\": 8.1277589003806, \"log_item_C_sales\": 6.203547151062767}, {\"total_sales_normalized\": 2770.23, \"item_A_sales\": 715.7, \"item_B_sales\": 1634.3, \"item_C_sales\": 228.0, \"hours_opened\": 11, \"is_long_weekend\": false, \"is_HCF\": false, \"type_of_day\": \"Weekday\", \"has_pop_up\": false, \"rain\": 0.0, \"snow\": 0.0, \"avg_cloud_cover_8\": 0.5, \"avg_temperature\": 18.8, \"season\": \"Summer\", \"log_total_sales_normalized\": 7.926685628225353, \"log_item_A_sales\": 6.573261084744552, \"log_item_B_sales\": 7.398969857099012, \"log_item_C_sales\": 5.429345628954441}, {\"total_sales_normalized\": 3210.28, \"item_A_sales\": 949.8, \"item_B_sales\": 1800.51, \"item_C_sales\": 270.0, \"hours_opened\": 11, \"is_long_weekend\": false, \"is_HCF\": false, \"type_of_day\": \"Weekday\", \"has_pop_up\": false, \"rain\": 0.0, \"snow\": 0.0, \"avg_cloud_cover_8\": 0.5, \"avg_temperature\": 19.45, \"season\": \"Summer\", \"log_total_sales_normalized\": 8.074113439734303, \"log_item_A_sales\": 6.856251436115022, \"log_item_B_sales\": 7.49582523708628, \"log_item_C_sales\": 5.598421958998375}, {\"total_sales_normalized\": 3114.52, \"item_A_sales\": 916.5, \"item_B_sales\": 1765.6, \"item_C_sales\": 250.5, \"hours_opened\": 11, \"is_long_weekend\": false, \"is_HCF\": false, \"type_of_day\": \"Weekday\", \"has_pop_up\": false, \"rain\": 0.0, \"snow\": 0.0, \"avg_cloud_cover_8\": 3.0, \"avg_temperature\": 21.95, \"season\": \"Summer\", \"log_total_sales_normalized\": 8.04383032625008, \"log_item_A_sales\": 6.820562067279759, \"log_item_B_sales\": 7.476245854942527, \"log_item_C_sales\": 5.523458920524919}, {\"total_sales_normalized\": 3393.5, \"item_A_sales\": 1018.1, \"item_B_sales\": 1952.7, \"item_C_sales\": 220.5, \"hours_opened\": 11, \"is_long_weekend\": false, \"is_HCF\": false, \"type_of_day\": \"Weekday\", \"has_pop_up\": false, \"rain\": 0.0, \"snow\": 0.0, \"avg_cloud_cover_8\": 2.0, \"avg_temperature\": 21.35, \"season\": \"Summer\", \"log_total_sales_normalized\": 8.129617116143812, \"log_item_A_sales\": 6.92569342411315, \"log_item_B_sales\": 7.5769683092464515, \"log_item_C_sales\": 5.395897694886901}, {\"total_sales_normalized\": 4289.54, \"item_A_sales\": 1340.23, \"item_B_sales\": 2331.2, \"item_C_sales\": 376.0, \"hours_opened\": 12, \"is_long_weekend\": false, \"is_HCF\": false, \"type_of_day\": \"Friday\", \"has_pop_up\": false, \"rain\": 0.0, \"snow\": 0.0, \"avg_cloud_cover_8\": 2.5, \"avg_temperature\": 21.15, \"season\": \"Summer\", \"log_total_sales_normalized\": 8.363934780065707, \"log_item_A_sales\": 7.200596520007235, \"log_item_B_sales\": 7.75413843544094, \"log_item_C_sales\": 5.929589143389895}, {\"total_sales_normalized\": 5727.26, \"item_A_sales\": 1660.76, \"item_B_sales\": 3224.54, \"item_C_sales\": 534.5, \"hours_opened\": 12, \"is_long_weekend\": false, \"is_HCF\": false, \"type_of_day\": \"Weekend\", \"has_pop_up\": false, \"rain\": 0.0, \"snow\": 0.0, \"avg_cloud_cover_8\": 1.5, \"avg_temperature\": 20.5, \"season\": \"Summer\", \"log_total_sales_normalized\": 8.652992510350607, \"log_item_A_sales\": 7.415030607903106, \"log_item_B_sales\": 8.078545583397526, \"log_item_C_sales\": 6.2813317304651}, {\"total_sales_normalized\": 5016.45, \"item_A_sales\": 1618.8, \"item_B_sales\": 2637.8, \"item_C_sales\": 453.0, \"hours_opened\": 12, \"is_long_weekend\": false, \"is_HCF\": false, \"type_of_day\": \"Weekend\", \"has_pop_up\": false, \"rain\": 0.0, \"snow\": 0.0, \"avg_cloud_cover_8\": 5.0, \"avg_temperature\": 19.05, \"season\": \"Summer\", \"log_total_sales_normalized\": 8.520477791207453, \"log_item_A_sales\": 7.389440413001711, \"log_item_B_sales\": 7.877700515391784, \"log_item_C_sales\": 6.115892125483034}, {\"total_sales_normalized\": 2941.84, \"item_A_sales\": 992.4, \"item_B_sales\": 1413.8, \"item_C_sales\": 275.0, \"hours_opened\": 11, \"is_long_weekend\": false, \"is_HCF\": false, \"type_of_day\": \"Weekday\", \"has_pop_up\": false, \"rain\": 0.0, \"snow\": 0.0, \"avg_cloud_cover_8\": 4.5, \"avg_temperature\": 17.95, \"season\": \"Summer\", \"log_total_sales_normalized\": 7.986790514910214, \"log_item_A_sales\": 6.900126251817646, \"log_item_B_sales\": 7.254036393736854, \"log_item_C_sales\": 5.616771097666572}, {\"total_sales_normalized\": 3377.86, \"item_A_sales\": 1101.1, \"item_B_sales\": 1889.4, \"item_C_sales\": 183.5, \"hours_opened\": 11, \"is_long_weekend\": false, \"is_HCF\": false, \"type_of_day\": \"Weekday\", \"has_pop_up\": false, \"rain\": 0.0, \"snow\": 0.0, \"avg_cloud_cover_8\": 3.5, \"avg_temperature\": 17.45, \"season\": \"Summer\", \"log_total_sales_normalized\": 8.124997651867092, \"log_item_A_sales\": 7.004064959119545, \"log_item_B_sales\": 7.544014597335034, \"log_item_C_sales\": 5.212214667494625}, {\"total_sales_normalized\": 2569.53, \"item_A_sales\": 896.4, \"item_B_sales\": 1329.7, \"item_C_sales\": 166.5, \"hours_opened\": 11, \"is_long_weekend\": false, \"is_HCF\": false, \"type_of_day\": \"Weekday\", \"has_pop_up\": false, \"rain\": 0.0, \"snow\": 0.0, \"avg_cloud_cover_8\": 4.5, \"avg_temperature\": 18.14, \"season\": \"Summer\", \"log_total_sales_normalized\": 7.851478281787362, \"log_item_A_sales\": 6.798386741926772, \"log_item_B_sales\": 7.1927086318626605, \"log_item_C_sales\": 5.1149953094204985}, {\"total_sales_normalized\": 2845.57, \"item_A_sales\": 1088.63, \"item_B_sales\": 1383.31, \"item_C_sales\": 239.0, \"hours_opened\": 11, \"is_long_weekend\": false, \"is_HCF\": false, \"type_of_day\": \"Weekday\", \"has_pop_up\": false, \"rain\": 0.0, \"snow\": 0.0, \"avg_cloud_cover_8\": 4.5, \"avg_temperature\": 18.6, \"season\": \"Summer\", \"log_total_sales_normalized\": 7.9535186779866, \"log_item_A_sales\": 6.992675303952178, \"log_item_B_sales\": 7.232234456944497, \"log_item_C_sales\": 5.476463551931511}, {\"total_sales_normalized\": 4531.53, \"item_A_sales\": 1448.73, \"item_B_sales\": 2483.5, \"item_C_sales\": 376.75, \"hours_opened\": 12, \"is_long_weekend\": false, \"is_HCF\": false, \"type_of_day\": \"Friday\", \"has_pop_up\": false, \"rain\": 0.0, \"snow\": 0.0, \"avg_cloud_cover_8\": 4.0, \"avg_temperature\": 16.64, \"season\": \"Summer\", \"log_total_sales_normalized\": 8.418814909797318, \"log_item_A_sales\": 7.278442589554357, \"log_item_B_sales\": 7.817424134547405, \"log_item_C_sales\": 5.931581837506605}, {\"total_sales_normalized\": 4025.88, \"item_A_sales\": 1335.06, \"item_B_sales\": 2121.72, \"item_C_sales\": 265.1, \"hours_opened\": 12, \"is_long_weekend\": false, \"is_HCF\": false, \"type_of_day\": \"Weekend\", \"has_pop_up\": false, \"rain\": 0.0, \"snow\": 0.0, \"avg_cloud_cover_8\": 4.5, \"avg_temperature\": 17.5, \"season\": \"Summer\", \"log_total_sales_normalized\": 8.300498799496207, \"log_item_A_sales\": 7.1967315136446315, \"log_item_B_sales\": 7.659982359477998, \"log_item_C_sales\": 5.5801071132949795}, {\"total_sales_normalized\": 4814.25, \"item_A_sales\": 1653.56, \"item_B_sales\": 2482.91, \"item_C_sales\": 336.5, \"hours_opened\": 12, \"is_long_weekend\": false, \"is_HCF\": false, \"type_of_day\": \"Weekend\", \"has_pop_up\": false, \"rain\": 0.0, \"snow\": 0.0, \"avg_cloud_cover_8\": 5.0, \"avg_temperature\": 17.64, \"season\": \"Summer\", \"log_total_sales_normalized\": 8.479335548859996, \"log_item_A_sales\": 7.410685818428153, \"log_item_B_sales\": 7.81718653837521, \"log_item_C_sales\": 5.8185981490847825}, {\"total_sales_normalized\": 2195.94, \"item_A_sales\": 913.3, \"item_B_sales\": 928.3, \"item_C_sales\": 208.0, \"hours_opened\": 11, \"is_long_weekend\": false, \"is_HCF\": false, \"type_of_day\": \"Weekday\", \"has_pop_up\": false, \"rain\": 19.0, \"snow\": 0.0, \"avg_cloud_cover_8\": 7.5, \"avg_temperature\": 16.6, \"season\": \"Summer\", \"log_total_sales_normalized\": 7.694365479851786, \"log_item_A_sales\": 6.817064413697633, \"log_item_B_sales\": 6.833354956405887, \"log_item_C_sales\": 5.337538079701318}, {\"total_sales_normalized\": 3000.4, \"item_A_sales\": 1293.96, \"item_B_sales\": 1293.79, \"item_C_sales\": 264.3, \"hours_opened\": 11, \"is_long_weekend\": false, \"is_HCF\": false, \"type_of_day\": \"Weekday\", \"has_pop_up\": false, \"rain\": 0.0, \"snow\": 0.0, \"avg_cloud_cover_8\": 8.0, \"avg_temperature\": 18.39, \"season\": \"Summer\", \"log_total_sales_normalized\": 8.006500892095481, \"log_item_A_sales\": 7.165462562681982, \"log_item_B_sales\": 7.165331174410127, \"log_item_C_sales\": 5.577084821610244}, {\"total_sales_normalized\": 3179.43, \"item_A_sales\": 955.0, \"item_B_sales\": 1890.62, \"item_C_sales\": 181.45, \"hours_opened\": 11, \"is_long_weekend\": false, \"is_HCF\": false, \"type_of_day\": \"Weekday\", \"has_pop_up\": false, \"rain\": 0.8, \"snow\": 0.0, \"avg_cloud_cover_8\": 4.0, \"avg_temperature\": 19.25, \"season\": \"Summer\", \"log_total_sales_normalized\": 8.064457214424849, \"log_item_A_sales\": 6.86171134048073, \"log_item_B_sales\": 7.54466009658761, \"log_item_C_sales\": 5.200980133659079}, {\"total_sales_normalized\": 2763.64, \"item_A_sales\": 736.0, \"item_B_sales\": 1613.5, \"item_C_sales\": 242.0, \"hours_opened\": 11, \"is_long_weekend\": false, \"is_HCF\": false, \"type_of_day\": \"Weekday\", \"has_pop_up\": false, \"rain\": 0.0, \"snow\": 0.0, \"avg_cloud_cover_8\": 1.5, \"avg_temperature\": 19.25, \"season\": \"Summer\", \"log_total_sales_normalized\": 7.924303930384551, \"log_item_A_sales\": 6.601230118728877, \"log_item_B_sales\": 7.386161011492017, \"log_item_C_sales\": 5.488937726156687}, {\"total_sales_normalized\": 3743.26, \"item_A_sales\": 1246.8, \"item_B_sales\": 1993.1, \"item_C_sales\": 290.5, \"hours_opened\": 12, \"is_long_weekend\": false, \"is_HCF\": false, \"type_of_day\": \"Friday\", \"has_pop_up\": false, \"rain\": 0.0, \"snow\": 0.0, \"avg_cloud_cover_8\": 5.0, \"avg_temperature\": 21.35, \"season\": \"Summer\", \"log_total_sales_normalized\": 8.227712168489582, \"log_item_A_sales\": 7.128335547893182, \"log_item_B_sales\": 7.5974464945686915, \"log_item_C_sales\": 5.671603576291966}, {\"total_sales_normalized\": 5048.09, \"item_A_sales\": 1534.03, \"item_B_sales\": 2984.33, \"item_C_sales\": 251.5, \"hours_opened\": 12, \"is_long_weekend\": true, \"is_HCF\": false, \"type_of_day\": \"Weekend\", \"has_pop_up\": false, \"rain\": 0.0, \"snow\": 0.0, \"avg_cloud_cover_8\": 1.5, \"avg_temperature\": 18.95, \"season\": \"Summer\", \"log_total_sales_normalized\": 8.526765232905223, \"log_item_A_sales\": 7.335653538450443, \"log_item_B_sales\": 8.00113054502138, \"log_item_C_sales\": 5.527442989539794}, {\"total_sales_normalized\": 5165.24, \"item_A_sales\": 1425.53, \"item_B_sales\": 2997.71, \"item_C_sales\": 451.95, \"hours_opened\": 12, \"is_long_weekend\": true, \"is_HCF\": false, \"type_of_day\": \"Weekend\", \"has_pop_up\": false, \"rain\": 0.0, \"snow\": 0.0, \"avg_cloud_cover_8\": 1.5, \"avg_temperature\": 20.6, \"season\": \"Summer\", \"log_total_sales_normalized\": 8.54970684707633, \"log_item_A_sales\": 7.2622989533785605, \"log_item_B_sales\": 8.00560394282968, \"log_item_C_sales\": 6.11357155424442}, {\"total_sales_normalized\": 5014.4, \"item_A_sales\": 1558.5, \"item_B_sales\": 2766.4, \"item_C_sales\": 428.0, \"hours_opened\": 11, \"is_long_weekend\": true, \"is_HCF\": false, \"type_of_day\": \"Holiday\", \"has_pop_up\": false, \"rain\": 0.0, \"snow\": 0.0, \"avg_cloud_cover_8\": 1.5, \"avg_temperature\": 20.54, \"season\": \"Summer\", \"log_total_sales_normalized\": 8.520069052161702, \"log_item_A_sales\": 7.351479099207392, \"log_item_B_sales\": 7.925302114929026, \"log_item_C_sales\": 6.059123195581797}, {\"total_sales_normalized\": 2476.08, \"item_A_sales\": 894.9, \"item_B_sales\": 1196.42, \"item_C_sales\": 205.0, \"hours_opened\": 11, \"is_long_weekend\": false, \"is_HCF\": false, \"type_of_day\": \"Weekday\", \"has_pop_up\": false, \"rain\": 0.0, \"snow\": 0.0, \"avg_cloud_cover_8\": 3.5, \"avg_temperature\": 18.45, \"season\": \"Summer\", \"log_total_sales_normalized\": 7.81443194346023, \"log_item_A_sales\": 6.796711980188812, \"log_item_B_sales\": 7.087089043433187, \"log_item_C_sales\": 5.3230099791384085}, {\"total_sales_normalized\": 2938.15, \"item_A_sales\": 893.4, \"item_B_sales\": 1636.31, \"item_C_sales\": 194.0, \"hours_opened\": 11, \"is_long_weekend\": false, \"is_HCF\": false, \"type_of_day\": \"Weekday\", \"has_pop_up\": false, \"rain\": 0.0, \"snow\": 0.0, \"avg_cloud_cover_8\": 3.0, \"avg_temperature\": 18.55, \"season\": \"Summer\", \"log_total_sales_normalized\": 7.985535410570104, \"log_item_A_sales\": 6.795034408918018, \"log_item_B_sales\": 7.40019898576495, \"log_item_C_sales\": 5.267858159063328}, {\"total_sales_normalized\": 2772.22, \"item_A_sales\": 839.73, \"item_B_sales\": 1489.91, \"item_C_sales\": 280.5, \"hours_opened\": 11, \"is_long_weekend\": false, \"is_HCF\": false, \"type_of_day\": \"Weekday\", \"has_pop_up\": false, \"rain\": 0.0, \"snow\": 0.0, \"avg_cloud_cover_8\": 2.0, \"avg_temperature\": 19.45, \"season\": \"Summer\", \"log_total_sales_normalized\": 7.927403722239918, \"log_item_A_sales\": 6.733080411596696, \"log_item_B_sales\": 7.306470994430626, \"log_item_C_sales\": 5.636573724962751}, {\"total_sales_normalized\": 4049.15, \"item_A_sales\": 1401.78, \"item_B_sales\": 1924.92, \"item_C_sales\": 308.0, \"hours_opened\": 12, \"is_long_weekend\": false, \"is_HCF\": false, \"type_of_day\": \"Friday\", \"has_pop_up\": false, \"rain\": 0.0, \"snow\": 0.0, \"avg_cloud_cover_8\": 4.0, \"avg_temperature\": 21.35, \"season\": \"Summer\", \"log_total_sales_normalized\": 8.306262261530211, \"log_item_A_sales\": 7.245498136593921, \"log_item_B_sales\": 7.56263968741675, \"log_item_C_sales\": 5.730099782973574}, {\"total_sales_normalized\": 4251.8, \"item_A_sales\": 2152.53, \"item_B_sales\": 1518.93, \"item_C_sales\": 236.5, \"hours_opened\": 12, \"is_long_weekend\": false, \"is_HCF\": false, \"type_of_day\": \"Weekend\", \"has_pop_up\": false, \"rain\": 0.0, \"snow\": 0.0, \"avg_cloud_cover_8\": 2.0, \"avg_temperature\": 20.39, \"season\": \"Summer\", \"log_total_sales_normalized\": 8.355097701666962, \"log_item_A_sales\": 7.674399173486993, \"log_item_B_sales\": 7.325761418584612, \"log_item_C_sales\": 5.465948207931988}, {\"total_sales_normalized\": 5379.72, \"item_A_sales\": 1492.89, \"item_B_sales\": 3045.37, \"item_C_sales\": 443.3, \"hours_opened\": 12, \"is_long_weekend\": false, \"is_HCF\": false, \"type_of_day\": \"Weekend\", \"has_pop_up\": false, \"rain\": 0.3, \"snow\": 0.0, \"avg_cloud_cover_8\": 4.5, \"avg_temperature\": 18.8, \"season\": \"Summer\", \"log_total_sales_normalized\": 8.590391607191798, \"log_item_A_sales\": 7.308469117664814, \"log_item_B_sales\": 8.021377683435409, \"log_item_C_sales\": 6.094246741751008}, {\"total_sales_normalized\": 2659.02, \"item_A_sales\": 880.4, \"item_B_sales\": 1276.13, \"item_C_sales\": 304.5, \"hours_opened\": 11, \"is_long_weekend\": false, \"is_HCF\": false, \"type_of_day\": \"Weekday\", \"has_pop_up\": false, \"rain\": 0.0, \"snow\": 0.0, \"avg_cloud_cover_8\": 4.5, \"avg_temperature\": 17.5, \"season\": \"Summer\", \"log_total_sales_normalized\": 7.885712912839404, \"log_item_A_sales\": 6.780376349652307, \"log_item_B_sales\": 7.151587339592974, \"log_item_C_sales\": 5.718671087149952}, {\"total_sales_normalized\": 2842.24, \"item_A_sales\": 1127.7, \"item_B_sales\": 1294.2, \"item_C_sales\": 251.5, \"hours_opened\": 11, \"is_long_weekend\": false, \"is_HCF\": false, \"type_of_day\": \"Weekday\", \"has_pop_up\": false, \"rain\": 0.0, \"snow\": 0.0, \"avg_cloud_cover_8\": 7.5, \"avg_temperature\": 18.7, \"season\": \"Summer\", \"log_total_sales_normalized\": 7.952347752663683, \"log_item_A_sales\": 7.027935439238242, \"log_item_B_sales\": 7.165648022623166, \"log_item_C_sales\": 5.527442989539794}, {\"total_sales_normalized\": 3169.38, \"item_A_sales\": 1048.43, \"item_B_sales\": 1599.7, \"item_C_sales\": 208.0, \"hours_opened\": 11, \"is_long_weekend\": false, \"is_HCF\": false, \"type_of_day\": \"Weekday\", \"has_pop_up\": false, \"rain\": 0.0, \"snow\": 0.0, \"avg_cloud_cover_8\": 4.0, \"avg_temperature\": 18.3, \"season\": \"Summer\", \"log_total_sales_normalized\": 8.061291264146146, \"log_item_A_sales\": 6.95504908607228, \"log_item_B_sales\": 7.37757139064755, \"log_item_C_sales\": 5.337538079701318}, {\"total_sales_normalized\": 2874.72, \"item_A_sales\": 1082.3, \"item_B_sales\": 1392.1, \"item_C_sales\": 241.0, \"hours_opened\": 10, \"is_long_weekend\": false, \"is_HCF\": false, \"type_of_day\": \"Weekday\", \"has_pop_up\": false, \"rain\": 0.0, \"snow\": 0.0, \"avg_cloud_cover_8\": 2.0, \"avg_temperature\": 18.85, \"season\": \"Summer\", \"log_total_sales_normalized\": 7.963710557184262, \"log_item_A_sales\": 6.986843685301101, \"log_item_B_sales\": 7.238568677394522, \"log_item_C_sales\": 5.484796933490655}, {\"total_sales_normalized\": 3763.8, \"item_A_sales\": 1439.86, \"item_B_sales\": 1804.3, \"item_C_sales\": 239.0, \"hours_opened\": 12, \"is_long_weekend\": false, \"is_HCF\": false, \"type_of_day\": \"Friday\", \"has_pop_up\": false, \"rain\": 0.0, \"snow\": 0.0, \"avg_cloud_cover_8\": 5.0, \"avg_temperature\": 18.45, \"season\": \"Summer\", \"log_total_sales_normalized\": 8.233184364330752, \"log_item_A_sales\": 7.272301165621437, \"log_item_B_sales\": 7.497927983914253, \"log_item_C_sales\": 5.476463551931511}, {\"total_sales_normalized\": 5105.52, \"item_A_sales\": 1610.69, \"item_B_sales\": 2673.3, \"item_C_sales\": 363.0, \"hours_opened\": 12, \"is_long_weekend\": false, \"is_HCF\": false, \"type_of_day\": \"Weekend\", \"has_pop_up\": false, \"rain\": 0.0, \"snow\": 0.0, \"avg_cloud_cover_8\": 4.5, \"avg_temperature\": 18.45, \"season\": \"Summer\", \"log_total_sales_normalized\": 8.53807758633196, \"log_item_A_sales\": 7.384417937596576, \"log_item_B_sales\": 7.8910689432867835, \"log_item_C_sales\": 5.8944028342648505}, {\"total_sales_normalized\": 4296.38, \"item_A_sales\": 1653.82, \"item_B_sales\": 1898.4, \"item_C_sales\": 349.25, \"hours_opened\": 12, \"is_long_weekend\": false, \"is_HCF\": false, \"type_of_day\": \"Weekend\", \"has_pop_up\": false, \"rain\": 9.7, \"snow\": 0.0, \"avg_cloud_cover_8\": 5.0, \"avg_temperature\": 19.8, \"season\": \"Summer\", \"log_total_sales_normalized\": 8.365528086653008, \"log_item_A_sales\": 7.410843042575687, \"log_item_B_sales\": 7.548766705121554, \"log_item_C_sales\": 5.855787998137071}, {\"total_sales_normalized\": 2150.12, \"item_A_sales\": 680.71, \"item_B_sales\": 996.6, \"item_C_sales\": 217.5, \"hours_opened\": 11, \"is_long_weekend\": false, \"is_HCF\": false, \"type_of_day\": \"Weekday\", \"has_pop_up\": false, \"rain\": 1.5, \"snow\": 0.0, \"avg_cloud_cover_8\": 4.5, \"avg_temperature\": 18.35, \"season\": \"Summer\", \"log_total_sales_normalized\": 7.673278933517656, \"log_item_A_sales\": 6.52313637110551, \"log_item_B_sales\": 6.9043494858473045, \"log_item_C_sales\": 5.382198850528739}, {\"total_sales_normalized\": 2766.08, \"item_A_sales\": 1004.48, \"item_B_sales\": 1332.6, \"item_C_sales\": 187.55, \"hours_opened\": 11, \"is_long_weekend\": false, \"is_HCF\": false, \"type_of_day\": \"Weekday\", \"has_pop_up\": false, \"rain\": 0.5, \"snow\": 0.0, \"avg_cloud_cover_8\": 4.0, \"avg_temperature\": 18.64, \"season\": \"Summer\", \"log_total_sales_normalized\": 7.9251864344384115, \"log_item_A_sales\": 6.912225273653589, \"log_item_B_sales\": 7.194887200128437, \"log_item_C_sales\": 5.234045476527896}, {\"total_sales_normalized\": 3207.11, \"item_A_sales\": 1372.63, \"item_B_sales\": 1202.5, \"item_C_sales\": 165.83, \"hours_opened\": 11, \"is_long_weekend\": false, \"is_HCF\": false, \"type_of_day\": \"Weekday\", \"has_pop_up\": false, \"rain\": 0.0, \"snow\": 0.0, \"avg_cloud_cover_8\": 4.5, \"avg_temperature\": 16.89, \"season\": \"Summer\", \"log_total_sales_normalized\": 8.073125499073743, \"log_item_A_sales\": 7.2244838865667385, \"log_item_B_sales\": 7.092158001979916, \"log_item_C_sales\": 5.110963167226007}, {\"total_sales_normalized\": 2607.94, \"item_A_sales\": 873.7, \"item_B_sales\": 1274.4, \"item_C_sales\": 166.0, \"hours_opened\": 11, \"is_long_weekend\": false, \"is_HCF\": false, \"type_of_day\": \"Weekday\", \"has_pop_up\": false, \"rain\": 1.4, \"snow\": 0.0, \"avg_cloud_cover_8\": 6.5, \"avg_temperature\": 16.39, \"season\": \"Summer\", \"log_total_sales_normalized\": 7.866315916646929, \"log_item_A_sales\": 6.772737067304049, \"log_item_B_sales\": 7.150230758595839, \"log_item_C_sales\": 5.111987788356544}, {\"total_sales_normalized\": 2979.6, \"item_A_sales\": 1279.88, \"item_B_sales\": 1289.3, \"item_C_sales\": 204.0, \"hours_opened\": 12, \"is_long_weekend\": false, \"is_HCF\": false, \"type_of_day\": \"Friday\", \"has_pop_up\": false, \"rain\": 6.2, \"snow\": 0.0, \"avg_cloud_cover_8\": 7.5, \"avg_temperature\": 15.1, \"season\": \"Summer\", \"log_total_sales_normalized\": 7.999544342302121, \"log_item_A_sales\": 7.154521602518857, \"log_item_B_sales\": 7.1618547144167914, \"log_item_C_sales\": 5.318119993844216}, {\"total_sales_normalized\": 4710.54, \"item_A_sales\": 1873.9, \"item_B_sales\": 2156.2, \"item_C_sales\": 339.5, \"hours_opened\": 12, \"is_long_weekend\": false, \"is_HCF\": false, \"type_of_day\": \"Weekend\", \"has_pop_up\": false, \"rain\": 26.7, \"snow\": 0.0, \"avg_cloud_cover_8\": 6.0, \"avg_temperature\": 16.39, \"season\": \"Summer\", \"log_total_sales_normalized\": 8.45755783012022, \"log_item_A_sales\": 7.53577709958162, \"log_item_B_sales\": 7.676102692105017, \"log_item_C_sales\": 5.827473946998751}, {\"total_sales_normalized\": 4892.25, \"item_A_sales\": 1642.58, \"item_B_sales\": 2435.31, \"item_C_sales\": 453.0, \"hours_opened\": 12, \"is_long_weekend\": false, \"is_HCF\": false, \"type_of_day\": \"Weekend\", \"has_pop_up\": false, \"rain\": 0.4, \"snow\": 0.0, \"avg_cloud_cover_8\": 4.5, \"avg_temperature\": 17.35, \"season\": \"Summer\", \"log_total_sales_normalized\": 8.495407599344315, \"log_item_A_sales\": 7.404023455413142, \"log_item_B_sales\": 7.797829337475053, \"log_item_C_sales\": 6.115892125483034}, {\"total_sales_normalized\": 2394.41, \"item_A_sales\": 1003.03, \"item_B_sales\": 980.7, \"item_C_sales\": 172.5, \"hours_opened\": 11, \"is_long_weekend\": false, \"is_HCF\": false, \"type_of_day\": \"Weekday\", \"has_pop_up\": false, \"rain\": 12.7, \"snow\": 0.0, \"avg_cloud_cover_8\": 6.5, \"avg_temperature\": 16.75, \"season\": \"Summer\", \"log_total_sales_normalized\": 7.780892132941395, \"log_item_A_sales\": 6.910780697783824, \"log_item_B_sales\": 6.888266602398275, \"log_item_C_sales\": 5.150397236471415}, {\"total_sales_normalized\": 2809.23, \"item_A_sales\": 927.1, \"item_B_sales\": 1493.8, \"item_C_sales\": 191.25, \"hours_opened\": 11, \"is_long_weekend\": false, \"is_HCF\": false, \"type_of_day\": \"Weekday\", \"has_pop_up\": false, \"rain\": 0.0, \"snow\": 0.0, \"avg_cloud_cover_8\": 4.0, \"avg_temperature\": 15.55, \"season\": \"Summer\", \"log_total_sales_normalized\": 7.940665703424767, \"log_item_A_sales\": 6.832061434612937, \"log_item_B_sales\": 7.309078487922966, \"log_item_C_sales\": 5.253581472706645}, {\"total_sales_normalized\": 2831.22, \"item_A_sales\": 965.86, \"item_B_sales\": 1429.86, \"item_C_sales\": 183.5, \"hours_opened\": 11, \"is_long_weekend\": false, \"is_HCF\": false, \"type_of_day\": \"Weekday\", \"has_pop_up\": false, \"rain\": 0.0, \"snow\": 0.0, \"avg_cloud_cover_8\": 4.0, \"avg_temperature\": 13.2, \"season\": \"Summer\", \"log_total_sales_normalized\": 7.948462993148715, \"log_item_A_sales\": 6.873018896173276, \"log_item_B_sales\": 7.265331816363328, \"log_item_C_sales\": 5.212214667494625}, {\"total_sales_normalized\": 2595.31, \"item_A_sales\": 794.6, \"item_B_sales\": 1452.41, \"item_C_sales\": 157.5, \"hours_opened\": 11, \"is_long_weekend\": false, \"is_HCF\": false, \"type_of_day\": \"Weekday\", \"has_pop_up\": false, \"rain\": 0.0, \"snow\": 0.0, \"avg_cloud_cover_8\": 2.5, \"avg_temperature\": 15.05, \"season\": \"Summer\", \"log_total_sales_normalized\": 7.861461248966115, \"log_item_A_sales\": 6.677838843380498, \"log_item_B_sales\": 7.280979524672083, \"log_item_C_sales\": 5.059425458265688}, {\"total_sales_normalized\": 3794.2, \"item_A_sales\": 1124.0, \"item_B_sales\": 2142.5, \"item_C_sales\": 211.84, \"hours_opened\": 12, \"is_long_weekend\": false, \"is_HCF\": false, \"type_of_day\": \"Friday\", \"has_pop_up\": false, \"rain\": 0.0, \"snow\": 0.0, \"avg_cloud_cover_8\": 0.5, \"avg_temperature\": 15.95, \"season\": \"Summer\", \"log_total_sales_normalized\": 8.241228863918446, \"log_item_A_sales\": 7.024649030453636, \"log_item_B_sales\": 7.669728650471935, \"log_item_C_sales\": 5.3558312727486435}, {\"total_sales_normalized\": 4723.05, \"item_A_sales\": 1516.86, \"item_B_sales\": 2493.4, \"item_C_sales\": 360.0, \"hours_opened\": 12, \"is_long_weekend\": true, \"is_HCF\": false, \"type_of_day\": \"Weekend\", \"has_pop_up\": false, \"rain\": 0.0, \"snow\": 0.0, \"avg_cloud_cover_8\": 0.0, \"avg_temperature\": 17.25, \"season\": \"Summer\", \"log_total_sales_normalized\": 8.460210056331718, \"log_item_A_sales\": 7.324397687680427, \"log_item_B_sales\": 7.821402519910874, \"log_item_C_sales\": 5.886104031450156}, {\"total_sales_normalized\": 4864.83, \"item_A_sales\": 1472.03, \"item_B_sales\": 2781.32, \"item_C_sales\": 308.5, \"hours_opened\": 12, \"is_long_weekend\": true, \"is_HCF\": false, \"type_of_day\": \"Weekend\", \"has_pop_up\": false, \"rain\": 0.0, \"snow\": 0.0, \"avg_cloud_cover_8\": 3.5, \"avg_temperature\": 18.45, \"season\": \"Fall\", \"log_total_sales_normalized\": 8.489787050535776, \"log_item_A_sales\": 7.294397679515926, \"log_item_B_sales\": 7.930680914137154, \"log_item_C_sales\": 5.731721843345443}, {\"total_sales_normalized\": 3906.05, \"item_A_sales\": 1620.83, \"item_B_sales\": 1614.4, \"item_C_sales\": 339.0, \"hours_opened\": 11, \"is_long_weekend\": true, \"is_HCF\": false, \"type_of_day\": \"Holiday\", \"has_pop_up\": false, \"rain\": 0.0, \"snow\": 0.0, \"avg_cloud_cover_8\": 4.5, \"avg_temperature\": 17.89, \"season\": \"Fall\", \"log_total_sales_normalized\": 8.270281912173948, \"log_item_A_sales\": 7.3906936427012075, \"log_item_B_sales\": 7.386718649599344, \"log_item_C_sales\": 5.82600010738045}, {\"total_sales_normalized\": 1745.78, \"item_A_sales\": 651.5, \"item_B_sales\": 817.81, \"item_C_sales\": 161.25, \"hours_opened\": 11, \"is_long_weekend\": false, \"is_HCF\": false, \"type_of_day\": \"Weekday\", \"has_pop_up\": false, \"rain\": 0.0, \"snow\": 0.0, \"avg_cloud_cover_8\": 4.5, \"avg_temperature\": 16.85, \"season\": \"Fall\", \"log_total_sales_normalized\": 7.464956726169641, \"log_item_A_sales\": 6.4792773965649, \"log_item_B_sales\": 6.706630035784371, \"log_item_C_sales\": 5.082955955675882}, {\"total_sales_normalized\": 2312.96, \"item_A_sales\": 676.13, \"item_B_sales\": 1298.0, \"item_C_sales\": 168.5, \"hours_opened\": 11, \"is_long_weekend\": false, \"is_HCF\": false, \"type_of_day\": \"Weekday\", \"has_pop_up\": false, \"rain\": 0.0, \"snow\": 0.0, \"avg_cloud_cover_8\": 1.5, \"avg_temperature\": 16.85, \"season\": \"Fall\", \"log_total_sales_normalized\": 7.746283368523755, \"log_item_A_sales\": 6.516385365246518, \"log_item_B_sales\": 7.168579897264035, \"log_item_C_sales\": 5.126935749792416}, {\"total_sales_normalized\": 2174.09, \"item_A_sales\": 742.7, \"item_B_sales\": 1035.3, \"item_C_sales\": 210.0, \"hours_opened\": 11, \"is_long_weekend\": false, \"is_HCF\": false, \"type_of_day\": \"Weekday\", \"has_pop_up\": false, \"rain\": 0.0, \"snow\": 0.0, \"avg_cloud_cover_8\": 2.0, \"avg_temperature\": 18.89, \"season\": \"Fall\", \"log_total_sales_normalized\": 7.684365465168333, \"log_item_A_sales\": 6.61029219467525, \"log_item_B_sales\": 6.942446518772067, \"log_item_C_sales\": 5.3471075307174685}, {\"total_sales_normalized\": 3164.1, \"item_A_sales\": 1093.1, \"item_B_sales\": 1652.9, \"item_C_sales\": 206.0, \"hours_opened\": 12, \"is_long_weekend\": false, \"is_HCF\": false, \"type_of_day\": \"Friday\", \"has_pop_up\": false, \"rain\": 0.0, \"snow\": 0.0, \"avg_cloud_cover_8\": 1.5, \"avg_temperature\": 18.5, \"season\": \"Fall\", \"log_total_sales_normalized\": 8.059623933950679, \"log_item_A_sales\": 6.996772975299789, \"log_item_B_sales\": 7.410286599923308, \"log_item_C_sales\": 5.327876168789581}, {\"total_sales_normalized\": 3643.86, \"item_A_sales\": 1377.6, \"item_B_sales\": 1830.21, \"item_C_sales\": 235.5, \"hours_opened\": 12, \"is_long_weekend\": false, \"is_HCF\": false, \"type_of_day\": \"Weekend\", \"has_pop_up\": false, \"rain\": 0.0, \"snow\": 0.0, \"avg_cloud_cover_8\": 4.0, \"avg_temperature\": 18.85, \"season\": \"Fall\", \"log_total_sales_normalized\": 8.20079883832238, \"log_item_A_sales\": 7.228098133673466, \"log_item_B_sales\": 7.512185993350079, \"log_item_C_sales\": 5.461710913456472}, {\"total_sales_normalized\": 3779.73, \"item_A_sales\": 1356.4, \"item_B_sales\": 1905.1, \"item_C_sales\": 328.0, \"hours_opened\": 12, \"is_long_weekend\": false, \"is_HCF\": false, \"type_of_day\": \"Weekend\", \"has_pop_up\": false, \"rain\": 0.0, \"snow\": 0.0, \"avg_cloud_cover_8\": 5.0, \"avg_temperature\": 18.64, \"season\": \"Fall\", \"log_total_sales_normalized\": 8.237407857491062, \"log_item_A_sales\": 7.212589410251484, \"log_item_B_sales\": 7.552289779621389, \"log_item_C_sales\": 5.793013608384144}, {\"total_sales_normalized\": 1735.19, \"item_A_sales\": 733.0, \"item_B_sales\": 735.6, \"item_C_sales\": 143.5, \"hours_opened\": 11, \"is_long_weekend\": false, \"is_HCF\": false, \"type_of_day\": \"Weekday\", \"has_pop_up\": false, \"rain\": 0.0, \"snow\": 0.0, \"avg_cloud_cover_8\": 4.0, \"avg_temperature\": 16.7, \"season\": \"Fall\", \"log_total_sales_normalized\": 7.458872196471623, \"log_item_A_sales\": 6.597145701886651, \"log_item_B_sales\": 6.6006864927301665, \"log_item_C_sales\": 4.966335035199676}, {\"total_sales_normalized\": 1882.95, \"item_A_sales\": 754.5, \"item_B_sales\": 871.0, \"item_C_sales\": 111.0, \"hours_opened\": 11, \"is_long_weekend\": false, \"is_HCF\": false, \"type_of_day\": \"Weekday\", \"has_pop_up\": false, \"rain\": 0.0, \"snow\": 0.0, \"avg_cloud_cover_8\": 5.0, \"avg_temperature\": 16.1, \"season\": \"Fall\", \"log_total_sales_normalized\": 7.540594974932327, \"log_item_A_sales\": 6.626055278207904, \"log_item_B_sales\": 6.769641976852503, \"log_item_C_sales\": 4.709530201312334}, {\"total_sales_normalized\": 1530.32, \"item_A_sales\": 656.8, \"item_B_sales\": 624.01, \"item_C_sales\": 143.85, \"hours_opened\": 11, \"is_long_weekend\": false, \"is_HCF\": false, \"type_of_day\": \"Weekday\", \"has_pop_up\": false, \"rain\": 0.4, \"snow\": 0.0, \"avg_cloud_cover_8\": 4.5, \"avg_temperature\": 15.55, \"season\": \"Fall\", \"log_total_sales_normalized\": 7.333232142844398, \"log_item_A_sales\": 6.487379558138218, \"log_item_B_sales\": 6.436166393882044, \"log_item_C_sales\": 4.968771089997557}, {\"total_sales_normalized\": 1883.93, \"item_A_sales\": 908.3, \"item_B_sales\": 746.4, \"item_C_sales\": 136.0, \"hours_opened\": 11, \"is_long_weekend\": false, \"is_HCF\": false, \"type_of_day\": \"Weekday\", \"has_pop_up\": false, \"rain\": 0.0, \"snow\": 0.0, \"avg_cloud_cover_8\": 4.5, \"avg_temperature\": 14.9, \"season\": \"Fall\", \"log_total_sales_normalized\": 7.541115299456661, \"log_item_A_sales\": 6.811574720508168, \"log_item_B_sales\": 6.615261649533134, \"log_item_C_sales\": 4.912654885736052}, {\"total_sales_normalized\": 2957.77, \"item_A_sales\": 1182.6, \"item_B_sales\": 1122.1, \"item_C_sales\": 350.0, \"hours_opened\": 12, \"is_long_weekend\": false, \"is_HCF\": false, \"type_of_day\": \"Friday\", \"has_pop_up\": false, \"rain\": 11.9, \"snow\": 0.0, \"avg_cloud_cover_8\": 6.0, \"avg_temperature\": 14.25, \"season\": \"Fall\", \"log_total_sales_normalized\": 7.992190885007623, \"log_item_A_sales\": 7.07547068338673, \"log_item_B_sales\": 7.02295720867082, \"log_item_C_sales\": 5.857933154483459}, {\"total_sales_normalized\": 3879.79, \"item_A_sales\": 1570.4, \"item_B_sales\": 1656.0, \"item_C_sales\": 408.0, \"hours_opened\": 12, \"is_long_weekend\": false, \"is_HCF\": false, \"type_of_day\": \"Weekend\", \"has_pop_up\": false, \"rain\": 5.6, \"snow\": 0.0, \"avg_cloud_cover_8\": 5.0, \"avg_temperature\": 16.0, \"season\": \"Fall\", \"log_total_sales_normalized\": 8.263536307441237, \"log_item_A_sales\": 7.359085642962252, \"log_item_B_sales\": 7.412160334945205, \"log_item_C_sales\": 6.0112671744041615}, {\"total_sales_normalized\": 3430.26, \"item_A_sales\": 1101.1, \"item_B_sales\": 1717.31, \"item_C_sales\": 336.0, \"hours_opened\": 12, \"is_long_weekend\": false, \"is_HCF\": false, \"type_of_day\": \"Weekend\", \"has_pop_up\": false, \"rain\": 0.0, \"snow\": 0.0, \"avg_cloud_cover_8\": 4.0, \"avg_temperature\": 14.7, \"season\": \"Fall\", \"log_total_sales_normalized\": 8.14039133903645, \"log_item_A_sales\": 7.004064959119545, \"log_item_B_sales\": 7.4485143920672545, \"log_item_C_sales\": 5.817111159963204}, {\"total_sales_normalized\": 1655.82, \"item_A_sales\": 707.7, \"item_B_sales\": 679.2, \"item_C_sales\": 154.0, \"hours_opened\": 11, \"is_long_weekend\": false, \"is_HCF\": false, \"type_of_day\": \"Weekday\", \"has_pop_up\": false, \"rain\": 0.0, \"snow\": 0.0, \"avg_cloud_cover_8\": 3.5, \"avg_temperature\": 13.95, \"season\": \"Fall\", \"log_total_sales_normalized\": 7.41205163338523, \"log_item_A_sales\": 6.562020275081739, \"log_item_B_sales\": 6.520915634997138, \"log_item_C_sales\": 5.0369526024136295}, {\"total_sales_normalized\": 1810.69, \"item_A_sales\": 910.7, \"item_B_sales\": 639.7, \"item_C_sales\": 130.0, \"hours_opened\": 11, \"is_long_weekend\": false, \"is_HCF\": false, \"type_of_day\": \"Weekday\", \"has_pop_up\": false, \"rain\": 0.0, \"snow\": 0.0, \"avg_cloud_cover_8\": 4.0, \"avg_temperature\": 13.89, \"season\": \"Fall\", \"log_total_sales_normalized\": 7.501463267085329, \"log_item_A_sales\": 6.814213534573773, \"log_item_B_sales\": 6.460999316456092, \"log_item_C_sales\": 4.867534450455582}, {\"total_sales_normalized\": 1783.85, \"item_A_sales\": 712.9, \"item_B_sales\": 739.5, \"item_C_sales\": 117.5, \"hours_opened\": 11, \"is_long_weekend\": false, \"is_HCF\": false, \"type_of_day\": \"Weekday\", \"has_pop_up\": false, \"rain\": 0.0, \"snow\": 0.0, \"avg_cloud_cover_8\": 4.0, \"avg_temperature\": 15.65, \"season\": \"Fall\", \"log_total_sales_normalized\": 7.486529228887484, \"log_item_A_sales\": 6.569341158123582, \"log_item_B_sales\": 6.6059742821508545, \"log_item_C_sales\": 4.7664383335842135}, {\"total_sales_normalized\": 2061.42, \"item_A_sales\": 747.68, \"item_B_sales\": 942.31, \"item_C_sales\": 150.0, \"hours_opened\": 11, \"is_long_weekend\": false, \"is_HCF\": false, \"type_of_day\": \"Weekday\", \"has_pop_up\": false, \"rain\": 0.0, \"snow\": 0.0, \"avg_cloud_cover_8\": 4.5, \"avg_temperature\": 13.6, \"season\": \"Fall\", \"log_total_sales_normalized\": 7.631150344699801, \"log_item_A_sales\": 6.616975078952116, \"log_item_B_sales\": 6.84833430748793, \"log_item_C_sales\": 5.0106352940962555}, {\"total_sales_normalized\": 3657.62, \"item_A_sales\": 1433.8, \"item_B_sales\": 1670.7, \"item_C_sales\": 309.5, \"hours_opened\": 12, \"is_long_weekend\": false, \"is_HCF\": false, \"type_of_day\": \"Friday\", \"has_pop_up\": false, \"rain\": 0.0, \"snow\": 0.0, \"avg_cloud_cover_8\": 4.5, \"avg_temperature\": 14.65, \"season\": \"Fall\", \"log_total_sales_normalized\": 8.204567941652034, \"log_item_A_sales\": 7.268083541418772, \"log_item_B_sales\": 7.420997979263733, \"log_item_C_sales\": 5.734958092124651}, {\"total_sales_normalized\": 3777.4, \"item_A_sales\": 1425.33, \"item_B_sales\": 1781.4, \"item_C_sales\": 261.54, \"hours_opened\": 12, \"is_long_weekend\": false, \"is_HCF\": false, \"type_of_day\": \"Weekend\", \"has_pop_up\": false, \"rain\": 0.0, \"snow\": 0.0, \"avg_cloud_cover_8\": 4.5, \"avg_temperature\": 13.35, \"season\": \"Fall\", \"log_total_sales_normalized\": 8.236791221261745, \"log_item_A_sales\": 7.262158644839854, \"log_item_B_sales\": 7.485154850997769, \"log_item_C_sales\": 5.566587235478356}, {\"total_sales_normalized\": 3252.62, \"item_A_sales\": 1280.93, \"item_B_sales\": 1398.0, \"item_C_sales\": 325.0, \"hours_opened\": 12, \"is_long_weekend\": false, \"is_HCF\": false, \"type_of_day\": \"Weekend\", \"has_pop_up\": false, \"rain\": 0.0, \"snow\": 0.0, \"avg_cloud_cover_8\": 6.0, \"avg_temperature\": 14.89, \"season\": \"Fall\", \"log_total_sales_normalized\": 8.087216104402454, \"log_item_A_sales\": 7.155341655594909, \"log_item_B_sales\": 7.242797922793756, \"log_item_C_sales\": 5.783825182329737}, {\"total_sales_normalized\": 2160.09, \"item_A_sales\": 976.4, \"item_B_sales\": 597.32, \"item_C_sales\": 162.5, \"hours_opened\": 11, \"is_long_weekend\": false, \"is_HCF\": false, \"type_of_day\": \"Weekday\", \"has_pop_up\": false, \"rain\": 3.5, \"snow\": 0.0, \"avg_cloud_cover_8\": 6.5, \"avg_temperature\": 16.64, \"season\": \"Fall\", \"log_total_sales_normalized\": 7.677905166476846, \"log_item_A_sales\": 6.883872338518805, \"log_item_B_sales\": 6.3924529831890675, \"log_item_C_sales\": 5.090678001769792}, {\"total_sales_normalized\": 1992.39, \"item_A_sales\": 952.83, \"item_B_sales\": 644.6, \"item_C_sales\": 163.5, \"hours_opened\": 11, \"is_long_weekend\": false, \"is_HCF\": false, \"type_of_day\": \"Weekday\", \"has_pop_up\": false, \"rain\": 0.0, \"snow\": 0.0, \"avg_cloud_cover_8\": 4.5, \"avg_temperature\": 15.75, \"season\": \"Fall\", \"log_total_sales_normalized\": 7.597090202114058, \"log_item_A_sales\": 6.859436503691508, \"log_item_B_sales\": 6.468629969381338, \"log_item_C_sales\": 5.096812990337308}, {\"total_sales_normalized\": 1758.67, \"item_A_sales\": 898.8, \"item_B_sales\": 565.5, \"item_C_sales\": 186.5, \"hours_opened\": 11, \"is_long_weekend\": false, \"is_HCF\": false, \"type_of_day\": \"Weekday\", \"has_pop_up\": false, \"rain\": 29.8, \"snow\": 0.0, \"avg_cloud_cover_8\": 7.5, \"avg_temperature\": 15.1, \"season\": \"Fall\", \"log_total_sales_normalized\": 7.472313120542584, \"log_item_A_sales\": 6.801060540311174, \"log_item_B_sales\": 6.3377102955561755, \"log_item_C_sales\": 5.2284312390838705}, {\"total_sales_normalized\": 1712.14, \"item_A_sales\": 750.3, \"item_B_sales\": 571.5, \"item_C_sales\": 220.5, \"hours_opened\": 11, \"is_long_weekend\": false, \"is_HCF\": false, \"type_of_day\": \"Weekday\", \"has_pop_up\": false, \"rain\": 2.9, \"snow\": 0.0, \"avg_cloud_cover_8\": 5.5, \"avg_temperature\": 11.55, \"season\": \"Fall\", \"log_total_sales_normalized\": 7.445499329059172, \"log_item_A_sales\": 6.620473126551683, \"log_item_B_sales\": 6.348264483234865, \"log_item_C_sales\": 5.395897694886901}, {\"total_sales_normalized\": 2797.49, \"item_A_sales\": 1085.31, \"item_B_sales\": 1230.9, \"item_C_sales\": 261.5, \"hours_opened\": 12, \"is_long_weekend\": false, \"is_HCF\": false, \"type_of_day\": \"Friday\", \"has_pop_up\": false, \"rain\": 0.0, \"snow\": 0.0, \"avg_cloud_cover_8\": 4.5, \"avg_temperature\": 13.5, \"season\": \"Fall\", \"log_total_sales_normalized\": 7.936477865559494, \"log_item_A_sales\": 6.98962093945172, \"log_item_B_sales\": 7.11550088811625, \"log_item_C_sales\": 5.566434283504978}, {\"total_sales_normalized\": 4397.65, \"item_A_sales\": 1730.8, \"item_B_sales\": 2045.4, \"item_C_sales\": 351.5, \"hours_opened\": 12, \"is_long_weekend\": true, \"is_HCF\": false, \"type_of_day\": \"Weekend\", \"has_pop_up\": false, \"rain\": 0.0, \"snow\": 0.0, \"avg_cloud_cover_8\": 4.5, \"avg_temperature\": 11.05, \"season\": \"Fall\", \"log_total_sales_normalized\": 8.388825586319907, \"log_item_A_sales\": 7.45633900835073, \"log_item_B_sales\": 7.623348648371913, \"log_item_C_sales\": 5.86220971125072}, {\"total_sales_normalized\": 4135.33, \"item_A_sales\": 1653.21, \"item_B_sales\": 1775.71, \"item_C_sales\": 358.0, \"hours_opened\": 12, \"is_long_weekend\": true, \"is_HCF\": false, \"type_of_day\": \"Weekend\", \"has_pop_up\": false, \"rain\": 0.0, \"snow\": 0.0, \"avg_cloud_cover_8\": 2.5, \"avg_temperature\": 12.2, \"season\": \"Fall\", \"log_total_sales_normalized\": 8.327322410803045, \"log_item_A_sales\": 7.410474131494192, \"log_item_B_sales\": 7.481955621930843, \"log_item_C_sales\": 5.8805329864007}, {\"total_sales_normalized\": 3272.23, \"item_A_sales\": 1280.08, \"item_B_sales\": 1450.3, \"item_C_sales\": 274.0, \"hours_opened\": 11, \"is_long_weekend\": true, \"is_HCF\": false, \"type_of_day\": \"Holiday\", \"has_pop_up\": false, \"rain\": 0.0, \"snow\": 0.0, \"avg_cloud_cover_8\": 4.0, \"avg_temperature\": 10.14, \"season\": \"Fall\", \"log_total_sales_normalized\": 8.093226988650706, \"log_item_A_sales\": 7.154677854960619, \"log_item_B_sales\": 7.279525710566205, \"log_item_C_sales\": 5.6131281063880705}, {\"total_sales_normalized\": 1174.79, \"item_A_sales\": 446.13, \"item_B_sales\": 592.42, \"item_C_sales\": 41.0, \"hours_opened\": 11, \"is_long_weekend\": false, \"is_HCF\": false, \"type_of_day\": \"Weekday\", \"has_pop_up\": false, \"rain\": 0.7, \"snow\": 0.0, \"avg_cloud_cover_8\": 4.5, \"avg_temperature\": 10.65, \"season\": \"Fall\", \"log_total_sales_normalized\": 7.068844687201073, \"log_item_A_sales\": 6.100610389368702, \"log_item_B_sales\": 6.3842158427960705, \"log_item_C_sales\": 3.713572066704308}, {\"total_sales_normalized\": 1814.04, \"item_A_sales\": 698.2, \"item_B_sales\": 657.51, \"item_C_sales\": 237.95, \"hours_opened\": 11, \"is_long_weekend\": false, \"is_HCF\": false, \"type_of_day\": \"Weekday\", \"has_pop_up\": false, \"rain\": 0.0, \"snow\": 0.0, \"avg_cloud_cover_8\": 4.0, \"avg_temperature\": 12.35, \"season\": \"Fall\", \"log_total_sales_normalized\": 7.503311681148617, \"log_item_A_sales\": 6.548505594670936, \"log_item_B_sales\": 6.488459973061738, \"log_item_C_sales\": 5.4720605675671194}, {\"total_sales_normalized\": 1585.03, \"item_A_sales\": 688.03, \"item_B_sales\": 528.01, \"item_C_sales\": 189.5, \"hours_opened\": 11, \"is_long_weekend\": false, \"is_HCF\": false, \"type_of_day\": \"Weekday\", \"has_pop_up\": false, \"rain\": 0.0, \"snow\": 0.0, \"avg_cloud_cover_8\": 4.0, \"avg_temperature\": 8.9, \"season\": \"Fall\", \"log_total_sales_normalized\": 7.368358613577054, \"log_item_A_sales\": 6.533832441633852, \"log_item_B_sales\": 6.269115222920853, \"log_item_C_sales\": 5.244389024522481}, {\"total_sales_normalized\": 2591.65, \"item_A_sales\": 1066.13, \"item_B_sales\": 1114.3, \"item_C_sales\": 217.5, \"hours_opened\": 12, \"is_long_weekend\": false, \"is_HCF\": false, \"type_of_day\": \"Friday\", \"has_pop_up\": false, \"rain\": 11.7, \"snow\": 0.0, \"avg_cloud_cover_8\": 4.5, \"avg_temperature\": 13.3, \"season\": \"Fall\", \"log_total_sales_normalized\": 7.8600500174904795, \"log_item_A_sales\": 6.971790548509857, \"log_item_B_sales\": 7.015981684053008, \"log_item_C_sales\": 5.382198850528739}, {\"total_sales_normalized\": 3930.48, \"item_A_sales\": 1525.03, \"item_B_sales\": 1729.53, \"item_C_sales\": 343.6, \"hours_opened\": 12, \"is_long_weekend\": false, \"is_HCF\": false, \"type_of_day\": \"Weekend\", \"has_pop_up\": false, \"rain\": 0.0, \"snow\": 0.0, \"avg_cloud_cover_8\": 6.0, \"avg_temperature\": 12.5, \"season\": \"Fall\", \"log_total_sales_normalized\": 8.276516834809721, \"log_item_A_sales\": 7.329769360979165, \"log_item_B_sales\": 7.455604974280555, \"log_item_C_sales\": 5.839478190110101}, {\"total_sales_normalized\": 3343.55, \"item_A_sales\": 1301.7, \"item_B_sales\": 1527.5, \"item_C_sales\": 305.5, \"hours_opened\": 12, \"is_long_weekend\": false, \"is_HCF\": false, \"type_of_day\": \"Weekend\", \"has_pop_up\": false, \"rain\": 0.0, \"snow\": 0.0, \"avg_cloud_cover_8\": 4.0, \"avg_temperature\": 13.55, \"season\": \"Fall\", \"log_total_sales_normalized\": 8.114788395771331, \"log_item_A_sales\": 7.171426381472415, \"log_item_B_sales\": 7.331387691045751, \"log_item_C_sales\": 5.72194977861165}, {\"total_sales_normalized\": 1690.31, \"item_A_sales\": 635.93, \"item_B_sales\": 802.7, \"item_C_sales\": 115.0, \"hours_opened\": 11, \"is_long_weekend\": false, \"is_HCF\": false, \"type_of_day\": \"Weekday\", \"has_pop_up\": false, \"rain\": 0.0, \"snow\": 0.0, \"avg_cloud_cover_8\": 4.0, \"avg_temperature\": 14.0, \"season\": \"Fall\", \"log_total_sales_normalized\": 7.432667223048198, \"log_item_A_sales\": 6.455088494389676, \"log_item_B_sales\": 6.687981045137532, \"log_item_C_sales\": 4.74493212836325}, {\"total_sales_normalized\": 1362.18, \"item_A_sales\": 688.7, \"item_B_sales\": 483.4, \"item_C_sales\": 98.0, \"hours_opened\": 11, \"is_long_weekend\": false, \"is_HCF\": false, \"type_of_day\": \"Weekday\", \"has_pop_up\": false, \"rain\": 0.6, \"snow\": 0.0, \"avg_cloud_cover_8\": 6.5, \"avg_temperature\": 14.05, \"season\": \"Fall\", \"log_total_sales_normalized\": 7.216841636567589, \"log_item_A_sales\": 6.534805762550652, \"log_item_B_sales\": 6.180844468269383, \"log_item_C_sales\": 4.584967478670572}, {\"total_sales_normalized\": 1215.37, \"item_A_sales\": 469.7, \"item_B_sales\": 530.0, \"item_C_sales\": 135.0, \"hours_opened\": 11, \"is_long_weekend\": false, \"is_HCF\": false, \"type_of_day\": \"Weekday\", \"has_pop_up\": false, \"rain\": 4.1, \"snow\": 0.0, \"avg_cloud_cover_8\": 5.0, \"avg_temperature\": 12.25, \"season\": \"Fall\", \"log_total_sales_normalized\": 7.102803836164761, \"log_item_A_sales\": 6.15209419303295, \"log_item_B_sales\": 6.272877006546167, \"log_item_C_sales\": 4.90527477843843}, {\"total_sales_normalized\": 1475.61, \"item_A_sales\": 646.1, \"item_B_sales\": 528.9, \"item_C_sales\": 198.5, \"hours_opened\": 11, \"is_long_weekend\": false, \"is_HCF\": false, \"type_of_day\": \"Weekday\", \"has_pop_up\": false, \"rain\": 0.0, \"snow\": 0.0, \"avg_cloud_cover_8\": 4.0, \"avg_temperature\": 9.69, \"season\": \"Fall\", \"log_total_sales_normalized\": 7.2968267426038675, \"log_item_A_sales\": 6.47095429056412, \"log_item_B_sales\": 6.270799378071934, \"log_item_C_sales\": 5.290789100127245}, {\"total_sales_normalized\": 3077.38, \"item_A_sales\": 1155.8, \"item_B_sales\": 1501.8, \"item_C_sales\": 242.75, \"hours_opened\": 12, \"is_long_weekend\": false, \"is_HCF\": false, \"type_of_day\": \"Friday\", \"has_pop_up\": false, \"rain\": 0.0, \"snow\": 0.0, \"avg_cloud_cover_8\": 3.5, \"avg_temperature\": 9.3, \"season\": \"Fall\", \"log_total_sales_normalized\": 8.031833864609503, \"log_item_A_sales\": 7.052548023883678, \"log_item_B_sales\": 7.314419667665783, \"log_item_C_sales\": 5.492032107171434}, {\"total_sales_normalized\": 3835.06, \"item_A_sales\": 1500.09, \"item_B_sales\": 1669.7, \"item_C_sales\": 409.5, \"hours_opened\": 12, \"is_long_weekend\": true, \"is_HCF\": false, \"type_of_day\": \"Weekend\", \"has_pop_up\": false, \"rain\": 0.0, \"snow\": 0.0, \"avg_cloud_cover_8\": 2.5, \"avg_temperature\": 11.3, \"season\": \"Fall\", \"log_total_sales_normalized\": 8.251940359050547, \"log_item_A_sales\": 7.313280385290374, \"log_item_B_sales\": 7.4203992485549115, \"log_item_C_sales\": 6.014936903293124}, {\"total_sales_normalized\": 3435.59, \"item_A_sales\": 1209.4, \"item_B_sales\": 1744.8, \"item_C_sales\": 207.0, \"hours_opened\": 12, \"is_long_weekend\": true, \"is_HCF\": false, \"type_of_day\": \"Weekend\", \"has_pop_up\": false, \"rain\": 0.0, \"snow\": 0.0, \"avg_cloud_cover_8\": 4.0, \"avg_temperature\": 14.05, \"season\": \"Fall\", \"log_total_sales_normalized\": 8.141943951188102, \"log_item_A_sales\": 7.097879647839113, \"log_item_B_sales\": 7.4643952148874195, \"log_item_C_sales\": 5.332718793265369}, {\"total_sales_normalized\": 2315.11, \"item_A_sales\": 981.6, \"item_B_sales\": 990.6, \"item_C_sales\": 169.0, \"hours_opened\": 11, \"is_long_weekend\": true, \"is_HCF\": false, \"type_of_day\": \"Holiday\", \"has_pop_up\": false, \"rain\": 10.4, \"snow\": 0.0, \"avg_cloud_cover_8\": 6.5, \"avg_temperature\": 14.25, \"season\": \"Fall\", \"log_total_sales_normalized\": 7.7472124815901795, \"log_item_A_sales\": 6.889183893396702, \"log_item_B_sales\": 6.898310820154137, \"log_item_C_sales\": 5.1298987149230735}, {\"total_sales_normalized\": 1290.38, \"item_A_sales\": 670.1, \"item_B_sales\": 460.7, \"item_C_sales\": 88.0, \"hours_opened\": 11, \"is_long_weekend\": false, \"is_HCF\": false, \"type_of_day\": \"Weekday\", \"has_pop_up\": false, \"rain\": 0.0, \"snow\": 0.0, \"avg_cloud_cover_8\": 7.0, \"avg_temperature\": 11.2, \"season\": \"Fall\", \"log_total_sales_normalized\": 7.162692027620832, \"log_item_A_sales\": 6.507426954979125, \"log_item_B_sales\": 6.132747071941871, \"log_item_C_sales\": 4.477336814478207}, {\"total_sales_normalized\": 1450.85, \"item_A_sales\": 587.3, \"item_B_sales\": 589.3, \"item_C_sales\": 144.0, \"hours_opened\": 11, \"is_long_weekend\": false, \"is_HCF\": false, \"type_of_day\": \"Weekday\", \"has_pop_up\": false, \"rain\": 6.6, \"snow\": 0.0, \"avg_cloud_cover_8\": 4.5, \"avg_temperature\": 11.1, \"season\": \"Fall\", \"log_total_sales_normalized\": 7.279904870559027, \"log_item_A_sales\": 6.375535762528473, \"log_item_B_sales\": 6.378935391843868, \"log_item_C_sales\": 4.969813299576001}, {\"total_sales_normalized\": 1603.46, \"item_A_sales\": 669.99, \"item_B_sales\": 638.7, \"item_C_sales\": 164.5, \"hours_opened\": 11, \"is_long_weekend\": false, \"is_HCF\": false, \"type_of_day\": \"Weekday\", \"has_pop_up\": false, \"rain\": 0.0, \"snow\": 0.0, \"avg_cloud_cover_8\": 4.5, \"avg_temperature\": 9.0, \"season\": \"Fall\", \"log_total_sales_normalized\": 7.3799190733902, \"log_item_A_sales\": 6.507262786900493, \"log_item_B_sales\": 6.459434860567543, \"log_item_C_sales\": 5.1029105702054265}, {\"total_sales_normalized\": 1993.98, \"item_A_sales\": 1051.2, \"item_B_sales\": 539.8, \"item_C_sales\": 238.5, \"hours_opened\": 12, \"is_long_weekend\": false, \"is_HCF\": false, \"type_of_day\": \"Friday\", \"has_pop_up\": false, \"rain\": 34.2, \"snow\": 0.0, \"avg_cloud_cover_8\": 7.0, \"avg_temperature\": 8.75, \"season\": \"Fall\", \"log_total_sales_normalized\": 7.597887920381211, \"log_item_A_sales\": 6.957687647730346, \"log_item_B_sales\": 6.291198700583904, \"log_item_C_sales\": 5.474369310328396}, {\"total_sales_normalized\": 2560.34, \"item_A_sales\": 1128.53, \"item_B_sales\": 966.01, \"item_C_sales\": 307.0, \"hours_opened\": 12, \"is_long_weekend\": false, \"is_HCF\": false, \"type_of_day\": \"Weekend\", \"has_pop_up\": false, \"rain\": 67.1, \"snow\": 0.0, \"avg_cloud_cover_8\": 8.0, \"avg_temperature\": 11.75, \"season\": \"Fall\", \"log_total_sales_normalized\": 7.847895341154809, \"log_item_A_sales\": 7.0286711798652535, \"log_item_B_sales\": 6.87317418612581, \"log_item_C_sales\": 5.726847747587197}, {\"total_sales_normalized\": 2112.0, \"item_A_sales\": 834.78, \"item_B_sales\": 929.2, \"item_C_sales\": 153.0, \"hours_opened\": 12, \"is_long_weekend\": false, \"is_HCF\": false, \"type_of_day\": \"Weekend\", \"has_pop_up\": false, \"rain\": 28.8, \"snow\": 0.0, \"avg_cloud_cover_8\": 5.0, \"avg_temperature\": 11.7, \"season\": \"Fall\", \"log_total_sales_normalized\": 7.655390644826152, \"log_item_A_sales\": 6.72716821708184, \"log_item_B_sales\": 6.834324000896254, \"log_item_C_sales\": 5.030437921392435}, {\"total_sales_normalized\": 1513.02, \"item_A_sales\": 802.4, \"item_B_sales\": 476.61, \"item_C_sales\": 124.5, \"hours_opened\": 11, \"is_long_weekend\": false, \"is_HCF\": false, \"type_of_day\": \"Weekday\", \"has_pop_up\": false, \"rain\": 0.0, \"snow\": 0.0, \"avg_cloud_cover_8\": 7.0, \"avg_temperature\": 9.85, \"season\": \"Fall\", \"log_total_sales_normalized\": 7.321862932471643, \"log_item_A_sales\": 6.687607236647726, \"log_item_B_sales\": 6.166698546400042, \"log_item_C_sales\": 4.824305715904762}, {\"total_sales_normalized\": 1795.42, \"item_A_sales\": 886.23, \"item_B_sales\": 514.21, \"item_C_sales\": 191.0, \"hours_opened\": 11, \"is_long_weekend\": false, \"is_HCF\": false, \"type_of_day\": \"Weekday\", \"has_pop_up\": false, \"rain\": 1.2, \"snow\": 0.0, \"avg_cloud_cover_8\": 4.0, \"avg_temperature\": 9.44, \"season\": \"Fall\", \"log_total_sales_normalized\": 7.492994256839467, \"log_item_A_sales\": 6.78697651059593, \"log_item_B_sales\": 6.242631742328411, \"log_item_C_sales\": 5.25227342804663}, {\"total_sales_normalized\": 2002.21, \"item_A_sales\": 760.0, \"item_B_sales\": 769.1, \"item_C_sales\": 274.0, \"hours_opened\": 11, \"is_long_weekend\": false, \"is_HCF\": false, \"type_of_day\": \"Weekday\", \"has_pop_up\": false, \"rain\": 0.0, \"snow\": 0.0, \"avg_cloud_cover_8\": 4.0, \"avg_temperature\": 7.25, \"season\": \"Fall\", \"log_total_sales_normalized\": 7.602006849478954, \"log_item_A_sales\": 6.633318433280377, \"log_item_B_sales\": 6.6452210000630085, \"log_item_C_sales\": 5.6131281063880705}, {\"total_sales_normalized\": 1826.89, \"item_A_sales\": 827.23, \"item_B_sales\": 661.4, \"item_C_sales\": 186.5, \"hours_opened\": 11, \"is_long_weekend\": false, \"is_HCF\": false, \"type_of_day\": \"Weekday\", \"has_pop_up\": false, \"rain\": 0.0, \"snow\": 0.0, \"avg_cloud_cover_8\": 3.5, \"avg_temperature\": 7.8, \"season\": \"Fall\", \"log_total_sales_normalized\": 7.510370346574191, \"log_item_A_sales\": 6.7180827700211, \"log_item_B_sales\": 6.494358800547692, \"log_item_C_sales\": 5.2284312390838705}, {\"total_sales_normalized\": 3257.39, \"item_A_sales\": 1293.7, \"item_B_sales\": 1510.5, \"item_C_sales\": 217.5, \"hours_opened\": 12, \"is_long_weekend\": false, \"is_HCF\": false, \"type_of_day\": \"Friday\", \"has_pop_up\": false, \"rain\": 0.0, \"snow\": 0.0, \"avg_cloud_cover_8\": 4.5, \"avg_temperature\": 6.4, \"season\": \"Fall\", \"log_total_sales_normalized\": 8.088681540201673, \"log_item_A_sales\": 7.165261608923856, \"log_item_B_sales\": 7.320196000826726, \"log_item_C_sales\": 5.382198850528739}, {\"total_sales_normalized\": 3338.51, \"item_A_sales\": 1493.88, \"item_B_sales\": 1099.4, \"item_C_sales\": 434.5, \"hours_opened\": 12, \"is_long_weekend\": false, \"is_HCF\": false, \"type_of_day\": \"Weekend\", \"has_pop_up\": false, \"rain\": 11.8, \"snow\": 0.0, \"avg_cloud_cover_8\": 6.0, \"avg_temperature\": 12.1, \"season\": \"Fall\", \"log_total_sales_normalized\": 8.113279878650633, \"log_item_A_sales\": 7.309132041181695, \"log_item_B_sales\": 7.00251985542656, \"log_item_C_sales\": 6.074195944705447}, {\"total_sales_normalized\": 2839.64, \"item_A_sales\": 1110.23, \"item_B_sales\": 1273.6, \"item_C_sales\": 253.0, \"hours_opened\": 12, \"is_long_weekend\": false, \"is_HCF\": false, \"type_of_day\": \"Weekend\", \"has_pop_up\": false, \"rain\": 5.6, \"snow\": 0.0, \"avg_cloud_cover_8\": 6.5, \"avg_temperature\": 11.55, \"season\": \"Fall\", \"log_total_sales_normalized\": 7.9514325625570725, \"log_item_A_sales\": 7.012322480049138, \"log_item_B_sales\": 7.149602815090119, \"log_item_C_sales\": 5.53338948872752}, {\"total_sales_normalized\": 1099.55, \"item_A_sales\": 403.13, \"item_B_sales\": 491.4, \"item_C_sales\": 113.0, \"hours_opened\": 11, \"is_long_weekend\": false, \"is_HCF\": false, \"type_of_day\": \"Weekday\", \"has_pop_up\": false, \"rain\": 1.6, \"snow\": 0.0, \"avg_cloud_cover_8\": 5.0, \"avg_temperature\": 10.25, \"season\": \"Fall\", \"log_total_sales_normalized\": 7.002656284176857, \"log_item_A_sales\": 5.9992590905738945, \"log_item_B_sales\": 6.197258460087078, \"log_item_C_sales\": 4.727387818712341}, {\"total_sales_normalized\": 1252.95, \"item_A_sales\": 671.7, \"item_B_sales\": 390.5, \"item_C_sales\": 116.0, \"hours_opened\": 11, \"is_long_weekend\": false, \"is_HCF\": false, \"type_of_day\": \"Weekday\", \"has_pop_up\": false, \"rain\": 0.0, \"snow\": 0.0, \"avg_cloud_cover_8\": 4.5, \"avg_temperature\": 7.65, \"season\": \"Fall\", \"log_total_sales_normalized\": 7.133256049870025, \"log_item_A_sales\": 6.509811812272819, \"log_item_B_sales\": 5.967427969279741, \"log_item_C_sales\": 4.7535901911063645}, {\"total_sales_normalized\": 1213.51, \"item_A_sales\": 496.3, \"item_B_sales\": 467.6, \"item_C_sales\": 139.5, \"hours_opened\": 11, \"is_long_weekend\": false, \"is_HCF\": false, \"type_of_day\": \"Weekday\", \"has_pop_up\": false, \"rain\": 17.5, \"snow\": 0.0, \"avg_cloud_cover_8\": 7.5, \"avg_temperature\": 8.89, \"season\": \"Fall\", \"log_total_sales_normalized\": 7.10127226575899, \"log_item_A_sales\": 6.207180582593395, \"log_item_B_sales\": 6.147613229597914, \"log_item_C_sales\": 4.93806460126142}, {\"total_sales_normalized\": 1155.73, \"item_A_sales\": 511.0, \"item_B_sales\": 438.9, \"item_C_sales\": 111.0, \"hours_opened\": 11, \"is_long_weekend\": false, \"is_HCF\": false, \"type_of_day\": \"Weekday\", \"has_pop_up\": false, \"rain\": 5.5, \"snow\": 0.0, \"avg_cloud_cover_8\": 6.5, \"avg_temperature\": 9.19, \"season\": \"Fall\", \"log_total_sales_normalized\": 7.05248745793816, \"log_item_A_sales\": 6.236369590203704, \"log_item_B_sales\": 6.0842715966941885, \"log_item_C_sales\": 4.709530201312334}, {\"total_sales_normalized\": 1916.43, \"item_A_sales\": 892.3, \"item_B_sales\": 705.02, \"item_C_sales\": 175.0, \"hours_opened\": 12, \"is_long_weekend\": false, \"is_HCF\": false, \"type_of_day\": \"Friday\", \"has_pop_up\": false, \"rain\": 19.2, \"snow\": 0.0, \"avg_cloud_cover_8\": 8.0, \"avg_temperature\": 7.65, \"season\": \"Fall\", \"log_total_sales_normalized\": 7.558219359238349, \"log_item_A_sales\": 6.793802398906106, \"log_item_B_sales\": 6.5582261712042085, \"log_item_C_sales\": 5.1647859739235145}, {\"total_sales_normalized\": 3813.79, \"item_A_sales\": 1772.58, \"item_B_sales\": 1455.3, \"item_C_sales\": 299.0, \"hours_opened\": 12, \"is_long_weekend\": false, \"is_HCF\": false, \"type_of_day\": \"Weekend\", \"has_pop_up\": false, \"rain\": 5.0, \"snow\": 0.0, \"avg_cloud_cover_8\": 7.5, \"avg_temperature\": 7.65, \"season\": \"Fall\", \"log_total_sales_normalized\": 8.246378724340348, \"log_item_A_sales\": 7.480191391379312, \"log_item_B_sales\": 7.282967343919281, \"log_item_C_sales\": 5.700443573390687}, {\"total_sales_normalized\": 3365.57, \"item_A_sales\": 1508.8, \"item_B_sales\": 1408.01, \"item_C_sales\": 241.5, \"hours_opened\": 12, \"is_long_weekend\": false, \"is_HCF\": false, \"type_of_day\": \"Weekend\", \"has_pop_up\": false, \"rain\": 1.6, \"snow\": 0.0, \"avg_cloud_cover_8\": 7.0, \"avg_temperature\": 7.9, \"season\": \"Fall\", \"log_total_sales_normalized\": 8.121352618521348, \"log_item_A_sales\": 7.319069911879193, \"log_item_B_sales\": 7.249932638965494, \"log_item_C_sales\": 5.486869473092628}, {\"total_sales_normalized\": 665.11, \"item_A_sales\": 478.6, \"item_B_sales\": 0.0, \"item_C_sales\": 108.0, \"hours_opened\": 6, \"is_long_weekend\": false, \"is_HCF\": false, \"type_of_day\": \"Weekday\", \"has_pop_up\": false, \"rain\": 20.0, \"snow\": 0.0, \"avg_cloud_cover_8\": 4.0, \"avg_temperature\": 9.94, \"season\": \"Fall\", \"log_total_sales_normalized\": 6.499952440510379, \"log_item_A_sales\": 6.170865175474273, \"log_item_B_sales\": 0.0, \"log_item_C_sales\": 4.68213122712422}, {\"total_sales_normalized\": 1692.72, \"item_A_sales\": 799.08, \"item_B_sales\": 545.7, \"item_C_sales\": 137.5, \"hours_opened\": 11, \"is_long_weekend\": false, \"is_HCF\": false, \"type_of_day\": \"Weekday\", \"has_pop_up\": false, \"rain\": 0.0, \"snow\": 0.0, \"avg_cloud_cover_8\": 4.0, \"avg_temperature\": 7.4, \"season\": \"Fall\", \"log_total_sales_normalized\": 7.4340919815680335, \"log_item_A_sales\": 6.683461065910532, \"log_item_B_sales\": 6.302069374192186, \"log_item_C_sales\": 4.923623917106626}, {\"total_sales_normalized\": 1408.38, \"item_A_sales\": 629.46, \"item_B_sales\": 555.6, \"item_C_sales\": 116.5, \"hours_opened\": 11, \"is_long_weekend\": false, \"is_HCF\": false, \"type_of_day\": \"Weekday\", \"has_pop_up\": false, \"rain\": 0.0, \"snow\": 0.0, \"avg_cloud_cover_8\": 7.5, \"avg_temperature\": 8.44, \"season\": \"Fall\", \"log_total_sales_normalized\": 7.250195386668851, \"log_item_A_sales\": 6.444862308971449, \"log_item_B_sales\": 6.320048610880189, \"log_item_C_sales\": 4.757891273005756}, {\"total_sales_normalized\": 2140.16, \"item_A_sales\": 856.75, \"item_B_sales\": 677.42, \"item_C_sales\": 289.97, \"hours_opened\": 11, \"is_long_weekend\": false, \"is_HCF\": false, \"type_of_day\": \"Weekday\", \"has_pop_up\": false, \"rain\": 0.0, \"snow\": 0.0, \"avg_cloud_cover_8\": 6.5, \"avg_temperature\": 9.19, \"season\": \"Fall\", \"log_total_sales_normalized\": 7.668635871576173, \"log_item_A_sales\": 6.753146160754718, \"log_item_B_sales\": 6.518291464600913, \"log_item_C_sales\": 5.669777469353516}, {\"total_sales_normalized\": 2949.73, \"item_A_sales\": 1108.38, \"item_B_sales\": 1361.3, \"item_C_sales\": 200.5, \"hours_opened\": 12, \"is_long_weekend\": false, \"is_HCF\": false, \"type_of_day\": \"Friday\", \"has_pop_up\": false, \"rain\": 10.0, \"snow\": 0.0, \"avg_cloud_cover_8\": 6.0, \"avg_temperature\": 10.89, \"season\": \"Fall\", \"log_total_sales_normalized\": 7.989468919721429, \"log_item_A_sales\": 7.010654768798601, \"log_item_B_sales\": 7.216195404518428, \"log_item_C_sales\": 5.300814246746624}, {\"total_sales_normalized\": 3587.0, \"item_A_sales\": 1681.94, \"item_B_sales\": 1247.92, \"item_C_sales\": 311.1, \"hours_opened\": 12, \"is_long_weekend\": true, \"is_HCF\": false, \"type_of_day\": \"Weekend\", \"has_pop_up\": false, \"rain\": 17.4, \"snow\": 0.0, \"avg_cloud_cover_8\": 8.0, \"avg_temperature\": 9.85, \"season\": \"Fall\", \"log_total_sales_normalized\": 8.185071477532283, \"log_item_A_sales\": 7.427703168077376, \"log_item_B_sales\": 7.129233444310613, \"log_item_C_sales\": 5.740114403903592}, {\"total_sales_normalized\": 4121.43, \"item_A_sales\": 2032.68, \"item_B_sales\": 1454.3, \"item_C_sales\": 303.0, \"hours_opened\": 12, \"is_long_weekend\": true, \"is_HCF\": false, \"type_of_day\": \"Weekend\", \"has_pop_up\": false, \"rain\": 4.6, \"snow\": 0.0, \"avg_cloud_cover_8\": 8.0, \"avg_temperature\": 10.8, \"season\": \"Fall\", \"log_total_sales_normalized\": 8.323955469501323, \"log_item_A_sales\": 7.6171103983862904, \"log_item_B_sales\": 7.282279964183664, \"log_item_C_sales\": 5.713732805509369}, {\"total_sales_normalized\": 3226.04, \"item_A_sales\": 1615.2, \"item_B_sales\": 1022.12, \"item_C_sales\": 259.5, \"hours_opened\": 11, \"is_long_weekend\": true, \"is_HCF\": false, \"type_of_day\": \"Holiday\", \"has_pop_up\": false, \"rain\": 16.9, \"snow\": 0.0, \"avg_cloud_cover_8\": 7.5, \"avg_temperature\": 10.3, \"season\": \"Fall\", \"log_total_sales_normalized\": 8.079010657864329, \"log_item_A_sales\": 7.387214066998628, \"log_item_B_sales\": 6.929634180700579, \"log_item_C_sales\": 5.558756702605943}, {\"total_sales_normalized\": 1438.94, \"item_A_sales\": 648.48, \"item_B_sales\": 566.5, \"item_C_sales\": 117.5, \"hours_opened\": 11, \"is_long_weekend\": false, \"is_HCF\": false, \"type_of_day\": \"Weekday\", \"has_pop_up\": false, \"rain\": 7.9, \"snow\": 0.0, \"avg_cloud_cover_8\": 5.0, \"avg_temperature\": 8.19, \"season\": \"Fall\", \"log_total_sales_normalized\": 7.271662010396121, \"log_item_A_sales\": 6.474631162879999, \"log_item_B_sales\": 6.339477080468061, \"log_item_C_sales\": 4.7664383335842135}, {\"total_sales_normalized\": 1476.79, \"item_A_sales\": 747.4, \"item_B_sales\": 413.2, \"item_C_sales\": 121.5, \"hours_opened\": 11, \"is_long_weekend\": false, \"is_HCF\": false, \"type_of_day\": \"Weekday\", \"has_pop_up\": false, \"rain\": 16.4, \"snow\": 0.0, \"avg_cloud_cover_8\": 7.5, \"avg_temperature\": 9.8, \"season\": \"Fall\", \"log_total_sales_normalized\": 7.297626092328045, \"log_item_A_sales\": 6.616600517051383, \"log_item_B_sales\": 6.0239317372454835, \"log_item_C_sales\": 4.799914262780603}, {\"total_sales_normalized\": 1852.93, \"item_A_sales\": 833.42, \"item_B_sales\": 652.5, \"item_C_sales\": 183.5, \"hours_opened\": 11, \"is_long_weekend\": false, \"is_HCF\": false, \"type_of_day\": \"Weekday\", \"has_pop_up\": false, \"rain\": 6.5, \"snow\": 0.0, \"avg_cloud_cover_8\": 5.5, \"avg_temperature\": 8.3, \"season\": \"Fall\", \"log_total_sales_normalized\": 7.5245234489932855, \"log_item_A_sales\": 6.725537716780558, \"log_item_B_sales\": 6.480811139196849, \"log_item_C_sales\": 5.212214667494625}, {\"total_sales_normalized\": 3080.8, \"item_A_sales\": 1547.68, \"item_B_sales\": 1083.61, \"item_C_sales\": 256.0, \"hours_opened\": 12, \"is_long_weekend\": false, \"is_HCF\": false, \"type_of_day\": \"Friday\", \"has_pop_up\": false, \"rain\": 0.0, \"snow\": 0.0, \"avg_cloud_cover_8\": 4.5, \"avg_temperature\": 5.8, \"season\": \"Fall\", \"log_total_sales_normalized\": 8.032944582500699, \"log_item_A_sales\": 7.344512314434237, \"log_item_B_sales\": 6.988053338665958, \"log_item_C_sales\": 5.545177444479562}, {\"total_sales_normalized\": 2945.27, \"item_A_sales\": 1562.88, \"item_B_sales\": 716.8, \"item_C_sales\": 247.6, \"hours_opened\": 12, \"is_long_weekend\": false, \"is_HCF\": false, \"type_of_day\": \"Weekend\", \"has_pop_up\": true, \"rain\": 26.1, \"snow\": 0.0, \"avg_cloud_cover_8\": 8.0, \"avg_temperature\": 4.34, \"season\": \"Fall\", \"log_total_sales_normalized\": 7.987955772698198, \"log_item_A_sales\": 7.354285552042231, \"log_item_B_sales\": 6.574796861660721, \"log_item_C_sales\": 5.511814540810441}, {\"total_sales_normalized\": 3009.2, \"item_A_sales\": 1559.37, \"item_B_sales\": 760.3, \"item_C_sales\": 306.0, \"hours_opened\": 12, \"is_long_weekend\": false, \"is_HCF\": false, \"type_of_day\": \"Weekend\", \"has_pop_up\": true, \"rain\": 10.8, \"snow\": 0.0, \"avg_cloud_cover_8\": 6.0, \"avg_temperature\": 6.7, \"season\": \"Fall\", \"log_total_sales_normalized\": 8.009429541686066, \"log_item_A_sales\": 7.352037172521917, \"log_item_B_sales\": 6.633713092234391, \"log_item_C_sales\": 5.723585101952381}, {\"total_sales_normalized\": 1296.49, \"item_A_sales\": 703.27, \"item_B_sales\": 339.1, \"item_C_sales\": 136.0, \"hours_opened\": 11, \"is_long_weekend\": false, \"is_HCF\": false, \"type_of_day\": \"Weekday\", \"has_pop_up\": false, \"rain\": 3.5, \"snow\": 0.0, \"avg_cloud_cover_8\": 5.5, \"avg_temperature\": 4.94, \"season\": \"Fall\", \"log_total_sales_normalized\": 7.167415891875313, \"log_item_A_sales\": 6.555740886354128, \"log_item_B_sales\": 5.826295049131593, \"log_item_C_sales\": 4.912654885736052}, {\"total_sales_normalized\": 1166.85, \"item_A_sales\": 541.67, \"item_B_sales\": 372.7, \"item_C_sales\": 102.5, \"hours_opened\": 11, \"is_long_weekend\": false, \"is_HCF\": false, \"type_of_day\": \"Weekday\", \"has_pop_up\": false, \"rain\": 14.1, \"snow\": 4.0, \"avg_cloud_cover_8\": 7.5, \"avg_temperature\": 4.55, \"season\": \"Fall\", \"log_total_sales_normalized\": 7.062063089320893, \"log_item_A_sales\": 6.294656959922947, \"log_item_B_sales\": 5.9207738064852125, \"log_item_C_sales\": 4.629862798578463}, {\"total_sales_normalized\": 1443.75, \"item_A_sales\": 644.91, \"item_B_sales\": 519.1, \"item_C_sales\": 132.5, \"hours_opened\": 11, \"is_long_weekend\": false, \"is_HCF\": false, \"type_of_day\": \"Weekday\", \"has_pop_up\": false, \"rain\": 11.5, \"snow\": 0.0, \"avg_cloud_cover_8\": 7.5, \"avg_temperature\": 8.1, \"season\": \"Fall\", \"log_total_sales_normalized\": 7.2749991742701035, \"log_item_A_sales\": 6.469110772176154, \"log_item_B_sales\": 6.252096542833184, \"log_item_C_sales\": 4.886582645426277}, {\"total_sales_normalized\": 1844.63, \"item_A_sales\": 933.55, \"item_B_sales\": 606.0, \"item_C_sales\": 154.85, \"hours_opened\": 11, \"is_long_weekend\": false, \"is_HCF\": false, \"type_of_day\": \"Weekday\", \"has_pop_up\": false, \"rain\": 0.5, \"snow\": 0.0, \"avg_cloud_cover_8\": 7.0, \"avg_temperature\": 8.1, \"season\": \"Fall\", \"log_total_sales_normalized\": 7.520033994357971, \"log_item_A_sales\": 6.838994523411345, \"log_item_B_sales\": 6.406879986069314, \"log_item_C_sales\": 5.042456906419212}, {\"total_sales_normalized\": 3023.12, \"item_A_sales\": 1231.16, \"item_B_sales\": 1230.91, \"item_C_sales\": 339.0, \"hours_opened\": 12, \"is_long_weekend\": false, \"is_HCF\": false, \"type_of_day\": \"Friday\", \"has_pop_up\": false, \"rain\": 5.1, \"snow\": 0.0, \"avg_cloud_cover_8\": 6.0, \"avg_temperature\": 8.8, \"season\": \"Fall\", \"log_total_sales_normalized\": 8.014044689658162, \"log_item_A_sales\": 7.1157120933679225, \"log_item_B_sales\": 7.11550901222006, \"log_item_C_sales\": 5.82600010738045}, {\"total_sales_normalized\": 4090.5, \"item_A_sales\": 1675.17, \"item_B_sales\": 1649.83, \"item_C_sales\": 328.0, \"hours_opened\": 12, \"is_long_weekend\": false, \"is_HCF\": false, \"type_of_day\": \"Weekend\", \"has_pop_up\": true, \"rain\": 2.6, \"snow\": 0.0, \"avg_cloud_cover_8\": 6.0, \"avg_temperature\": 8.75, \"season\": \"Fall\", \"log_total_sales_normalized\": 8.316422490953753, \"log_item_A_sales\": 7.423669931646462, \"log_item_B_sales\": 7.40842753128361, \"log_item_C_sales\": 5.793013608384144}, {\"total_sales_normalized\": 3152.73, \"item_A_sales\": 1598.17, \"item_B_sales\": 1046.0, \"item_C_sales\": 257.3, \"hours_opened\": 12, \"is_long_weekend\": false, \"is_HCF\": false, \"type_of_day\": \"Weekend\", \"has_pop_up\": false, \"rain\": 3.0, \"snow\": 0.0, \"avg_cloud_cover_8\": 7.5, \"avg_temperature\": 6.95, \"season\": \"Fall\", \"log_total_sales_normalized\": 8.056024023147637, \"log_item_A_sales\": 7.3766145036466755, \"log_item_B_sales\": 6.952728644624869, \"log_item_C_sales\": 5.550242719287699}, {\"total_sales_normalized\": 1411.66, \"item_A_sales\": 660.15, \"item_B_sales\": 489.41, \"item_C_sales\": 124.5, \"hours_opened\": 11, \"is_long_weekend\": false, \"is_HCF\": false, \"type_of_day\": \"Weekday\", \"has_pop_up\": false, \"rain\": 0.0, \"snow\": 0.0, \"avg_cloud_cover_8\": 6.0, \"avg_temperature\": 5.09, \"season\": \"Fall\", \"log_total_sales_normalized\": 7.252521595856717, \"log_item_A_sales\": 6.49246708192521, \"log_item_B_sales\": 6.193200583983307, \"log_item_C_sales\": 4.824305715904762}, {\"total_sales_normalized\": 1254.5, \"item_A_sales\": 603.5, \"item_B_sales\": 463.63, \"item_C_sales\": 86.35, \"hours_opened\": 11, \"is_long_weekend\": false, \"is_HCF\": false, \"type_of_day\": \"Weekday\", \"has_pop_up\": false, \"rain\": 0.0, \"snow\": 0.0, \"avg_cloud_cover_8\": 4.0, \"avg_temperature\": 3.05, \"season\": \"Fall\", \"log_total_sales_normalized\": 7.134492365806477, \"log_item_A_sales\": 6.402746040537586, \"log_item_B_sales\": 6.139086820329655, \"log_item_C_sales\": 4.458408804592688}, {\"total_sales_normalized\": 1277.52, \"item_A_sales\": 548.15, \"item_B_sales\": 456.7, \"item_C_sales\": 122.0, \"hours_opened\": 11, \"is_long_weekend\": false, \"is_HCF\": false, \"type_of_day\": \"Weekday\", \"has_pop_up\": false, \"rain\": 0.9, \"snow\": 0.0, \"avg_cloud_cover_8\": 6.0, \"avg_temperature\": 4.15, \"season\": \"Fall\", \"log_total_sales_normalized\": 7.152675977532612, \"log_item_A_sales\": 6.306548972120549, \"log_item_B_sales\": 6.124026720190953, \"log_item_C_sales\": 4.804021044733257}, {\"total_sales_normalized\": 1328.94, \"item_A_sales\": 627.18, \"item_B_sales\": 462.7, \"item_C_sales\": 171.5, \"hours_opened\": 11, \"is_long_weekend\": false, \"is_HCF\": false, \"type_of_day\": \"Weekday\", \"has_pop_up\": false, \"rain\": 0.0, \"snow\": 0.0, \"avg_cloud_cover_8\": 5.5, \"avg_temperature\": 3.45, \"season\": \"Fall\", \"log_total_sales_normalized\": 7.192136910967239, \"log_item_A_sales\": 6.44123358077267, \"log_item_B_sales\": 6.137078895912954, \"log_item_C_sales\": 5.144583266605995}, {\"total_sales_normalized\": 2346.05, \"item_A_sales\": 1174.09, \"item_B_sales\": 696.9, \"item_C_sales\": 256.0, \"hours_opened\": 12, \"is_long_weekend\": false, \"is_HCF\": false, \"type_of_day\": \"Friday\", \"has_pop_up\": false, \"rain\": 0.0, \"snow\": 0.0, \"avg_cloud_cover_8\": 7.5, \"avg_temperature\": 3.1, \"season\": \"Fall\", \"log_total_sales_normalized\": 7.76048834185928, \"log_item_A_sales\": 7.068248658437813, \"log_item_B_sales\": 6.5466419284444735, \"log_item_C_sales\": 5.545177444479562}, {\"total_sales_normalized\": 3460.38, \"item_A_sales\": 1462.84, \"item_B_sales\": 1541.2, \"item_C_sales\": 200.0, \"hours_opened\": 12, \"is_long_weekend\": false, \"is_HCF\": false, \"type_of_day\": \"Weekend\", \"has_pop_up\": false, \"rain\": 0.2, \"snow\": 0.0, \"avg_cloud_cover_8\": 6.5, \"avg_temperature\": 5.65, \"season\": \"Fall\", \"log_total_sales_normalized\": 8.149133688610867, \"log_item_A_sales\": 7.288135030719521, \"log_item_B_sales\": 7.3403166127520025, \"log_item_C_sales\": 5.298317366548036}, {\"total_sales_normalized\": 3261.3, \"item_A_sales\": 1495.93, \"item_B_sales\": 1097.51, \"item_C_sales\": 378.0, \"hours_opened\": 12, \"is_long_weekend\": false, \"is_HCF\": false, \"type_of_day\": \"Weekend\", \"has_pop_up\": false, \"rain\": 0.0, \"snow\": 0.0, \"avg_cloud_cover_8\": 3.5, \"avg_temperature\": 3.95, \"season\": \"Winter\", \"log_total_sales_normalized\": 8.089881167878064, \"log_item_A_sales\": 7.310503365995818, \"log_item_B_sales\": 7.000799256525128, \"log_item_C_sales\": 5.934894195619588}, {\"total_sales_normalized\": 1017.05, \"item_A_sales\": 516.98, \"item_B_sales\": 329.31, \"item_C_sales\": 78.0, \"hours_opened\": 11, \"is_long_weekend\": false, \"is_HCF\": false, \"type_of_day\": \"Weekday\", \"has_pop_up\": false, \"rain\": 0.0, \"snow\": 0.0, \"avg_cloud_cover_8\": 4.0, \"avg_temperature\": 2.45, \"season\": \"Winter\", \"log_total_sales_normalized\": 6.924661559048496, \"log_item_A_sales\": 6.24800418904062, \"log_item_B_sales\": 5.796999556367335, \"log_item_C_sales\": 4.356708826689592}, {\"total_sales_normalized\": 1342.0, \"item_A_sales\": 625.08, \"item_B_sales\": 528.9, \"item_C_sales\": 86.5, \"hours_opened\": 11, \"is_long_weekend\": false, \"is_HCF\": false, \"type_of_day\": \"Weekday\", \"has_pop_up\": false, \"rain\": 0.0, \"snow\": 0.0, \"avg_cloud_cover_8\": 3.5, \"avg_temperature\": 2.59, \"season\": \"Winter\", \"log_total_sales_normalized\": 7.201916317531627, \"log_item_A_sales\": 6.4378796415451, \"log_item_B_sales\": 6.270799378071934, \"log_item_C_sales\": 4.460144413937834}, {\"total_sales_normalized\": 1412.28, \"item_A_sales\": 674.96, \"item_B_sales\": 357.9, \"item_C_sales\": 231.5, \"hours_opened\": 11, \"is_long_weekend\": false, \"is_HCF\": false, \"type_of_day\": \"Weekday\", \"has_pop_up\": false, \"rain\": 0.0, \"snow\": 0.0, \"avg_cloud_cover_8\": 0.5, \"avg_temperature\": 1.54, \"season\": \"Winter\", \"log_total_sales_normalized\": 7.252960698677571, \"log_item_A_sales\": 6.514653429857371, \"log_item_B_sales\": 5.88025361777198, \"log_item_C_sales\": 5.444579873526289}, {\"total_sales_normalized\": 1694.55, \"item_A_sales\": 833.77, \"item_B_sales\": 579.3, \"item_C_sales\": 147.0, \"hours_opened\": 11, \"is_long_weekend\": false, \"is_HCF\": false, \"type_of_day\": \"Weekday\", \"has_pop_up\": false, \"rain\": 0.0, \"snow\": 0.0, \"avg_cloud_cover_8\": 7.0, \"avg_temperature\": 3.7, \"season\": \"Winter\", \"log_total_sales_normalized\": 7.435172497841047, \"log_item_A_sales\": 6.725957584948123, \"log_item_B_sales\": 6.361820478102579, \"log_item_C_sales\": 4.990432586778736}, {\"total_sales_normalized\": 1921.3, \"item_A_sales\": 970.8, \"item_B_sales\": 645.81, \"item_C_sales\": 125.5, \"hours_opened\": 12, \"is_long_weekend\": false, \"is_HCF\": false, \"type_of_day\": \"Friday\", \"has_pop_up\": false, \"rain\": 6.3, \"snow\": 0.0, \"avg_cloud_cover_8\": 6.5, \"avg_temperature\": 7.6, \"season\": \"Winter\", \"log_total_sales_normalized\": 7.560757319237656, \"log_item_A_sales\": 6.878120473852446, \"log_item_B_sales\": 6.470505342874465, \"log_item_C_sales\": 4.832305758571839}, {\"total_sales_normalized\": 3034.35, \"item_A_sales\": 1326.46, \"item_B_sales\": 1161.7, \"item_C_sales\": 189.0, \"hours_opened\": 12, \"is_long_weekend\": false, \"is_HCF\": false, \"type_of_day\": \"Weekend\", \"has_pop_up\": false, \"rain\": 12.6, \"snow\": 0.0, \"avg_cloud_cover_8\": 5.0, \"avg_temperature\": 8.75, \"season\": \"Winter\", \"log_total_sales_normalized\": 8.017752512516811, \"log_item_A_sales\": 7.190269018581109, \"log_item_B_sales\": 7.057639728519429, \"log_item_C_sales\": 5.241747015059643}, {\"total_sales_normalized\": 2671.32, \"item_A_sales\": 1251.18, \"item_B_sales\": 938.2, \"item_C_sales\": 276.0, \"hours_opened\": 12, \"is_long_weekend\": false, \"is_HCF\": false, \"type_of_day\": \"Weekend\", \"has_pop_up\": false, \"rain\": 1.1, \"snow\": 0.0, \"avg_cloud_cover_8\": 5.0, \"avg_temperature\": 6.15, \"season\": \"Winter\", \"log_total_sales_normalized\": 7.890328011250238, \"log_item_A_sales\": 7.131842385008559, \"log_item_B_sales\": 6.8439631458943575, \"log_item_C_sales\": 5.62040086571715}, {\"total_sales_normalized\": 1531.61, \"item_A_sales\": 705.41, \"item_B_sales\": 592.32, \"item_C_sales\": 140.0, \"hours_opened\": 11, \"is_long_weekend\": false, \"is_HCF\": false, \"type_of_day\": \"Weekday\", \"has_pop_up\": false, \"rain\": 0.0, \"snow\": 0.0, \"avg_cloud_cover_8\": 4.0, \"avg_temperature\": 4.59, \"season\": \"Winter\", \"log_total_sales_normalized\": 7.334074748701699, \"log_item_A_sales\": 6.55877919405531, \"log_item_B_sales\": 6.384047029385132, \"log_item_C_sales\": 4.941642422609304}, {\"total_sales_normalized\": 1506.87, \"item_A_sales\": 687.48, \"item_B_sales\": 589.3, \"item_C_sales\": 105.0, \"hours_opened\": 11, \"is_long_weekend\": false, \"is_HCF\": false, \"type_of_day\": \"Weekday\", \"has_pop_up\": false, \"rain\": 0.0, \"snow\": 0.0, \"avg_cloud_cover_8\": 4.0, \"avg_temperature\": 2.04, \"season\": \"Winter\", \"log_total_sales_normalized\": 7.317789930804671, \"log_item_A_sales\": 6.533032738208487, \"log_item_B_sales\": 6.378935391843868, \"log_item_C_sales\": 4.653960350157523}, {\"total_sales_normalized\": 1549.93, \"item_A_sales\": 845.18, \"item_B_sales\": 357.9, \"item_C_sales\": 276.0, \"hours_opened\": 11, \"is_long_weekend\": false, \"is_HCF\": false, \"type_of_day\": \"Weekday\", \"has_pop_up\": false, \"rain\": 0.0, \"snow\": 0.0, \"avg_cloud_cover_8\": 4.0, \"avg_temperature\": 4.8, \"season\": \"Winter\", \"log_total_sales_normalized\": 7.345965047603168, \"log_item_A_sales\": 6.739549622423593, \"log_item_B_sales\": 5.88025361777198, \"log_item_C_sales\": 5.62040086571715}, {\"total_sales_normalized\": 1451.87, \"item_A_sales\": 656.98, \"item_B_sales\": 454.8, \"item_C_sales\": 139.5, \"hours_opened\": 11, \"is_long_weekend\": false, \"is_HCF\": false, \"type_of_day\": \"Weekday\", \"has_pop_up\": false, \"rain\": 0.8, \"snow\": 0.0, \"avg_cloud_cover_8\": 4.0, \"avg_temperature\": 3.15, \"season\": \"Winter\", \"log_total_sales_normalized\": 7.2806076596961, \"log_item_A_sales\": 6.487653576620957, \"log_item_B_sales\": 6.119857761876381, \"log_item_C_sales\": 4.93806460126142}, {\"total_sales_normalized\": 2390.35, \"item_A_sales\": 1052.21, \"item_B_sales\": 873.74, \"item_C_sales\": 247.25, \"hours_opened\": 12, \"is_long_weekend\": false, \"is_HCF\": false, \"type_of_day\": \"Friday\", \"has_pop_up\": false, \"rain\": 11.0, \"snow\": 0.0, \"avg_cloud_cover_8\": 7.5, \"avg_temperature\": 6.25, \"season\": \"Winter\", \"log_total_sales_normalized\": 7.779195077718396, \"log_item_A_sales\": 6.958647993148142, \"log_item_B_sales\": 6.77278284856121, \"log_item_C_sales\": 5.510399970502822}, {\"total_sales_normalized\": 2607.51, \"item_A_sales\": 1200.69, \"item_B_sales\": 966.7, \"item_C_sales\": 260.0, \"hours_opened\": 12, \"is_long_weekend\": false, \"is_HCF\": false, \"type_of_day\": \"Weekend\", \"has_pop_up\": false, \"rain\": 2.7, \"snow\": 0.0, \"avg_cloud_cover_8\": 6.0, \"avg_temperature\": 7.4, \"season\": \"Winter\", \"log_total_sales_normalized\": 7.8661510219586575, \"log_item_A_sales\": 7.090651670526934, \"log_item_B_sales\": 6.87388820947056, \"log_item_C_sales\": 5.560681631015528}, {\"total_sales_normalized\": 3699.7, \"item_A_sales\": 1807.04, \"item_B_sales\": 1245.71, \"item_C_sales\": 244.5, \"hours_opened\": 12, \"is_long_weekend\": false, \"is_HCF\": false, \"type_of_day\": \"Weekend\", \"has_pop_up\": false, \"rain\": 0.0, \"snow\": 0.0, \"avg_cloud_cover_8\": 4.5, \"avg_temperature\": 5.5, \"season\": \"Winter\", \"log_total_sales_normalized\": 8.216007014263987, \"log_item_A_sales\": 7.499445426484471, \"log_item_B_sales\": 7.1274609274748215, \"log_item_C_sales\": 5.499215308914927}, {\"total_sales_normalized\": 1492.34, \"item_A_sales\": 666.27, \"item_B_sales\": 511.1, \"item_C_sales\": 91.75, \"hours_opened\": 11, \"is_long_weekend\": false, \"is_HCF\": false, \"type_of_day\": \"Weekday\", \"has_pop_up\": false, \"rain\": 4.2, \"snow\": 0.0, \"avg_cloud_cover_8\": 7.5, \"avg_temperature\": 4.25, \"season\": \"Winter\", \"log_total_sales_normalized\": 7.308100636840072, \"log_item_A_sales\": 6.501694993791227, \"log_item_B_sales\": 6.236565265774234, \"log_item_C_sales\": 4.51906748693468}, {\"total_sales_normalized\": 1797.37, \"item_A_sales\": 907.09, \"item_B_sales\": 614.9, \"item_C_sales\": 130.5, \"hours_opened\": 11, \"is_long_weekend\": false, \"is_HCF\": false, \"type_of_day\": \"Weekday\", \"has_pop_up\": false, \"rain\": 22.7, \"snow\": 0.0, \"avg_cloud_cover_8\": 8.0, \"avg_temperature\": 5.8, \"season\": \"Winter\", \"log_total_sales_normalized\": 7.494079764309416, \"log_item_A_sales\": 6.810241673417259, \"log_item_B_sales\": 6.421459652959424, \"log_item_C_sales\": 4.871373226762748}, {\"total_sales_normalized\": 1694.49, \"item_A_sales\": 698.42, \"item_B_sales\": 626.8, \"item_C_sales\": 162.5, \"hours_opened\": 11, \"is_long_weekend\": false, \"is_HCF\": false, \"type_of_day\": \"Weekday\", \"has_pop_up\": false, \"rain\": 27.8, \"snow\": 0.0, \"avg_cloud_cover_8\": 5.5, \"avg_temperature\": 8.5, \"season\": \"Winter\", \"log_total_sales_normalized\": 7.435137089583838, \"log_item_A_sales\": 6.548820640999671, \"log_item_B_sales\": 6.440627510481866, \"log_item_C_sales\": 5.090678001769792}, {\"total_sales_normalized\": 1690.09, \"item_A_sales\": 702.78, \"item_B_sales\": 610.21, \"item_C_sales\": 181.93, \"hours_opened\": 11, \"is_long_weekend\": false, \"is_HCF\": false, \"type_of_day\": \"Weekday\", \"has_pop_up\": false, \"rain\": 7.8, \"snow\": 0.0, \"avg_cloud_cover_8\": 6.0, \"avg_temperature\": 7.7, \"season\": \"Winter\", \"log_total_sales_normalized\": 7.432537060937022, \"log_item_A_sales\": 6.5550438983098385, \"log_item_B_sales\": 6.413803160217772, \"log_item_C_sales\": 5.203621997708712}, {\"total_sales_normalized\": 2475.9, \"item_A_sales\": 1127.57, \"item_B_sales\": 903.99, \"item_C_sales\": 248.5, \"hours_opened\": 12, \"is_long_weekend\": false, \"is_HCF\": false, \"type_of_day\": \"Friday\", \"has_pop_up\": false, \"rain\": 2.3, \"snow\": 0.0, \"avg_cloud_cover_8\": 4.5, \"avg_temperature\": 9.55, \"season\": \"Winter\", \"log_total_sales_normalized\": 7.814359245266748, \"log_item_A_sales\": 7.027820153706892, \"log_item_B_sales\": 6.80681829838409, \"log_item_C_sales\": 5.5154428455366835}, {\"total_sales_normalized\": 2607.97, \"item_A_sales\": 1168.18, \"item_B_sales\": 954.16, \"item_C_sales\": 259.56, \"hours_opened\": 12, \"is_long_weekend\": false, \"is_HCF\": false, \"type_of_day\": \"Weekend\", \"has_pop_up\": false, \"rain\": 5.8, \"snow\": 0.0, \"avg_cloud_cover_8\": 4.5, \"avg_temperature\": 7.15, \"season\": \"Winter\", \"log_total_sales_normalized\": 7.866327419912898, \"log_item_A_sales\": 7.063202261103551, \"log_item_B_sales\": 6.860831372270414, \"log_item_C_sales\": 5.558987889752967}, {\"total_sales_normalized\": 3281.45, \"item_A_sales\": 1366.19, \"item_B_sales\": 1349.1, \"item_C_sales\": 229.0, \"hours_opened\": 12, \"is_long_weekend\": false, \"is_HCF\": false, \"type_of_day\": \"Weekend\", \"has_pop_up\": false, \"rain\": 6.2, \"snow\": 0.0, \"avg_cloud_cover_8\": 6.0, \"avg_temperature\": 7.8, \"season\": \"Winter\", \"log_total_sales_normalized\": 8.096040676863366, \"log_item_A_sales\": 7.219781122698424, \"log_item_B_sales\": 7.207192982444771, \"log_item_C_sales\": 5.43372200355424}, {\"total_sales_normalized\": 2441.55, \"item_A_sales\": 843.2, \"item_B_sales\": 1126.1, \"item_C_sales\": 241.0, \"hours_opened\": 11, \"is_long_weekend\": false, \"is_HCF\": false, \"type_of_day\": \"Weekday\", \"has_pop_up\": false, \"rain\": 0.0, \"snow\": 0.0, \"avg_cloud_cover_8\": 5.0, \"avg_temperature\": 9.05, \"season\": \"Winter\", \"log_total_sales_normalized\": 7.800388362505617, \"log_item_A_sales\": 6.737204177787098, \"log_item_B_sales\": 7.02651561470298, \"log_item_C_sales\": 5.484796933490655}, {\"total_sales_normalized\": 699.06, \"item_A_sales\": 375.55, \"item_B_sales\": 189.8, \"item_C_sales\": 54.5, \"hours_opened\": 5, \"is_long_weekend\": false, \"is_HCF\": false, \"type_of_day\": \"Weekday\", \"has_pop_up\": false, \"rain\": 5.7, \"snow\": 0.0, \"avg_cloud_cover_8\": 6.0, \"avg_temperature\": 8.5, \"season\": \"Winter\", \"log_total_sales_normalized\": 6.549736575459905, \"log_item_A_sales\": 5.928391618132021, \"log_item_B_sales\": 5.245970886175828, \"log_item_C_sales\": 3.9982007016691985}, {\"total_sales_normalized\": 2880.19, \"item_A_sales\": 1702.26, \"item_B_sales\": 632.33, \"item_C_sales\": 353.88, \"hours_opened\": 11, \"is_long_weekend\": false, \"is_HCF\": false, \"type_of_day\": \"Holiday\", \"has_pop_up\": false, \"rain\": 15.4, \"snow\": 0.0, \"avg_cloud_cover_8\": 6.5, \"avg_temperature\": 6.5, \"season\": \"Winter\", \"log_total_sales_normalized\": 7.965611543176142, \"log_item_A_sales\": 7.439712058923585, \"log_item_B_sales\": 6.449411409771724, \"log_item_C_sales\": 5.868957872615185}, {\"total_sales_normalized\": 2871.96, \"item_A_sales\": 1347.38, \"item_B_sales\": 966.68, \"item_C_sales\": 247.5, \"hours_opened\": 11, \"is_long_weekend\": false, \"is_HCF\": false, \"type_of_day\": \"Holiday\", \"has_pop_up\": false, \"rain\": 29.3, \"snow\": 0.0, \"avg_cloud_cover_8\": 5.0, \"avg_temperature\": 6.2, \"season\": \"Winter\", \"log_total_sales_normalized\": 7.9627500024945235, \"log_item_A_sales\": 7.205917245014287, \"log_item_B_sales\": 6.87386752031478, \"log_item_C_sales\": 5.511410582008745}, {\"total_sales_normalized\": 2842.37, \"item_A_sales\": 1353.72, \"item_B_sales\": 1037.65, \"item_C_sales\": 231.5, \"hours_opened\": 12, \"is_long_weekend\": false, \"is_HCF\": false, \"type_of_day\": \"Friday\", \"has_pop_up\": false, \"rain\": 5.0, \"snow\": 0.0, \"avg_cloud_cover_8\": 6.0, \"avg_temperature\": 6.75, \"season\": \"Winter\", \"log_total_sales_normalized\": 7.9523934901901, \"log_item_A_sales\": 7.2106116374048295, \"log_item_B_sales\": 6.944713819967669, \"log_item_C_sales\": 5.444579873526289}, {\"total_sales_normalized\": 3382.71, \"item_A_sales\": 1453.77, \"item_B_sales\": 1365.3, \"item_C_sales\": 294.4, \"hours_opened\": 12, \"is_long_weekend\": false, \"is_HCF\": false, \"type_of_day\": \"Weekend\", \"has_pop_up\": true, \"rain\": 7.1, \"snow\": 0.0, \"avg_cloud_cover_8\": 6.0, \"avg_temperature\": 8.55, \"season\": \"Winter\", \"log_total_sales_normalized\": 8.126432442375002, \"log_item_A_sales\": 7.281915461261886, \"log_item_B_sales\": 7.219129463690706, \"log_item_C_sales\": 5.684939386854721}, {\"total_sales_normalized\": 3201.55, \"item_A_sales\": 1457.78, \"item_B_sales\": 1233.36, \"item_C_sales\": 273.78, \"hours_opened\": 12, \"is_long_weekend\": false, \"is_HCF\": false, \"type_of_day\": \"Weekend\", \"has_pop_up\": true, \"rain\": 8.1, \"snow\": 0.0, \"avg_cloud_cover_8\": 5.0, \"avg_temperature\": 5.09, \"season\": \"Winter\", \"log_total_sales_normalized\": 8.071390346516115, \"log_item_A_sales\": 7.2846700095509425, \"log_item_B_sales\": 7.117497431352084, \"log_item_C_sales\": 5.612324864167366}, {\"total_sales_normalized\": 2653.84, \"item_A_sales\": 1149.88, \"item_B_sales\": 1059.9, \"item_C_sales\": 236.0, \"hours_opened\": 11, \"is_long_weekend\": false, \"is_HCF\": false, \"type_of_day\": \"Weekday\", \"has_pop_up\": false, \"rain\": 10.7, \"snow\": 0.0, \"avg_cloud_cover_8\": 6.5, \"avg_temperature\": 4.25, \"season\": \"Winter\", \"log_total_sales_normalized\": 7.883762926714646, \"log_item_A_sales\": 7.047412868086596, \"log_item_B_sales\": 6.9659298430332095, \"log_item_C_sales\": 5.4638318050256105}, {\"total_sales_normalized\": 1141.59, \"item_A_sales\": 545.32, \"item_B_sales\": 298.6, \"item_C_sales\": 119.5, \"hours_opened\": 5, \"is_long_weekend\": false, \"is_HCF\": false, \"type_of_day\": \"Weekday\", \"has_pop_up\": false, \"rain\": 1.4, \"snow\": 0.0, \"avg_cloud_cover_8\": 7.5, \"avg_temperature\": 4.95, \"season\": \"Winter\", \"log_total_sales_normalized\": 7.040177306488662, \"log_item_A_sales\": 6.301372778317929, \"log_item_B_sales\": 5.69910488510509, \"log_item_C_sales\": 4.783316371371566}, {\"total_sales_normalized\": 3529.34, \"item_A_sales\": 1827.97, \"item_B_sales\": 1091.4, \"item_C_sales\": 312.0, \"hours_opened\": 11, \"is_long_weekend\": false, \"is_HCF\": false, \"type_of_day\": \"Holiday\", \"has_pop_up\": false, \"rain\": 0.0, \"snow\": 0.0, \"avg_cloud_cover_8\": 6.0, \"avg_temperature\": 3.3, \"season\": \"Winter\", \"log_total_sales_normalized\": 8.168866163607964, \"log_item_A_sales\": 7.510961340500871, \"log_item_B_sales\": 6.995216554752131, \"log_item_C_sales\": 5.7430031878094825}, {\"total_sales_normalized\": 2529.7, \"item_A_sales\": 1234.43, \"item_B_sales\": 849.64, \"item_C_sales\": 293.5, \"hours_opened\": 11, \"is_long_weekend\": false, \"is_HCF\": false, \"type_of_day\": \"Weekday\", \"has_pop_up\": false, \"rain\": 5.0, \"snow\": 0.0, \"avg_cloud_cover_8\": 7.5, \"avg_temperature\": 2.6, \"season\": \"Winter\", \"log_total_sales_normalized\": 7.83585599761565, \"log_item_A_sales\": 7.11836460405888, \"log_item_B_sales\": 6.744812730358684, \"log_item_C_sales\": 5.681877639268151}, {\"total_sales_normalized\": 2924.14, \"item_A_sales\": 1257.8, \"item_B_sales\": 1115.0, \"item_C_sales\": 293.0, \"hours_opened\": 12, \"is_long_weekend\": false, \"is_HCF\": false, \"type_of_day\": \"Friday\", \"has_pop_up\": false, \"rain\": 5.9, \"snow\": 0.0, \"avg_cloud_cover_8\": 7.5, \"avg_temperature\": 3.5, \"season\": \"Winter\", \"log_total_sales_normalized\": 7.98075569934044, \"log_item_A_sales\": 7.137119442109403, \"log_item_B_sales\": 7.016609683894219, \"log_item_C_sales\": 5.680172609017068}, {\"total_sales_normalized\": 3395.08, \"item_A_sales\": 1481.27, \"item_B_sales\": 1327.61, \"item_C_sales\": 328.25, \"hours_opened\": 12, \"is_long_weekend\": false, \"is_HCF\": false, \"type_of_day\": \"Weekend\", \"has_pop_up\": false, \"rain\": 6.9, \"snow\": 0.0, \"avg_cloud_cover_8\": 7.5, \"avg_temperature\": 5.9, \"season\": \"Winter\", \"log_total_sales_normalized\": 8.13008260377997, \"log_item_A_sales\": 7.300655106901993, \"log_item_B_sales\": 7.191135612206725, \"log_item_C_sales\": 5.793775513182905}, {\"total_sales_normalized\": 3496.78, \"item_A_sales\": 1687.07, \"item_B_sales\": 1244.05, \"item_C_sales\": 248.36, \"hours_opened\": 12, \"is_long_weekend\": false, \"is_HCF\": false, \"type_of_day\": \"Weekend\", \"has_pop_up\": false, \"rain\": 2.2, \"snow\": 0.0, \"avg_cloud_cover_8\": 4.0, \"avg_temperature\": 4.69, \"season\": \"Winter\", \"log_total_sales_normalized\": 8.159597824017764, \"log_item_A_sales\": 7.430748575461059, \"log_item_B_sales\": 7.126127465417456, \"log_item_C_sales\": 5.514879306496692}, {\"total_sales_normalized\": 1852.54, \"item_A_sales\": 790.78, \"item_B_sales\": 681.2, \"item_C_sales\": 130.0, \"hours_opened\": 11, \"is_long_weekend\": false, \"is_HCF\": false, \"type_of_day\": \"Weekday\", \"has_pop_up\": false, \"rain\": 0.0, \"snow\": 0.0, \"avg_cloud_cover_8\": 4.0, \"avg_temperature\": 2.8, \"season\": \"Winter\", \"log_total_sales_normalized\": 7.524312949379773, \"log_item_A_sales\": 6.673019800131929, \"log_item_B_sales\": 6.523855948788533, \"log_item_C_sales\": 4.867534450455582}, {\"total_sales_normalized\": 1011.7, \"item_A_sales\": 467.29, \"item_B_sales\": 455.7, \"item_C_sales\": 46.5, \"hours_opened\": 11, \"is_long_weekend\": false, \"is_HCF\": false, \"type_of_day\": \"Weekday\", \"has_pop_up\": false, \"rain\": 1.3, \"snow\": 0.0, \"avg_cloud_cover_8\": 4.0, \"avg_temperature\": 3.75, \"season\": \"Winter\", \"log_total_sales_normalized\": 6.919387363211845, \"log_item_A_sales\": 6.146950049948197, \"log_item_B_sales\": 6.121834698269836, \"log_item_C_sales\": 3.8394523125933104}, {\"total_sales_normalized\": 1600.36, \"item_A_sales\": 727.53, \"item_B_sales\": 609.31, \"item_C_sales\": 89.0, \"hours_opened\": 11, \"is_long_weekend\": false, \"is_HCF\": false, \"type_of_day\": \"Weekday\", \"has_pop_up\": false, \"rain\": 0.0, \"snow\": 0.0, \"avg_cloud_cover_8\": 4.0, \"avg_temperature\": 3.8, \"season\": \"Winter\", \"log_total_sales_normalized\": 7.377983882919168, \"log_item_A_sales\": 6.589655235308824, \"log_item_B_sales\": 6.412327169396152, \"log_item_C_sales\": 4.48863636973214}, {\"total_sales_normalized\": 1524.13, \"item_A_sales\": 724.28, \"item_B_sales\": 609.9, \"item_C_sales\": 89.5, \"hours_opened\": 11, \"is_long_weekend\": false, \"is_HCF\": false, \"type_of_day\": \"Weekday\", \"has_pop_up\": false, \"rain\": 0.0, \"snow\": 0.0, \"avg_cloud_cover_8\": 4.0, \"avg_temperature\": 3.9, \"season\": \"Winter\", \"log_total_sales_normalized\": 7.329179034445867, \"log_item_A_sales\": 6.585178057952442, \"log_item_B_sales\": 6.413295009302411, \"log_item_C_sales\": 4.4942386252808095}, {\"total_sales_normalized\": 2637.81, \"item_A_sales\": 1121.85, \"item_B_sales\": 1011.3, \"item_C_sales\": 242.0, \"hours_opened\": 12, \"is_long_weekend\": false, \"is_HCF\": false, \"type_of_day\": \"Friday\", \"has_pop_up\": false, \"rain\": 8.6, \"snow\": 0.0, \"avg_cloud_cover_8\": 4.5, \"avg_temperature\": 7.15, \"season\": \"Winter\", \"log_total_sales_normalized\": 7.877704306422585, \"log_item_A_sales\": 7.022734387305786, \"log_item_B_sales\": 6.918991910908125, \"log_item_C_sales\": 5.488937726156687}, {\"total_sales_normalized\": 4173.16, \"item_A_sales\": 1726.09, \"item_B_sales\": 1702.3, \"item_C_sales\": 420.5, \"hours_opened\": 12, \"is_long_weekend\": false, \"is_HCF\": false, \"type_of_day\": \"Weekend\", \"has_pop_up\": false, \"rain\": 0.0, \"snow\": 0.0, \"avg_cloud_cover_8\": 5.5, \"avg_temperature\": 4.3, \"season\": \"Winter\", \"log_total_sales_normalized\": 8.336428821577112, \"log_item_A_sales\": 7.453614013968759, \"log_item_B_sales\": 7.439735556820525, \"log_item_C_sales\": 6.041444479413003}, {\"total_sales_normalized\": 3604.35, \"item_A_sales\": 1652.88, \"item_B_sales\": 1340.6, \"item_C_sales\": 303.0, \"hours_opened\": 11, \"is_long_weekend\": false, \"is_HCF\": false, \"type_of_day\": \"Weekend\", \"has_pop_up\": false, \"rain\": 3.2, \"snow\": 0.0, \"avg_cloud_cover_8\": 4.0, \"avg_temperature\": 3.6, \"season\": \"Winter\", \"log_total_sales_normalized\": 8.189896728330364, \"log_item_A_sales\": 7.410274499904553, \"log_item_B_sales\": 7.200872553923857, \"log_item_C_sales\": 5.713732805509369}, {\"total_sales_normalized\": 1217.62, \"item_A_sales\": 600.66, \"item_B_sales\": 323.3, \"item_C_sales\": 132.5, \"hours_opened\": 11, \"is_long_weekend\": false, \"is_HCF\": false, \"type_of_day\": \"Weekday\", \"has_pop_up\": false, \"rain\": 0.0, \"snow\": 0.0, \"avg_cloud_cover_8\": 4.0, \"avg_temperature\": 1.7, \"season\": \"Winter\", \"log_total_sales_normalized\": 7.104653412728105, \"log_item_A_sales\": 6.3980290506594475, \"log_item_B_sales\": 5.778580684731388, \"log_item_C_sales\": 4.886582645426277}, {\"total_sales_normalized\": 1184.45, \"item_A_sales\": 579.86, \"item_B_sales\": 366.8, \"item_C_sales\": 118.5, \"hours_opened\": 11, \"is_long_weekend\": false, \"is_HCF\": false, \"type_of_day\": \"Weekday\", \"has_pop_up\": false, \"rain\": 0.0, \"snow\": 0.0, \"avg_cloud_cover_8\": 4.0, \"avg_temperature\": 3.45, \"season\": \"Winter\", \"log_total_sales_normalized\": 7.077033810804136, \"log_item_A_sales\": 6.362786695093446, \"log_item_B_sales\": 5.9048167403823095, \"log_item_C_sales\": 4.774912960575186}, {\"total_sales_normalized\": 1817.68, \"item_A_sales\": 849.43, \"item_B_sales\": 571.4, \"item_C_sales\": 160.5, \"hours_opened\": 11, \"is_long_weekend\": false, \"is_HCF\": false, \"type_of_day\": \"Weekday\", \"has_pop_up\": false, \"rain\": 0.0, \"snow\": 0.0, \"avg_cloud_cover_8\": 4.0, \"avg_temperature\": 2.59, \"season\": \"Winter\", \"log_total_sales_normalized\": 7.505316241642748, \"log_item_A_sales\": 6.744565536304208, \"log_item_B_sales\": 6.348089489796672, \"log_item_C_sales\": 5.07829394257007}, {\"total_sales_normalized\": 1802.99, \"item_A_sales\": 860.57, \"item_B_sales\": 694.0, \"item_C_sales\": 127.0, \"hours_opened\": 11, \"is_long_weekend\": false, \"is_HCF\": false, \"type_of_day\": \"Weekday\", \"has_pop_up\": false, \"rain\": 0.4, \"snow\": 0.0, \"avg_cloud_cover_8\": 4.0, \"avg_temperature\": 4.3, \"season\": \"Winter\", \"log_total_sales_normalized\": 7.497201676876234, \"log_item_A_sales\": 6.757594960396478, \"log_item_B_sales\": 6.542471960506805, \"log_item_C_sales\": 4.844187086458591}, {\"total_sales_normalized\": 2936.36, \"item_A_sales\": 1042.06, \"item_B_sales\": 1357.4, \"item_C_sales\": 198.0, \"hours_opened\": 12, \"is_long_weekend\": false, \"is_HCF\": false, \"type_of_day\": \"Friday\", \"has_pop_up\": false, \"rain\": 0.0, \"snow\": 0.0, \"avg_cloud_cover_8\": 3.5, \"avg_temperature\": 1.95, \"season\": \"Winter\", \"log_total_sales_normalized\": 7.9849259980215175, \"log_item_A_sales\": 6.948954802229453, \"log_item_B_sales\": 7.213326384269658, \"log_item_C_sales\": 5.288267030694535}, {\"total_sales_normalized\": 5112.13, \"item_A_sales\": 2365.66, \"item_B_sales\": 1571.9, \"item_C_sales\": 346.0, \"hours_opened\": 12, \"is_long_weekend\": false, \"is_HCF\": true, \"type_of_day\": \"Weekend\", \"has_pop_up\": false, \"rain\": 0.0, \"snow\": 0.0, \"avg_cloud_cover_8\": 4.0, \"avg_temperature\": 0.7, \"season\": \"Winter\", \"log_total_sales_normalized\": 8.539371426093963, \"log_item_A_sales\": 7.768812331760751, \"log_item_B_sales\": 7.360040357734192, \"log_item_C_sales\": 5.846438775057725}, {\"total_sales_normalized\": 3828.85, \"item_A_sales\": 1655.37, \"item_B_sales\": 1106.2, \"item_C_sales\": 321.0, \"hours_opened\": 11, \"is_long_weekend\": false, \"is_HCF\": true, \"type_of_day\": \"Weekend\", \"has_pop_up\": false, \"rain\": 0.0, \"snow\": 0.0, \"avg_cloud_cover_8\": 0.5, \"avg_temperature\": 0.85, \"season\": \"Winter\", \"log_total_sales_normalized\": 8.250319775990697, \"log_item_A_sales\": 7.4117798277789255, \"log_item_B_sales\": 7.008685997560578, \"log_item_C_sales\": 5.771441123130016}, {\"total_sales_normalized\": 2246.39, \"item_A_sales\": 872.5, \"item_B_sales\": 757.3, \"item_C_sales\": 166.5, \"hours_opened\": 11, \"is_long_weekend\": false, \"is_HCF\": true, \"type_of_day\": \"Weekday\", \"has_pop_up\": false, \"rain\": 0.0, \"snow\": 0.0, \"avg_cloud_cover_8\": 4.0, \"avg_temperature\": 0.45, \"season\": \"Winter\", \"log_total_sales_normalized\": 7.717079762254632, \"log_item_A_sales\": 6.771362654076582, \"log_item_B_sales\": 6.629759476119777, \"log_item_C_sales\": 5.1149953094204985}, {\"total_sales_normalized\": 1865.18, \"item_A_sales\": 610.4, \"item_B_sales\": 597.1, \"item_C_sales\": 158.5, \"hours_opened\": 11, \"is_long_weekend\": false, \"is_HCF\": true, \"type_of_day\": \"Weekday\", \"has_pop_up\": false, \"rain\": 0.0, \"snow\": 0.0, \"avg_cloud_cover_8\": 4.5, \"avg_temperature\": 0.95, \"season\": \"Winter\", \"log_total_sales_normalized\": 7.531112842165976, \"log_item_A_sales\": 6.414114479970247, \"log_item_B_sales\": 6.392084603552947, \"log_item_C_sales\": 5.065754593317335}, {\"total_sales_normalized\": 1974.9, \"item_A_sales\": 887.8, \"item_B_sales\": 515.0, \"item_C_sales\": 183.5, \"hours_opened\": 11, \"is_long_weekend\": false, \"is_HCF\": true, \"type_of_day\": \"Weekday\", \"has_pop_up\": false, \"rain\": 0.0, \"snow\": 0.0, \"avg_cloud_cover_8\": 5.0, \"avg_temperature\": 1.6, \"season\": \"Winter\", \"log_total_sales_normalized\": 7.588273043141941, \"log_item_A_sales\": 6.788746492399935, \"log_item_B_sales\": 6.244166900663736, \"log_item_C_sales\": 5.212214667494625}, {\"total_sales_normalized\": 1953.38, \"item_A_sales\": 940.27, \"item_B_sales\": 590.2, \"item_C_sales\": 90.0, \"hours_opened\": 11, \"is_long_weekend\": false, \"is_HCF\": true, \"type_of_day\": \"Weekday\", \"has_pop_up\": false, \"rain\": 0.0, \"snow\": 0.0, \"avg_cloud_cover_8\": 4.0, \"avg_temperature\": 0.99, \"season\": \"Winter\", \"log_total_sales_normalized\": 7.577316484402552, \"log_item_A_sales\": 6.846167068062803, \"log_item_B_sales\": 6.380461462508839, \"log_item_C_sales\": 4.499809670330265}, {\"total_sales_normalized\": 2905.74, \"item_A_sales\": 1072.02, \"item_B_sales\": 1136.8, \"item_C_sales\": 173.0, \"hours_opened\": 12, \"is_long_weekend\": false, \"is_HCF\": true, \"type_of_day\": \"Friday\", \"has_pop_up\": false, \"rain\": 0.0, \"snow\": 0.0, \"avg_cloud_cover_8\": 0.5, \"avg_temperature\": 0.89, \"season\": \"Winter\", \"log_total_sales_normalized\": 7.974443370065603, \"log_item_A_sales\": 6.977299998173131, \"log_item_B_sales\": 7.035972576782891, \"log_item_C_sales\": 5.153291594497779}, {\"total_sales_normalized\": 4647.72, \"item_A_sales\": 1876.24, \"item_B_sales\": 1504.6, \"item_C_sales\": 261.5, \"hours_opened\": 12, \"is_long_weekend\": false, \"is_HCF\": true, \"type_of_day\": \"Weekend\", \"has_pop_up\": true, \"rain\": 0.0, \"snow\": 0.0, \"avg_cloud_cover_8\": 4.0, \"avg_temperature\": 0.35, \"season\": \"Winter\", \"log_total_sales_normalized\": 8.444132055753332, \"log_item_A_sales\": 7.537025053153322, \"log_item_B_sales\": 7.316282361126121, \"log_item_C_sales\": 5.566434283504978}, {\"total_sales_normalized\": 4054.78, \"item_A_sales\": 1459.34, \"item_B_sales\": 1315.8, \"item_C_sales\": 281.99, \"hours_opened\": 11, \"is_long_weekend\": false, \"is_HCF\": true, \"type_of_day\": \"Weekend\", \"has_pop_up\": true, \"rain\": 0.0, \"snow\": 0.0, \"avg_cloud_cover_8\": 1.0, \"avg_temperature\": 0.94, \"season\": \"Winter\", \"log_total_sales_normalized\": 8.307651711070314, \"log_item_A_sales\": 7.285739557700289, \"log_item_B_sales\": 7.182200124651898, \"log_item_C_sales\": 5.64187160931645}, {\"total_sales_normalized\": 1838.15, \"item_A_sales\": 576.28, \"item_B_sales\": 565.5, \"item_C_sales\": 113.0, \"hours_opened\": 11, \"is_long_weekend\": false, \"is_HCF\": true, \"type_of_day\": \"Weekday\", \"has_pop_up\": false, \"rain\": 0.0, \"snow\": 0.0, \"avg_cloud_cover_8\": 0.5, \"avg_temperature\": 0.65, \"season\": \"Winter\", \"log_total_sales_normalized\": 7.516514910031818, \"log_item_A_sales\": 6.356593653693272, \"log_item_B_sales\": 6.3377102955561755, \"log_item_C_sales\": 4.727387818712341}, {\"total_sales_normalized\": 1843.35, \"item_A_sales\": 850.97, \"item_B_sales\": 537.8, \"item_C_sales\": 161.0, \"hours_opened\": 11, \"is_long_weekend\": false, \"is_HCF\": true, \"type_of_day\": \"Weekday\", \"has_pop_up\": false, \"rain\": 0.0, \"snow\": 0.0, \"avg_cloud_cover_8\": 1.5, \"avg_temperature\": 0.85, \"season\": \"Winter\", \"log_total_sales_normalized\": 7.519339847398716, \"log_item_A_sales\": 6.746376875308036, \"log_item_B_sales\": 6.287486743834764, \"log_item_C_sales\": 5.081404364984463}, {\"total_sales_normalized\": 1784.74, \"item_A_sales\": 802.0, \"item_B_sales\": 608.0, \"item_C_sales\": 65.0, \"hours_opened\": 11, \"is_long_weekend\": false, \"is_HCF\": true, \"type_of_day\": \"Weekday\", \"has_pop_up\": false, \"rain\": 0.0, \"snow\": 0.0, \"avg_cloud_cover_8\": 4.0, \"avg_temperature\": 1.29, \"season\": \"Winter\", \"log_total_sales_normalized\": 7.487028025341239, \"log_item_A_sales\": 6.687108607866515, \"log_item_B_sales\": 6.410174881966167, \"log_item_C_sales\": 4.174387269895637}, {\"total_sales_normalized\": 1240.82, \"item_A_sales\": 469.77, \"item_B_sales\": 390.61, \"item_C_sales\": 104.5, \"hours_opened\": 11, \"is_long_weekend\": false, \"is_HCF\": true, \"type_of_day\": \"Weekday\", \"has_pop_up\": false, \"rain\": 4.7, \"snow\": 0.0, \"avg_cloud_cover_8\": 8.0, \"avg_temperature\": 3.0, \"season\": \"Winter\", \"log_total_sales_normalized\": 7.1235277303655655, \"log_item_A_sales\": 6.152243213225462, \"log_item_B_sales\": 5.967709619753367, \"log_item_C_sales\": 4.6491870714048655}, {\"total_sales_normalized\": 3088.83, \"item_A_sales\": 1182.46, \"item_B_sales\": 1142.9, \"item_C_sales\": 237.4, \"hours_opened\": 12, \"is_long_weekend\": false, \"is_HCF\": true, \"type_of_day\": \"Friday\", \"has_pop_up\": false, \"rain\": 15.8, \"snow\": 0.0, \"avg_cloud_cover_8\": 4.5, \"avg_temperature\": 5.3, \"season\": \"Winter\", \"log_total_sales_normalized\": 8.035547657412573, \"log_item_A_sales\": 7.075352293155476, \"log_item_B_sales\": 7.041324170903552, \"log_item_C_sales\": 5.469746482175568}, {\"total_sales_normalized\": 4203.32, \"item_A_sales\": 1766.08, \"item_B_sales\": 1487.7, \"item_C_sales\": 344.21, \"hours_opened\": 12, \"is_long_weekend\": false, \"is_HCF\": true, \"type_of_day\": \"Weekend\", \"has_pop_up\": false, \"rain\": 0.0, \"snow\": 0.0, \"avg_cloud_cover_8\": 4.5, \"avg_temperature\": 2.35, \"season\": \"Winter\", \"log_total_sales_normalized\": 8.343629968200178, \"log_item_A_sales\": 7.476517680251137, \"log_item_B_sales\": 7.304986582163198, \"log_item_C_sales\": 5.8412519362316475}, {\"total_sales_normalized\": 2510.41, \"item_A_sales\": 1210.19, \"item_B_sales\": 612.0, \"item_C_sales\": 96.0, \"hours_opened\": 11, \"is_long_weekend\": false, \"is_HCF\": true, \"type_of_day\": \"Weekend\", \"has_pop_up\": false, \"rain\": 1.2, \"snow\": 5.8, \"avg_cloud_cover_8\": 4.5, \"avg_temperature\": 0.5, \"season\": \"Winter\", \"log_total_sales_normalized\": 7.82820136539977, \"log_item_A_sales\": 7.098532651057073, \"log_item_B_sales\": 6.416732282512326, \"log_item_C_sales\": 4.564348191467836}, {\"total_sales_normalized\": 1571.23, \"item_A_sales\": 786.83, \"item_B_sales\": 325.3, \"item_C_sales\": 92.0, \"hours_opened\": 11, \"is_long_weekend\": false, \"is_HCF\": true, \"type_of_day\": \"Weekday\", \"has_pop_up\": false, \"rain\": 0.0, \"snow\": 5.5, \"avg_cloud_cover_8\": 6.0, \"avg_temperature\": -2.25, \"season\": \"Winter\", \"log_total_sales_normalized\": 7.3596140311042735, \"log_item_A_sales\": 6.668012214918663, \"log_item_B_sales\": 5.784747833479305, \"log_item_C_sales\": 4.5217885770490405}, {\"total_sales_normalized\": 1515.46, \"item_A_sales\": 579.81, \"item_B_sales\": 406.3, \"item_C_sales\": 109.0, \"hours_opened\": 11, \"is_long_weekend\": false, \"is_HCF\": true, \"type_of_day\": \"Weekday\", \"has_pop_up\": false, \"rain\": 0.0, \"snow\": 5.0, \"avg_cloud_cover_8\": 4.5, \"avg_temperature\": -3.5, \"season\": \"Winter\", \"log_total_sales_normalized\": 7.323474302220136, \"log_item_A_sales\": 6.362700463665486, \"log_item_B_sales\": 6.007091802993681, \"log_item_C_sales\": 4.6913478822291435}, {\"total_sales_normalized\": 1347.2, \"item_A_sales\": 689.46, \"item_B_sales\": 380.6, \"item_C_sales\": 66.0, \"hours_opened\": 11, \"is_long_weekend\": false, \"is_HCF\": true, \"type_of_day\": \"Weekday\", \"has_pop_up\": false, \"rain\": 0.0, \"snow\": 0.0, \"avg_cloud_cover_8\": 4.5, \"avg_temperature\": -4.95, \"season\": \"Winter\", \"log_total_sales_normalized\": 7.205783643488062, \"log_item_A_sales\": 6.535908682497597, \"log_item_B_sales\": 5.9417489548620495, \"log_item_C_sales\": 4.189654742026425}, {\"total_sales_normalized\": 1730.6, \"item_A_sales\": 784.95, \"item_B_sales\": 357.9, \"item_C_sales\": 112.99, \"hours_opened\": 11, \"is_long_weekend\": false, \"is_HCF\": true, \"type_of_day\": \"Weekday\", \"has_pop_up\": false, \"rain\": 0.0, \"snow\": 0.0, \"avg_cloud_cover_8\": 4.0, \"avg_temperature\": -2.3, \"season\": \"Winter\", \"log_total_sales_normalized\": 7.456223448172638, \"log_item_A_sales\": 6.665620021486326, \"log_item_B_sales\": 5.88025361777198, \"log_item_C_sales\": 4.727299319221155}, {\"total_sales_normalized\": 2477.35, \"item_A_sales\": 1022.19, \"item_B_sales\": 652.5, \"item_C_sales\": 192.0, \"hours_opened\": 12, \"is_long_weekend\": false, \"is_HCF\": true, \"type_of_day\": \"Friday\", \"has_pop_up\": false, \"rain\": 0.0, \"snow\": 0.0, \"avg_cloud_cover_8\": 4.0, \"avg_temperature\": -3.4, \"season\": \"Winter\", \"log_total_sales_normalized\": 7.814944719467089, \"log_item_A_sales\": 6.929702663464962, \"log_item_B_sales\": 6.480811139196849, \"log_item_C_sales\": 5.2574953720277815}, {\"total_sales_normalized\": 3754.69, \"item_A_sales\": 1418.76, \"item_B_sales\": 1294.1, \"item_C_sales\": 208.0, \"hours_opened\": 12, \"is_long_weekend\": false, \"is_HCF\": true, \"type_of_day\": \"Weekend\", \"has_pop_up\": false, \"rain\": 0.0, \"snow\": 0.2, \"avg_cloud_cover_8\": 4.5, \"avg_temperature\": 0.5, \"season\": \"Winter\", \"log_total_sales_normalized\": 8.23076100419904, \"log_item_A_sales\": 7.257538529663022, \"log_item_B_sales\": 7.165570751827624, \"log_item_C_sales\": 5.337538079701318}, {\"total_sales_normalized\": 4066.86, \"item_A_sales\": 1831.72, \"item_B_sales\": 843.3, \"item_C_sales\": 224.5, \"hours_opened\": 11, \"is_long_weekend\": false, \"is_HCF\": true, \"type_of_day\": \"Weekend\", \"has_pop_up\": false, \"rain\": 0.3, \"snow\": 0.0, \"avg_cloud_cover_8\": 4.5, \"avg_temperature\": -0.45, \"season\": \"Winter\", \"log_total_sales_normalized\": 8.310626481906809, \"log_item_A_sales\": 7.513010695125145, \"log_item_B_sales\": 6.737322766580596, \"log_item_C_sales\": 5.413875707182309}, {\"total_sales_normalized\": 1551.91, \"item_A_sales\": 680.6, \"item_B_sales\": 463.6, \"item_C_sales\": 110.5, \"hours_opened\": 11, \"is_long_weekend\": false, \"is_HCF\": true, \"type_of_day\": \"Weekday\", \"has_pop_up\": false, \"rain\": 0.0, \"snow\": 0.0, \"avg_cloud_cover_8\": 4.0, \"avg_temperature\": -1.95, \"season\": \"Winter\", \"log_total_sales_normalized\": 7.347241709370976, \"log_item_A_sales\": 6.522974762066806, \"log_item_B_sales\": 6.1390221114655965, \"log_item_C_sales\": 4.705015520957808}, {\"total_sales_normalized\": 1615.49, \"item_A_sales\": 656.5, \"item_B_sales\": 474.72, \"item_C_sales\": 127.85, \"hours_opened\": 11, \"is_long_weekend\": false, \"is_HCF\": true, \"type_of_day\": \"Weekday\", \"has_pop_up\": false, \"rain\": 0.0, \"snow\": 0.0, \"avg_cloud_cover_8\": 1.5, \"avg_temperature\": -4.2, \"season\": \"Winter\", \"log_total_sales_normalized\": 7.38739359521135, \"log_item_A_sales\": 6.486922693742851, \"log_item_B_sales\": 6.162725156542511, \"log_item_C_sales\": 4.850857701737196}, {\"total_sales_normalized\": 1638.89, \"item_A_sales\": 572.49, \"item_B_sales\": 488.4, \"item_C_sales\": 61.5, \"hours_opened\": 11, \"is_long_weekend\": false, \"is_HCF\": true, \"type_of_day\": \"Weekday\", \"has_pop_up\": false, \"rain\": 0.0, \"snow\": 0.0, \"avg_cloud_cover_8\": 2.0, \"avg_temperature\": -3.3, \"season\": \"Winter\", \"log_total_sales_normalized\": 7.4017744623976185, \"log_item_A_sales\": 6.349995268026932, \"log_item_B_sales\": 6.1911347422365495, \"log_item_C_sales\": 4.119037174812473}, {\"total_sales_normalized\": 1848.05, \"item_A_sales\": 683.53, \"item_B_sales\": 529.91, \"item_C_sales\": 92.0, \"hours_opened\": 11, \"is_long_weekend\": false, \"is_HCF\": true, \"type_of_day\": \"Weekday\", \"has_pop_up\": false, \"rain\": 0.0, \"snow\": 0.0, \"avg_cloud_cover_8\": 4.0, \"avg_temperature\": -2.45, \"season\": \"Winter\", \"log_total_sales_normalized\": 7.521886308112672, \"log_item_A_sales\": 6.527270546934513, \"log_item_B_sales\": 6.272707180805838, \"log_item_C_sales\": 4.5217885770490405}, {\"total_sales_normalized\": 4328.15, \"item_A_sales\": 1687.3, \"item_B_sales\": 1443.2, \"item_C_sales\": 317.0, \"hours_opened\": 12, \"is_long_weekend\": false, \"is_HCF\": true, \"type_of_day\": \"Friday\", \"has_pop_up\": false, \"rain\": 0.0, \"snow\": 0.0, \"avg_cloud_cover_8\": 5.0, \"avg_temperature\": 0.64, \"season\": \"Winter\", \"log_total_sales_normalized\": 8.372895477966408, \"log_item_A_sales\": 7.430884897204292, \"log_item_B_sales\": 7.274618149308359, \"log_item_C_sales\": 5.75890177387728}, {\"total_sales_normalized\": 3511.3, \"item_A_sales\": 1466.07, \"item_B_sales\": 1419.6, \"item_C_sales\": 401.5, \"hours_opened\": 12, \"is_long_weekend\": true, \"is_HCF\": false, \"type_of_day\": \"Weekend\", \"has_pop_up\": false, \"rain\": 3.3, \"snow\": 0.0, \"avg_cloud_cover_8\": 8.0, \"avg_temperature\": 3.3, \"season\": \"Winter\", \"log_total_sales_normalized\": 8.163741618260106, \"log_item_A_sales\": 7.290340630283458, \"log_item_B_sales\": 7.258130420772341, \"log_item_C_sales\": 5.995207533386816}, {\"total_sales_normalized\": 4773.44, \"item_A_sales\": 2025.28, \"item_B_sales\": 1753.7, \"item_C_sales\": 437.0, \"hours_opened\": 11, \"is_long_weekend\": true, \"is_HCF\": false, \"type_of_day\": \"Weekend\", \"has_pop_up\": false, \"rain\": 5.0, \"snow\": 0.0, \"avg_cloud_cover_8\": 8.0, \"avg_temperature\": 4.94, \"season\": \"Winter\", \"log_total_sales_normalized\": 8.470822497965566, \"log_item_A_sales\": 7.61346324158694, \"log_item_B_sales\": 7.469483120675247, \"log_item_C_sales\": 6.07993319509559}, {\"total_sales_normalized\": 3842.33, \"item_A_sales\": 1430.46, \"item_B_sales\": 1703.62, \"item_C_sales\": 314.0, \"hours_opened\": 11, \"is_long_weekend\": true, \"is_HCF\": false, \"type_of_day\": \"Holiday\", \"has_pop_up\": false, \"rain\": 1.9, \"snow\": 0.0, \"avg_cloud_cover_8\": 4.5, \"avg_temperature\": 5.3, \"season\": \"Winter\", \"log_total_sales_normalized\": 8.253834232404115, \"log_item_A_sales\": 7.265751349848252, \"log_item_B_sales\": 7.440510677825181, \"log_item_C_sales\": 5.749392985908253}, {\"total_sales_normalized\": 1910.68, \"item_A_sales\": 739.9, \"item_B_sales\": 764.1, \"item_C_sales\": 212.5, \"hours_opened\": 11, \"is_long_weekend\": false, \"is_HCF\": false, \"type_of_day\": \"Weekday\", \"has_pop_up\": false, \"rain\": 0.3, \"snow\": 0.0, \"avg_cloud_cover_8\": 7.5, \"avg_temperature\": 7.0, \"season\": \"Winter\", \"log_total_sales_normalized\": 7.555214478622666, \"log_item_A_sales\": 6.606515041931505, \"log_item_B_sales\": 6.638698670653521, \"log_item_C_sales\": 5.358941988364472}, {\"total_sales_normalized\": 2021.32, \"item_A_sales\": 955.55, \"item_B_sales\": 663.4, \"item_C_sales\": 148.5, \"hours_opened\": 11, \"is_long_weekend\": false, \"is_HCF\": false, \"type_of_day\": \"Weekday\", \"has_pop_up\": false, \"rain\": 9.6, \"snow\": 0.0, \"avg_cloud_cover_8\": 7.5, \"avg_temperature\": 7.8, \"season\": \"Winter\", \"log_total_sales_normalized\": 7.6115060423262735, \"log_item_A_sales\": 6.8622870909349905, \"log_item_B_sales\": 6.497378126512952, \"log_item_C_sales\": 5.000584958242754}, {\"total_sales_normalized\": 1846.8, \"item_A_sales\": 778.29, \"item_B_sales\": 779.0, \"item_C_sales\": 114.0, \"hours_opened\": 11, \"is_long_weekend\": false, \"is_HCF\": false, \"type_of_day\": \"Weekday\", \"has_pop_up\": false, \"rain\": 0.8, \"snow\": 0.0, \"avg_cloud_cover_8\": 7.5, \"avg_temperature\": 7.65, \"season\": \"Winter\", \"log_total_sales_normalized\": 7.521209690632833, \"log_item_A_sales\": 6.657099205366803, \"log_item_B_sales\": 6.658011045870748, \"log_item_C_sales\": 4.736198448394496}, {\"total_sales_normalized\": 2688.76, \"item_A_sales\": 1122.09, \"item_B_sales\": 1070.6, \"item_C_sales\": 198.5, \"hours_opened\": 12, \"is_long_weekend\": false, \"is_HCF\": false, \"type_of_day\": \"Friday\", \"has_pop_up\": false, \"rain\": 12.9, \"snow\": 0.0, \"avg_cloud_cover_8\": 8.0, \"avg_temperature\": 7.1, \"season\": \"Winter\", \"log_total_sales_normalized\": 7.896835399775395, \"log_item_A_sales\": 7.022948296769422, \"log_item_B_sales\": 6.975974517959281, \"log_item_C_sales\": 5.290789100127245}, {\"total_sales_normalized\": 3841.2, \"item_A_sales\": 1336.57, \"item_B_sales\": 1620.4, \"item_C_sales\": 418.5, \"hours_opened\": 12, \"is_long_weekend\": false, \"is_HCF\": false, \"type_of_day\": \"Weekend\", \"has_pop_up\": false, \"rain\": 14.2, \"snow\": 0.0, \"avg_cloud_cover_8\": 8.0, \"avg_temperature\": 9.19, \"season\": \"Winter\", \"log_total_sales_normalized\": 8.253540096763818, \"log_item_A_sales\": 7.197861909815351, \"log_item_B_sales\": 7.390428311328535, \"log_item_C_sales\": 6.03667688992953}, {\"total_sales_normalized\": 3442.4, \"item_A_sales\": 1436.26, \"item_B_sales\": 1358.3, \"item_C_sales\": 282.0, \"hours_opened\": 11, \"is_long_weekend\": false, \"is_HCF\": false, \"type_of_day\": \"Weekend\", \"has_pop_up\": false, \"rain\": 9.8, \"snow\": 0.0, \"avg_cloud_cover_8\": 4.5, \"avg_temperature\": 8.85, \"season\": \"Winter\", \"log_total_sales_normalized\": 8.14392418152439, \"log_item_A_sales\": 7.26979779171488, \"log_item_B_sales\": 7.213989196828445, \"log_item_C_sales\": 5.641907070938114}, {\"total_sales_normalized\": 1583.27, \"item_A_sales\": 686.67, \"item_B_sales\": 568.4, \"item_C_sales\": 159.0, \"hours_opened\": 11, \"is_long_weekend\": false, \"is_HCF\": false, \"type_of_day\": \"Weekday\", \"has_pop_up\": false, \"rain\": 4.0, \"snow\": 0.0, \"avg_cloud_cover_8\": 5.5, \"avg_temperature\": 8.64, \"season\": \"Winter\", \"log_total_sales_normalized\": 7.3672476075605555, \"log_item_A_sales\": 6.531853827472666, \"log_item_B_sales\": 6.3428253962229455, \"log_item_C_sales\": 5.0689042022202315}, {\"total_sales_normalized\": 1354.46, \"item_A_sales\": 580.72, \"item_B_sales\": 552.71, \"item_C_sales\": 126.35, \"hours_opened\": 11, \"is_long_weekend\": false, \"is_HCF\": false, \"type_of_day\": \"Weekday\", \"has_pop_up\": false, \"rain\": 15.6, \"snow\": 0.0, \"avg_cloud_cover_8\": 7.5, \"avg_temperature\": 7.85, \"season\": \"Winter\", \"log_total_sales_normalized\": 7.2111581298967735, \"log_item_A_sales\": 6.364268712976585, \"log_item_B_sales\": 6.314833451673551, \"log_item_C_sales\": 4.839055833834204}, {\"total_sales_normalized\": 1936.66, \"item_A_sales\": 781.19, \"item_B_sales\": 722.52, \"item_C_sales\": 186.5, \"hours_opened\": 11, \"is_long_weekend\": false, \"is_HCF\": false, \"type_of_day\": \"Weekday\", \"has_pop_up\": false, \"rain\": 0.0, \"snow\": 0.0, \"avg_cloud_cover_8\": 4.0, \"avg_temperature\": 8.35, \"season\": \"Winter\", \"log_total_sales_normalized\": 7.568720118831131, \"log_item_A_sales\": 6.66081839810134, \"log_item_B_sales\": 6.582745101264357, \"log_item_C_sales\": 5.2284312390838705}, {\"total_sales_normalized\": 1764.67, \"item_A_sales\": 524.09, \"item_B_sales\": 859.1, \"item_C_sales\": 197.5, \"hours_opened\": 11, \"is_long_weekend\": false, \"is_HCF\": false, \"type_of_day\": \"Weekday\", \"has_pop_up\": false, \"rain\": 0.0, \"snow\": 0.0, \"avg_cloud_cover_8\": 4.0, \"avg_temperature\": 9.3, \"season\": \"Winter\", \"log_total_sales_normalized\": 7.475718983048018, \"log_item_A_sales\": 6.2616634252979075, \"log_item_B_sales\": 6.755885329644011, \"log_item_C_sales\": 5.285738584341177}, {\"total_sales_normalized\": 3581.06, \"item_A_sales\": 1321.26, \"item_B_sales\": 1593.22, \"item_C_sales\": 261.46, \"hours_opened\": 12, \"is_long_weekend\": false, \"is_HCF\": false, \"type_of_day\": \"Friday\", \"has_pop_up\": false, \"rain\": 0.0, \"snow\": 0.0, \"avg_cloud_cover_8\": 5.0, \"avg_temperature\": 8.44, \"season\": \"Winter\", \"log_total_sales_normalized\": 8.183414124954409, \"log_item_A_sales\": 7.1863411057461555, \"log_item_B_sales\": 7.373512404580441, \"log_item_C_sales\": 5.566281308133714}, {\"total_sales_normalized\": 4429.28, \"item_A_sales\": 1675.15, \"item_B_sales\": 1909.32, \"item_C_sales\": 357.25, \"hours_opened\": 12, \"is_long_weekend\": false, \"is_HCF\": false, \"type_of_day\": \"Weekend\", \"has_pop_up\": true, \"rain\": 0.0, \"snow\": 0.0, \"avg_cloud_cover_8\": 4.5, \"avg_temperature\": 7.05, \"season\": \"Spring\", \"log_total_sales_normalized\": 8.395992321613335, \"log_item_A_sales\": 7.42365799248841, \"log_item_B_sales\": 7.554502436707765, \"log_item_C_sales\": 5.878435816809977}, {\"total_sales_normalized\": 4442.65, \"item_A_sales\": 1867.3, \"item_B_sales\": 1711.62, \"item_C_sales\": 323.5, \"hours_opened\": 11, \"is_long_weekend\": false, \"is_HCF\": false, \"type_of_day\": \"Weekend\", \"has_pop_up\": true, \"rain\": 0.0, \"snow\": 0.0, \"avg_cloud_cover_8\": 4.0, \"avg_temperature\": 7.65, \"season\": \"Spring\", \"log_total_sales_normalized\": 8.399006324230877, \"log_item_A_sales\": 7.532248816225034, \"log_item_B_sales\": 7.445195569447518, \"log_item_C_sales\": 5.7791991139409555}, {\"total_sales_normalized\": 1916.95, \"item_A_sales\": 869.49, \"item_B_sales\": 595.31, \"item_C_sales\": 145.0, \"hours_opened\": 11, \"is_long_weekend\": false, \"is_HCF\": false, \"type_of_day\": \"Weekday\", \"has_pop_up\": false, \"rain\": 0.2, \"snow\": 0.0, \"avg_cloud_cover_8\": 5.5, \"avg_temperature\": 7.55, \"season\": \"Spring\", \"log_total_sales_normalized\": 7.5584906602850435, \"log_item_A_sales\": 6.767906832865638, \"log_item_B_sales\": 6.389082278271237, \"log_item_C_sales\": 4.976733742420574}, {\"total_sales_normalized\": 2173.2, \"item_A_sales\": 919.85, \"item_B_sales\": 828.5, \"item_C_sales\": 161.4, \"hours_opened\": 11, \"is_long_weekend\": false, \"is_HCF\": false, \"type_of_day\": \"Weekday\", \"has_pop_up\": false, \"rain\": 2.9, \"snow\": 0.0, \"avg_cloud_cover_8\": 4.5, \"avg_temperature\": 8.3, \"season\": \"Spring\", \"log_total_sales_normalized\": 7.683956014677368, \"log_item_A_sales\": 6.824210613271792, \"log_item_B_sales\": 6.719616836866618, \"log_item_C_sales\": 5.083885755835849}, {\"total_sales_normalized\": 1773.03, \"item_A_sales\": 708.46, \"item_B_sales\": 663.3, \"item_C_sales\": 190.0, \"hours_opened\": 11, \"is_long_weekend\": false, \"is_HCF\": false, \"type_of_day\": \"Weekday\", \"has_pop_up\": false, \"rain\": 0.5, \"snow\": 0.0, \"avg_cloud_cover_8\": 4.0, \"avg_temperature\": 6.55, \"season\": \"Spring\", \"log_total_sales_normalized\": 7.480445226404831, \"log_item_A_sales\": 6.563093600232798, \"log_item_B_sales\": 6.4972273765315105, \"log_item_C_sales\": 5.247024072160486}, {\"total_sales_normalized\": 2016.06, \"item_A_sales\": 686.62, \"item_B_sales\": 938.1, \"item_C_sales\": 139.5, \"hours_opened\": 11, \"is_long_weekend\": false, \"is_HCF\": false, \"type_of_day\": \"Weekday\", \"has_pop_up\": false, \"rain\": 0.0, \"snow\": 0.0, \"avg_cloud_cover_8\": 1.0, \"avg_temperature\": 5.4, \"season\": \"Spring\", \"log_total_sales_normalized\": 7.608900390653145, \"log_item_A_sales\": 6.531781009641004, \"log_item_B_sales\": 6.843856553131905, \"log_item_C_sales\": 4.93806460126142}, {\"total_sales_normalized\": 3593.81, \"item_A_sales\": 1260.23, \"item_B_sales\": 1615.65, \"item_C_sales\": 298.5, \"hours_opened\": 12, \"is_long_weekend\": false, \"is_HCF\": false, \"type_of_day\": \"Friday\", \"has_pop_up\": false, \"rain\": 0.0, \"snow\": 0.0, \"avg_cloud_cover_8\": 4.0, \"avg_temperature\": 5.3, \"season\": \"Spring\", \"log_total_sales_normalized\": 8.186968200058464, \"log_item_A_sales\": 7.139049522969723, \"log_item_B_sales\": 7.387492631464889, \"log_item_C_sales\": 5.698769932832657}, {\"total_sales_normalized\": 5154.68, \"item_A_sales\": 2210.51, \"item_B_sales\": 1878.16, \"item_C_sales\": 537.58, \"hours_opened\": 12, \"is_long_weekend\": false, \"is_HCF\": false, \"type_of_day\": \"Weekend\", \"has_pop_up\": true, \"rain\": 18.3, \"snow\": 0.0, \"avg_cloud_cover_8\": 8.0, \"avg_temperature\": 8.1, \"season\": \"Spring\", \"log_total_sales_normalized\": 8.547660318869584, \"log_item_A_sales\": 7.700978537119445, \"log_item_B_sales\": 7.538047853157253, \"log_item_C_sales\": 6.287077586135962}, {\"total_sales_normalized\": 3257.99, \"item_A_sales\": 1347.62, \"item_B_sales\": 1062.72, \"item_C_sales\": 250.0, \"hours_opened\": 11, \"is_long_weekend\": false, \"is_HCF\": false, \"type_of_day\": \"Weekend\", \"has_pop_up\": true, \"rain\": 9.8, \"snow\": 0.0, \"avg_cloud_cover_8\": 4.0, \"avg_temperature\": 7.2, \"season\": \"Spring\", \"log_total_sales_normalized\": 8.08886571978957, \"log_item_A_sales\": 7.206095352621437, \"log_item_B_sales\": 6.968586938188381, \"log_item_C_sales\": 5.521460917862246}, {\"total_sales_normalized\": 1847.79, \"item_A_sales\": 767.59, \"item_B_sales\": 669.53, \"item_C_sales\": 167.7, \"hours_opened\": 11, \"is_long_weekend\": false, \"is_HCF\": false, \"type_of_day\": \"Weekday\", \"has_pop_up\": false, \"rain\": 1.3, \"snow\": 0.0, \"avg_cloud_cover_8\": 5.5, \"avg_temperature\": 5.15, \"season\": \"Spring\", \"log_total_sales_normalized\": 7.5217456093808925, \"log_item_A_sales\": 6.643255736430134, \"log_item_B_sales\": 6.506575973686681, \"log_item_C_sales\": 5.122176668829163}, {\"total_sales_normalized\": 1722.52, \"item_A_sales\": 803.82, \"item_B_sales\": 523.9, \"item_C_sales\": 152.5, \"hours_opened\": 11, \"is_long_weekend\": false, \"is_HCF\": false, \"type_of_day\": \"Weekday\", \"has_pop_up\": false, \"rain\": 4.0, \"snow\": 0.0, \"avg_cloud_cover_8\": 8.0, \"avg_temperature\": 5.45, \"season\": \"Spring\", \"log_total_sales_normalized\": 7.451543613850885, \"log_item_A_sales\": 6.68937536351695, \"log_item_B_sales\": 6.261300826414174, \"log_item_C_sales\": 5.0271645960474665}, {\"total_sales_normalized\": 1663.42, \"item_A_sales\": 750.13, \"item_B_sales\": 556.82, \"item_C_sales\": 126.5, \"hours_opened\": 11, \"is_long_weekend\": false, \"is_HCF\": false, \"type_of_day\": \"Weekday\", \"has_pop_up\": false, \"rain\": 8.9, \"snow\": 0.0, \"avg_cloud_cover_8\": 8.0, \"avg_temperature\": 6.5, \"season\": \"Spring\", \"log_total_sales_normalized\": 7.4166310029284945, \"log_item_A_sales\": 6.6202465248432025, \"log_item_B_sales\": 6.322242027915348, \"log_item_C_sales\": 4.840242308167575}, {\"total_sales_normalized\": 2322.98, \"item_A_sales\": 777.03, \"item_B_sales\": 1016.3, \"item_C_sales\": 195.0, \"hours_opened\": 11, \"is_long_weekend\": false, \"is_HCF\": false, \"type_of_day\": \"Weekday\", \"has_pop_up\": false, \"rain\": 0.4, \"snow\": 0.0, \"avg_cloud_cover_8\": 5.0, \"avg_temperature\": 6.25, \"season\": \"Spring\", \"log_total_sales_normalized\": 7.7506061231767385, \"log_item_A_sales\": 6.655478959660909, \"log_item_B_sales\": 6.923923860143721, \"log_item_C_sales\": 5.272999558563747}, {\"total_sales_normalized\": 3522.78, \"item_A_sales\": 1306.62, \"item_B_sales\": 1436.5, \"item_C_sales\": 284.91, \"hours_opened\": 12, \"is_long_weekend\": false, \"is_HCF\": false, \"type_of_day\": \"Friday\", \"has_pop_up\": false, \"rain\": 0.0, \"snow\": 0.0, \"avg_cloud_cover_8\": 6.5, \"avg_temperature\": 6.1, \"season\": \"Spring\", \"log_total_sales_normalized\": 8.167005729613043, \"log_item_A_sales\": 7.175198929192914, \"log_item_B_sales\": 7.269964878419344, \"log_item_C_sales\": 5.652173340922971}, {\"total_sales_normalized\": 4308.54, \"item_A_sales\": 1685.1, \"item_B_sales\": 1694.5, \"item_C_sales\": 312.25, \"hours_opened\": 12, \"is_long_weekend\": false, \"is_HCF\": false, \"type_of_day\": \"Weekend\", \"has_pop_up\": true, \"rain\": 5.2, \"snow\": 0.0, \"avg_cloud_cover_8\": 7.5, \"avg_temperature\": 6.3, \"season\": \"Spring\", \"log_total_sales_normalized\": 8.368354378610267, \"log_item_A_sales\": 7.429580188206496, \"log_item_B_sales\": 7.435142991047106, \"log_item_C_sales\": 5.743804149005687}, {\"total_sales_normalized\": 3984.71, \"item_A_sales\": 1617.88, \"item_B_sales\": 1641.32, \"item_C_sales\": 253.0, \"hours_opened\": 11, \"is_long_weekend\": false, \"is_HCF\": false, \"type_of_day\": \"Weekend\", \"has_pop_up\": true, \"rain\": 0.4, \"snow\": 0.0, \"avg_cloud_cover_8\": 5.5, \"avg_temperature\": 7.25, \"season\": \"Spring\", \"log_total_sales_normalized\": 8.29021981567787, \"log_item_A_sales\": 7.388871929231442, \"log_item_B_sales\": 7.40325607512639, \"log_item_C_sales\": 5.53338948872752}, {\"total_sales_normalized\": 1922.03, \"item_A_sales\": 657.92, \"item_B_sales\": 806.7, \"item_C_sales\": 127.0, \"hours_opened\": 11, \"is_long_weekend\": false, \"is_HCF\": false, \"type_of_day\": \"Weekday\", \"has_pop_up\": false, \"rain\": 0.0, \"snow\": 0.0, \"avg_cloud_cover_8\": 4.0, \"avg_temperature\": 5.2, \"season\": \"Spring\", \"log_total_sales_normalized\": 7.561137198149318, \"log_item_A_sales\": 6.489083343386691, \"log_item_B_sales\": 6.6929518519429285, \"log_item_C_sales\": 4.844187086458591}, {\"total_sales_normalized\": 2543.94, \"item_A_sales\": 1124.17, \"item_B_sales\": 837.3, \"item_C_sales\": 291.5, \"hours_opened\": 11, \"is_long_weekend\": false, \"is_HCF\": false, \"type_of_day\": \"Weekday\", \"has_pop_up\": false, \"rain\": 0.0, \"snow\": 0.0, \"avg_cloud_cover_8\": 4.5, \"avg_temperature\": 4.7, \"season\": \"Spring\", \"log_total_sales_normalized\": 7.841469339276224, \"log_item_A_sales\": 7.024800264568783, \"log_item_B_sales\": 6.7301824292103865, \"log_item_C_sales\": 5.675040005790547}, {\"total_sales_normalized\": 2155.96, \"item_A_sales\": 931.16, \"item_B_sales\": 782.0, \"item_C_sales\": 135.0, \"hours_opened\": 11, \"is_long_weekend\": false, \"is_HCF\": false, \"type_of_day\": \"Weekday\", \"has_pop_up\": false, \"rain\": 2.0, \"snow\": 0.0, \"avg_cloud_cover_8\": 7.5, \"avg_temperature\": 7.75, \"season\": \"Spring\", \"log_total_sales_normalized\": 7.675991378981085, \"log_item_A_sales\": 6.836431120728107, \"log_item_B_sales\": 6.661854740545311, \"log_item_C_sales\": 4.90527477843843}, {\"total_sales_normalized\": 1760.17, \"item_A_sales\": 803.53, \"item_B_sales\": 626.05, \"item_C_sales\": 175.5, \"hours_opened\": 11, \"is_long_weekend\": false, \"is_HCF\": false, \"type_of_day\": \"Weekday\", \"has_pop_up\": false, \"rain\": 6.9, \"snow\": 0.0, \"avg_cloud_cover_8\": 7.0, \"avg_temperature\": 7.15, \"season\": \"Spring\", \"log_total_sales_normalized\": 7.473165674276687, \"log_item_A_sales\": 6.6890145211327185, \"log_item_B_sales\": 6.439430240114957, \"log_item_C_sales\": 5.167639042905921}, {\"total_sales_normalized\": 3765.94, \"item_A_sales\": 1452.38, \"item_B_sales\": 1722.0, \"item_C_sales\": 310.5, \"hours_opened\": 12, \"is_long_weekend\": false, \"is_HCF\": false, \"type_of_day\": \"Friday\", \"has_pop_up\": false, \"rain\": 9.5, \"snow\": 0.0, \"avg_cloud_cover_8\": 4.5, \"avg_temperature\": 7.05, \"season\": \"Spring\", \"log_total_sales_normalized\": 8.233752777066815, \"log_item_A_sales\": 7.28095886913416, \"log_item_B_sales\": 7.451241684987676, \"log_item_C_sales\": 5.738183901373533}, {\"total_sales_normalized\": 5064.88, \"item_A_sales\": 1853.86, \"item_B_sales\": 2152.22, \"item_C_sales\": 366.0, \"hours_opened\": 12, \"is_long_weekend\": false, \"is_HCF\": false, \"type_of_day\": \"Weekend\", \"has_pop_up\": true, \"rain\": 6.1, \"snow\": 0.0, \"avg_cloud_cover_8\": 6.5, \"avg_temperature\": 6.75, \"season\": \"Spring\", \"log_total_sales_normalized\": 8.530085724398175, \"log_item_A_sales\": 7.525025230868986, \"log_item_B_sales\": 7.674255146539767, \"log_item_C_sales\": 5.902633333401366}, {\"total_sales_normalized\": 3371.67, \"item_A_sales\": 1644.46, \"item_B_sales\": 1104.52, \"item_C_sales\": 333.5, \"hours_opened\": 11, \"is_long_weekend\": false, \"is_HCF\": false, \"type_of_day\": \"Weekend\", \"has_pop_up\": true, \"rain\": 14.0, \"snow\": 0.0, \"avg_cloud_cover_8\": 7.5, \"avg_temperature\": 7.94, \"season\": \"Spring\", \"log_total_sales_normalized\": 8.123163449563993, \"log_item_A_sales\": 7.4051673418307065, \"log_item_B_sales\": 7.007166130437288, \"log_item_C_sales\": 5.809642865355678}, {\"total_sales_normalized\": 1915.86, \"item_A_sales\": 766.59, \"item_B_sales\": 714.8, \"item_C_sales\": 216.2, \"hours_opened\": 11, \"is_long_weekend\": false, \"is_HCF\": false, \"type_of_day\": \"Weekday\", \"has_pop_up\": false, \"rain\": 10.9, \"snow\": 0.0, \"avg_cloud_cover_8\": 8.0, \"avg_temperature\": 10.1, \"season\": \"Spring\", \"log_total_sales_normalized\": 7.557921886967616, \"log_item_A_sales\": 6.641952108248798, \"log_item_B_sales\": 6.5720027832852725, \"log_item_C_sales\": 5.376203905205108}, {\"total_sales_normalized\": 2458.56, \"item_A_sales\": 981.28, \"item_B_sales\": 996.5, \"item_C_sales\": 225.0, \"hours_opened\": 11, \"is_long_weekend\": false, \"is_HCF\": false, \"type_of_day\": \"Weekday\", \"has_pop_up\": false, \"rain\": 1.7, \"snow\": 0.0, \"avg_cloud_cover_8\": 5.5, \"avg_temperature\": 12.05, \"season\": \"Spring\", \"log_total_sales_normalized\": 7.80733109167927, \"log_item_A_sales\": 6.888857841877673, \"log_item_B_sales\": 6.904249139652849, \"log_item_C_sales\": 5.41610040220442}, {\"total_sales_normalized\": 2795.93, \"item_A_sales\": 1201.96, \"item_B_sales\": 1196.1, \"item_C_sales\": 219.0, \"hours_opened\": 11, \"is_long_weekend\": false, \"is_HCF\": false, \"type_of_day\": \"Weekday\", \"has_pop_up\": false, \"rain\": 8.0, \"snow\": 0.0, \"avg_cloud_cover_8\": 4.5, \"avg_temperature\": 11.65, \"season\": \"Spring\", \"log_total_sales_normalized\": 7.935920067274922, \"log_item_A_sales\": 7.091708836671216, \"log_item_B_sales\": 7.086821543055419, \"log_item_C_sales\": 5.389071729816501}, {\"total_sales_normalized\": 2267.53, \"item_A_sales\": 975.49, \"item_B_sales\": 925.3, \"item_C_sales\": 195.5, \"hours_opened\": 11, \"is_long_weekend\": false, \"is_HCF\": false, \"type_of_day\": \"Weekday\", \"has_pop_up\": false, \"rain\": 12.4, \"snow\": 0.0, \"avg_cloud_cover_8\": 5.5, \"avg_temperature\": 12.5, \"season\": \"Spring\", \"log_total_sales_normalized\": 7.726446412331759, \"log_item_A_sales\": 6.8829399088573675, \"log_item_B_sales\": 6.830118009254985, \"log_item_C_sales\": 5.27556037942542}, {\"total_sales_normalized\": 3796.24, \"item_A_sales\": 1587.99, \"item_B_sales\": 1410.7, \"item_C_sales\": 359.0, \"hours_opened\": 12, \"is_long_weekend\": false, \"is_HCF\": false, \"type_of_day\": \"Friday\", \"has_pop_up\": false, \"rain\": 2.3, \"snow\": 0.0, \"avg_cloud_cover_8\": 7.5, \"avg_temperature\": 10.0, \"season\": \"Spring\", \"log_total_sales_normalized\": 8.241766382178023, \"log_item_A_sales\": 7.370224344558034, \"log_item_B_sales\": 7.2518413140804565, \"log_item_C_sales\": 5.883322388488279}, {\"total_sales_normalized\": 5047.27, \"item_A_sales\": 1911.83, \"item_B_sales\": 2078.9, \"item_C_sales\": 507.5, \"hours_opened\": 12, \"is_long_weekend\": false, \"is_HCF\": false, \"type_of_day\": \"Weekend\", \"has_pop_up\": true, \"rain\": 2.4, \"snow\": 0.0, \"avg_cloud_cover_8\": 4.5, \"avg_temperature\": 9.69, \"season\": \"Spring\", \"log_total_sales_normalized\": 8.526602782036349, \"log_item_A_sales\": 7.555816177524537, \"log_item_B_sales\": 7.639594186653069, \"log_item_C_sales\": 6.229496710915942}, {\"total_sales_normalized\": 3486.75, \"item_A_sales\": 1467.81, \"item_B_sales\": 1500.7, \"item_C_sales\": 205.0, \"hours_opened\": 11, \"is_long_weekend\": false, \"is_HCF\": false, \"type_of_day\": \"Weekend\", \"has_pop_up\": true, \"rain\": 0.0, \"snow\": 0.0, \"avg_cloud_cover_8\": 4.5, \"avg_temperature\": 6.6, \"season\": \"Spring\", \"log_total_sales_normalized\": 8.156725349238803, \"log_item_A_sales\": 7.291526773005046, \"log_item_B_sales\": 7.313686944901944, \"log_item_C_sales\": 5.3230099791384085}, {\"total_sales_normalized\": 2324.967659574468, \"item_A_sales\": 0.0, \"item_B_sales\": 0.0, \"item_C_sales\": 0.0, \"hours_opened\": 0, \"is_long_weekend\": false, \"is_HCF\": false, \"type_of_day\": null, \"has_pop_up\": false, \"rain\": 4.2, \"snow\": 0.0, \"avg_cloud_cover_8\": 5.5, \"avg_temperature\": 9.9, \"season\": \"Spring\", \"log_total_sales_normalized\": 7.75146140806427, \"log_item_A_sales\": null, \"log_item_B_sales\": 0.0, \"log_item_C_sales\": 0.0}, {\"total_sales_normalized\": 1652.83, \"item_A_sales\": 761.3, \"item_B_sales\": 626.7, \"item_C_sales\": 163.5, \"hours_opened\": 11, \"is_long_weekend\": false, \"is_HCF\": false, \"type_of_day\": \"Weekday\", \"has_pop_up\": false, \"rain\": 3.8, \"snow\": 0.0, \"avg_cloud_cover_8\": 6.0, \"avg_temperature\": 9.15, \"season\": \"Spring\", \"log_total_sales_normalized\": 7.4102442492171035, \"log_item_A_sales\": 6.635027498312167, \"log_item_B_sales\": 6.44046795723063, \"log_item_C_sales\": 5.096812990337308}, {\"total_sales_normalized\": 2127.04, \"item_A_sales\": 800.09, \"item_B_sales\": 861.0, \"item_C_sales\": 256.5, \"hours_opened\": 11, \"is_long_weekend\": false, \"is_HCF\": false, \"type_of_day\": \"Weekday\", \"has_pop_up\": false, \"rain\": 8.4, \"snow\": 0.0, \"avg_cloud_cover_8\": 4.0, \"avg_temperature\": 8.9, \"season\": \"Spring\", \"log_total_sales_normalized\": 7.662486620853217, \"log_item_A_sales\": 6.684724221340277, \"log_item_B_sales\": 6.7580945044277305, \"log_item_C_sales\": 5.547128664610824}, {\"total_sales_normalized\": 2480.0, \"item_A_sales\": 876.7, \"item_B_sales\": 1010.45, \"item_C_sales\": 312.5, \"hours_opened\": 11, \"is_long_weekend\": false, \"is_HCF\": false, \"type_of_day\": \"Weekday\", \"has_pop_up\": false, \"rain\": 0.0, \"snow\": 0.0, \"avg_cloud_cover_8\": 4.0, \"avg_temperature\": 8.05, \"season\": \"Spring\", \"log_total_sales_normalized\": 7.8160138391590275, \"log_item_A_sales\": 6.77616485859454, \"log_item_B_sales\": 6.918151055164257, \"log_item_C_sales\": 5.744604469176457}, {\"total_sales_normalized\": 3850.61, \"item_A_sales\": 1363.98, \"item_B_sales\": 1910.9, \"item_C_sales\": 281.5, \"hours_opened\": 12, \"is_long_weekend\": false, \"is_HCF\": false, \"type_of_day\": \"Friday\", \"has_pop_up\": false, \"rain\": 0.0, \"snow\": 0.0, \"avg_cloud_cover_8\": 4.0, \"avg_temperature\": 8.44, \"season\": \"Spring\", \"log_total_sales_normalized\": 8.255986856289734, \"log_item_A_sales\": 7.21816217553931, \"log_item_B_sales\": 7.555329614247325, \"log_item_C_sales\": 5.640132447579745}, {\"total_sales_normalized\": 4359.69, \"item_A_sales\": 1744.96, \"item_B_sales\": 1866.4, \"item_C_sales\": 325.0, \"hours_opened\": 12, \"is_long_weekend\": false, \"is_HCF\": false, \"type_of_day\": \"Weekend\", \"has_pop_up\": true, \"rain\": 0.0, \"snow\": 0.0, \"avg_cloud_cover_8\": 4.0, \"avg_temperature\": 11.4, \"season\": \"Spring\", \"log_total_sales_normalized\": 8.380156232897859, \"log_item_A_sales\": 7.464486911737697, \"log_item_B_sales\": 7.53176672070722, \"log_item_C_sales\": 5.783825182329737}, {\"total_sales_normalized\": 3810.34, \"item_A_sales\": 1706.96, \"item_B_sales\": 1200.0, \"item_C_sales\": 389.5, \"hours_opened\": 11, \"is_long_weekend\": false, \"is_HCF\": false, \"type_of_day\": \"Weekend\", \"has_pop_up\": true, \"rain\": 27.5, \"snow\": 0.0, \"avg_cloud_cover_8\": 7.5, \"avg_temperature\": 12.25, \"season\": \"Spring\", \"log_total_sales_normalized\": 8.245473702984341, \"log_item_A_sales\": 7.4424692895966285, \"log_item_B_sales\": 7.090076835776092, \"log_item_C_sales\": 5.964863865310803}, {\"total_sales_normalized\": 2324.967659574468, \"item_A_sales\": 781.41, \"item_B_sales\": 487.4, \"item_C_sales\": 121.5, \"hours_opened\": 6, \"is_long_weekend\": false, \"is_HCF\": false, \"type_of_day\": null, \"has_pop_up\": false, \"rain\": 9.3, \"snow\": 0.0, \"avg_cloud_cover_8\": 7.5, \"avg_temperature\": 10.85, \"season\": \"Spring\", \"log_total_sales_normalized\": 7.75146140806427, \"log_item_A_sales\": 6.661099980081954, \"log_item_B_sales\": 6.189085141191105, \"log_item_C_sales\": 4.799914262780603}, {\"total_sales_normalized\": 1882.36, \"item_A_sales\": 892.51, \"item_B_sales\": 672.31, \"item_C_sales\": 192.6, \"hours_opened\": 11, \"is_long_weekend\": false, \"is_HCF\": false, \"type_of_day\": \"Weekday\", \"has_pop_up\": false, \"rain\": 12.9, \"snow\": 0.0, \"avg_cloud_cover_8\": 7.0, \"avg_temperature\": 9.69, \"season\": \"Spring\", \"log_total_sales_normalized\": 7.540281587718616, \"log_item_A_sales\": 6.7940377180728175, \"log_item_B_sales\": 6.510719543676433, \"log_item_C_sales\": 5.260615499364025}, {\"total_sales_normalized\": 2350.8, \"item_A_sales\": 919.59, \"item_B_sales\": 746.4, \"item_C_sales\": 364.0, \"hours_opened\": 11, \"is_long_weekend\": false, \"is_HCF\": false, \"type_of_day\": \"Weekday\", \"has_pop_up\": false, \"rain\": 0.0, \"snow\": 0.0, \"avg_cloud_cover_8\": 5.5, \"avg_temperature\": 9.8, \"season\": \"Spring\", \"log_total_sales_normalized\": 7.762510974738495, \"log_item_A_sales\": 6.82392791853673, \"log_item_B_sales\": 6.615261649533134, \"log_item_C_sales\": 5.8971538676367405}, {\"total_sales_normalized\": 2175.35, \"item_A_sales\": 929.2, \"item_B_sales\": 718.6, \"item_C_sales\": 228.5, \"hours_opened\": 11, \"is_long_weekend\": false, \"is_HCF\": false, \"type_of_day\": \"Weekday\", \"has_pop_up\": false, \"rain\": 0.4, \"snow\": 0.0, \"avg_cloud_cover_8\": 4.5, \"avg_temperature\": 11.8, \"season\": \"Spring\", \"log_total_sales_normalized\": 7.684944850116854, \"log_item_A_sales\": 6.834324000896254, \"log_item_B_sales\": 6.5773048746794185, \"log_item_C_sales\": 5.43153621033426}, {\"total_sales_normalized\": 3860.21, \"item_A_sales\": 1615.65, \"item_B_sales\": 1416.35, \"item_C_sales\": 412.8, \"hours_opened\": 12, \"is_long_weekend\": false, \"is_HCF\": false, \"type_of_day\": \"Friday\", \"has_pop_up\": false, \"rain\": 0.0, \"snow\": 0.0, \"avg_cloud_cover_8\": 4.5, \"avg_temperature\": 8.1, \"season\": \"Spring\", \"log_total_sales_normalized\": 8.258476865124102, \"log_item_A_sales\": 7.387492631464889, \"log_item_B_sales\": 7.255838418852165, \"log_item_C_sales\": 6.022963214167353}, {\"total_sales_normalized\": 4807.94, \"item_A_sales\": 1796.07, \"item_B_sales\": 2162.88, \"item_C_sales\": 307.0, \"hours_opened\": 12, \"is_long_weekend\": false, \"is_HCF\": false, \"type_of_day\": \"Weekend\", \"has_pop_up\": true, \"rain\": 0.0, \"snow\": 0.0, \"avg_cloud_cover_8\": 4.5, \"avg_temperature\": 9.19, \"season\": \"Spring\", \"log_total_sales_normalized\": 8.478023996935846, \"log_item_A_sales\": 7.493356223603733, \"log_item_B_sales\": 7.67919594591199, \"log_item_C_sales\": 5.726847747587197}, {\"total_sales_normalized\": 4072.06, \"item_A_sales\": 1646.71, \"item_B_sales\": 1585.03, \"item_C_sales\": 414.32, \"hours_opened\": 11, \"is_long_weekend\": false, \"is_HCF\": false, \"type_of_day\": \"Weekend\", \"has_pop_up\": true, \"rain\": 0.0, \"snow\": 0.0, \"avg_cloud_cover_8\": 4.5, \"avg_temperature\": 7.45, \"season\": \"Spring\", \"log_total_sales_normalized\": 8.31190429289587, \"log_item_A_sales\": 7.406534636957078, \"log_item_B_sales\": 7.368358613577054, \"log_item_C_sales\": 6.026638622115636}, {\"total_sales_normalized\": 2229.21, \"item_A_sales\": 925.39, \"item_B_sales\": 911.4, \"item_C_sales\": 209.5, \"hours_opened\": 11, \"is_long_weekend\": false, \"is_HCF\": false, \"type_of_day\": \"Weekday\", \"has_pop_up\": false, \"rain\": 0.0, \"snow\": 0.0, \"avg_cloud_cover_8\": 4.0, \"avg_temperature\": 8.8, \"season\": \"Spring\", \"log_total_sales_normalized\": 7.709402541599549, \"log_item_A_sales\": 6.830215270276626, \"log_item_B_sales\": 6.814981878829782, \"log_item_C_sales\": 5.344723739362192}, {\"total_sales_normalized\": 2224.35, \"item_A_sales\": 801.36, \"item_B_sales\": 987.6, \"item_C_sales\": 160.5, \"hours_opened\": 11, \"is_long_weekend\": false, \"is_HCF\": false, \"type_of_day\": \"Weekday\", \"has_pop_up\": false, \"rain\": 0.0, \"snow\": 0.0, \"avg_cloud_cover_8\": 4.0, \"avg_temperature\": 11.15, \"season\": \"Spring\", \"log_total_sales_normalized\": 7.707220017089187, \"log_item_A_sales\": 6.6863102843035085, \"log_item_B_sales\": 6.895277757471025, \"log_item_C_sales\": 5.07829394257007}, {\"total_sales_normalized\": 2304.16, \"item_A_sales\": 1065.59, \"item_B_sales\": 826.8, \"item_C_sales\": 232.5, \"hours_opened\": 11, \"is_long_weekend\": false, \"is_HCF\": false, \"type_of_day\": \"Weekday\", \"has_pop_up\": false, \"rain\": 0.0, \"snow\": 0.0, \"avg_cloud_cover_8\": 1.0, \"avg_temperature\": 10.8, \"season\": \"Spring\", \"log_total_sales_normalized\": 7.742471463849072, \"log_item_A_sales\": 6.971283915357707, \"log_item_B_sales\": 6.717562827807613, \"log_item_C_sales\": 5.448890225027411}, {\"total_sales_normalized\": 3738.58, \"item_A_sales\": 1395.77, \"item_B_sales\": 1653.8, \"item_C_sales\": 410.0, \"hours_opened\": 11, \"is_long_weekend\": false, \"is_HCF\": false, \"type_of_day\": \"Holiday\", \"has_pop_up\": false, \"rain\": 0.0, \"snow\": 0.0, \"avg_cloud_cover_8\": 2.5, \"avg_temperature\": 8.4, \"season\": \"Spring\", \"log_total_sales_normalized\": 8.226461139167817, \"log_item_A_sales\": 7.241201513301492, \"log_item_B_sales\": 7.410830949288067, \"log_item_C_sales\": 6.016157159698354}, {\"total_sales_normalized\": 5496.38, \"item_A_sales\": 1976.44, \"item_B_sales\": 2319.62, \"item_C_sales\": 446.25, \"hours_opened\": 12, \"is_long_weekend\": true, \"is_HCF\": false, \"type_of_day\": \"Holiday\", \"has_pop_up\": true, \"rain\": 0.0, \"snow\": 0.0, \"avg_cloud_cover_8\": 4.0, \"avg_temperature\": 10.3, \"season\": \"Spring\", \"log_total_sales_normalized\": 8.611844972705638, \"log_item_A_sales\": 7.5890525255848456, \"log_item_B_sales\": 7.749158658141352, \"log_item_C_sales\": 6.1008793330938484}, {\"total_sales_normalized\": 4913.58, \"item_A_sales\": 2120.11, \"item_B_sales\": 1817.61, \"item_C_sales\": 577.5, \"hours_opened\": 12, \"is_long_weekend\": true, \"is_HCF\": false, \"type_of_day\": \"Weekend\", \"has_pop_up\": true, \"rain\": 0.8, \"snow\": 0.0, \"avg_cloud_cover_8\": 4.5, \"avg_temperature\": 11.05, \"season\": \"Spring\", \"log_total_sales_normalized\": 8.499758079342879, \"log_item_A_sales\": 7.659223253112438, \"log_item_B_sales\": 7.505277730272261, \"log_item_C_sales\": 6.358708442395948}, {\"total_sales_normalized\": 4605.99, \"item_A_sales\": 1945.85, \"item_B_sales\": 1718.83, \"item_C_sales\": 471.5, \"hours_opened\": 12, \"is_long_weekend\": true, \"is_HCF\": false, \"type_of_day\": \"Weekend\", \"has_pop_up\": true, \"rain\": 0.2, \"snow\": 0.0, \"avg_cloud_cover_8\": 5.0, \"avg_temperature\": 10.75, \"season\": \"Spring\", \"log_total_sales_normalized\": 8.435112909297075, \"log_item_A_sales\": 7.573454178582853, \"log_item_B_sales\": 7.449399105786221, \"log_item_C_sales\": 6.155919102073512}, {\"total_sales_normalized\": 2746.16, \"item_A_sales\": 1005.97, \"item_B_sales\": 1109.21, \"item_C_sales\": 322.0, \"hours_opened\": 11, \"is_long_weekend\": true, \"is_HCF\": false, \"type_of_day\": \"Holiday\", \"has_pop_up\": true, \"rain\": 0.0, \"snow\": 0.0, \"avg_cloud_cover_8\": 3.5, \"avg_temperature\": 9.25, \"season\": \"Spring\", \"log_total_sales_normalized\": 7.917958851200042, \"log_item_A_sales\": 6.913707529141469, \"log_item_B_sales\": 7.011403329207655, \"log_item_C_sales\": 5.7745515455444085}, {\"total_sales_normalized\": 2115.67, \"item_A_sales\": 779.01, \"item_B_sales\": 884.7, \"item_C_sales\": 323.74, \"hours_opened\": 11, \"is_long_weekend\": false, \"is_HCF\": false, \"type_of_day\": \"Weekday\", \"has_pop_up\": false, \"rain\": 0.0, \"snow\": 0.0, \"avg_cloud_cover_8\": 1.5, \"avg_temperature\": 7.55, \"season\": \"Spring\", \"log_total_sales_normalized\": 7.657126826184622, \"log_item_A_sales\": 6.65802388275883, \"log_item_B_sales\": 6.7852486044893405, \"log_item_C_sales\": 5.779940724505814}, {\"total_sales_normalized\": 2307.26, \"item_A_sales\": 1000.08, \"item_B_sales\": 830.44, \"item_C_sales\": 198.0, \"hours_opened\": 11, \"is_long_weekend\": false, \"is_HCF\": false, \"type_of_day\": \"Weekday\", \"has_pop_up\": false, \"rain\": 0.0, \"snow\": 0.0, \"avg_cloud_cover_8\": 1.0, \"avg_temperature\": 8.69, \"season\": \"Spring\", \"log_total_sales_normalized\": 7.743815952300342, \"log_item_A_sales\": 6.907835275782308, \"log_item_B_sales\": 6.721955680808349, \"log_item_C_sales\": 5.288267030694535}, {\"total_sales_normalized\": 2967.81, \"item_A_sales\": 1271.01, \"item_B_sales\": 995.18, \"item_C_sales\": 329.0, \"hours_opened\": 11, \"is_long_weekend\": false, \"is_HCF\": false, \"type_of_day\": \"Weekday\", \"has_pop_up\": false, \"rain\": 0.0, \"snow\": 0.0, \"avg_cloud_cover_8\": 3.5, \"avg_temperature\": 10.3, \"season\": \"Spring\", \"log_total_sales_normalized\": 7.995579586065642, \"log_item_A_sales\": 7.147567138979117, \"log_item_B_sales\": 6.902923625319956, \"log_item_C_sales\": 5.796057750765372}, {\"total_sales_normalized\": 4298.72, \"item_A_sales\": 1558.08, \"item_B_sales\": 1873.3, \"item_C_sales\": 388.0, \"hours_opened\": 12, \"is_long_weekend\": false, \"is_HCF\": false, \"type_of_day\": \"Friday\", \"has_pop_up\": false, \"rain\": 0.0, \"snow\": 0.0, \"avg_cloud_cover_8\": 3.5, \"avg_temperature\": 11.2, \"season\": \"Spring\", \"log_total_sales_normalized\": 8.366072582949226, \"log_item_A_sales\": 7.351209572994336, \"log_item_B_sales\": 7.535456860467013, \"log_item_C_sales\": 5.961005339623274}, {\"total_sales_normalized\": 4691.59, \"item_A_sales\": 2038.16, \"item_B_sales\": 1607.4, \"item_C_sales\": 520.5, \"hours_opened\": 12, \"is_long_weekend\": false, \"is_HCF\": false, \"type_of_day\": \"Weekend\", \"has_pop_up\": true, \"rain\": 0.0, \"snow\": 0.0, \"avg_cloud_cover_8\": 2.5, \"avg_temperature\": 12.3, \"season\": \"Spring\", \"log_total_sales_normalized\": 8.45352682317607, \"log_item_A_sales\": 7.619802719042563, \"log_item_B_sales\": 7.382373245778618, \"log_item_C_sales\": 6.254789888055024}, {\"total_sales_normalized\": 4916.85, \"item_A_sales\": 2028.06, \"item_B_sales\": 1815.1, \"item_C_sales\": 558.5, \"hours_opened\": 11, \"is_long_weekend\": false, \"is_HCF\": false, \"type_of_day\": \"Weekend\", \"has_pop_up\": true, \"rain\": 0.0, \"snow\": 0.0, \"avg_cloud_cover_8\": 4.0, \"avg_temperature\": 11.35, \"season\": \"Spring\", \"log_total_sales_normalized\": 8.500423360540264, \"log_item_A_sales\": 7.61483495007224, \"log_item_B_sales\": 7.503895841599932, \"log_item_C_sales\": 6.3252546185092555}, {\"total_sales_normalized\": 2089.56, \"item_A_sales\": 880.77, \"item_B_sales\": 685.21, \"item_C_sales\": 310.5, \"hours_opened\": 11, \"is_long_weekend\": false, \"is_HCF\": false, \"type_of_day\": \"Weekday\", \"has_pop_up\": false, \"rain\": 6.4, \"snow\": 0.0, \"avg_cloud_cover_8\": 4.5, \"avg_temperature\": 10.7, \"season\": \"Spring\", \"log_total_sales_normalized\": 7.644708796479292, \"log_item_A_sales\": 6.780796524882913, \"log_item_B_sales\": 6.529725360622512, \"log_item_C_sales\": 5.738183901373533}, {\"total_sales_normalized\": 2119.33, \"item_A_sales\": 985.19, \"item_B_sales\": 642.6, \"item_C_sales\": 187.0, \"hours_opened\": 11, \"is_long_weekend\": false, \"is_HCF\": false, \"type_of_day\": \"Weekday\", \"has_pop_up\": false, \"rain\": 0.0, \"snow\": 0.0, \"avg_cloud_cover_8\": 5.0, \"avg_temperature\": 11.8, \"season\": \"Spring\", \"log_total_sales_normalized\": 7.658855279979759, \"log_item_A_sales\": 6.892834515971564, \"log_item_B_sales\": 6.465522446681758, \"log_item_C_sales\": 5.231108616854587}, {\"total_sales_normalized\": 2878.26, \"item_A_sales\": 1138.99, \"item_B_sales\": 1102.3, \"item_C_sales\": 361.5, \"hours_opened\": 11, \"is_long_weekend\": false, \"is_HCF\": false, \"type_of_day\": \"Weekday\", \"has_pop_up\": false, \"rain\": 0.0, \"snow\": 0.0, \"avg_cloud_cover_8\": 4.0, \"avg_temperature\": 11.05, \"season\": \"Spring\", \"log_total_sales_normalized\": 7.964941223881101, \"log_item_A_sales\": 7.037897183777385, \"log_item_B_sales\": 7.005154184969269, \"log_item_C_sales\": 5.890262041598819}, {\"total_sales_normalized\": 2579.39, \"item_A_sales\": 1093.12, \"item_B_sales\": 925.52, \"item_C_sales\": 313.7, \"hours_opened\": 11, \"is_long_weekend\": false, \"is_HCF\": false, \"type_of_day\": \"Weekday\", \"has_pop_up\": false, \"rain\": 0.0, \"snow\": 0.0, \"avg_cloud_cover_8\": 0.0, \"avg_temperature\": 11.85, \"season\": \"Spring\", \"log_total_sales_normalized\": 7.855308215852186, \"log_item_A_sales\": 6.996791271720095, \"log_item_B_sales\": 6.830355741720633, \"log_item_C_sales\": 5.748437115196633}, {\"total_sales_normalized\": 3681.24, \"item_A_sales\": 1445.05, \"item_B_sales\": 1371.21, \"item_C_sales\": 460.0, \"hours_opened\": 12, \"is_long_weekend\": false, \"is_HCF\": false, \"type_of_day\": \"Friday\", \"has_pop_up\": false, \"rain\": 2.8, \"snow\": 0.0, \"avg_cloud_cover_8\": 4.0, \"avg_temperature\": 15.45, \"season\": \"Spring\", \"log_total_sales_normalized\": 8.211004930927617, \"log_item_A_sales\": 7.275899202024019, \"log_item_B_sales\": 7.22344884069907, \"log_item_C_sales\": 6.131226489483141}, {\"total_sales_normalized\": 5432.51, \"item_A_sales\": 2130.26, \"item_B_sales\": 2094.15, \"item_C_sales\": 662.56, \"hours_opened\": 12, \"is_long_weekend\": false, \"is_HCF\": false, \"type_of_day\": \"Weekend\", \"has_pop_up\": true, \"rain\": 2.0, \"snow\": 0.0, \"avg_cloud_cover_8\": 4.0, \"avg_temperature\": 11.5, \"season\": \"Spring\", \"log_total_sales_normalized\": 8.600156552902016, \"log_item_A_sales\": 7.663999316981756, \"log_item_B_sales\": 7.646903022102767, \"log_item_C_sales\": 6.496111119797257}, {\"total_sales_normalized\": 4863.03, \"item_A_sales\": 1945.48, \"item_B_sales\": 1727.1, \"item_C_sales\": 591.0, \"hours_opened\": 11, \"is_long_weekend\": false, \"is_HCF\": false, \"type_of_day\": \"Weekend\", \"has_pop_up\": true, \"rain\": 0.0, \"snow\": 0.0, \"avg_cloud_cover_8\": 1.5, \"avg_temperature\": 10.35, \"season\": \"Spring\", \"log_total_sales_normalized\": 8.48941697941622, \"log_item_A_sales\": 7.573264012238125, \"log_item_B_sales\": 7.454198980349873, \"log_item_C_sales\": 6.3818160174060985}, {\"total_sales_normalized\": 2578.74, \"item_A_sales\": 999.13, \"item_B_sales\": 922.41, \"item_C_sales\": 317.5, \"hours_opened\": 11, \"is_long_weekend\": false, \"is_HCF\": false, \"type_of_day\": \"Weekday\", \"has_pop_up\": false, \"rain\": 0.0, \"snow\": 0.0, \"avg_cloud_cover_8\": 3.5, \"avg_temperature\": 10.95, \"season\": \"Spring\", \"log_total_sales_normalized\": 7.855056186530148, \"log_item_A_sales\": 6.906884900312493, \"log_item_B_sales\": 6.826989810179691, \"log_item_C_sales\": 5.760477818332746}, {\"total_sales_normalized\": 2401.45, \"item_A_sales\": 1050.86, \"item_B_sales\": 847.22, \"item_C_sales\": 265.5, \"hours_opened\": 11, \"is_long_weekend\": false, \"is_HCF\": false, \"type_of_day\": \"Weekday\", \"has_pop_up\": false, \"rain\": 0.0, \"snow\": 0.0, \"avg_cloud_cover_8\": 4.5, \"avg_temperature\": 13.5, \"season\": \"Spring\", \"log_total_sales_normalized\": 7.7838280005675005, \"log_item_A_sales\": 6.957364155534153, \"log_item_B_sales\": 6.741960401185134, \"log_item_C_sales\": 5.581614840681993}, {\"total_sales_normalized\": 2549.84, \"item_A_sales\": 1181.28, \"item_B_sales\": 793.8, \"item_C_sales\": 293.0, \"hours_opened\": 11, \"is_long_weekend\": false, \"is_HCF\": false, \"type_of_day\": \"Weekday\", \"has_pop_up\": false, \"rain\": 2.4, \"snow\": 0.0, \"avg_cloud_cover_8\": 4.5, \"avg_temperature\": 14.55, \"season\": \"Spring\", \"log_total_sales_normalized\": 7.843785891085877, \"log_item_A_sales\": 7.074353875310855, \"log_item_B_sales\": 6.676831540348965, \"log_item_C_sales\": 5.680172609017068}, {\"total_sales_normalized\": 2171.26, \"item_A_sales\": 923.11, \"item_B_sales\": 692.21, \"item_C_sales\": 221.0, \"hours_opened\": 11, \"is_long_weekend\": false, \"is_HCF\": false, \"type_of_day\": \"Weekday\", \"has_pop_up\": false, \"rain\": 0.0, \"snow\": 0.0, \"avg_cloud_cover_8\": 4.5, \"avg_temperature\": 10.55, \"season\": \"Spring\", \"log_total_sales_normalized\": 7.68306292318662, \"log_item_A_sales\": 6.827748403999935, \"log_item_B_sales\": 6.539889377788599, \"log_item_C_sales\": 5.3981627015177525}]}}, {\"mode\": \"vega-lite\"});\n",
       "</script>"
      ],
      "text/plain": [
       "alt.ConcatChart(...)"
      ]
     },
     "execution_count": 187,
     "metadata": {},
     "output_type": "execute_result"
    }
   ],
   "source": [
    "aly.dist(train_df)"
   ]
  },
  {
   "cell_type": "code",
   "execution_count": 21,
   "metadata": {},
   "outputs": [
    {
     "data": {
      "text/html": [
       "<div>\n",
       "<style scoped>\n",
       "    .dataframe tbody tr th:only-of-type {\n",
       "        vertical-align: middle;\n",
       "    }\n",
       "\n",
       "    .dataframe tbody tr th {\n",
       "        vertical-align: top;\n",
       "    }\n",
       "\n",
       "    .dataframe thead th {\n",
       "        text-align: right;\n",
       "    }\n",
       "</style>\n",
       "<table border=\"1\" class=\"dataframe\">\n",
       "  <thead>\n",
       "    <tr style=\"text-align: right;\">\n",
       "      <th></th>\n",
       "      <th>total_sales_normalized</th>\n",
       "      <th>item_A_sales</th>\n",
       "      <th>item_B_sales</th>\n",
       "      <th>item_C_sales</th>\n",
       "      <th>hours_opened</th>\n",
       "      <th>rain</th>\n",
       "      <th>snow</th>\n",
       "      <th>avg_cloud_cover_8</th>\n",
       "      <th>avg_temperature</th>\n",
       "      <th>log_total_sales_normalized</th>\n",
       "      <th>log_item_A_sales</th>\n",
       "      <th>log_item_B_sales</th>\n",
       "      <th>log_item_C_sales</th>\n",
       "    </tr>\n",
       "  </thead>\n",
       "  <tbody>\n",
       "    <tr>\n",
       "      <th>count</th>\n",
       "      <td>340.00</td>\n",
       "      <td>340.00</td>\n",
       "      <td>340.00</td>\n",
       "      <td>340.00</td>\n",
       "      <td>340.00</td>\n",
       "      <td>340.00</td>\n",
       "      <td>340.00</td>\n",
       "      <td>340.00</td>\n",
       "      <td>340.00</td>\n",
       "      <td>340.00</td>\n",
       "      <td>340.00</td>\n",
       "      <td>340.00</td>\n",
       "      <td>340.00</td>\n",
       "    </tr>\n",
       "    <tr>\n",
       "      <th>mean</th>\n",
       "      <td>2975.94</td>\n",
       "      <td>1186.99</td>\n",
       "      <td>1253.53</td>\n",
       "      <td>257.79</td>\n",
       "      <td>11.31</td>\n",
       "      <td>3.33</td>\n",
       "      <td>0.06</td>\n",
       "      <td>4.65</td>\n",
       "      <td>10.48</td>\n",
       "      <td>7.90</td>\n",
       "      <td>7.00</td>\n",
       "      <td>6.96</td>\n",
       "      <td>5.43</td>\n",
       "    </tr>\n",
       "    <tr>\n",
       "      <th>std</th>\n",
       "      <td>1265.49</td>\n",
       "      <td>476.34</td>\n",
       "      <td>691.38</td>\n",
       "      <td>126.68</td>\n",
       "      <td>0.78</td>\n",
       "      <td>6.99</td>\n",
       "      <td>0.55</td>\n",
       "      <td>1.92</td>\n",
       "      <td>5.96</td>\n",
       "      <td>0.44</td>\n",
       "      <td>0.40</td>\n",
       "      <td>0.68</td>\n",
       "      <td>0.50</td>\n",
       "    </tr>\n",
       "    <tr>\n",
       "      <th>min</th>\n",
       "      <td>665.11</td>\n",
       "      <td>375.55</td>\n",
       "      <td>0.00</td>\n",
       "      <td>41.00</td>\n",
       "      <td>5.00</td>\n",
       "      <td>0.00</td>\n",
       "      <td>0.00</td>\n",
       "      <td>0.00</td>\n",
       "      <td>-4.95</td>\n",
       "      <td>6.50</td>\n",
       "      <td>5.93</td>\n",
       "      <td>0.00</td>\n",
       "      <td>3.71</td>\n",
       "    </tr>\n",
       "    <tr>\n",
       "      <th>25%</th>\n",
       "      <td>1882.80</td>\n",
       "      <td>801.04</td>\n",
       "      <td>663.38</td>\n",
       "      <td>163.25</td>\n",
       "      <td>11.00</td>\n",
       "      <td>0.00</td>\n",
       "      <td>0.00</td>\n",
       "      <td>4.00</td>\n",
       "      <td>6.48</td>\n",
       "      <td>7.54</td>\n",
       "      <td>6.69</td>\n",
       "      <td>6.50</td>\n",
       "      <td>5.10</td>\n",
       "    </tr>\n",
       "    <tr>\n",
       "      <th>50%</th>\n",
       "      <td>2873.34</td>\n",
       "      <td>1105.06</td>\n",
       "      <td>1131.45</td>\n",
       "      <td>241.00</td>\n",
       "      <td>11.00</td>\n",
       "      <td>0.00</td>\n",
       "      <td>0.00</td>\n",
       "      <td>4.50</td>\n",
       "      <td>10.05</td>\n",
       "      <td>7.96</td>\n",
       "      <td>7.01</td>\n",
       "      <td>7.03</td>\n",
       "      <td>5.48</td>\n",
       "    </tr>\n",
       "    <tr>\n",
       "      <th>75%</th>\n",
       "      <td>3777.98</td>\n",
       "      <td>1496.97</td>\n",
       "      <td>1643.45</td>\n",
       "      <td>325.00</td>\n",
       "      <td>12.00</td>\n",
       "      <td>4.00</td>\n",
       "      <td>0.00</td>\n",
       "      <td>6.00</td>\n",
       "      <td>15.55</td>\n",
       "      <td>8.24</td>\n",
       "      <td>7.31</td>\n",
       "      <td>7.40</td>\n",
       "      <td>5.78</td>\n",
       "    </tr>\n",
       "    <tr>\n",
       "      <th>max</th>\n",
       "      <td>7444.84</td>\n",
       "      <td>3810.20</td>\n",
       "      <td>3633.71</td>\n",
       "      <td>785.00</td>\n",
       "      <td>12.00</td>\n",
       "      <td>67.10</td>\n",
       "      <td>5.80</td>\n",
       "      <td>8.00</td>\n",
       "      <td>21.95</td>\n",
       "      <td>8.92</td>\n",
       "      <td>8.25</td>\n",
       "      <td>8.20</td>\n",
       "      <td>6.67</td>\n",
       "    </tr>\n",
       "  </tbody>\n",
       "</table>\n",
       "</div>"
      ],
      "text/plain": [
       "       total_sales_normalized  item_A_sales  item_B_sales  item_C_sales  \\\n",
       "count                  340.00        340.00        340.00        340.00   \n",
       "mean                  2975.94       1186.99       1253.53        257.79   \n",
       "std                   1265.49        476.34        691.38        126.68   \n",
       "min                    665.11        375.55          0.00         41.00   \n",
       "25%                   1882.80        801.04        663.38        163.25   \n",
       "50%                   2873.34       1105.06       1131.45        241.00   \n",
       "75%                   3777.98       1496.97       1643.45        325.00   \n",
       "max                   7444.84       3810.20       3633.71        785.00   \n",
       "\n",
       "       hours_opened    rain    snow  avg_cloud_cover_8  avg_temperature  \\\n",
       "count        340.00  340.00  340.00             340.00           340.00   \n",
       "mean          11.31    3.33    0.06               4.65            10.48   \n",
       "std            0.78    6.99    0.55               1.92             5.96   \n",
       "min            5.00    0.00    0.00               0.00            -4.95   \n",
       "25%           11.00    0.00    0.00               4.00             6.48   \n",
       "50%           11.00    0.00    0.00               4.50            10.05   \n",
       "75%           12.00    4.00    0.00               6.00            15.55   \n",
       "max           12.00   67.10    5.80               8.00            21.95   \n",
       "\n",
       "       log_total_sales_normalized  log_item_A_sales  log_item_B_sales  \\\n",
       "count                      340.00            340.00            340.00   \n",
       "mean                         7.90              7.00              6.96   \n",
       "std                          0.44              0.40              0.68   \n",
       "min                          6.50              5.93              0.00   \n",
       "25%                          7.54              6.69              6.50   \n",
       "50%                          7.96              7.01              7.03   \n",
       "75%                          8.24              7.31              7.40   \n",
       "max                          8.92              8.25              8.20   \n",
       "\n",
       "       log_item_C_sales  \n",
       "count            340.00  \n",
       "mean               5.43  \n",
       "std                0.50  \n",
       "min                3.71  \n",
       "25%                5.10  \n",
       "50%                5.48  \n",
       "75%                5.78  \n",
       "max                6.67  "
      ]
     },
     "execution_count": 21,
     "metadata": {},
     "output_type": "execute_result"
    }
   ],
   "source": [
    "round(train_df.describe(),2)"
   ]
  },
  {
   "cell_type": "code",
   "execution_count": 44,
   "metadata": {},
   "outputs": [
    {
     "data": {
      "text/html": [
       "\n",
       "<style>\n",
       "  #altair-viz-259cd80d437d4325a0f8abcc12e2932c.vega-embed {\n",
       "    width: 100%;\n",
       "    display: flex;\n",
       "  }\n",
       "\n",
       "  #altair-viz-259cd80d437d4325a0f8abcc12e2932c.vega-embed details,\n",
       "  #altair-viz-259cd80d437d4325a0f8abcc12e2932c.vega-embed details summary {\n",
       "    position: relative;\n",
       "  }\n",
       "</style>\n",
       "<div id=\"altair-viz-259cd80d437d4325a0f8abcc12e2932c\"></div>\n",
       "<script type=\"text/javascript\">\n",
       "  var VEGA_DEBUG = (typeof VEGA_DEBUG == \"undefined\") ? {} : VEGA_DEBUG;\n",
       "  (function(spec, embedOpt){\n",
       "    let outputDiv = document.currentScript.previousElementSibling;\n",
       "    if (outputDiv.id !== \"altair-viz-259cd80d437d4325a0f8abcc12e2932c\") {\n",
       "      outputDiv = document.getElementById(\"altair-viz-259cd80d437d4325a0f8abcc12e2932c\");\n",
       "    }\n",
       "\n",
       "    const paths = {\n",
       "      \"vega\": \"https://cdn.jsdelivr.net/npm/vega@5?noext\",\n",
       "      \"vega-lib\": \"https://cdn.jsdelivr.net/npm/vega-lib?noext\",\n",
       "      \"vega-lite\": \"https://cdn.jsdelivr.net/npm/vega-lite@5.20.1?noext\",\n",
       "      \"vega-embed\": \"https://cdn.jsdelivr.net/npm/vega-embed@6?noext\",\n",
       "    };\n",
       "\n",
       "    function maybeLoadScript(lib, version) {\n",
       "      var key = `${lib.replace(\"-\", \"\")}_version`;\n",
       "      return (VEGA_DEBUG[key] == version) ?\n",
       "        Promise.resolve(paths[lib]) :\n",
       "        new Promise(function(resolve, reject) {\n",
       "          var s = document.createElement('script');\n",
       "          document.getElementsByTagName(\"head\")[0].appendChild(s);\n",
       "          s.async = true;\n",
       "          s.onload = () => {\n",
       "            VEGA_DEBUG[key] = version;\n",
       "            return resolve(paths[lib]);\n",
       "          };\n",
       "          s.onerror = () => reject(`Error loading script: ${paths[lib]}`);\n",
       "          s.src = paths[lib];\n",
       "        });\n",
       "    }\n",
       "\n",
       "    function showError(err) {\n",
       "      outputDiv.innerHTML = `<div class=\"error\" style=\"color:red;\">${err}</div>`;\n",
       "      throw err;\n",
       "    }\n",
       "\n",
       "    function displayChart(vegaEmbed) {\n",
       "      vegaEmbed(outputDiv, spec, embedOpt)\n",
       "        .catch(err => showError(`Javascript Error: ${err.message}<br>This usually means there's a typo in your chart specification. See the javascript console for the full traceback.`));\n",
       "    }\n",
       "\n",
       "    if(typeof define === \"function\" && define.amd) {\n",
       "      requirejs.config({paths});\n",
       "      let deps = [\"vega-embed\"];\n",
       "      require(deps, displayChart, err => showError(`Error loading script: ${err.message}`));\n",
       "    } else {\n",
       "      maybeLoadScript(\"vega\", \"5\")\n",
       "        .then(() => maybeLoadScript(\"vega-lite\", \"5.20.1\"))\n",
       "        .then(() => maybeLoadScript(\"vega-embed\", \"6\"))\n",
       "        .catch(showError)\n",
       "        .then(() => displayChart(vegaEmbed));\n",
       "    }\n",
       "  })({\"config\": {\"view\": {\"continuousWidth\": 300, \"continuousHeight\": 300, \"strokeWidth\": 0}}, \"concat\": [{\"data\": {\"name\": \"data-bc83c9205908879c9572e7b00d3840ea\"}, \"mark\": {\"type\": \"circle\"}, \"encoding\": {\"color\": {\"field\": \"value\", \"scale\": {\"domain\": [-1, 1], \"scheme\": \"blueorange\"}, \"title\": \"\", \"type\": \"quantitative\"}, \"size\": {\"field\": \"abs_value\", \"legend\": null, \"scale\": {\"domain\": [0, 1]}, \"type\": \"quantitative\"}, \"tooltip\": [{\"field\": \"value\", \"format\": \".2f\", \"title\": \"corr\", \"type\": \"quantitative\"}, {\"field\": \"index\", \"title\": \"x\", \"type\": \"nominal\"}, {\"field\": \"variable\", \"title\": \"y\", \"type\": \"nominal\"}], \"x\": {\"field\": \"index\", \"sort\": [\"log_total_sales_normalized\", \"avg_temperature\", \"avg_cloud_cover_8\", \"snow\", \"rain\", \"hours_opened\"], \"title\": \"\", \"type\": \"nominal\"}, \"y\": {\"axis\": {}, \"field\": \"variable\", \"sort\": [\"avg_temperature\", \"avg_cloud_cover_8\", \"snow\", \"rain\", \"hours_opened\", \"total_sales_normalized\"], \"title\": \"\", \"type\": \"nominal\"}}, \"title\": \"Pearson correlations\", \"transform\": [{\"calculate\": \"abs(datum.value)\", \"as\": \"abs_value\"}]}, {\"data\": {\"name\": \"data-d40051dabd1579af06fa215ecd57c1d4\"}, \"mark\": {\"type\": \"circle\"}, \"encoding\": {\"color\": {\"field\": \"value\", \"scale\": {\"domain\": [-1, 1], \"scheme\": \"blueorange\"}, \"title\": \"\", \"type\": \"quantitative\"}, \"size\": {\"field\": \"abs_value\", \"legend\": null, \"scale\": {\"domain\": [0, 1]}, \"type\": \"quantitative\"}, \"tooltip\": [{\"field\": \"value\", \"format\": \".2f\", \"title\": \"corr\", \"type\": \"quantitative\"}, {\"field\": \"index\", \"title\": \"x\", \"type\": \"nominal\"}, {\"field\": \"variable\", \"title\": \"y\", \"type\": \"nominal\"}], \"x\": {\"field\": \"index\", \"sort\": [\"log_total_sales_normalized\", \"avg_temperature\", \"avg_cloud_cover_8\", \"snow\", \"rain\", \"hours_opened\"], \"title\": \"\", \"type\": \"nominal\"}, \"y\": {\"axis\": {\"labels\": false}, \"field\": \"variable\", \"sort\": [\"avg_temperature\", \"avg_cloud_cover_8\", \"snow\", \"rain\", \"hours_opened\", \"total_sales_normalized\"], \"title\": \"\", \"type\": \"nominal\"}}, \"title\": \"Spearman correlations\", \"transform\": [{\"calculate\": \"abs(datum.value)\", \"as\": \"abs_value\"}]}], \"resolve\": {\"axis\": {\"y\": \"shared\"}}, \"$schema\": \"https://vega.github.io/schema/vega-lite/v5.20.1.json\", \"datasets\": {\"data-bc83c9205908879c9572e7b00d3840ea\": [{\"index\": \"hours_opened\", \"variable\": \"total_sales_normalized\", \"value\": 0.45360085806678724}, {\"index\": \"snow\", \"variable\": \"total_sales_normalized\", \"value\": -0.10456185463157339}, {\"index\": \"avg_cloud_cover_8\", \"variable\": \"total_sales_normalized\", \"value\": -0.17506624383746433}, {\"index\": \"avg_temperature\", \"variable\": \"total_sales_normalized\", \"value\": 0.41180211195710226}, {\"index\": \"log_total_sales_normalized\", \"variable\": \"total_sales_normalized\", \"value\": 0.968619620964778}, {\"index\": \"rain\", \"variable\": \"total_sales_normalized\", \"value\": -0.10933193676843406}, {\"index\": \"log_total_sales_normalized\", \"variable\": \"snow\", \"value\": -0.11618826070750761}, {\"index\": \"avg_temperature\", \"variable\": \"snow\", \"value\": -0.20020760691827855}, {\"index\": \"avg_cloud_cover_8\", \"variable\": \"snow\", \"value\": 0.04754626204344697}, {\"index\": \"avg_temperature\", \"variable\": \"rain\", \"value\": -0.06149769158072981}, {\"index\": \"log_total_sales_normalized\", \"variable\": \"rain\", \"value\": -0.0984921915958666}, {\"index\": \"snow\", \"variable\": \"rain\", \"value\": -0.0036985291717393947}, {\"index\": \"avg_cloud_cover_8\", \"variable\": \"rain\", \"value\": 0.46371892907425366}, {\"index\": \"log_total_sales_normalized\", \"variable\": \"hours_opened\", \"value\": 0.5214961151420353}, {\"index\": \"avg_temperature\", \"variable\": \"hours_opened\", \"value\": 0.09065591609002734}, {\"index\": \"avg_cloud_cover_8\", \"variable\": \"hours_opened\", \"value\": -0.03456063957848271}, {\"index\": \"snow\", \"variable\": \"hours_opened\", \"value\": -0.041889858686430304}, {\"index\": \"rain\", \"variable\": \"hours_opened\", \"value\": -0.01678955641670466}, {\"index\": \"log_total_sales_normalized\", \"variable\": \"avg_temperature\", \"value\": 0.4198054597676125}, {\"index\": \"avg_temperature\", \"variable\": \"avg_cloud_cover_8\", \"value\": -0.22623528130033907}, {\"index\": \"log_total_sales_normalized\", \"variable\": \"avg_cloud_cover_8\", \"value\": -0.17807409495647988}], \"data-d40051dabd1579af06fa215ecd57c1d4\": [{\"index\": \"hours_opened\", \"variable\": \"total_sales_normalized\", \"value\": 0.6148260903785341}, {\"index\": \"snow\", \"variable\": \"total_sales_normalized\", \"value\": -0.09350984102324959}, {\"index\": \"avg_cloud_cover_8\", \"variable\": \"total_sales_normalized\", \"value\": -0.14116389972892676}, {\"index\": \"avg_temperature\", \"variable\": \"total_sales_normalized\", \"value\": 0.40170777272517694}, {\"index\": \"log_total_sales_normalized\", \"variable\": \"total_sales_normalized\", \"value\": 1.0}, {\"index\": \"rain\", \"variable\": \"total_sales_normalized\", \"value\": -0.1311051195334565}, {\"index\": \"log_total_sales_normalized\", \"variable\": \"snow\", \"value\": -0.09350984102324959}, {\"index\": \"avg_temperature\", \"variable\": \"snow\", \"value\": -0.18864474850918475}, {\"index\": \"avg_cloud_cover_8\", \"variable\": \"snow\", \"value\": 0.05809195520861186}, {\"index\": \"avg_temperature\", \"variable\": \"rain\", \"value\": -0.1563210582509816}, {\"index\": \"log_total_sales_normalized\", \"variable\": \"rain\", \"value\": -0.1311051195334565}, {\"index\": \"snow\", \"variable\": \"rain\", \"value\": -0.0043769731977591035}, {\"index\": \"avg_cloud_cover_8\", \"variable\": \"rain\", \"value\": 0.6624900101231012}, {\"index\": \"log_total_sales_normalized\", \"variable\": \"hours_opened\", \"value\": 0.6148260903785341}, {\"index\": \"avg_temperature\", \"variable\": \"hours_opened\", \"value\": 0.1004113768018667}, {\"index\": \"avg_cloud_cover_8\", \"variable\": \"hours_opened\", \"value\": 0.06679394974309068}, {\"index\": \"snow\", \"variable\": \"hours_opened\", \"value\": -0.040942109345399165}, {\"index\": \"rain\", \"variable\": \"hours_opened\", \"value\": 0.044741082371639776}, {\"index\": \"log_total_sales_normalized\", \"variable\": \"avg_temperature\", \"value\": 0.40170777272517694}, {\"index\": \"avg_temperature\", \"variable\": \"avg_cloud_cover_8\", \"value\": -0.21299578739217173}, {\"index\": \"log_total_sales_normalized\", \"variable\": \"avg_cloud_cover_8\", \"value\": -0.14116389972892676}]}}, {\"mode\": \"vega-lite\"});\n",
       "</script>"
      ],
      "text/plain": [
       "alt.ConcatChart(...)"
      ]
     },
     "execution_count": 44,
     "metadata": {},
     "output_type": "execute_result"
    }
   ],
   "source": [
    "aly.corr(train_df.drop(columns=['log_item_A_sales', 'item_A_sales', 'log_item_B_sales', 'item_B_sales', 'item_C_sales', 'log_item_C_sales']))"
   ]
  },
  {
   "cell_type": "code",
   "execution_count": 47,
   "metadata": {},
   "outputs": [
    {
     "data": {
      "text/html": [
       "\n",
       "<style>\n",
       "  #altair-viz-1b6c4f48aef945d8973002d147ac0171.vega-embed {\n",
       "    width: 100%;\n",
       "    display: flex;\n",
       "  }\n",
       "\n",
       "  #altair-viz-1b6c4f48aef945d8973002d147ac0171.vega-embed details,\n",
       "  #altair-viz-1b6c4f48aef945d8973002d147ac0171.vega-embed details summary {\n",
       "    position: relative;\n",
       "  }\n",
       "</style>\n",
       "<div id=\"altair-viz-1b6c4f48aef945d8973002d147ac0171\"></div>\n",
       "<script type=\"text/javascript\">\n",
       "  var VEGA_DEBUG = (typeof VEGA_DEBUG == \"undefined\") ? {} : VEGA_DEBUG;\n",
       "  (function(spec, embedOpt){\n",
       "    let outputDiv = document.currentScript.previousElementSibling;\n",
       "    if (outputDiv.id !== \"altair-viz-1b6c4f48aef945d8973002d147ac0171\") {\n",
       "      outputDiv = document.getElementById(\"altair-viz-1b6c4f48aef945d8973002d147ac0171\");\n",
       "    }\n",
       "\n",
       "    const paths = {\n",
       "      \"vega\": \"https://cdn.jsdelivr.net/npm/vega@5?noext\",\n",
       "      \"vega-lib\": \"https://cdn.jsdelivr.net/npm/vega-lib?noext\",\n",
       "      \"vega-lite\": \"https://cdn.jsdelivr.net/npm/vega-lite@5.20.1?noext\",\n",
       "      \"vega-embed\": \"https://cdn.jsdelivr.net/npm/vega-embed@6?noext\",\n",
       "    };\n",
       "\n",
       "    function maybeLoadScript(lib, version) {\n",
       "      var key = `${lib.replace(\"-\", \"\")}_version`;\n",
       "      return (VEGA_DEBUG[key] == version) ?\n",
       "        Promise.resolve(paths[lib]) :\n",
       "        new Promise(function(resolve, reject) {\n",
       "          var s = document.createElement('script');\n",
       "          document.getElementsByTagName(\"head\")[0].appendChild(s);\n",
       "          s.async = true;\n",
       "          s.onload = () => {\n",
       "            VEGA_DEBUG[key] = version;\n",
       "            return resolve(paths[lib]);\n",
       "          };\n",
       "          s.onerror = () => reject(`Error loading script: ${paths[lib]}`);\n",
       "          s.src = paths[lib];\n",
       "        });\n",
       "    }\n",
       "\n",
       "    function showError(err) {\n",
       "      outputDiv.innerHTML = `<div class=\"error\" style=\"color:red;\">${err}</div>`;\n",
       "      throw err;\n",
       "    }\n",
       "\n",
       "    function displayChart(vegaEmbed) {\n",
       "      vegaEmbed(outputDiv, spec, embedOpt)\n",
       "        .catch(err => showError(`Javascript Error: ${err.message}<br>This usually means there's a typo in your chart specification. See the javascript console for the full traceback.`));\n",
       "    }\n",
       "\n",
       "    if(typeof define === \"function\" && define.amd) {\n",
       "      requirejs.config({paths});\n",
       "      let deps = [\"vega-embed\"];\n",
       "      require(deps, displayChart, err => showError(`Error loading script: ${err.message}`));\n",
       "    } else {\n",
       "      maybeLoadScript(\"vega\", \"5\")\n",
       "        .then(() => maybeLoadScript(\"vega-lite\", \"5.20.1\"))\n",
       "        .then(() => maybeLoadScript(\"vega-embed\", \"6\"))\n",
       "        .catch(showError)\n",
       "        .then(() => displayChart(vegaEmbed));\n",
       "    }\n",
       "  })({\"config\": {\"view\": {\"continuousWidth\": 300, \"continuousHeight\": 300, \"strokeWidth\": 0}}, \"concat\": [{\"data\": {\"name\": \"data-8e0ec8368e246d73ea3235d8e87f18e8\"}, \"mark\": {\"type\": \"circle\"}, \"encoding\": {\"color\": {\"field\": \"value\", \"scale\": {\"domain\": [-1, 1], \"scheme\": \"blueorange\"}, \"title\": \"\", \"type\": \"quantitative\"}, \"size\": {\"field\": \"abs_value\", \"legend\": null, \"scale\": {\"domain\": [0, 1]}, \"type\": \"quantitative\"}, \"tooltip\": [{\"field\": \"value\", \"format\": \".2f\", \"title\": \"corr\", \"type\": \"quantitative\"}, {\"field\": \"index\", \"title\": \"x\", \"type\": \"nominal\"}, {\"field\": \"variable\", \"title\": \"y\", \"type\": \"nominal\"}], \"x\": {\"field\": \"index\", \"sort\": [\"log_item_A_sales\", \"avg_temperature\", \"avg_cloud_cover_8\", \"snow\", \"rain\", \"hours_opened\"], \"title\": \"\", \"type\": \"nominal\"}, \"y\": {\"axis\": {}, \"field\": \"variable\", \"sort\": [\"avg_temperature\", \"avg_cloud_cover_8\", \"snow\", \"rain\", \"hours_opened\", \"item_A_sales\"], \"title\": \"\", \"type\": \"nominal\"}}, \"title\": \"Pearson correlations\", \"transform\": [{\"calculate\": \"abs(datum.value)\", \"as\": \"abs_value\"}]}, {\"data\": {\"name\": \"data-e5eee8eebdab126f84dc1a29793a45ee\"}, \"mark\": {\"type\": \"circle\"}, \"encoding\": {\"color\": {\"field\": \"value\", \"scale\": {\"domain\": [-1, 1], \"scheme\": \"blueorange\"}, \"title\": \"\", \"type\": \"quantitative\"}, \"size\": {\"field\": \"abs_value\", \"legend\": null, \"scale\": {\"domain\": [0, 1]}, \"type\": \"quantitative\"}, \"tooltip\": [{\"field\": \"value\", \"format\": \".2f\", \"title\": \"corr\", \"type\": \"quantitative\"}, {\"field\": \"index\", \"title\": \"x\", \"type\": \"nominal\"}, {\"field\": \"variable\", \"title\": \"y\", \"type\": \"nominal\"}], \"x\": {\"field\": \"index\", \"sort\": [\"log_item_A_sales\", \"avg_temperature\", \"avg_cloud_cover_8\", \"snow\", \"rain\", \"hours_opened\"], \"title\": \"\", \"type\": \"nominal\"}, \"y\": {\"axis\": {\"labels\": false}, \"field\": \"variable\", \"sort\": [\"avg_temperature\", \"avg_cloud_cover_8\", \"snow\", \"rain\", \"hours_opened\", \"item_A_sales\"], \"title\": \"\", \"type\": \"nominal\"}}, \"title\": \"Spearman correlations\", \"transform\": [{\"calculate\": \"abs(datum.value)\", \"as\": \"abs_value\"}]}], \"resolve\": {\"axis\": {\"y\": \"shared\"}}, \"$schema\": \"https://vega.github.io/schema/vega-lite/v5.20.1.json\", \"datasets\": {\"data-8e0ec8368e246d73ea3235d8e87f18e8\": [{\"index\": \"log_item_A_sales\", \"variable\": \"snow\", \"value\": -0.09635322533790389}, {\"index\": \"avg_temperature\", \"variable\": \"snow\", \"value\": -0.20020760691827855}, {\"index\": \"avg_cloud_cover_8\", \"variable\": \"snow\", \"value\": 0.04754626204344697}, {\"index\": \"avg_temperature\", \"variable\": \"rain\", \"value\": -0.06149769158072981}, {\"index\": \"log_item_A_sales\", \"variable\": \"rain\", \"value\": 0.008555462240960088}, {\"index\": \"snow\", \"variable\": \"rain\", \"value\": -0.0036985291717393947}, {\"index\": \"avg_cloud_cover_8\", \"variable\": \"rain\", \"value\": 0.46371892907425366}, {\"index\": \"hours_opened\", \"variable\": \"item_A_sales\", \"value\": 0.38202803745566005}, {\"index\": \"snow\", \"variable\": \"item_A_sales\", \"value\": -0.08551415051166296}, {\"index\": \"avg_cloud_cover_8\", \"variable\": \"item_A_sales\", \"value\": 0.02804452082690622}, {\"index\": \"avg_temperature\", \"variable\": \"item_A_sales\", \"value\": 0.22624714257390813}, {\"index\": \"log_item_A_sales\", \"variable\": \"item_A_sales\", \"value\": 0.969193589454317}, {\"index\": \"rain\", \"variable\": \"item_A_sales\", \"value\": 0.0052553250481735345}, {\"index\": \"log_item_A_sales\", \"variable\": \"hours_opened\", \"value\": 0.46852251817600377}, {\"index\": \"avg_temperature\", \"variable\": \"hours_opened\", \"value\": 0.09065591609002734}, {\"index\": \"avg_cloud_cover_8\", \"variable\": \"hours_opened\", \"value\": -0.03456063957848271}, {\"index\": \"snow\", \"variable\": \"hours_opened\", \"value\": -0.041889858686430304}, {\"index\": \"rain\", \"variable\": \"hours_opened\", \"value\": -0.01678955641670466}, {\"index\": \"log_item_A_sales\", \"variable\": \"avg_temperature\", \"value\": 0.26124016644118325}, {\"index\": \"avg_temperature\", \"variable\": \"avg_cloud_cover_8\", \"value\": -0.22623528130033907}, {\"index\": \"log_item_A_sales\", \"variable\": \"avg_cloud_cover_8\", \"value\": -0.000592915313991791}], \"data-e5eee8eebdab126f84dc1a29793a45ee\": [{\"index\": \"log_item_A_sales\", \"variable\": \"snow\", \"value\": -0.07879909069041661}, {\"index\": \"avg_temperature\", \"variable\": \"snow\", \"value\": -0.18864474850918475}, {\"index\": \"avg_cloud_cover_8\", \"variable\": \"snow\", \"value\": 0.05809195520861186}, {\"index\": \"avg_temperature\", \"variable\": \"rain\", \"value\": -0.1563210582509816}, {\"index\": \"log_item_A_sales\", \"variable\": \"rain\", \"value\": 0.012974023035324474}, {\"index\": \"snow\", \"variable\": \"rain\", \"value\": -0.0043769731977591035}, {\"index\": \"avg_cloud_cover_8\", \"variable\": \"rain\", \"value\": 0.6624900101231012}, {\"index\": \"hours_opened\", \"variable\": \"item_A_sales\", \"value\": 0.6085291554476596}, {\"index\": \"snow\", \"variable\": \"item_A_sales\", \"value\": -0.07879909069041661}, {\"index\": \"avg_cloud_cover_8\", \"variable\": \"item_A_sales\", \"value\": 0.030440006582647602}, {\"index\": \"avg_temperature\", \"variable\": \"item_A_sales\", \"value\": 0.24089158121642312}, {\"index\": \"log_item_A_sales\", \"variable\": \"item_A_sales\", \"value\": 1.0}, {\"index\": \"rain\", \"variable\": \"item_A_sales\", \"value\": 0.012974023035324474}, {\"index\": \"log_item_A_sales\", \"variable\": \"hours_opened\", \"value\": 0.6085291554476596}, {\"index\": \"avg_temperature\", \"variable\": \"hours_opened\", \"value\": 0.1004113768018667}, {\"index\": \"avg_cloud_cover_8\", \"variable\": \"hours_opened\", \"value\": 0.06679394974309068}, {\"index\": \"snow\", \"variable\": \"hours_opened\", \"value\": -0.040942109345399165}, {\"index\": \"rain\", \"variable\": \"hours_opened\", \"value\": 0.044741082371639776}, {\"index\": \"log_item_A_sales\", \"variable\": \"avg_temperature\", \"value\": 0.24089158121642312}, {\"index\": \"avg_temperature\", \"variable\": \"avg_cloud_cover_8\", \"value\": -0.21299578739217173}, {\"index\": \"log_item_A_sales\", \"variable\": \"avg_cloud_cover_8\", \"value\": 0.030440006582647602}]}}, {\"mode\": \"vega-lite\"});\n",
       "</script>"
      ],
      "text/plain": [
       "alt.ConcatChart(...)"
      ]
     },
     "execution_count": 47,
     "metadata": {},
     "output_type": "execute_result"
    }
   ],
   "source": [
    "aly.corr(train_df.drop(columns=['log_total_sales_normalized', 'total_sales_normalized', 'log_item_B_sales', 'item_B_sales', 'item_C_sales', 'log_item_C_sales']))"
   ]
  },
  {
   "cell_type": "code",
   "execution_count": 48,
   "metadata": {},
   "outputs": [
    {
     "data": {
      "text/html": [
       "\n",
       "<style>\n",
       "  #altair-viz-ace94a307a7640babd2330d2077ccfd8.vega-embed {\n",
       "    width: 100%;\n",
       "    display: flex;\n",
       "  }\n",
       "\n",
       "  #altair-viz-ace94a307a7640babd2330d2077ccfd8.vega-embed details,\n",
       "  #altair-viz-ace94a307a7640babd2330d2077ccfd8.vega-embed details summary {\n",
       "    position: relative;\n",
       "  }\n",
       "</style>\n",
       "<div id=\"altair-viz-ace94a307a7640babd2330d2077ccfd8\"></div>\n",
       "<script type=\"text/javascript\">\n",
       "  var VEGA_DEBUG = (typeof VEGA_DEBUG == \"undefined\") ? {} : VEGA_DEBUG;\n",
       "  (function(spec, embedOpt){\n",
       "    let outputDiv = document.currentScript.previousElementSibling;\n",
       "    if (outputDiv.id !== \"altair-viz-ace94a307a7640babd2330d2077ccfd8\") {\n",
       "      outputDiv = document.getElementById(\"altair-viz-ace94a307a7640babd2330d2077ccfd8\");\n",
       "    }\n",
       "\n",
       "    const paths = {\n",
       "      \"vega\": \"https://cdn.jsdelivr.net/npm/vega@5?noext\",\n",
       "      \"vega-lib\": \"https://cdn.jsdelivr.net/npm/vega-lib?noext\",\n",
       "      \"vega-lite\": \"https://cdn.jsdelivr.net/npm/vega-lite@5.20.1?noext\",\n",
       "      \"vega-embed\": \"https://cdn.jsdelivr.net/npm/vega-embed@6?noext\",\n",
       "    };\n",
       "\n",
       "    function maybeLoadScript(lib, version) {\n",
       "      var key = `${lib.replace(\"-\", \"\")}_version`;\n",
       "      return (VEGA_DEBUG[key] == version) ?\n",
       "        Promise.resolve(paths[lib]) :\n",
       "        new Promise(function(resolve, reject) {\n",
       "          var s = document.createElement('script');\n",
       "          document.getElementsByTagName(\"head\")[0].appendChild(s);\n",
       "          s.async = true;\n",
       "          s.onload = () => {\n",
       "            VEGA_DEBUG[key] = version;\n",
       "            return resolve(paths[lib]);\n",
       "          };\n",
       "          s.onerror = () => reject(`Error loading script: ${paths[lib]}`);\n",
       "          s.src = paths[lib];\n",
       "        });\n",
       "    }\n",
       "\n",
       "    function showError(err) {\n",
       "      outputDiv.innerHTML = `<div class=\"error\" style=\"color:red;\">${err}</div>`;\n",
       "      throw err;\n",
       "    }\n",
       "\n",
       "    function displayChart(vegaEmbed) {\n",
       "      vegaEmbed(outputDiv, spec, embedOpt)\n",
       "        .catch(err => showError(`Javascript Error: ${err.message}<br>This usually means there's a typo in your chart specification. See the javascript console for the full traceback.`));\n",
       "    }\n",
       "\n",
       "    if(typeof define === \"function\" && define.amd) {\n",
       "      requirejs.config({paths});\n",
       "      let deps = [\"vega-embed\"];\n",
       "      require(deps, displayChart, err => showError(`Error loading script: ${err.message}`));\n",
       "    } else {\n",
       "      maybeLoadScript(\"vega\", \"5\")\n",
       "        .then(() => maybeLoadScript(\"vega-lite\", \"5.20.1\"))\n",
       "        .then(() => maybeLoadScript(\"vega-embed\", \"6\"))\n",
       "        .catch(showError)\n",
       "        .then(() => displayChart(vegaEmbed));\n",
       "    }\n",
       "  })({\"config\": {\"view\": {\"continuousWidth\": 300, \"continuousHeight\": 300, \"strokeWidth\": 0}}, \"concat\": [{\"data\": {\"name\": \"data-5eac93780e1fc7a3531e17af9ca194a2\"}, \"mark\": {\"type\": \"circle\"}, \"encoding\": {\"color\": {\"field\": \"value\", \"scale\": {\"domain\": [-1, 1], \"scheme\": \"blueorange\"}, \"title\": \"\", \"type\": \"quantitative\"}, \"size\": {\"field\": \"abs_value\", \"legend\": null, \"scale\": {\"domain\": [0, 1]}, \"type\": \"quantitative\"}, \"tooltip\": [{\"field\": \"value\", \"format\": \".2f\", \"title\": \"corr\", \"type\": \"quantitative\"}, {\"field\": \"index\", \"title\": \"x\", \"type\": \"nominal\"}, {\"field\": \"variable\", \"title\": \"y\", \"type\": \"nominal\"}], \"x\": {\"field\": \"index\", \"sort\": [\"log_item_B_sales\", \"avg_temperature\", \"avg_cloud_cover_8\", \"snow\", \"rain\", \"hours_opened\"], \"title\": \"\", \"type\": \"nominal\"}, \"y\": {\"axis\": {}, \"field\": \"variable\", \"sort\": [\"avg_temperature\", \"avg_cloud_cover_8\", \"snow\", \"rain\", \"hours_opened\", \"item_B_sales\"], \"title\": \"\", \"type\": \"nominal\"}}, \"title\": \"Pearson correlations\", \"transform\": [{\"calculate\": \"abs(datum.value)\", \"as\": \"abs_value\"}]}, {\"data\": {\"name\": \"data-f9b81ef781131adfa7f37004b2357ceb\"}, \"mark\": {\"type\": \"circle\"}, \"encoding\": {\"color\": {\"field\": \"value\", \"scale\": {\"domain\": [-1, 1], \"scheme\": \"blueorange\"}, \"title\": \"\", \"type\": \"quantitative\"}, \"size\": {\"field\": \"abs_value\", \"legend\": null, \"scale\": {\"domain\": [0, 1]}, \"type\": \"quantitative\"}, \"tooltip\": [{\"field\": \"value\", \"format\": \".2f\", \"title\": \"corr\", \"type\": \"quantitative\"}, {\"field\": \"index\", \"title\": \"x\", \"type\": \"nominal\"}, {\"field\": \"variable\", \"title\": \"y\", \"type\": \"nominal\"}], \"x\": {\"field\": \"index\", \"sort\": [\"log_item_B_sales\", \"avg_temperature\", \"avg_cloud_cover_8\", \"snow\", \"rain\", \"hours_opened\"], \"title\": \"\", \"type\": \"nominal\"}, \"y\": {\"axis\": {\"labels\": false}, \"field\": \"variable\", \"sort\": [\"avg_temperature\", \"avg_cloud_cover_8\", \"snow\", \"rain\", \"hours_opened\", \"item_B_sales\"], \"title\": \"\", \"type\": \"nominal\"}}, \"title\": \"Spearman correlations\", \"transform\": [{\"calculate\": \"abs(datum.value)\", \"as\": \"abs_value\"}]}], \"resolve\": {\"axis\": {\"y\": \"shared\"}}, \"$schema\": \"https://vega.github.io/schema/vega-lite/v5.20.1.json\", \"datasets\": {\"data-5eac93780e1fc7a3531e17af9ca194a2\": [{\"index\": \"log_item_B_sales\", \"variable\": \"snow\", \"value\": -0.14582029941281804}, {\"index\": \"avg_temperature\", \"variable\": \"snow\", \"value\": -0.20020760691827855}, {\"index\": \"avg_cloud_cover_8\", \"variable\": \"snow\", \"value\": 0.04754626204344697}, {\"index\": \"avg_temperature\", \"variable\": \"rain\", \"value\": -0.06149769158072981}, {\"index\": \"log_item_B_sales\", \"variable\": \"rain\", \"value\": -0.18579103992065946}, {\"index\": \"snow\", \"variable\": \"rain\", \"value\": -0.0036985291717393947}, {\"index\": \"avg_cloud_cover_8\", \"variable\": \"rain\", \"value\": 0.46371892907425366}, {\"index\": \"hours_opened\", \"variable\": \"item_B_sales\", \"value\": 0.4442959440888587}, {\"index\": \"snow\", \"variable\": \"item_B_sales\", \"value\": -0.1278860334817691}, {\"index\": \"avg_cloud_cover_8\", \"variable\": \"item_B_sales\", \"value\": -0.29951742065716774}, {\"index\": \"avg_temperature\", \"variable\": \"item_B_sales\", \"value\": 0.5930540912172257}, {\"index\": \"log_item_B_sales\", \"variable\": \"item_B_sales\", \"value\": 0.8410128113273683}, {\"index\": \"rain\", \"variable\": \"item_B_sales\", \"value\": -0.18099161713406622}, {\"index\": \"log_item_B_sales\", \"variable\": \"hours_opened\", \"value\": 0.5862968413414511}, {\"index\": \"avg_temperature\", \"variable\": \"hours_opened\", \"value\": 0.09065591609002734}, {\"index\": \"avg_cloud_cover_8\", \"variable\": \"hours_opened\", \"value\": -0.03456063957848271}, {\"index\": \"snow\", \"variable\": \"hours_opened\", \"value\": -0.041889858686430304}, {\"index\": \"rain\", \"variable\": \"hours_opened\", \"value\": -0.01678955641670466}, {\"index\": \"log_item_B_sales\", \"variable\": \"avg_temperature\", \"value\": 0.5020237362567526}, {\"index\": \"avg_temperature\", \"variable\": \"avg_cloud_cover_8\", \"value\": -0.22623528130033907}, {\"index\": \"log_item_B_sales\", \"variable\": \"avg_cloud_cover_8\", \"value\": -0.21700789132724813}], \"data-f9b81ef781131adfa7f37004b2357ceb\": [{\"index\": \"log_item_B_sales\", \"variable\": \"snow\", \"value\": -0.13989439022602762}, {\"index\": \"avg_temperature\", \"variable\": \"snow\", \"value\": -0.18864474850918475}, {\"index\": \"avg_cloud_cover_8\", \"variable\": \"snow\", \"value\": 0.05809195520861186}, {\"index\": \"avg_temperature\", \"variable\": \"rain\", \"value\": -0.1563210582509816}, {\"index\": \"log_item_B_sales\", \"variable\": \"rain\", \"value\": -0.216632903099034}, {\"index\": \"snow\", \"variable\": \"rain\", \"value\": -0.0043769731977591035}, {\"index\": \"avg_cloud_cover_8\", \"variable\": \"rain\", \"value\": 0.6624900101231012}, {\"index\": \"hours_opened\", \"variable\": \"item_B_sales\", \"value\": 0.5635884568329349}, {\"index\": \"snow\", \"variable\": \"item_B_sales\", \"value\": -0.13989439022602762}, {\"index\": \"avg_cloud_cover_8\", \"variable\": \"item_B_sales\", \"value\": -0.24224566817587337}, {\"index\": \"avg_temperature\", \"variable\": \"item_B_sales\", \"value\": 0.5818904634783535}, {\"index\": \"log_item_B_sales\", \"variable\": \"item_B_sales\", \"value\": 1.0}, {\"index\": \"rain\", \"variable\": \"item_B_sales\", \"value\": -0.216632903099034}, {\"index\": \"log_item_B_sales\", \"variable\": \"hours_opened\", \"value\": 0.5635884568329349}, {\"index\": \"avg_temperature\", \"variable\": \"hours_opened\", \"value\": 0.1004113768018667}, {\"index\": \"avg_cloud_cover_8\", \"variable\": \"hours_opened\", \"value\": 0.06679394974309068}, {\"index\": \"snow\", \"variable\": \"hours_opened\", \"value\": -0.040942109345399165}, {\"index\": \"rain\", \"variable\": \"hours_opened\", \"value\": 0.044741082371639776}, {\"index\": \"log_item_B_sales\", \"variable\": \"avg_temperature\", \"value\": 0.5818904634783535}, {\"index\": \"avg_temperature\", \"variable\": \"avg_cloud_cover_8\", \"value\": -0.21299578739217173}, {\"index\": \"log_item_B_sales\", \"variable\": \"avg_cloud_cover_8\", \"value\": -0.24224566817587337}]}}, {\"mode\": \"vega-lite\"});\n",
       "</script>"
      ],
      "text/plain": [
       "alt.ConcatChart(...)"
      ]
     },
     "execution_count": 48,
     "metadata": {},
     "output_type": "execute_result"
    }
   ],
   "source": [
    "aly.corr(train_df.drop(columns=['log_total_sales_normalized', 'total_sales_normalized', 'log_item_A_sales', 'item_A_sales', 'item_C_sales', 'log_item_C_sales']))"
   ]
  },
  {
   "cell_type": "code",
   "execution_count": 49,
   "metadata": {},
   "outputs": [
    {
     "data": {
      "text/html": [
       "\n",
       "<style>\n",
       "  #altair-viz-5a84d02f62044b56807b04ea2cb373a7.vega-embed {\n",
       "    width: 100%;\n",
       "    display: flex;\n",
       "  }\n",
       "\n",
       "  #altair-viz-5a84d02f62044b56807b04ea2cb373a7.vega-embed details,\n",
       "  #altair-viz-5a84d02f62044b56807b04ea2cb373a7.vega-embed details summary {\n",
       "    position: relative;\n",
       "  }\n",
       "</style>\n",
       "<div id=\"altair-viz-5a84d02f62044b56807b04ea2cb373a7\"></div>\n",
       "<script type=\"text/javascript\">\n",
       "  var VEGA_DEBUG = (typeof VEGA_DEBUG == \"undefined\") ? {} : VEGA_DEBUG;\n",
       "  (function(spec, embedOpt){\n",
       "    let outputDiv = document.currentScript.previousElementSibling;\n",
       "    if (outputDiv.id !== \"altair-viz-5a84d02f62044b56807b04ea2cb373a7\") {\n",
       "      outputDiv = document.getElementById(\"altair-viz-5a84d02f62044b56807b04ea2cb373a7\");\n",
       "    }\n",
       "\n",
       "    const paths = {\n",
       "      \"vega\": \"https://cdn.jsdelivr.net/npm/vega@5?noext\",\n",
       "      \"vega-lib\": \"https://cdn.jsdelivr.net/npm/vega-lib?noext\",\n",
       "      \"vega-lite\": \"https://cdn.jsdelivr.net/npm/vega-lite@5.20.1?noext\",\n",
       "      \"vega-embed\": \"https://cdn.jsdelivr.net/npm/vega-embed@6?noext\",\n",
       "    };\n",
       "\n",
       "    function maybeLoadScript(lib, version) {\n",
       "      var key = `${lib.replace(\"-\", \"\")}_version`;\n",
       "      return (VEGA_DEBUG[key] == version) ?\n",
       "        Promise.resolve(paths[lib]) :\n",
       "        new Promise(function(resolve, reject) {\n",
       "          var s = document.createElement('script');\n",
       "          document.getElementsByTagName(\"head\")[0].appendChild(s);\n",
       "          s.async = true;\n",
       "          s.onload = () => {\n",
       "            VEGA_DEBUG[key] = version;\n",
       "            return resolve(paths[lib]);\n",
       "          };\n",
       "          s.onerror = () => reject(`Error loading script: ${paths[lib]}`);\n",
       "          s.src = paths[lib];\n",
       "        });\n",
       "    }\n",
       "\n",
       "    function showError(err) {\n",
       "      outputDiv.innerHTML = `<div class=\"error\" style=\"color:red;\">${err}</div>`;\n",
       "      throw err;\n",
       "    }\n",
       "\n",
       "    function displayChart(vegaEmbed) {\n",
       "      vegaEmbed(outputDiv, spec, embedOpt)\n",
       "        .catch(err => showError(`Javascript Error: ${err.message}<br>This usually means there's a typo in your chart specification. See the javascript console for the full traceback.`));\n",
       "    }\n",
       "\n",
       "    if(typeof define === \"function\" && define.amd) {\n",
       "      requirejs.config({paths});\n",
       "      let deps = [\"vega-embed\"];\n",
       "      require(deps, displayChart, err => showError(`Error loading script: ${err.message}`));\n",
       "    } else {\n",
       "      maybeLoadScript(\"vega\", \"5\")\n",
       "        .then(() => maybeLoadScript(\"vega-lite\", \"5.20.1\"))\n",
       "        .then(() => maybeLoadScript(\"vega-embed\", \"6\"))\n",
       "        .catch(showError)\n",
       "        .then(() => displayChart(vegaEmbed));\n",
       "    }\n",
       "  })({\"config\": {\"view\": {\"continuousWidth\": 300, \"continuousHeight\": 300, \"strokeWidth\": 0}}, \"concat\": [{\"data\": {\"name\": \"data-3c75fe1556127f1a13c154672162d0e4\"}, \"mark\": {\"type\": \"circle\"}, \"encoding\": {\"color\": {\"field\": \"value\", \"scale\": {\"domain\": [-1, 1], \"scheme\": \"blueorange\"}, \"title\": \"\", \"type\": \"quantitative\"}, \"size\": {\"field\": \"abs_value\", \"legend\": null, \"scale\": {\"domain\": [0, 1]}, \"type\": \"quantitative\"}, \"tooltip\": [{\"field\": \"value\", \"format\": \".2f\", \"title\": \"corr\", \"type\": \"quantitative\"}, {\"field\": \"index\", \"title\": \"x\", \"type\": \"nominal\"}, {\"field\": \"variable\", \"title\": \"y\", \"type\": \"nominal\"}], \"x\": {\"field\": \"index\", \"sort\": [\"log_item_C_sales\", \"avg_temperature\", \"avg_cloud_cover_8\", \"snow\", \"rain\", \"hours_opened\"], \"title\": \"\", \"type\": \"nominal\"}, \"y\": {\"axis\": {}, \"field\": \"variable\", \"sort\": [\"avg_temperature\", \"avg_cloud_cover_8\", \"snow\", \"rain\", \"hours_opened\", \"item_C_sales\"], \"title\": \"\", \"type\": \"nominal\"}}, \"title\": \"Pearson correlations\", \"transform\": [{\"calculate\": \"abs(datum.value)\", \"as\": \"abs_value\"}]}, {\"data\": {\"name\": \"data-c05705f37f7be3d2bc83e428d0d460c2\"}, \"mark\": {\"type\": \"circle\"}, \"encoding\": {\"color\": {\"field\": \"value\", \"scale\": {\"domain\": [-1, 1], \"scheme\": \"blueorange\"}, \"title\": \"\", \"type\": \"quantitative\"}, \"size\": {\"field\": \"abs_value\", \"legend\": null, \"scale\": {\"domain\": [0, 1]}, \"type\": \"quantitative\"}, \"tooltip\": [{\"field\": \"value\", \"format\": \".2f\", \"title\": \"corr\", \"type\": \"quantitative\"}, {\"field\": \"index\", \"title\": \"x\", \"type\": \"nominal\"}, {\"field\": \"variable\", \"title\": \"y\", \"type\": \"nominal\"}], \"x\": {\"field\": \"index\", \"sort\": [\"log_item_C_sales\", \"avg_temperature\", \"avg_cloud_cover_8\", \"snow\", \"rain\", \"hours_opened\"], \"title\": \"\", \"type\": \"nominal\"}, \"y\": {\"axis\": {\"labels\": false}, \"field\": \"variable\", \"sort\": [\"avg_temperature\", \"avg_cloud_cover_8\", \"snow\", \"rain\", \"hours_opened\", \"item_C_sales\"], \"title\": \"\", \"type\": \"nominal\"}}, \"title\": \"Spearman correlations\", \"transform\": [{\"calculate\": \"abs(datum.value)\", \"as\": \"abs_value\"}]}], \"resolve\": {\"axis\": {\"y\": \"shared\"}}, \"$schema\": \"https://vega.github.io/schema/vega-lite/v5.20.1.json\", \"datasets\": {\"data-3c75fe1556127f1a13c154672162d0e4\": [{\"index\": \"log_item_C_sales\", \"variable\": \"snow\", \"value\": -0.18002013041709428}, {\"index\": \"avg_temperature\", \"variable\": \"snow\", \"value\": -0.20020760691827855}, {\"index\": \"avg_cloud_cover_8\", \"variable\": \"snow\", \"value\": 0.04754626204344697}, {\"index\": \"avg_temperature\", \"variable\": \"rain\", \"value\": -0.06149769158072981}, {\"index\": \"log_item_C_sales\", \"variable\": \"rain\", \"value\": 0.000616636226951116}, {\"index\": \"snow\", \"variable\": \"rain\", \"value\": -0.0036985291717393947}, {\"index\": \"avg_cloud_cover_8\", \"variable\": \"rain\", \"value\": 0.46371892907425366}, {\"index\": \"hours_opened\", \"variable\": \"item_C_sales\", \"value\": 0.3405423677620383}, {\"index\": \"snow\", \"variable\": \"item_C_sales\", \"value\": -0.13580052923810207}, {\"index\": \"avg_cloud_cover_8\", \"variable\": \"item_C_sales\", \"value\": -0.09192305532432143}, {\"index\": \"avg_temperature\", \"variable\": \"item_C_sales\", \"value\": 0.3505227359130783}, {\"index\": \"log_item_C_sales\", \"variable\": \"item_C_sales\", \"value\": 0.9445739153439277}, {\"index\": \"rain\", \"variable\": \"item_C_sales\", \"value\": -0.030624008492199095}, {\"index\": \"log_item_C_sales\", \"variable\": \"hours_opened\", \"value\": 0.4056685936350452}, {\"index\": \"avg_temperature\", \"variable\": \"hours_opened\", \"value\": 0.09065591609002734}, {\"index\": \"avg_cloud_cover_8\", \"variable\": \"hours_opened\", \"value\": -0.03456063957848271}, {\"index\": \"snow\", \"variable\": \"hours_opened\", \"value\": -0.041889858686430304}, {\"index\": \"rain\", \"variable\": \"hours_opened\", \"value\": -0.01678955641670466}, {\"index\": \"log_item_C_sales\", \"variable\": \"avg_temperature\", \"value\": 0.38819621534924553}, {\"index\": \"avg_temperature\", \"variable\": \"avg_cloud_cover_8\", \"value\": -0.22623528130033907}, {\"index\": \"log_item_C_sales\", \"variable\": \"avg_cloud_cover_8\", \"value\": -0.08984800182505483}], \"data-c05705f37f7be3d2bc83e428d0d460c2\": [{\"index\": \"log_item_C_sales\", \"variable\": \"snow\", \"value\": -0.15918562053911947}, {\"index\": \"avg_temperature\", \"variable\": \"snow\", \"value\": -0.18864474850918475}, {\"index\": \"avg_cloud_cover_8\", \"variable\": \"snow\", \"value\": 0.05809195520861186}, {\"index\": \"avg_temperature\", \"variable\": \"rain\", \"value\": -0.1563210582509816}, {\"index\": \"log_item_C_sales\", \"variable\": \"rain\", \"value\": -0.04299010875186843}, {\"index\": \"snow\", \"variable\": \"rain\", \"value\": -0.0043769731977591035}, {\"index\": \"avg_cloud_cover_8\", \"variable\": \"rain\", \"value\": 0.6624900101231012}, {\"index\": \"hours_opened\", \"variable\": \"item_C_sales\", \"value\": 0.5158295917929581}, {\"index\": \"snow\", \"variable\": \"item_C_sales\", \"value\": -0.15918562053911947}, {\"index\": \"avg_cloud_cover_8\", \"variable\": \"item_C_sales\", \"value\": -0.06704608406769709}, {\"index\": \"avg_temperature\", \"variable\": \"item_C_sales\", \"value\": 0.3464027208484831}, {\"index\": \"log_item_C_sales\", \"variable\": \"item_C_sales\", \"value\": 1.0}, {\"index\": \"rain\", \"variable\": \"item_C_sales\", \"value\": -0.04299010875186843}, {\"index\": \"log_item_C_sales\", \"variable\": \"hours_opened\", \"value\": 0.5158295917929581}, {\"index\": \"avg_temperature\", \"variable\": \"hours_opened\", \"value\": 0.1004113768018667}, {\"index\": \"avg_cloud_cover_8\", \"variable\": \"hours_opened\", \"value\": 0.06679394974309068}, {\"index\": \"snow\", \"variable\": \"hours_opened\", \"value\": -0.040942109345399165}, {\"index\": \"rain\", \"variable\": \"hours_opened\", \"value\": 0.044741082371639776}, {\"index\": \"log_item_C_sales\", \"variable\": \"avg_temperature\", \"value\": 0.3464027208484831}, {\"index\": \"avg_temperature\", \"variable\": \"avg_cloud_cover_8\", \"value\": -0.21299578739217173}, {\"index\": \"log_item_C_sales\", \"variable\": \"avg_cloud_cover_8\", \"value\": -0.06704608406769709}]}}, {\"mode\": \"vega-lite\"});\n",
       "</script>"
      ],
      "text/plain": [
       "alt.ConcatChart(...)"
      ]
     },
     "execution_count": 49,
     "metadata": {},
     "output_type": "execute_result"
    }
   ],
   "source": [
    "aly.corr(train_df.drop(columns=['log_total_sales_normalized', 'total_sales_normalized', 'log_item_A_sales', 'item_A_sales', 'log_item_B_sales', 'item_B_sales',]))"
   ]
  },
  {
   "cell_type": "code",
   "execution_count": 50,
   "metadata": {},
   "outputs": [
    {
     "data": {
      "text/plain": [
       "Index(['total_sales_normalized', 'item_A_sales', 'item_B_sales',\n",
       "       'item_C_sales', 'hours_opened', 'is_long_weekend', 'is_HCF',\n",
       "       'type_of_day', 'has_pop_up', 'rain', 'snow', 'avg_cloud_cover_8',\n",
       "       'avg_temperature', 'season', 'log_total_sales_normalized',\n",
       "       'log_item_A_sales', 'log_item_B_sales', 'log_item_C_sales'],\n",
       "      dtype='object')"
      ]
     },
     "execution_count": 50,
     "metadata": {},
     "output_type": "execute_result"
    }
   ],
   "source": [
    "train_df.columns"
   ]
  },
  {
   "cell_type": "markdown",
   "metadata": {},
   "source": [
    "## Regression models"
   ]
  },
  {
   "cell_type": "markdown",
   "metadata": {},
   "source": [
    "#### Untransformed sales - > heteroscadasticity "
   ]
  },
  {
   "cell_type": "code",
   "execution_count": 51,
   "metadata": {},
   "outputs": [],
   "source": [
    "formula = (\n",
    "    \"\"\"\n",
    "        total_sales_normalized ~ hours_opened \n",
    "        + C(is_HCF) \n",
    "        + C(type_of_day) \n",
    "        + C(has_pop_up) \n",
    "        + rain \n",
    "        + snow \n",
    "        + avg_cloud_cover_8 \n",
    "        + avg_temperature \n",
    "        + C(season)\n",
    "        + C(type_of_day): rain \n",
    "    \"\"\"\n",
    "    )\n",
    "\n",
    "interaction_model = smf.ols(formula, data=train_df).fit()"
   ]
  },
  {
   "cell_type": "code",
   "execution_count": 52,
   "metadata": {},
   "outputs": [
    {
     "name": "stdout",
     "output_type": "stream",
     "text": [
      "                              OLS Regression Results                              \n",
      "==================================================================================\n",
      "Dep. Variable:     total_sales_normalized   R-squared:                       0.862\n",
      "Model:                                OLS   Adj. R-squared:                  0.855\n",
      "Method:                     Least Squares   F-statistic:                     126.2\n",
      "Date:                    Wed, 21 May 2025   Prob (F-statistic):          2.61e-128\n",
      "Time:                            22:42:54   Log-Likelihood:                -2573.8\n",
      "No. Observations:                     340   AIC:                             5182.\n",
      "Df Residuals:                         323   BIC:                             5247.\n",
      "Df Model:                              16                                         \n",
      "Covariance Type:                nonrobust                                         \n",
      "==================================================================================================\n",
      "                                     coef    std err          t      P>|t|      [0.025      0.975]\n",
      "--------------------------------------------------------------------------------------------------\n",
      "Intercept                        450.2761    477.385      0.943      0.346    -488.901    1389.453\n",
      "C(is_HCF)[T.True]                416.1371    131.324      3.169      0.002     157.778     674.496\n",
      "C(type_of_day)[T.Friday]        1292.0383    101.340     12.750      0.000    1092.668    1491.408\n",
      "C(type_of_day)[T.Weekend]       2094.7103     84.020     24.931      0.000    1929.415    2260.006\n",
      "C(type_of_day)[T.Holiday]       1802.3373    165.028     10.921      0.000    1477.672    2127.002\n",
      "C(has_pop_up)[T.True]             99.9964    120.491      0.830      0.407    -137.051     337.044\n",
      "C(season)[T.Spring]              616.8691     99.578      6.195      0.000     420.965     812.773\n",
      "C(season)[T.Summer]             1255.9581    135.324      9.281      0.000     989.731    1522.185\n",
      "C(season)[T.Fall]                -96.5828     95.598     -1.010      0.313    -284.657      91.491\n",
      "hours_opened                      90.7278     42.523      2.134      0.034       7.071     174.384\n",
      "rain                              -7.4830      7.570     -0.988      0.324     -22.377       7.411\n",
      "C(type_of_day)[T.Friday]:rain    -24.6009     12.722     -1.934      0.054     -49.630       0.428\n",
      "C(type_of_day)[T.Weekend]:rain   -18.7997      8.901     -2.112      0.035     -36.312      -1.288\n",
      "C(type_of_day)[T.Holiday]:rain   -17.6561     16.421     -1.075      0.283     -49.961      14.649\n",
      "snow                            -112.7161     49.914     -2.258      0.025    -210.913     -14.519\n",
      "avg_cloud_cover_8                  0.6449     16.923      0.038      0.970     -32.648      33.938\n",
      "avg_temperature                   22.8960      9.569      2.393      0.017       4.070      41.722\n",
      "==============================================================================\n",
      "Omnibus:                       29.452   Durbin-Watson:                   1.411\n",
      "Prob(Omnibus):                  0.000   Jarque-Bera (JB):               66.653\n",
      "Skew:                           0.437   Prob(JB):                     3.36e-15\n",
      "Kurtosis:                       4.985   Cond. No.                         316.\n",
      "==============================================================================\n",
      "\n",
      "Notes:\n",
      "[1] Standard Errors assume that the covariance matrix of the errors is correctly specified.\n"
     ]
    }
   ],
   "source": [
    "print(interaction_model.summary())"
   ]
  },
  {
   "cell_type": "code",
   "execution_count": 94,
   "metadata": {},
   "outputs": [
    {
     "data": {
      "image/png": "[encoded data removed]",
      "text/plain": [
       "<Figure size 800x500 with 1 Axes>"
      ]
     },
     "metadata": {},
     "output_type": "display_data"
    }
   ],
   "source": [
    "fitted_vals = interaction_model.fittedvalues\n",
    "residuals = interaction_model.resid\n",
    "\n",
    "plt.figure(figsize=(8, 5))\n",
    "sns.scatterplot(x=fitted_vals, y=residuals)\n",
    "plt.axhline(0, color='red', linestyle='--')\n",
    "plt.xlabel(\"Fitted Values\")\n",
    "plt.ylabel(\"Residuals\")\n",
    "plt.title(\"Residuals vs Fitted\")\n",
    "plt.show()"
   ]
  },
  {
   "cell_type": "code",
   "execution_count": 53,
   "metadata": {},
   "outputs": [
    {
     "ename": "NameError",
     "evalue": "name 'residuals' is not defined",
     "output_type": "error",
     "traceback": [
      "\u001b[0;31m---------------------------------------------------------------------------\u001b[0m",
      "\u001b[0;31mNameError\u001b[0m                                 Traceback (most recent call last)",
      "Cell \u001b[0;32mIn[53], line 1\u001b[0m\n\u001b[0;32m----> 1\u001b[0m sm\u001b[38;5;241m.\u001b[39mqqplot(\u001b[43mresiduals\u001b[49m, line\u001b[38;5;241m=\u001b[39m\u001b[38;5;124m'\u001b[39m\u001b[38;5;124m45\u001b[39m\u001b[38;5;124m'\u001b[39m, fit\u001b[38;5;241m=\u001b[39m\u001b[38;5;28;01mTrue\u001b[39;00m)\n\u001b[1;32m      2\u001b[0m plt\u001b[38;5;241m.\u001b[39mtitle(\u001b[38;5;124m\"\u001b[39m\u001b[38;5;124mQQ Plot of Residuals\u001b[39m\u001b[38;5;124m\"\u001b[39m)\n\u001b[1;32m      3\u001b[0m plt\u001b[38;5;241m.\u001b[39mshow()\n",
      "\u001b[0;31mNameError\u001b[0m: name 'residuals' is not defined"
     ]
    }
   ],
   "source": [
    "sm.qqplot(residuals, line='45', fit=True)\n",
    "plt.title(\"QQ Plot of Residuals\")\n",
    "plt.show()"
   ]
  },
  {
   "cell_type": "code",
   "execution_count": 96,
   "metadata": {},
   "outputs": [
    {
     "data": {
      "image/png": "[encoded data removed]",
      "text/plain": [
       "<Figure size 640x480 with 1 Axes>"
      ]
     },
     "metadata": {},
     "output_type": "display_data"
    }
   ],
   "source": [
    "sns.histplot(residuals, kde=True)\n",
    "plt.title(\"Histogram of Residuals\")\n",
    "plt.show()"
   ]
  },
  {
   "cell_type": "markdown",
   "metadata": {},
   "source": [
    "#### Log model - total sales\n",
    "\n"
   ]
  },
  {
   "cell_type": "markdown",
   "metadata": {},
   "source": [
    "$$log(\\text{total sales}_i)=\\beta_0 + \\beta_1 \\text{ is long weekend}_i + \\beta_2 \\text{ is HCF}_i + \\beta_3 \\text{ is Friday}_i + \\beta_4 \\text{ is Weekend}_i  \n",
    "+ \\beta_5 \\text{ is Holiday}_i + \\beta_6 \\text{ has pop up}_i + \\beta_7 \\text{ is Spring}_i + \\beta_8 \\text{ is Summer}_i + \\beta_9 \\text{ is Fall}_i + \n",
    "\\beta_{10} \\text{ hours opened}_i \\\\ \n",
    "+ \\beta_{11} \\text{ rain}_i + \\beta_{12} \\text{ snow}_i + \\beta_{13} \\text{ avg cloud cover}_i + \n",
    "\\beta_{14} \\text{ avg temperature}_i + \\varepsilon_i$$"
   ]
  },
  {
   "cell_type": "code",
   "execution_count": 54,
   "metadata": {},
   "outputs": [
    {
     "name": "stdout",
     "output_type": "stream",
     "text": [
      "                                OLS Regression Results                                \n",
      "======================================================================================\n",
      "Dep. Variable:     log_total_sales_normalized   R-squared:                       0.863\n",
      "Model:                                    OLS   Adj. R-squared:                  0.855\n",
      "Method:                         Least Squares   F-statistic:                     118.9\n",
      "Date:                        Wed, 21 May 2025   Prob (F-statistic):          1.74e-127\n",
      "Time:                                22:42:59   Log-Likelihood:                 132.10\n",
      "No. Observations:                         340   AIC:                            -228.2\n",
      "Df Residuals:                             322   BIC:                            -159.3\n",
      "Df Model:                                  17                                         \n",
      "Covariance Type:                    nonrobust                                         \n",
      "==================================================================================================\n",
      "                                     coef    std err          t      P>|t|      [0.025      0.975]\n",
      "--------------------------------------------------------------------------------------------------\n",
      "Intercept                          6.3826      0.167     38.124      0.000       6.053       6.712\n",
      "C(is_long_weekend)[T.True]         0.0622      0.044      1.426      0.155      -0.024       0.148\n",
      "C(is_HCF)[T.True]                  0.1814      0.046      3.945      0.000       0.091       0.272\n",
      "C(type_of_day)[T.Friday]           0.4216      0.035     11.879      0.000       0.352       0.491\n",
      "C(type_of_day)[T.Weekend]          0.6158      0.031     20.151      0.000       0.556       0.676\n",
      "C(type_of_day)[T.Holiday]          0.5545      0.068      8.179      0.000       0.421       0.688\n",
      "C(has_pop_up)[T.True]              0.0387      0.042      0.915      0.361      -0.045       0.122\n",
      "C(season)[T.Spring]                0.2226      0.035      6.382      0.000       0.154       0.291\n",
      "C(season)[T.Summer]                0.3674      0.047      7.752      0.000       0.274       0.461\n",
      "C(season)[T.Fall]                 -0.0846      0.034     -2.521      0.012      -0.151      -0.019\n",
      "hours_opened                       0.0875      0.015      5.873      0.000       0.058       0.117\n",
      "rain                              -0.0068      0.003     -2.577      0.010      -0.012      -0.002\n",
      "C(type_of_day)[T.Friday]:rain     -0.0029      0.004     -0.653      0.514      -0.012       0.006\n",
      "C(type_of_day)[T.Weekend]:rain     0.0017      0.003      0.547      0.585      -0.004       0.008\n",
      "C(type_of_day)[T.Holiday]:rain     0.0040      0.006      0.686      0.493      -0.007       0.015\n",
      "snow                              -0.0418      0.017     -2.390      0.017      -0.076      -0.007\n",
      "avg_cloud_cover_8                  0.0033      0.006      0.551      0.582      -0.008       0.015\n",
      "avg_temperature                    0.0134      0.003      3.997      0.000       0.007       0.020\n",
      "==============================================================================\n",
      "Omnibus:                        4.866   Durbin-Watson:                   1.290\n",
      "Prob(Omnibus):                  0.088   Jarque-Bera (JB):                5.097\n",
      "Skew:                          -0.186   Prob(JB):                       0.0782\n",
      "Kurtosis:                       3.471   Cond. No.                         317.\n",
      "==============================================================================\n",
      "\n",
      "Notes:\n",
      "[1] Standard Errors assume that the covariance matrix of the errors is correctly specified.\n"
     ]
    }
   ],
   "source": [
    "formula = (\n",
    "    \"\"\"\n",
    "        log_total_sales_normalized ~ hours_opened \n",
    "        + C(is_long_weekend)\n",
    "        + C(is_HCF) \n",
    "        + C(type_of_day) \n",
    "        + C(has_pop_up) \n",
    "        + rain \n",
    "        + snow \n",
    "        + avg_cloud_cover_8 \n",
    "        + avg_temperature \n",
    "        + C(season)\n",
    "        + C(type_of_day): rain \n",
    "\n",
    "    \"\"\"\n",
    "    )\n",
    "\n",
    "\n",
    "log_interaction_model = smf.ols(formula, data=train_df).fit()\n",
    "print(log_interaction_model.summary())"
   ]
  },
  {
   "cell_type": "code",
   "execution_count": 55,
   "metadata": {},
   "outputs": [
    {
     "data": {
      "text/plain": [
       "Intercept                         591.453937\n",
       "C(is_long_weekend)[T.True]          1.064202\n",
       "C(is_HCF)[T.True]                   1.198928\n",
       "C(type_of_day)[T.Friday]            1.524456\n",
       "C(type_of_day)[T.Weekend]           1.851177\n",
       "C(type_of_day)[T.Holiday]           1.740999\n",
       "C(has_pop_up)[T.True]               1.039467\n",
       "C(season)[T.Spring]                 1.249283\n",
       "C(season)[T.Summer]                 1.443975\n",
       "C(season)[T.Fall]                   0.918855\n",
       "hours_opened                        1.091471\n",
       "rain                                0.993190\n",
       "C(type_of_day)[T.Friday]:rain       0.997094\n",
       "C(type_of_day)[T.Weekend]:rain      1.001709\n",
       "C(type_of_day)[T.Holiday]:rain      1.004001\n",
       "snow                                0.959078\n",
       "avg_cloud_cover_8                   1.003269\n",
       "avg_temperature                     1.013503\n",
       "dtype: float64"
      ]
     },
     "execution_count": 55,
     "metadata": {},
     "output_type": "execute_result"
    }
   ],
   "source": [
    "np.exp(log_interaction_model.params)"
   ]
  },
  {
   "cell_type": "markdown",
   "metadata": {},
   "source": [
    "#### Model intepretation"
   ]
  },
  {
   "cell_type": "markdown",
   "metadata": {},
   "source": [
    "**Base case:** weekday, not a long weekend, not during HCF, no pop-up, winter\n",
    "\n",
    "**is_long_weekend** \n",
    "- No significant impact on sales\n",
    "\n",
    "**is_HCF** \n",
    "- Holding other variables constant, on average, sales during HCF is roughly 20% higher than non-HCF days. \n",
    "\n",
    "**Season**\n",
    "- Holding other variables constant, on average, sales in the Summer is roughly 45% higher than in the Winter.  \n",
    "- Holding other variables constant, on average, sales in the Spring is roughly 25% higher than in the Winter.  \n",
    "- Holding other variables constant, on average, sales in the Fall is roughly 8% lower than in the Winter.  \n",
    "\n",
    "**type_of_day**\n",
    "- Holding other variables constant, on average, sales on Friday is 52% higher than a weekday.  \n",
    "- Holding other variables constant, on average, sales on the Weekend is roughly 85% higher than a weekday.  \n",
    "- Holding other variables constant, on average, sales on a holiday is 77% higher than a weekday.  \n",
    "\n",
    "**has_pop_up** \n",
    "- No significant impact on sales\n",
    "\n",
    "**hours_opened**\n",
    "- Holding other variables constant, for every additional hour opened, sales is expected to increase by 9%\n",
    "\n",
    "**rain**\n",
    "- Holding other variables constant, for every additional mm of rain recorded, sales is expected to decrease by 1%\n",
    "\n",
    "**rain and type_of_day interaction**\n",
    "- No significant interaction effect\n",
    "\n",
    "**snow**\n",
    "- Holding other variables constant, for every additional mm of snow recorded, sales is expected to decrease by roughly 4%\n",
    "\n",
    "**avg_cloud_cover_8**\n",
    "- No significant impact on sales\n",
    "\n",
    "**avg_temperature** \n",
    "- Holding other variables constant, for every additional degree celsius recorded, sales is expected to increase by roughly 1%\n"
   ]
  },
  {
   "cell_type": "markdown",
   "metadata": {},
   "source": [
    "#### Example"
   ]
  },
  {
   "cell_type": "code",
   "execution_count": 56,
   "metadata": {},
   "outputs": [
    {
     "data": {
      "text/plain": [
       "0    5421.496302\n",
       "dtype: float64"
      ]
     },
     "execution_count": 56,
     "metadata": {},
     "output_type": "execute_result"
    }
   ],
   "source": [
    "new_data_1 = pd.DataFrame({\n",
    "    'hours_opened': [11],\n",
    "    'is_long_weekend': [False],\n",
    "    'is_HCF': [False],\n",
    "    'type_of_day': ['Weekend'],\n",
    "    'has_pop_up': [False],\n",
    "    'rain': [0.0],\n",
    "    'snow': [0.0],\n",
    "    'avg_cloud_cover_8': [4.5],\n",
    "    'avg_temperature': [19.0],\n",
    "    'season': ['Summer']\n",
    "})\n",
    "\n",
    "predicted_log_sales_1 = log_interaction_model.predict(new_data_1)\n",
    "np.exp(predicted_log_sales_1)"
   ]
  },
  {
   "cell_type": "code",
   "execution_count": 57,
   "metadata": {},
   "outputs": [
    {
     "data": {
      "text/plain": [
       "0    2928.67488\n",
       "dtype: float64"
      ]
     },
     "execution_count": 57,
     "metadata": {},
     "output_type": "execute_result"
    }
   ],
   "source": [
    "new_data_2 = pd.DataFrame({\n",
    "    'hours_opened': [11],\n",
    "    'is_long_weekend': [False],\n",
    "    'is_HCF': [False],\n",
    "    'type_of_day': ['Weekday'],\n",
    "    'has_pop_up': [False],\n",
    "    'rain': [0.0],\n",
    "    'snow': [0.0],\n",
    "    'avg_cloud_cover_8': [4.5],\n",
    "    'avg_temperature': [19.0],\n",
    "    'season': ['Summer']\n",
    "})\n",
    "\n",
    "predicted_log_sales_2 = log_interaction_model.predict(new_data_2)\n",
    "np.exp(predicted_log_sales_2)"
   ]
  },
  {
   "cell_type": "code",
   "execution_count": 58,
   "metadata": {},
   "outputs": [
    {
     "data": {
      "text/plain": [
       "0    0.851177\n",
       "dtype: float64"
      ]
     },
     "execution_count": 58,
     "metadata": {},
     "output_type": "execute_result"
    }
   ],
   "source": [
    "(np.exp(predicted_log_sales_1) - np.exp(predicted_log_sales_2)) / np.exp(predicted_log_sales_2)"
   ]
  },
  {
   "cell_type": "markdown",
   "metadata": {},
   "source": [
    "#### Regression model - item_A sales"
   ]
  },
  {
   "cell_type": "code",
   "execution_count": 59,
   "metadata": {},
   "outputs": [
    {
     "name": "stdout",
     "output_type": "stream",
     "text": [
      "                            OLS Regression Results                            \n",
      "==============================================================================\n",
      "Dep. Variable:       log_item_A_sales   R-squared:                       0.771\n",
      "Model:                            OLS   Adj. R-squared:                  0.759\n",
      "Method:                 Least Squares   F-statistic:                     63.86\n",
      "Date:                Wed, 21 May 2025   Prob (F-statistic):           3.20e-92\n",
      "Time:                        22:43:27   Log-Likelihood:                 80.377\n",
      "No. Observations:                 340   AIC:                            -124.8\n",
      "Df Residuals:                     322   BIC:                            -55.83\n",
      "Df Model:                          17                                         \n",
      "Covariance Type:            nonrobust                                         \n",
      "==================================================================================================\n",
      "                                     coef    std err          t      P>|t|      [0.025      0.975]\n",
      "--------------------------------------------------------------------------------------------------\n",
      "Intercept                          6.0417      0.195     30.995      0.000       5.658       6.425\n",
      "C(is_long_weekend)[T.True]         0.0159      0.051      0.313      0.754      -0.084       0.116\n",
      "C(is_HCF)[T.True]                  0.0697      0.054      1.301      0.194      -0.036       0.175\n",
      "C(type_of_day)[T.Friday]           0.4135      0.041     10.005      0.000       0.332       0.495\n",
      "C(type_of_day)[T.Weekend]          0.6393      0.036     17.966      0.000       0.569       0.709\n",
      "C(type_of_day)[T.Holiday]          0.5804      0.079      7.354      0.000       0.425       0.736\n",
      "C(has_pop_up)[T.True]              0.0388      0.049      0.787      0.432      -0.058       0.136\n",
      "C(season)[T.Spring]                0.2105      0.041      5.184      0.000       0.131       0.290\n",
      "C(season)[T.Summer]                0.3616      0.055      6.554      0.000       0.253       0.470\n",
      "C(season)[T.Fall]                 -0.0282      0.039     -0.722      0.471      -0.105       0.049\n",
      "hours_opened                       0.0408      0.017      2.354      0.019       0.007       0.075\n",
      "rain                              -0.0044      0.003     -1.417      0.157      -0.010       0.002\n",
      "C(type_of_day)[T.Friday]:rain     -0.0019      0.005     -0.366      0.714      -0.012       0.008\n",
      "C(type_of_day)[T.Weekend]:rain -8.737e-05      0.004     -0.024      0.981      -0.007       0.007\n",
      "C(type_of_day)[T.Holiday]:rain     0.0064      0.007      0.945      0.345      -0.007       0.020\n",
      "snow                              -0.0396      0.020     -1.946      0.053      -0.080       0.000\n",
      "avg_cloud_cover_8                  0.0246      0.007      3.572      0.000       0.011       0.038\n",
      "avg_temperature                   -0.0006      0.004     -0.156      0.876      -0.008       0.007\n",
      "==============================================================================\n",
      "Omnibus:                        3.603   Durbin-Watson:                   1.330\n",
      "Prob(Omnibus):                  0.165   Jarque-Bera (JB):                4.279\n",
      "Skew:                           0.025   Prob(JB):                        0.118\n",
      "Kurtosis:                       3.547   Cond. No.                         317.\n",
      "==============================================================================\n",
      "\n",
      "Notes:\n",
      "[1] Standard Errors assume that the covariance matrix of the errors is correctly specified.\n"
     ]
    }
   ],
   "source": [
    "formula = (\n",
    "    \"\"\"\n",
    "        log_item_A_sales ~ hours_opened \n",
    "        + C(is_long_weekend)\n",
    "        + C(is_HCF) \n",
    "        + C(type_of_day) \n",
    "        + C(has_pop_up) \n",
    "        + rain \n",
    "        + snow \n",
    "        + avg_cloud_cover_8 \n",
    "        + avg_temperature \n",
    "        + C(season)\n",
    "        + C(type_of_day): rain \n",
    "\n",
    "    \"\"\"\n",
    "    )\n",
    "\n",
    "\n",
    "log_interaction_model_item_A = smf.ols(formula, data=train_df).fit()\n",
    "print(log_interaction_model_item_A.summary())"
   ]
  },
  {
   "cell_type": "markdown",
   "metadata": {},
   "source": [
    "#### Regression model - item_B"
   ]
  },
  {
   "cell_type": "code",
   "execution_count": 60,
   "metadata": {},
   "outputs": [
    {
     "name": "stdout",
     "output_type": "stream",
     "text": [
      "                            OLS Regression Results                            \n",
      "==============================================================================\n",
      "Dep. Variable:       log_item_B_sales   R-squared:                       0.758\n",
      "Model:                            OLS   Adj. R-squared:                  0.745\n",
      "Method:                 Least Squares   F-statistic:                     59.24\n",
      "Date:                Wed, 21 May 2025   Prob (F-statistic):           2.93e-88\n",
      "Time:                        22:43:34   Log-Likelihood:                -109.72\n",
      "No. Observations:                 340   AIC:                             255.4\n",
      "Df Residuals:                     322   BIC:                             324.4\n",
      "Df Model:                          17                                         \n",
      "Covariance Type:            nonrobust                                         \n",
      "==================================================================================================\n",
      "                                     coef    std err          t      P>|t|      [0.025      0.975]\n",
      "--------------------------------------------------------------------------------------------------\n",
      "Intercept                          2.5435      0.341      7.460      0.000       1.873       3.214\n",
      "C(is_long_weekend)[T.True]         0.1008      0.089      1.135      0.257      -0.074       0.276\n",
      "C(is_HCF)[T.True]                  0.0440      0.094      0.470      0.639      -0.140       0.228\n",
      "C(type_of_day)[T.Friday]           0.2374      0.072      3.285      0.001       0.095       0.380\n",
      "C(type_of_day)[T.Weekend]          0.4235      0.062      6.804      0.000       0.301       0.546\n",
      "C(type_of_day)[T.Holiday]          0.5212      0.138      3.775      0.000       0.250       0.793\n",
      "C(has_pop_up)[T.True]              0.0364      0.086      0.423      0.673      -0.133       0.206\n",
      "C(season)[T.Spring]                0.1475      0.071      2.077      0.039       0.008       0.287\n",
      "C(season)[T.Summer]                0.3504      0.097      3.631      0.000       0.161       0.540\n",
      "C(season)[T.Fall]                 -0.2435      0.068     -3.561      0.000      -0.378      -0.109\n",
      "hours_opened                       0.3387      0.030     11.159      0.000       0.279       0.398\n",
      "rain                              -0.0273      0.005     -5.059      0.000      -0.038      -0.017\n",
      "C(type_of_day)[T.Friday]:rain      0.0098      0.009      1.075      0.283      -0.008       0.028\n",
      "C(type_of_day)[T.Weekend]:rain     0.0194      0.006      3.055      0.002       0.007       0.032\n",
      "C(type_of_day)[T.Holiday]:rain     0.0141      0.012      1.186      0.236      -0.009       0.037\n",
      "snow                              -0.0563      0.036     -1.581      0.115      -0.126       0.014\n",
      "avg_cloud_cover_8                  0.0098      0.012      0.813      0.417      -0.014       0.034\n",
      "avg_temperature                    0.0342      0.007      5.005      0.000       0.021       0.048\n",
      "==============================================================================\n",
      "Omnibus:                      426.120   Durbin-Watson:                   1.696\n",
      "Prob(Omnibus):                  0.000   Jarque-Bera (JB):            70547.934\n",
      "Skew:                          -5.443   Prob(JB):                         0.00\n",
      "Kurtosis:                      72.723   Cond. No.                         317.\n",
      "==============================================================================\n",
      "\n",
      "Notes:\n",
      "[1] Standard Errors assume that the covariance matrix of the errors is correctly specified.\n"
     ]
    }
   ],
   "source": [
    "formula = (\n",
    "    \"\"\"\n",
    "        log_item_B_sales ~ hours_opened \n",
    "        + C(is_long_weekend)\n",
    "        + C(is_HCF) \n",
    "        + C(type_of_day) \n",
    "        + C(has_pop_up) \n",
    "        + rain \n",
    "        + snow \n",
    "        + avg_cloud_cover_8 \n",
    "        + avg_temperature \n",
    "        + C(season)\n",
    "        + C(type_of_day): rain \n",
    "\n",
    "    \"\"\"\n",
    "    )\n",
    "\n",
    "\n",
    "log_interaction_model_softserve = smf.ols(formula, data=train_df).fit()\n",
    "print(log_interaction_model_softserve.summary())"
   ]
  },
  {
   "cell_type": "code",
   "execution_count": 146,
   "metadata": {},
   "outputs": [
    {
     "name": "stdout",
     "output_type": "stream",
     "text": [
      "                            OLS Regression Results                            \n",
      "==============================================================================\n",
      "Dep. Variable:        log_drink_sales   R-squared:                       0.621\n",
      "Model:                            OLS   Adj. R-squared:                  0.601\n",
      "Method:                 Least Squares   F-statistic:                     31.05\n",
      "Date:                Mon, 19 May 2025   Prob (F-statistic):           1.24e-57\n",
      "Time:                        13:56:55   Log-Likelihood:                -83.420\n",
      "No. Observations:                 340   AIC:                             202.8\n",
      "Df Residuals:                     322   BIC:                             271.8\n",
      "Df Model:                          17                                         \n",
      "Covariance Type:            nonrobust                                         \n",
      "==================================================================================================\n",
      "                                     coef    std err          t      P>|t|      [0.025      0.975]\n",
      "--------------------------------------------------------------------------------------------------\n",
      "Intercept                          4.2953      0.316     13.611      0.000       3.674       4.916\n",
      "C(is_long_weekend)[T.True]         0.0346      0.082      0.421      0.674      -0.127       0.196\n",
      "C(is_HCF)[T.True]                 -0.1072      0.087     -1.237      0.217      -0.278       0.063\n",
      "C(type_of_day)[T.Friday]           0.4084      0.067      6.105      0.000       0.277       0.540\n",
      "C(type_of_day)[T.Weekend]          0.6243      0.058     10.837      0.000       0.511       0.738\n",
      "C(type_of_day)[T.Holiday]          0.5537      0.128      4.333      0.000       0.302       0.805\n",
      "C(has_pop_up)[T.True]             -0.0154      0.080     -0.194      0.847      -0.172       0.141\n",
      "C(season)[T.Spring]                0.3417      0.066      5.198      0.000       0.212       0.471\n",
      "C(season)[T.Summer]                0.3156      0.089      3.533      0.000       0.140       0.491\n",
      "C(season)[T.Fall]                 -0.0534      0.063     -0.844      0.399      -0.178       0.071\n",
      "hours_opened                       0.0569      0.028      2.027      0.043       0.002       0.112\n",
      "rain                              -0.0010      0.005     -0.194      0.846      -0.011       0.009\n",
      "C(type_of_day)[T.Friday]:rain     -0.0004      0.008     -0.047      0.962      -0.017       0.016\n",
      "C(type_of_day)[T.Weekend]:rain    -0.0005      0.006     -0.093      0.926      -0.012       0.011\n",
      "C(type_of_day)[T.Holiday]:rain     0.0005      0.011      0.044      0.965      -0.021       0.022\n",
      "snow                              -0.0772      0.033     -2.344      0.020      -0.142      -0.012\n",
      "avg_cloud_cover_8                 -0.0002      0.011     -0.015      0.988      -0.022       0.022\n",
      "avg_temperature                    0.0109      0.006      1.725      0.086      -0.002       0.023\n",
      "==============================================================================\n",
      "Omnibus:                       12.026   Durbin-Watson:                   1.422\n",
      "Prob(Omnibus):                  0.002   Jarque-Bera (JB):               14.549\n",
      "Skew:                          -0.336   Prob(JB):                     0.000693\n",
      "Kurtosis:                       3.758   Cond. No.                         317.\n",
      "==============================================================================\n",
      "\n",
      "Notes:\n",
      "[1] Standard Errors assume that the covariance matrix of the errors is correctly specified.\n"
     ]
    }
   ],
   "source": [
    "formula = (\n",
    "    \"\"\"\n",
    "        log_item_C_sales ~ hours_opened \n",
    "        + C(is_long_weekend)\n",
    "        + C(is_HCF) \n",
    "        + C(type_of_day) \n",
    "        + C(has_pop_up) \n",
    "        + rain \n",
    "        + snow \n",
    "        + avg_cloud_cover_8 \n",
    "        + avg_temperature \n",
    "        + C(season)\n",
    "        + C(type_of_day): rain \n",
    "\n",
    "    \"\"\"\n",
    "    )\n",
    "\n",
    "\n",
    "log_interaction_model_item_C = smf.ols(formula, data=train_df).fit()\n",
    "print(log_interaction_model_item_C.summary())"
   ]
  },
  {
   "cell_type": "markdown",
   "metadata": {},
   "source": [
    "#### Model diagnostics"
   ]
  },
  {
   "cell_type": "code",
   "execution_count": 61,
   "metadata": {},
   "outputs": [
    {
     "data": {
      "image/png": "[encoded data removed]",
      "text/plain": [
       "<Figure size 500x300 with 1 Axes>"
      ]
     },
     "metadata": {},
     "output_type": "display_data"
    }
   ],
   "source": [
    "fitted_vals = log_interaction_model.fittedvalues\n",
    "residuals = log_interaction_model.resid\n",
    "\n",
    "plt.figure(figsize=(5, 3))\n",
    "sns.scatterplot(x=fitted_vals, y=residuals)\n",
    "plt.axhline(0, color='red', linestyle='--')\n",
    "plt.xlabel(\"Fitted Values\")\n",
    "plt.ylabel(\"Residuals\")\n",
    "plt.title(\"Residuals vs Fitted\")\n",
    "plt.show()"
   ]
  },
  {
   "cell_type": "code",
   "execution_count": 62,
   "metadata": {},
   "outputs": [
    {
     "data": {
      "text/plain": [
       "<Figure size 400x300 with 0 Axes>"
      ]
     },
     "metadata": {},
     "output_type": "display_data"
    },
    {
     "data": {
      "image/png": "[encoded data removed]",
      "text/plain": [
       "<Figure size 640x480 with 1 Axes>"
      ]
     },
     "metadata": {},
     "output_type": "display_data"
    }
   ],
   "source": [
    "plt.figure(figsize=(4, 3))\n",
    "sm.qqplot(residuals, line='45', fit=True)\n",
    "plt.title(\"QQ Plot of Residuals\")\n",
    "plt.show()"
   ]
  },
  {
   "cell_type": "code",
   "execution_count": 63,
   "metadata": {},
   "outputs": [
    {
     "data": {
      "image/png": "[encoded data removed]",
      "text/plain": [
       "<Figure size 640x480 with 1 Axes>"
      ]
     },
     "metadata": {},
     "output_type": "display_data"
    }
   ],
   "source": [
    "sns.histplot(residuals, kde=True)\n",
    "plt.title(\"Histogram of Residuals\")\n",
    "plt.show()"
   ]
  },
  {
   "cell_type": "markdown",
   "metadata": {},
   "source": [
    "## Regression - prediction "
   ]
  },
  {
   "cell_type": "code",
   "execution_count": 23,
   "metadata": {},
   "outputs": [],
   "source": [
    "prediction_train_df = train_df.iloc[:-30,]\n",
    "prediction_test_df = train_df.iloc[-30:,]"
   ]
  },
  {
   "cell_type": "code",
   "execution_count": 26,
   "metadata": {},
   "outputs": [
    {
     "name": "stdout",
     "output_type": "stream",
     "text": [
      "                              OLS Regression Results                              \n",
      "==================================================================================\n",
      "Dep. Variable:     total_sales_normalized   R-squared:                       0.869\n",
      "Model:                                OLS   Adj. R-squared:                  0.861\n",
      "Method:                     Least Squares   F-statistic:                     107.9\n",
      "Date:                    Mon, 26 May 2025   Prob (F-statistic):          1.22e-117\n",
      "Time:                            21:05:54   Log-Likelihood:                -2354.3\n",
      "No. Observations:                     312   AIC:                             4747.\n",
      "Df Residuals:                         293   BIC:                             4818.\n",
      "Df Model:                              18                                         \n",
      "Covariance Type:                nonrobust                                         \n",
      "===============================================================================================\n",
      "                                  coef    std err          t      P>|t|      [0.025      0.975]\n",
      "-----------------------------------------------------------------------------------------------\n",
      "Intercept                    1304.7883    350.283      3.725      0.000     615.399    1994.178\n",
      "C(is_long_weekend)[T.True]    319.4550    132.974      2.402      0.017      57.750     581.160\n",
      "C(is_HCF)[T.True]             403.9743    129.812      3.112      0.002     148.492     659.457\n",
      "C(has_pop_up)[T.True]          50.0317    138.751      0.361      0.719    -223.043     323.107\n",
      "C(day_of_week)[T.Tuesday]     -15.1048    103.324     -0.146      0.884    -218.457     188.247\n",
      "C(day_of_week)[T.Wednesday]   141.7450    103.998      1.363      0.174     -62.934     346.424\n",
      "C(day_of_week)[T.Thursday]    120.1093    104.424      1.150      0.251     -85.407     325.626\n",
      "C(day_of_week)[T.Friday]     1353.8734    113.695     11.908      0.000    1130.110    1577.637\n",
      "C(day_of_week)[T.Saturday]   2283.7840    118.423     19.285      0.000    2050.717    2516.851\n",
      "C(day_of_week)[T.Sunday]     1948.5466    113.857     17.114      0.000    1724.465    2172.628\n",
      "C(season)[T.Spring]           586.9512    108.256      5.422      0.000     373.894     800.009\n",
      "C(season)[T.Summer]          1279.6175    136.088      9.403      0.000    1011.783    1547.452\n",
      "C(season)[T.Fall]            -104.5584     95.051     -1.100      0.272    -291.628      82.511\n",
      "C(is_holiday)[T.True]        1607.0151    186.052      8.637      0.000    1240.847    1973.183\n",
      "rain                          -21.8572      4.331     -5.047      0.000     -30.381     -13.334\n",
      "snow                          -91.5857     49.442     -1.852      0.065    -188.893       5.722\n",
      "avg_cloud_cover_8               8.7966     17.298      0.509      0.611     -25.247      42.841\n",
      "avg_temperature                20.8928      9.707      2.152      0.032       1.788      39.998\n",
      "hours_opened                    7.8267     29.885      0.262      0.794     -50.991      66.644\n",
      "==============================================================================\n",
      "Omnibus:                       28.027   Durbin-Watson:                   1.432\n",
      "Prob(Omnibus):                  0.000   Jarque-Bera (JB):               59.475\n",
      "Skew:                           0.468   Prob(JB):                     1.22e-13\n",
      "Kurtosis:                       4.923   Cond. No.                         228.\n",
      "==============================================================================\n",
      "\n",
      "Notes:\n",
      "[1] Standard Errors assume that the covariance matrix of the errors is correctly specified.\n"
     ]
    }
   ],
   "source": [
    "formula = (\n",
    "    \"\"\"\n",
    "        total_sales_normalized ~ \n",
    "        + C(is_long_weekend)\n",
    "        + C(is_HCF) \n",
    "        + C(has_pop_up)\n",
    "        + C(day_of_week) \n",
    "        + rain \n",
    "        + snow \n",
    "        + avg_cloud_cover_8 \n",
    "        + avg_temperature \n",
    "        + hours_opened\n",
    "        + C(season)\n",
    "        + C(is_holiday)\n",
    "    \"\"\"\n",
    "    )\n",
    "\n",
    "log_interaction_model = smf.ols(formula, data=prediction_train_df).fit()\n",
    "print(log_interaction_model.summary())"
   ]
  },
  {
   "cell_type": "code",
   "execution_count": 256,
   "metadata": {},
   "outputs": [
    {
     "data": {
      "text/plain": [
       "328    3859.144795\n",
       "329    4867.944477\n",
       "330    4562.547751\n",
       "331    2313.753585\n",
       "332    2179.991250\n",
       "333    2389.421620\n",
       "334    2394.950146\n",
       "335    4009.857300\n",
       "336    4770.427052\n",
       "337    4482.496898\n",
       "338    2465.396941\n",
       "339    2238.159961\n",
       "340    2501.005123\n",
       "341    2354.864761\n",
       "dtype: float64"
      ]
     },
     "execution_count": 256,
     "metadata": {},
     "output_type": "execute_result"
    }
   ],
   "source": [
    "y_pred = log_interaction_model.predict(prediction_test_df[['is_long_weekend', 'is_HCF', 'day_of_week', 'has_pop_up', 'season', 'hours_opened', 'rain', 'snow', 'avg_cloud_cover_8', 'avg_temperature']])\n",
    "y_pred = np.exp(y_pred)\n",
    "y_pred"
   ]
  },
  {
   "cell_type": "code",
   "execution_count": 252,
   "metadata": {},
   "outputs": [],
   "source": [
    "y_test = np.exp(prediction_test_df['log_total_sales_normalized'])"
   ]
  },
  {
   "cell_type": "code",
   "execution_count": 253,
   "metadata": {},
   "outputs": [
    {
     "data": {
      "text/plain": [
       "272.0479346670229"
      ]
     },
     "execution_count": 253,
     "metadata": {},
     "output_type": "execute_result"
    }
   ],
   "source": [
    "mean_absolute_error(y_test, y_pred)"
   ]
  },
  {
   "cell_type": "code",
   "execution_count": null,
   "metadata": {},
   "outputs": [],
   "source": [
    "X_train, y_train = train_test_split()"
   ]
  },
  {
   "cell_type": "markdown",
   "metadata": {},
   "source": [
    "## Time Series"
   ]
  },
  {
   "cell_type": "code",
   "execution_count": 188,
   "metadata": {},
   "outputs": [],
   "source": [
    "total_sales_df = combined_df[['date', 'total_sales_normalized']]\n",
    "total_sales_df.set_index('date', inplace=True)\n",
    "\n",
    "item_A_sales_df = combined_df[['date', 'item_A_sales']]\n",
    "item_A_sales_df.set_index('date', inplace=True)\n",
    "\n",
    "item_B_sales_df = combined_df[['date', 'item_B_sales']]\n",
    "item_B_sales_df.set_index('date', inplace=True)\n",
    "\n",
    "item_C_sales_df = combined_df[['date', 'item_C_sales']]\n",
    "item_C_sales_df.set_index('date', inplace=True)\n",
    "\n",
    "combined_sales_df = pd.concat([total_sales_df, item_A_sales_df, item_B_sales_df, item_C_sales_df], axis=1)"
   ]
  },
  {
   "cell_type": "code",
   "execution_count": 189,
   "metadata": {},
   "outputs": [
    {
     "data": {
      "application/vnd.plotly.v1+json": {
       "config": {
        "plotlyServerURL": "https://plot.ly"
       },
       "data": [
        {
         "hovertemplate": "variable=total_sales_normalized<br>date=%{x}<br>value=%{y}<extra></extra>",
         "legendgroup": "total_sales_normalized",
         "line": {
          "color": "#636efa",
          "dash": "solid"
         },
         "marker": {
          "symbol": "circle"
         },
         "mode": "lines",
         "name": "total_sales_normalized",
         "showlegend": true,
         "type": "scattergl",
         "x": [
          "2024-06-01T00:00:00.000000000",
          "2024-06-02T00:00:00.000000000",
          "2024-06-03T00:00:00.000000000",
          "2024-06-04T00:00:00.000000000",
          "2024-06-05T00:00:00.000000000",
          "2024-06-06T00:00:00.000000000",
          "2024-06-07T00:00:00.000000000",
          "2024-06-08T00:00:00.000000000",
          "2024-06-09T00:00:00.000000000",
          "2024-06-10T00:00:00.000000000",
          "2024-06-11T00:00:00.000000000",
          "2024-06-12T00:00:00.000000000",
          "2024-06-13T00:00:00.000000000",
          "2024-06-14T00:00:00.000000000",
          "2024-06-15T00:00:00.000000000",
          "2024-06-16T00:00:00.000000000",
          "2024-06-17T00:00:00.000000000",
          "2024-06-18T00:00:00.000000000",
          "2024-06-19T00:00:00.000000000",
          "2024-06-20T00:00:00.000000000",
          "2024-06-21T00:00:00.000000000",
          "2024-06-22T00:00:00.000000000",
          "2024-06-23T00:00:00.000000000",
          "2024-06-24T00:00:00.000000000",
          "2024-06-25T00:00:00.000000000",
          "2024-06-26T00:00:00.000000000",
          "2024-06-27T00:00:00.000000000",
          "2024-06-28T00:00:00.000000000",
          "2024-06-29T00:00:00.000000000",
          "2024-06-30T00:00:00.000000000",
          "2024-07-01T00:00:00.000000000",
          "2024-07-02T00:00:00.000000000",
          "2024-07-03T00:00:00.000000000",
          "2024-07-04T00:00:00.000000000",
          "2024-07-05T00:00:00.000000000",
          "2024-07-06T00:00:00.000000000",
          "2024-07-07T00:00:00.000000000",
          "2024-07-08T00:00:00.000000000",
          "2024-07-09T00:00:00.000000000",
          "2024-07-10T00:00:00.000000000",
          "2024-07-11T00:00:00.000000000",
          "2024-07-12T00:00:00.000000000",
          "2024-07-13T00:00:00.000000000",
          "2024-07-14T00:00:00.000000000",
          "2024-07-15T00:00:00.000000000",
          "2024-07-16T00:00:00.000000000",
          "2024-07-17T00:00:00.000000000",
          "2024-07-18T00:00:00.000000000",
          "2024-07-19T00:00:00.000000000",
          "2024-07-20T00:00:00.000000000",
          "2024-07-21T00:00:00.000000000",
          "2024-07-22T00:00:00.000000000",
          "2024-07-23T00:00:00.000000000",
          "2024-07-24T00:00:00.000000000",
          "2024-07-25T00:00:00.000000000",
          "2024-07-26T00:00:00.000000000",
          "2024-07-27T00:00:00.000000000",
          "2024-07-28T00:00:00.000000000",
          "2024-07-29T00:00:00.000000000",
          "2024-07-30T00:00:00.000000000",
          "2024-07-31T00:00:00.000000000",
          "2024-08-01T00:00:00.000000000",
          "2024-08-02T00:00:00.000000000",
          "2024-08-03T00:00:00.000000000",
          "2024-08-04T00:00:00.000000000",
          "2024-08-05T00:00:00.000000000",
          "2024-08-06T00:00:00.000000000",
          "2024-08-07T00:00:00.000000000",
          "2024-08-08T00:00:00.000000000",
          "2024-08-09T00:00:00.000000000",
          "2024-08-10T00:00:00.000000000",
          "2024-08-11T00:00:00.000000000",
          "2024-08-12T00:00:00.000000000",
          "2024-08-13T00:00:00.000000000",
          "2024-08-14T00:00:00.000000000",
          "2024-08-15T00:00:00.000000000",
          "2024-08-16T00:00:00.000000000",
          "2024-08-17T00:00:00.000000000",
          "2024-08-18T00:00:00.000000000",
          "2024-08-19T00:00:00.000000000",
          "2024-08-20T00:00:00.000000000",
          "2024-08-21T00:00:00.000000000",
          "2024-08-22T00:00:00.000000000",
          "2024-08-23T00:00:00.000000000",
          "2024-08-24T00:00:00.000000000",
          "2024-08-25T00:00:00.000000000",
          "2024-08-26T00:00:00.000000000",
          "2024-08-27T00:00:00.000000000",
          "2024-08-28T00:00:00.000000000",
          "2024-08-29T00:00:00.000000000",
          "2024-08-30T00:00:00.000000000",
          "2024-08-31T00:00:00.000000000",
          "2024-09-01T00:00:00.000000000",
          "2024-09-02T00:00:00.000000000",
          "2024-09-03T00:00:00.000000000",
          "2024-09-04T00:00:00.000000000",
          "2024-09-05T00:00:00.000000000",
          "2024-09-06T00:00:00.000000000",
          "2024-09-07T00:00:00.000000000",
          "2024-09-08T00:00:00.000000000",
          "2024-09-09T00:00:00.000000000",
          "2024-09-10T00:00:00.000000000",
          "2024-09-11T00:00:00.000000000",
          "2024-09-12T00:00:00.000000000",
          "2024-09-13T00:00:00.000000000",
          "2024-09-14T00:00:00.000000000",
          "2024-09-15T00:00:00.000000000",
          "2024-09-16T00:00:00.000000000",
          "2024-09-17T00:00:00.000000000",
          "2024-09-18T00:00:00.000000000",
          "2024-09-19T00:00:00.000000000",
          "2024-09-20T00:00:00.000000000",
          "2024-09-21T00:00:00.000000000",
          "2024-09-22T00:00:00.000000000",
          "2024-09-23T00:00:00.000000000",
          "2024-09-24T00:00:00.000000000",
          "2024-09-25T00:00:00.000000000",
          "2024-09-26T00:00:00.000000000",
          "2024-09-27T00:00:00.000000000",
          "2024-09-28T00:00:00.000000000",
          "2024-09-29T00:00:00.000000000",
          "2024-09-30T00:00:00.000000000",
          "2024-10-01T00:00:00.000000000",
          "2024-10-02T00:00:00.000000000",
          "2024-10-03T00:00:00.000000000",
          "2024-10-04T00:00:00.000000000",
          "2024-10-05T00:00:00.000000000",
          "2024-10-06T00:00:00.000000000",
          "2024-10-07T00:00:00.000000000",
          "2024-10-08T00:00:00.000000000",
          "2024-10-09T00:00:00.000000000",
          "2024-10-10T00:00:00.000000000",
          "2024-10-11T00:00:00.000000000",
          "2024-10-12T00:00:00.000000000",
          "2024-10-13T00:00:00.000000000",
          "2024-10-14T00:00:00.000000000",
          "2024-10-15T00:00:00.000000000",
          "2024-10-16T00:00:00.000000000",
          "2024-10-17T00:00:00.000000000",
          "2024-10-18T00:00:00.000000000",
          "2024-10-19T00:00:00.000000000",
          "2024-10-20T00:00:00.000000000",
          "2024-10-21T00:00:00.000000000",
          "2024-10-22T00:00:00.000000000",
          "2024-10-23T00:00:00.000000000",
          "2024-10-24T00:00:00.000000000",
          "2024-10-25T00:00:00.000000000",
          "2024-10-26T00:00:00.000000000",
          "2024-10-27T00:00:00.000000000",
          "2024-10-28T00:00:00.000000000",
          "2024-10-29T00:00:00.000000000",
          "2024-10-30T00:00:00.000000000",
          "2024-10-31T00:00:00.000000000",
          "2024-11-01T00:00:00.000000000",
          "2024-11-02T00:00:00.000000000",
          "2024-11-03T00:00:00.000000000",
          "2024-11-04T00:00:00.000000000",
          "2024-11-05T00:00:00.000000000",
          "2024-11-06T00:00:00.000000000",
          "2024-11-07T00:00:00.000000000",
          "2024-11-08T00:00:00.000000000",
          "2024-11-09T00:00:00.000000000",
          "2024-11-10T00:00:00.000000000",
          "2024-11-11T00:00:00.000000000",
          "2024-11-12T00:00:00.000000000",
          "2024-11-13T00:00:00.000000000",
          "2024-11-14T00:00:00.000000000",
          "2024-11-15T00:00:00.000000000",
          "2024-11-16T00:00:00.000000000",
          "2024-11-17T00:00:00.000000000",
          "2024-11-18T00:00:00.000000000",
          "2024-11-19T00:00:00.000000000",
          "2024-11-20T00:00:00.000000000",
          "2024-11-21T00:00:00.000000000",
          "2024-11-22T00:00:00.000000000",
          "2024-11-23T00:00:00.000000000",
          "2024-11-24T00:00:00.000000000",
          "2024-11-25T00:00:00.000000000",
          "2024-11-26T00:00:00.000000000",
          "2024-11-27T00:00:00.000000000",
          "2024-11-28T00:00:00.000000000",
          "2024-11-29T00:00:00.000000000",
          "2024-11-30T00:00:00.000000000",
          "2024-12-01T00:00:00.000000000",
          "2024-12-02T00:00:00.000000000",
          "2024-12-03T00:00:00.000000000",
          "2024-12-04T00:00:00.000000000",
          "2024-12-05T00:00:00.000000000",
          "2024-12-06T00:00:00.000000000",
          "2024-12-07T00:00:00.000000000",
          "2024-12-08T00:00:00.000000000",
          "2024-12-09T00:00:00.000000000",
          "2024-12-10T00:00:00.000000000",
          "2024-12-11T00:00:00.000000000",
          "2024-12-12T00:00:00.000000000",
          "2024-12-13T00:00:00.000000000",
          "2024-12-14T00:00:00.000000000",
          "2024-12-15T00:00:00.000000000",
          "2024-12-16T00:00:00.000000000",
          "2024-12-17T00:00:00.000000000",
          "2024-12-18T00:00:00.000000000",
          "2024-12-19T00:00:00.000000000",
          "2024-12-20T00:00:00.000000000",
          "2024-12-21T00:00:00.000000000",
          "2024-12-22T00:00:00.000000000",
          "2024-12-23T00:00:00.000000000",
          "2024-12-24T00:00:00.000000000",
          "2024-12-25T00:00:00.000000000",
          "2024-12-26T00:00:00.000000000",
          "2024-12-27T00:00:00.000000000",
          "2024-12-28T00:00:00.000000000",
          "2024-12-29T00:00:00.000000000",
          "2024-12-30T00:00:00.000000000",
          "2024-12-31T00:00:00.000000000",
          "2025-01-01T00:00:00.000000000",
          "2025-01-02T00:00:00.000000000",
          "2025-01-03T00:00:00.000000000",
          "2025-01-04T00:00:00.000000000",
          "2025-01-05T00:00:00.000000000",
          "2025-01-06T00:00:00.000000000",
          "2025-01-07T00:00:00.000000000",
          "2025-01-08T00:00:00.000000000",
          "2025-01-09T00:00:00.000000000",
          "2025-01-10T00:00:00.000000000",
          "2025-01-11T00:00:00.000000000",
          "2025-01-12T00:00:00.000000000",
          "2025-01-13T00:00:00.000000000",
          "2025-01-14T00:00:00.000000000",
          "2025-01-15T00:00:00.000000000",
          "2025-01-16T00:00:00.000000000",
          "2025-01-17T00:00:00.000000000",
          "2025-01-18T00:00:00.000000000",
          "2025-01-19T00:00:00.000000000",
          "2025-01-20T00:00:00.000000000",
          "2025-01-21T00:00:00.000000000",
          "2025-01-22T00:00:00.000000000",
          "2025-01-23T00:00:00.000000000",
          "2025-01-24T00:00:00.000000000",
          "2025-01-25T00:00:00.000000000",
          "2025-01-26T00:00:00.000000000",
          "2025-01-27T00:00:00.000000000",
          "2025-01-28T00:00:00.000000000",
          "2025-01-29T00:00:00.000000000",
          "2025-01-30T00:00:00.000000000",
          "2025-01-31T00:00:00.000000000",
          "2025-02-01T00:00:00.000000000",
          "2025-02-02T00:00:00.000000000",
          "2025-02-03T00:00:00.000000000",
          "2025-02-04T00:00:00.000000000",
          "2025-02-05T00:00:00.000000000",
          "2025-02-06T00:00:00.000000000",
          "2025-02-07T00:00:00.000000000",
          "2025-02-08T00:00:00.000000000",
          "2025-02-09T00:00:00.000000000",
          "2025-02-10T00:00:00.000000000",
          "2025-02-11T00:00:00.000000000",
          "2025-02-12T00:00:00.000000000",
          "2025-02-13T00:00:00.000000000",
          "2025-02-14T00:00:00.000000000",
          "2025-02-15T00:00:00.000000000",
          "2025-02-16T00:00:00.000000000",
          "2025-02-17T00:00:00.000000000",
          "2025-02-18T00:00:00.000000000",
          "2025-02-19T00:00:00.000000000",
          "2025-02-20T00:00:00.000000000",
          "2025-02-21T00:00:00.000000000",
          "2025-02-22T00:00:00.000000000",
          "2025-02-23T00:00:00.000000000",
          "2025-02-24T00:00:00.000000000",
          "2025-02-25T00:00:00.000000000",
          "2025-02-26T00:00:00.000000000",
          "2025-02-27T00:00:00.000000000",
          "2025-02-28T00:00:00.000000000",
          "2025-03-01T00:00:00.000000000",
          "2025-03-02T00:00:00.000000000",
          "2025-03-03T00:00:00.000000000",
          "2025-03-04T00:00:00.000000000",
          "2025-03-05T00:00:00.000000000",
          "2025-03-06T00:00:00.000000000",
          "2025-03-07T00:00:00.000000000",
          "2025-03-08T00:00:00.000000000",
          "2025-03-09T00:00:00.000000000",
          "2025-03-10T00:00:00.000000000",
          "2025-03-11T00:00:00.000000000",
          "2025-03-12T00:00:00.000000000",
          "2025-03-13T00:00:00.000000000",
          "2025-03-14T00:00:00.000000000",
          "2025-03-15T00:00:00.000000000",
          "2025-03-16T00:00:00.000000000",
          "2025-03-17T00:00:00.000000000",
          "2025-03-18T00:00:00.000000000",
          "2025-03-19T00:00:00.000000000",
          "2025-03-20T00:00:00.000000000",
          "2025-03-21T00:00:00.000000000",
          "2025-03-22T00:00:00.000000000",
          "2025-03-23T00:00:00.000000000",
          "2025-03-24T00:00:00.000000000",
          "2025-03-25T00:00:00.000000000",
          "2025-03-26T00:00:00.000000000",
          "2025-03-27T00:00:00.000000000",
          "2025-03-28T00:00:00.000000000",
          "2025-03-29T00:00:00.000000000",
          "2025-03-30T00:00:00.000000000",
          "2025-03-31T00:00:00.000000000",
          "2025-04-01T00:00:00.000000000",
          "2025-04-02T00:00:00.000000000",
          "2025-04-03T00:00:00.000000000",
          "2025-04-04T00:00:00.000000000",
          "2025-04-05T00:00:00.000000000",
          "2025-04-06T00:00:00.000000000",
          "2025-04-07T00:00:00.000000000",
          "2025-04-08T00:00:00.000000000",
          "2025-04-09T00:00:00.000000000",
          "2025-04-10T00:00:00.000000000",
          "2025-04-11T00:00:00.000000000",
          "2025-04-12T00:00:00.000000000",
          "2025-04-13T00:00:00.000000000",
          "2025-04-14T00:00:00.000000000",
          "2025-04-15T00:00:00.000000000",
          "2025-04-16T00:00:00.000000000",
          "2025-04-17T00:00:00.000000000",
          "2025-04-18T00:00:00.000000000",
          "2025-04-19T00:00:00.000000000",
          "2025-04-20T00:00:00.000000000",
          "2025-04-21T00:00:00.000000000",
          "2025-04-22T00:00:00.000000000",
          "2025-04-23T00:00:00.000000000",
          "2025-04-24T00:00:00.000000000",
          "2025-04-25T00:00:00.000000000",
          "2025-04-26T00:00:00.000000000",
          "2025-04-27T00:00:00.000000000",
          "2025-04-28T00:00:00.000000000",
          "2025-04-29T00:00:00.000000000",
          "2025-04-30T00:00:00.000000000",
          "2025-05-01T00:00:00.000000000",
          "2025-05-02T00:00:00.000000000",
          "2025-05-03T00:00:00.000000000",
          "2025-05-04T00:00:00.000000000",
          "2025-05-05T00:00:00.000000000",
          "2025-05-06T00:00:00.000000000",
          "2025-05-07T00:00:00.000000000",
          "2025-05-08T00:00:00.000000000"
         ],
         "xaxis": "x",
         "y": {
          "bdata": "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",
          "dtype": "f8"
         },
         "yaxis": "y"
        },
        {
         "hovertemplate": "variable=item_A_sales<br>date=%{x}<br>value=%{y}<extra></extra>",
         "legendgroup": "item_A_sales",
         "line": {
          "color": "#EF553B",
          "dash": "solid"
         },
         "marker": {
          "symbol": "circle"
         },
         "mode": "lines",
         "name": "item_A_sales",
         "showlegend": true,
         "type": "scattergl",
         "x": [
          "2024-06-01T00:00:00.000000000",
          "2024-06-02T00:00:00.000000000",
          "2024-06-03T00:00:00.000000000",
          "2024-06-04T00:00:00.000000000",
          "2024-06-05T00:00:00.000000000",
          "2024-06-06T00:00:00.000000000",
          "2024-06-07T00:00:00.000000000",
          "2024-06-08T00:00:00.000000000",
          "2024-06-09T00:00:00.000000000",
          "2024-06-10T00:00:00.000000000",
          "2024-06-11T00:00:00.000000000",
          "2024-06-12T00:00:00.000000000",
          "2024-06-13T00:00:00.000000000",
          "2024-06-14T00:00:00.000000000",
          "2024-06-15T00:00:00.000000000",
          "2024-06-16T00:00:00.000000000",
          "2024-06-17T00:00:00.000000000",
          "2024-06-18T00:00:00.000000000",
          "2024-06-19T00:00:00.000000000",
          "2024-06-20T00:00:00.000000000",
          "2024-06-21T00:00:00.000000000",
          "2024-06-22T00:00:00.000000000",
          "2024-06-23T00:00:00.000000000",
          "2024-06-24T00:00:00.000000000",
          "2024-06-25T00:00:00.000000000",
          "2024-06-26T00:00:00.000000000",
          "2024-06-27T00:00:00.000000000",
          "2024-06-28T00:00:00.000000000",
          "2024-06-29T00:00:00.000000000",
          "2024-06-30T00:00:00.000000000",
          "2024-07-01T00:00:00.000000000",
          "2024-07-02T00:00:00.000000000",
          "2024-07-03T00:00:00.000000000",
          "2024-07-04T00:00:00.000000000",
          "2024-07-05T00:00:00.000000000",
          "2024-07-06T00:00:00.000000000",
          "2024-07-07T00:00:00.000000000",
          "2024-07-08T00:00:00.000000000",
          "2024-07-09T00:00:00.000000000",
          "2024-07-10T00:00:00.000000000",
          "2024-07-11T00:00:00.000000000",
          "2024-07-12T00:00:00.000000000",
          "2024-07-13T00:00:00.000000000",
          "2024-07-14T00:00:00.000000000",
          "2024-07-15T00:00:00.000000000",
          "2024-07-16T00:00:00.000000000",
          "2024-07-17T00:00:00.000000000",
          "2024-07-18T00:00:00.000000000",
          "2024-07-19T00:00:00.000000000",
          "2024-07-20T00:00:00.000000000",
          "2024-07-21T00:00:00.000000000",
          "2024-07-22T00:00:00.000000000",
          "2024-07-23T00:00:00.000000000",
          "2024-07-24T00:00:00.000000000",
          "2024-07-25T00:00:00.000000000",
          "2024-07-26T00:00:00.000000000",
          "2024-07-27T00:00:00.000000000",
          "2024-07-28T00:00:00.000000000",
          "2024-07-29T00:00:00.000000000",
          "2024-07-30T00:00:00.000000000",
          "2024-07-31T00:00:00.000000000",
          "2024-08-01T00:00:00.000000000",
          "2024-08-02T00:00:00.000000000",
          "2024-08-03T00:00:00.000000000",
          "2024-08-04T00:00:00.000000000",
          "2024-08-05T00:00:00.000000000",
          "2024-08-06T00:00:00.000000000",
          "2024-08-07T00:00:00.000000000",
          "2024-08-08T00:00:00.000000000",
          "2024-08-09T00:00:00.000000000",
          "2024-08-10T00:00:00.000000000",
          "2024-08-11T00:00:00.000000000",
          "2024-08-12T00:00:00.000000000",
          "2024-08-13T00:00:00.000000000",
          "2024-08-14T00:00:00.000000000",
          "2024-08-15T00:00:00.000000000",
          "2024-08-16T00:00:00.000000000",
          "2024-08-17T00:00:00.000000000",
          "2024-08-18T00:00:00.000000000",
          "2024-08-19T00:00:00.000000000",
          "2024-08-20T00:00:00.000000000",
          "2024-08-21T00:00:00.000000000",
          "2024-08-22T00:00:00.000000000",
          "2024-08-23T00:00:00.000000000",
          "2024-08-24T00:00:00.000000000",
          "2024-08-25T00:00:00.000000000",
          "2024-08-26T00:00:00.000000000",
          "2024-08-27T00:00:00.000000000",
          "2024-08-28T00:00:00.000000000",
          "2024-08-29T00:00:00.000000000",
          "2024-08-30T00:00:00.000000000",
          "2024-08-31T00:00:00.000000000",
          "2024-09-01T00:00:00.000000000",
          "2024-09-02T00:00:00.000000000",
          "2024-09-03T00:00:00.000000000",
          "2024-09-04T00:00:00.000000000",
          "2024-09-05T00:00:00.000000000",
          "2024-09-06T00:00:00.000000000",
          "2024-09-07T00:00:00.000000000",
          "2024-09-08T00:00:00.000000000",
          "2024-09-09T00:00:00.000000000",
          "2024-09-10T00:00:00.000000000",
          "2024-09-11T00:00:00.000000000",
          "2024-09-12T00:00:00.000000000",
          "2024-09-13T00:00:00.000000000",
          "2024-09-14T00:00:00.000000000",
          "2024-09-15T00:00:00.000000000",
          "2024-09-16T00:00:00.000000000",
          "2024-09-17T00:00:00.000000000",
          "2024-09-18T00:00:00.000000000",
          "2024-09-19T00:00:00.000000000",
          "2024-09-20T00:00:00.000000000",
          "2024-09-21T00:00:00.000000000",
          "2024-09-22T00:00:00.000000000",
          "2024-09-23T00:00:00.000000000",
          "2024-09-24T00:00:00.000000000",
          "2024-09-25T00:00:00.000000000",
          "2024-09-26T00:00:00.000000000",
          "2024-09-27T00:00:00.000000000",
          "2024-09-28T00:00:00.000000000",
          "2024-09-29T00:00:00.000000000",
          "2024-09-30T00:00:00.000000000",
          "2024-10-01T00:00:00.000000000",
          "2024-10-02T00:00:00.000000000",
          "2024-10-03T00:00:00.000000000",
          "2024-10-04T00:00:00.000000000",
          "2024-10-05T00:00:00.000000000",
          "2024-10-06T00:00:00.000000000",
          "2024-10-07T00:00:00.000000000",
          "2024-10-08T00:00:00.000000000",
          "2024-10-09T00:00:00.000000000",
          "2024-10-10T00:00:00.000000000",
          "2024-10-11T00:00:00.000000000",
          "2024-10-12T00:00:00.000000000",
          "2024-10-13T00:00:00.000000000",
          "2024-10-14T00:00:00.000000000",
          "2024-10-15T00:00:00.000000000",
          "2024-10-16T00:00:00.000000000",
          "2024-10-17T00:00:00.000000000",
          "2024-10-18T00:00:00.000000000",
          "2024-10-19T00:00:00.000000000",
          "2024-10-20T00:00:00.000000000",
          "2024-10-21T00:00:00.000000000",
          "2024-10-22T00:00:00.000000000",
          "2024-10-23T00:00:00.000000000",
          "2024-10-24T00:00:00.000000000",
          "2024-10-25T00:00:00.000000000",
          "2024-10-26T00:00:00.000000000",
          "2024-10-27T00:00:00.000000000",
          "2024-10-28T00:00:00.000000000",
          "2024-10-29T00:00:00.000000000",
          "2024-10-30T00:00:00.000000000",
          "2024-10-31T00:00:00.000000000",
          "2024-11-01T00:00:00.000000000",
          "2024-11-02T00:00:00.000000000",
          "2024-11-03T00:00:00.000000000",
          "2024-11-04T00:00:00.000000000",
          "2024-11-05T00:00:00.000000000",
          "2024-11-06T00:00:00.000000000",
          "2024-11-07T00:00:00.000000000",
          "2024-11-08T00:00:00.000000000",
          "2024-11-09T00:00:00.000000000",
          "2024-11-10T00:00:00.000000000",
          "2024-11-11T00:00:00.000000000",
          "2024-11-12T00:00:00.000000000",
          "2024-11-13T00:00:00.000000000",
          "2024-11-14T00:00:00.000000000",
          "2024-11-15T00:00:00.000000000",
          "2024-11-16T00:00:00.000000000",
          "2024-11-17T00:00:00.000000000",
          "2024-11-18T00:00:00.000000000",
          "2024-11-19T00:00:00.000000000",
          "2024-11-20T00:00:00.000000000",
          "2024-11-21T00:00:00.000000000",
          "2024-11-22T00:00:00.000000000",
          "2024-11-23T00:00:00.000000000",
          "2024-11-24T00:00:00.000000000",
          "2024-11-25T00:00:00.000000000",
          "2024-11-26T00:00:00.000000000",
          "2024-11-27T00:00:00.000000000",
          "2024-11-28T00:00:00.000000000",
          "2024-11-29T00:00:00.000000000",
          "2024-11-30T00:00:00.000000000",
          "2024-12-01T00:00:00.000000000",
          "2024-12-02T00:00:00.000000000",
          "2024-12-03T00:00:00.000000000",
          "2024-12-04T00:00:00.000000000",
          "2024-12-05T00:00:00.000000000",
          "2024-12-06T00:00:00.000000000",
          "2024-12-07T00:00:00.000000000",
          "2024-12-08T00:00:00.000000000",
          "2024-12-09T00:00:00.000000000",
          "2024-12-10T00:00:00.000000000",
          "2024-12-11T00:00:00.000000000",
          "2024-12-12T00:00:00.000000000",
          "2024-12-13T00:00:00.000000000",
          "2024-12-14T00:00:00.000000000",
          "2024-12-15T00:00:00.000000000",
          "2024-12-16T00:00:00.000000000",
          "2024-12-17T00:00:00.000000000",
          "2024-12-18T00:00:00.000000000",
          "2024-12-19T00:00:00.000000000",
          "2024-12-20T00:00:00.000000000",
          "2024-12-21T00:00:00.000000000",
          "2024-12-22T00:00:00.000000000",
          "2024-12-23T00:00:00.000000000",
          "2024-12-24T00:00:00.000000000",
          "2024-12-25T00:00:00.000000000",
          "2024-12-26T00:00:00.000000000",
          "2024-12-27T00:00:00.000000000",
          "2024-12-28T00:00:00.000000000",
          "2024-12-29T00:00:00.000000000",
          "2024-12-30T00:00:00.000000000",
          "2024-12-31T00:00:00.000000000",
          "2025-01-01T00:00:00.000000000",
          "2025-01-02T00:00:00.000000000",
          "2025-01-03T00:00:00.000000000",
          "2025-01-04T00:00:00.000000000",
          "2025-01-05T00:00:00.000000000",
          "2025-01-06T00:00:00.000000000",
          "2025-01-07T00:00:00.000000000",
          "2025-01-08T00:00:00.000000000",
          "2025-01-09T00:00:00.000000000",
          "2025-01-10T00:00:00.000000000",
          "2025-01-11T00:00:00.000000000",
          "2025-01-12T00:00:00.000000000",
          "2025-01-13T00:00:00.000000000",
          "2025-01-14T00:00:00.000000000",
          "2025-01-15T00:00:00.000000000",
          "2025-01-16T00:00:00.000000000",
          "2025-01-17T00:00:00.000000000",
          "2025-01-18T00:00:00.000000000",
          "2025-01-19T00:00:00.000000000",
          "2025-01-20T00:00:00.000000000",
          "2025-01-21T00:00:00.000000000",
          "2025-01-22T00:00:00.000000000",
          "2025-01-23T00:00:00.000000000",
          "2025-01-24T00:00:00.000000000",
          "2025-01-25T00:00:00.000000000",
          "2025-01-26T00:00:00.000000000",
          "2025-01-27T00:00:00.000000000",
          "2025-01-28T00:00:00.000000000",
          "2025-01-29T00:00:00.000000000",
          "2025-01-30T00:00:00.000000000",
          "2025-01-31T00:00:00.000000000",
          "2025-02-01T00:00:00.000000000",
          "2025-02-02T00:00:00.000000000",
          "2025-02-03T00:00:00.000000000",
          "2025-02-04T00:00:00.000000000",
          "2025-02-05T00:00:00.000000000",
          "2025-02-06T00:00:00.000000000",
          "2025-02-07T00:00:00.000000000",
          "2025-02-08T00:00:00.000000000",
          "2025-02-09T00:00:00.000000000",
          "2025-02-10T00:00:00.000000000",
          "2025-02-11T00:00:00.000000000",
          "2025-02-12T00:00:00.000000000",
          "2025-02-13T00:00:00.000000000",
          "2025-02-14T00:00:00.000000000",
          "2025-02-15T00:00:00.000000000",
          "2025-02-16T00:00:00.000000000",
          "2025-02-17T00:00:00.000000000",
          "2025-02-18T00:00:00.000000000",
          "2025-02-19T00:00:00.000000000",
          "2025-02-20T00:00:00.000000000",
          "2025-02-21T00:00:00.000000000",
          "2025-02-22T00:00:00.000000000",
          "2025-02-23T00:00:00.000000000",
          "2025-02-24T00:00:00.000000000",
          "2025-02-25T00:00:00.000000000",
          "2025-02-26T00:00:00.000000000",
          "2025-02-27T00:00:00.000000000",
          "2025-02-28T00:00:00.000000000",
          "2025-03-01T00:00:00.000000000",
          "2025-03-02T00:00:00.000000000",
          "2025-03-03T00:00:00.000000000",
          "2025-03-04T00:00:00.000000000",
          "2025-03-05T00:00:00.000000000",
          "2025-03-06T00:00:00.000000000",
          "2025-03-07T00:00:00.000000000",
          "2025-03-08T00:00:00.000000000",
          "2025-03-09T00:00:00.000000000",
          "2025-03-10T00:00:00.000000000",
          "2025-03-11T00:00:00.000000000",
          "2025-03-12T00:00:00.000000000",
          "2025-03-13T00:00:00.000000000",
          "2025-03-14T00:00:00.000000000",
          "2025-03-15T00:00:00.000000000",
          "2025-03-16T00:00:00.000000000",
          "2025-03-17T00:00:00.000000000",
          "2025-03-18T00:00:00.000000000",
          "2025-03-19T00:00:00.000000000",
          "2025-03-20T00:00:00.000000000",
          "2025-03-21T00:00:00.000000000",
          "2025-03-22T00:00:00.000000000",
          "2025-03-23T00:00:00.000000000",
          "2025-03-24T00:00:00.000000000",
          "2025-03-25T00:00:00.000000000",
          "2025-03-26T00:00:00.000000000",
          "2025-03-27T00:00:00.000000000",
          "2025-03-28T00:00:00.000000000",
          "2025-03-29T00:00:00.000000000",
          "2025-03-30T00:00:00.000000000",
          "2025-03-31T00:00:00.000000000",
          "2025-04-01T00:00:00.000000000",
          "2025-04-02T00:00:00.000000000",
          "2025-04-03T00:00:00.000000000",
          "2025-04-04T00:00:00.000000000",
          "2025-04-05T00:00:00.000000000",
          "2025-04-06T00:00:00.000000000",
          "2025-04-07T00:00:00.000000000",
          "2025-04-08T00:00:00.000000000",
          "2025-04-09T00:00:00.000000000",
          "2025-04-10T00:00:00.000000000",
          "2025-04-11T00:00:00.000000000",
          "2025-04-12T00:00:00.000000000",
          "2025-04-13T00:00:00.000000000",
          "2025-04-14T00:00:00.000000000",
          "2025-04-15T00:00:00.000000000",
          "2025-04-16T00:00:00.000000000",
          "2025-04-17T00:00:00.000000000",
          "2025-04-18T00:00:00.000000000",
          "2025-04-19T00:00:00.000000000",
          "2025-04-20T00:00:00.000000000",
          "2025-04-21T00:00:00.000000000",
          "2025-04-22T00:00:00.000000000",
          "2025-04-23T00:00:00.000000000",
          "2025-04-24T00:00:00.000000000",
          "2025-04-25T00:00:00.000000000",
          "2025-04-26T00:00:00.000000000",
          "2025-04-27T00:00:00.000000000",
          "2025-04-28T00:00:00.000000000",
          "2025-04-29T00:00:00.000000000",
          "2025-04-30T00:00:00.000000000",
          "2025-05-01T00:00:00.000000000",
          "2025-05-02T00:00:00.000000000",
          "2025-05-03T00:00:00.000000000",
          "2025-05-04T00:00:00.000000000",
          "2025-05-05T00:00:00.000000000",
          "2025-05-06T00:00:00.000000000",
          "2025-05-07T00:00:00.000000000",
          "2025-05-08T00:00:00.000000000"
         ],
         "xaxis": "x",
         "y": {
          "bdata": "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",
          "dtype": "f8"
         },
         "yaxis": "y"
        },
        {
         "hovertemplate": "variable=item_B_sales<br>date=%{x}<br>value=%{y}<extra></extra>",
         "legendgroup": "item_B_sales",
         "line": {
          "color": "#00cc96",
          "dash": "solid"
         },
         "marker": {
          "symbol": "circle"
         },
         "mode": "lines",
         "name": "item_B_sales",
         "showlegend": true,
         "type": "scattergl",
         "x": [
          "2024-06-01T00:00:00.000000000",
          "2024-06-02T00:00:00.000000000",
          "2024-06-03T00:00:00.000000000",
          "2024-06-04T00:00:00.000000000",
          "2024-06-05T00:00:00.000000000",
          "2024-06-06T00:00:00.000000000",
          "2024-06-07T00:00:00.000000000",
          "2024-06-08T00:00:00.000000000",
          "2024-06-09T00:00:00.000000000",
          "2024-06-10T00:00:00.000000000",
          "2024-06-11T00:00:00.000000000",
          "2024-06-12T00:00:00.000000000",
          "2024-06-13T00:00:00.000000000",
          "2024-06-14T00:00:00.000000000",
          "2024-06-15T00:00:00.000000000",
          "2024-06-16T00:00:00.000000000",
          "2024-06-17T00:00:00.000000000",
          "2024-06-18T00:00:00.000000000",
          "2024-06-19T00:00:00.000000000",
          "2024-06-20T00:00:00.000000000",
          "2024-06-21T00:00:00.000000000",
          "2024-06-22T00:00:00.000000000",
          "2024-06-23T00:00:00.000000000",
          "2024-06-24T00:00:00.000000000",
          "2024-06-25T00:00:00.000000000",
          "2024-06-26T00:00:00.000000000",
          "2024-06-27T00:00:00.000000000",
          "2024-06-28T00:00:00.000000000",
          "2024-06-29T00:00:00.000000000",
          "2024-06-30T00:00:00.000000000",
          "2024-07-01T00:00:00.000000000",
          "2024-07-02T00:00:00.000000000",
          "2024-07-03T00:00:00.000000000",
          "2024-07-04T00:00:00.000000000",
          "2024-07-05T00:00:00.000000000",
          "2024-07-06T00:00:00.000000000",
          "2024-07-07T00:00:00.000000000",
          "2024-07-08T00:00:00.000000000",
          "2024-07-09T00:00:00.000000000",
          "2024-07-10T00:00:00.000000000",
          "2024-07-11T00:00:00.000000000",
          "2024-07-12T00:00:00.000000000",
          "2024-07-13T00:00:00.000000000",
          "2024-07-14T00:00:00.000000000",
          "2024-07-15T00:00:00.000000000",
          "2024-07-16T00:00:00.000000000",
          "2024-07-17T00:00:00.000000000",
          "2024-07-18T00:00:00.000000000",
          "2024-07-19T00:00:00.000000000",
          "2024-07-20T00:00:00.000000000",
          "2024-07-21T00:00:00.000000000",
          "2024-07-22T00:00:00.000000000",
          "2024-07-23T00:00:00.000000000",
          "2024-07-24T00:00:00.000000000",
          "2024-07-25T00:00:00.000000000",
          "2024-07-26T00:00:00.000000000",
          "2024-07-27T00:00:00.000000000",
          "2024-07-28T00:00:00.000000000",
          "2024-07-29T00:00:00.000000000",
          "2024-07-30T00:00:00.000000000",
          "2024-07-31T00:00:00.000000000",
          "2024-08-01T00:00:00.000000000",
          "2024-08-02T00:00:00.000000000",
          "2024-08-03T00:00:00.000000000",
          "2024-08-04T00:00:00.000000000",
          "2024-08-05T00:00:00.000000000",
          "2024-08-06T00:00:00.000000000",
          "2024-08-07T00:00:00.000000000",
          "2024-08-08T00:00:00.000000000",
          "2024-08-09T00:00:00.000000000",
          "2024-08-10T00:00:00.000000000",
          "2024-08-11T00:00:00.000000000",
          "2024-08-12T00:00:00.000000000",
          "2024-08-13T00:00:00.000000000",
          "2024-08-14T00:00:00.000000000",
          "2024-08-15T00:00:00.000000000",
          "2024-08-16T00:00:00.000000000",
          "2024-08-17T00:00:00.000000000",
          "2024-08-18T00:00:00.000000000",
          "2024-08-19T00:00:00.000000000",
          "2024-08-20T00:00:00.000000000",
          "2024-08-21T00:00:00.000000000",
          "2024-08-22T00:00:00.000000000",
          "2024-08-23T00:00:00.000000000",
          "2024-08-24T00:00:00.000000000",
          "2024-08-25T00:00:00.000000000",
          "2024-08-26T00:00:00.000000000",
          "2024-08-27T00:00:00.000000000",
          "2024-08-28T00:00:00.000000000",
          "2024-08-29T00:00:00.000000000",
          "2024-08-30T00:00:00.000000000",
          "2024-08-31T00:00:00.000000000",
          "2024-09-01T00:00:00.000000000",
          "2024-09-02T00:00:00.000000000",
          "2024-09-03T00:00:00.000000000",
          "2024-09-04T00:00:00.000000000",
          "2024-09-05T00:00:00.000000000",
          "2024-09-06T00:00:00.000000000",
          "2024-09-07T00:00:00.000000000",
          "2024-09-08T00:00:00.000000000",
          "2024-09-09T00:00:00.000000000",
          "2024-09-10T00:00:00.000000000",
          "2024-09-11T00:00:00.000000000",
          "2024-09-12T00:00:00.000000000",
          "2024-09-13T00:00:00.000000000",
          "2024-09-14T00:00:00.000000000",
          "2024-09-15T00:00:00.000000000",
          "2024-09-16T00:00:00.000000000",
          "2024-09-17T00:00:00.000000000",
          "2024-09-18T00:00:00.000000000",
          "2024-09-19T00:00:00.000000000",
          "2024-09-20T00:00:00.000000000",
          "2024-09-21T00:00:00.000000000",
          "2024-09-22T00:00:00.000000000",
          "2024-09-23T00:00:00.000000000",
          "2024-09-24T00:00:00.000000000",
          "2024-09-25T00:00:00.000000000",
          "2024-09-26T00:00:00.000000000",
          "2024-09-27T00:00:00.000000000",
          "2024-09-28T00:00:00.000000000",
          "2024-09-29T00:00:00.000000000",
          "2024-09-30T00:00:00.000000000",
          "2024-10-01T00:00:00.000000000",
          "2024-10-02T00:00:00.000000000",
          "2024-10-03T00:00:00.000000000",
          "2024-10-04T00:00:00.000000000",
          "2024-10-05T00:00:00.000000000",
          "2024-10-06T00:00:00.000000000",
          "2024-10-07T00:00:00.000000000",
          "2024-10-08T00:00:00.000000000",
          "2024-10-09T00:00:00.000000000",
          "2024-10-10T00:00:00.000000000",
          "2024-10-11T00:00:00.000000000",
          "2024-10-12T00:00:00.000000000",
          "2024-10-13T00:00:00.000000000",
          "2024-10-14T00:00:00.000000000",
          "2024-10-15T00:00:00.000000000",
          "2024-10-16T00:00:00.000000000",
          "2024-10-17T00:00:00.000000000",
          "2024-10-18T00:00:00.000000000",
          "2024-10-19T00:00:00.000000000",
          "2024-10-20T00:00:00.000000000",
          "2024-10-21T00:00:00.000000000",
          "2024-10-22T00:00:00.000000000",
          "2024-10-23T00:00:00.000000000",
          "2024-10-24T00:00:00.000000000",
          "2024-10-25T00:00:00.000000000",
          "2024-10-26T00:00:00.000000000",
          "2024-10-27T00:00:00.000000000",
          "2024-10-28T00:00:00.000000000",
          "2024-10-29T00:00:00.000000000",
          "2024-10-30T00:00:00.000000000",
          "2024-10-31T00:00:00.000000000",
          "2024-11-01T00:00:00.000000000",
          "2024-11-02T00:00:00.000000000",
          "2024-11-03T00:00:00.000000000",
          "2024-11-04T00:00:00.000000000",
          "2024-11-05T00:00:00.000000000",
          "2024-11-06T00:00:00.000000000",
          "2024-11-07T00:00:00.000000000",
          "2024-11-08T00:00:00.000000000",
          "2024-11-09T00:00:00.000000000",
          "2024-11-10T00:00:00.000000000",
          "2024-11-11T00:00:00.000000000",
          "2024-11-12T00:00:00.000000000",
          "2024-11-13T00:00:00.000000000",
          "2024-11-14T00:00:00.000000000",
          "2024-11-15T00:00:00.000000000",
          "2024-11-16T00:00:00.000000000",
          "2024-11-17T00:00:00.000000000",
          "2024-11-18T00:00:00.000000000",
          "2024-11-19T00:00:00.000000000",
          "2024-11-20T00:00:00.000000000",
          "2024-11-21T00:00:00.000000000",
          "2024-11-22T00:00:00.000000000",
          "2024-11-23T00:00:00.000000000",
          "2024-11-24T00:00:00.000000000",
          "2024-11-25T00:00:00.000000000",
          "2024-11-26T00:00:00.000000000",
          "2024-11-27T00:00:00.000000000",
          "2024-11-28T00:00:00.000000000",
          "2024-11-29T00:00:00.000000000",
          "2024-11-30T00:00:00.000000000",
          "2024-12-01T00:00:00.000000000",
          "2024-12-02T00:00:00.000000000",
          "2024-12-03T00:00:00.000000000",
          "2024-12-04T00:00:00.000000000",
          "2024-12-05T00:00:00.000000000",
          "2024-12-06T00:00:00.000000000",
          "2024-12-07T00:00:00.000000000",
          "2024-12-08T00:00:00.000000000",
          "2024-12-09T00:00:00.000000000",
          "2024-12-10T00:00:00.000000000",
          "2024-12-11T00:00:00.000000000",
          "2024-12-12T00:00:00.000000000",
          "2024-12-13T00:00:00.000000000",
          "2024-12-14T00:00:00.000000000",
          "2024-12-15T00:00:00.000000000",
          "2024-12-16T00:00:00.000000000",
          "2024-12-17T00:00:00.000000000",
          "2024-12-18T00:00:00.000000000",
          "2024-12-19T00:00:00.000000000",
          "2024-12-20T00:00:00.000000000",
          "2024-12-21T00:00:00.000000000",
          "2024-12-22T00:00:00.000000000",
          "2024-12-23T00:00:00.000000000",
          "2024-12-24T00:00:00.000000000",
          "2024-12-25T00:00:00.000000000",
          "2024-12-26T00:00:00.000000000",
          "2024-12-27T00:00:00.000000000",
          "2024-12-28T00:00:00.000000000",
          "2024-12-29T00:00:00.000000000",
          "2024-12-30T00:00:00.000000000",
          "2024-12-31T00:00:00.000000000",
          "2025-01-01T00:00:00.000000000",
          "2025-01-02T00:00:00.000000000",
          "2025-01-03T00:00:00.000000000",
          "2025-01-04T00:00:00.000000000",
          "2025-01-05T00:00:00.000000000",
          "2025-01-06T00:00:00.000000000",
          "2025-01-07T00:00:00.000000000",
          "2025-01-08T00:00:00.000000000",
          "2025-01-09T00:00:00.000000000",
          "2025-01-10T00:00:00.000000000",
          "2025-01-11T00:00:00.000000000",
          "2025-01-12T00:00:00.000000000",
          "2025-01-13T00:00:00.000000000",
          "2025-01-14T00:00:00.000000000",
          "2025-01-15T00:00:00.000000000",
          "2025-01-16T00:00:00.000000000",
          "2025-01-17T00:00:00.000000000",
          "2025-01-18T00:00:00.000000000",
          "2025-01-19T00:00:00.000000000",
          "2025-01-20T00:00:00.000000000",
          "2025-01-21T00:00:00.000000000",
          "2025-01-22T00:00:00.000000000",
          "2025-01-23T00:00:00.000000000",
          "2025-01-24T00:00:00.000000000",
          "2025-01-25T00:00:00.000000000",
          "2025-01-26T00:00:00.000000000",
          "2025-01-27T00:00:00.000000000",
          "2025-01-28T00:00:00.000000000",
          "2025-01-29T00:00:00.000000000",
          "2025-01-30T00:00:00.000000000",
          "2025-01-31T00:00:00.000000000",
          "2025-02-01T00:00:00.000000000",
          "2025-02-02T00:00:00.000000000",
          "2025-02-03T00:00:00.000000000",
          "2025-02-04T00:00:00.000000000",
          "2025-02-05T00:00:00.000000000",
          "2025-02-06T00:00:00.000000000",
          "2025-02-07T00:00:00.000000000",
          "2025-02-08T00:00:00.000000000",
          "2025-02-09T00:00:00.000000000",
          "2025-02-10T00:00:00.000000000",
          "2025-02-11T00:00:00.000000000",
          "2025-02-12T00:00:00.000000000",
          "2025-02-13T00:00:00.000000000",
          "2025-02-14T00:00:00.000000000",
          "2025-02-15T00:00:00.000000000",
          "2025-02-16T00:00:00.000000000",
          "2025-02-17T00:00:00.000000000",
          "2025-02-18T00:00:00.000000000",
          "2025-02-19T00:00:00.000000000",
          "2025-02-20T00:00:00.000000000",
          "2025-02-21T00:00:00.000000000",
          "2025-02-22T00:00:00.000000000",
          "2025-02-23T00:00:00.000000000",
          "2025-02-24T00:00:00.000000000",
          "2025-02-25T00:00:00.000000000",
          "2025-02-26T00:00:00.000000000",
          "2025-02-27T00:00:00.000000000",
          "2025-02-28T00:00:00.000000000",
          "2025-03-01T00:00:00.000000000",
          "2025-03-02T00:00:00.000000000",
          "2025-03-03T00:00:00.000000000",
          "2025-03-04T00:00:00.000000000",
          "2025-03-05T00:00:00.000000000",
          "2025-03-06T00:00:00.000000000",
          "2025-03-07T00:00:00.000000000",
          "2025-03-08T00:00:00.000000000",
          "2025-03-09T00:00:00.000000000",
          "2025-03-10T00:00:00.000000000",
          "2025-03-11T00:00:00.000000000",
          "2025-03-12T00:00:00.000000000",
          "2025-03-13T00:00:00.000000000",
          "2025-03-14T00:00:00.000000000",
          "2025-03-15T00:00:00.000000000",
          "2025-03-16T00:00:00.000000000",
          "2025-03-17T00:00:00.000000000",
          "2025-03-18T00:00:00.000000000",
          "2025-03-19T00:00:00.000000000",
          "2025-03-20T00:00:00.000000000",
          "2025-03-21T00:00:00.000000000",
          "2025-03-22T00:00:00.000000000",
          "2025-03-23T00:00:00.000000000",
          "2025-03-24T00:00:00.000000000",
          "2025-03-25T00:00:00.000000000",
          "2025-03-26T00:00:00.000000000",
          "2025-03-27T00:00:00.000000000",
          "2025-03-28T00:00:00.000000000",
          "2025-03-29T00:00:00.000000000",
          "2025-03-30T00:00:00.000000000",
          "2025-03-31T00:00:00.000000000",
          "2025-04-01T00:00:00.000000000",
          "2025-04-02T00:00:00.000000000",
          "2025-04-03T00:00:00.000000000",
          "2025-04-04T00:00:00.000000000",
          "2025-04-05T00:00:00.000000000",
          "2025-04-06T00:00:00.000000000",
          "2025-04-07T00:00:00.000000000",
          "2025-04-08T00:00:00.000000000",
          "2025-04-09T00:00:00.000000000",
          "2025-04-10T00:00:00.000000000",
          "2025-04-11T00:00:00.000000000",
          "2025-04-12T00:00:00.000000000",
          "2025-04-13T00:00:00.000000000",
          "2025-04-14T00:00:00.000000000",
          "2025-04-15T00:00:00.000000000",
          "2025-04-16T00:00:00.000000000",
          "2025-04-17T00:00:00.000000000",
          "2025-04-18T00:00:00.000000000",
          "2025-04-19T00:00:00.000000000",
          "2025-04-20T00:00:00.000000000",
          "2025-04-21T00:00:00.000000000",
          "2025-04-22T00:00:00.000000000",
          "2025-04-23T00:00:00.000000000",
          "2025-04-24T00:00:00.000000000",
          "2025-04-25T00:00:00.000000000",
          "2025-04-26T00:00:00.000000000",
          "2025-04-27T00:00:00.000000000",
          "2025-04-28T00:00:00.000000000",
          "2025-04-29T00:00:00.000000000",
          "2025-04-30T00:00:00.000000000",
          "2025-05-01T00:00:00.000000000",
          "2025-05-02T00:00:00.000000000",
          "2025-05-03T00:00:00.000000000",
          "2025-05-04T00:00:00.000000000",
          "2025-05-05T00:00:00.000000000",
          "2025-05-06T00:00:00.000000000",
          "2025-05-07T00:00:00.000000000",
          "2025-05-08T00:00:00.000000000"
         ],
         "xaxis": "x",
         "y": {
          "bdata": "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",
          "dtype": "f8"
         },
         "yaxis": "y"
        },
        {
         "hovertemplate": "variable=item_C_sales<br>date=%{x}<br>value=%{y}<extra></extra>",
         "legendgroup": "item_C_sales",
         "line": {
          "color": "#ab63fa",
          "dash": "solid"
         },
         "marker": {
          "symbol": "circle"
         },
         "mode": "lines",
         "name": "item_C_sales",
         "showlegend": true,
         "type": "scattergl",
         "x": [
          "2024-06-01T00:00:00.000000000",
          "2024-06-02T00:00:00.000000000",
          "2024-06-03T00:00:00.000000000",
          "2024-06-04T00:00:00.000000000",
          "2024-06-05T00:00:00.000000000",
          "2024-06-06T00:00:00.000000000",
          "2024-06-07T00:00:00.000000000",
          "2024-06-08T00:00:00.000000000",
          "2024-06-09T00:00:00.000000000",
          "2024-06-10T00:00:00.000000000",
          "2024-06-11T00:00:00.000000000",
          "2024-06-12T00:00:00.000000000",
          "2024-06-13T00:00:00.000000000",
          "2024-06-14T00:00:00.000000000",
          "2024-06-15T00:00:00.000000000",
          "2024-06-16T00:00:00.000000000",
          "2024-06-17T00:00:00.000000000",
          "2024-06-18T00:00:00.000000000",
          "2024-06-19T00:00:00.000000000",
          "2024-06-20T00:00:00.000000000",
          "2024-06-21T00:00:00.000000000",
          "2024-06-22T00:00:00.000000000",
          "2024-06-23T00:00:00.000000000",
          "2024-06-24T00:00:00.000000000",
          "2024-06-25T00:00:00.000000000",
          "2024-06-26T00:00:00.000000000",
          "2024-06-27T00:00:00.000000000",
          "2024-06-28T00:00:00.000000000",
          "2024-06-29T00:00:00.000000000",
          "2024-06-30T00:00:00.000000000",
          "2024-07-01T00:00:00.000000000",
          "2024-07-02T00:00:00.000000000",
          "2024-07-03T00:00:00.000000000",
          "2024-07-04T00:00:00.000000000",
          "2024-07-05T00:00:00.000000000",
          "2024-07-06T00:00:00.000000000",
          "2024-07-07T00:00:00.000000000",
          "2024-07-08T00:00:00.000000000",
          "2024-07-09T00:00:00.000000000",
          "2024-07-10T00:00:00.000000000",
          "2024-07-11T00:00:00.000000000",
          "2024-07-12T00:00:00.000000000",
          "2024-07-13T00:00:00.000000000",
          "2024-07-14T00:00:00.000000000",
          "2024-07-15T00:00:00.000000000",
          "2024-07-16T00:00:00.000000000",
          "2024-07-17T00:00:00.000000000",
          "2024-07-18T00:00:00.000000000",
          "2024-07-19T00:00:00.000000000",
          "2024-07-20T00:00:00.000000000",
          "2024-07-21T00:00:00.000000000",
          "2024-07-22T00:00:00.000000000",
          "2024-07-23T00:00:00.000000000",
          "2024-07-24T00:00:00.000000000",
          "2024-07-25T00:00:00.000000000",
          "2024-07-26T00:00:00.000000000",
          "2024-07-27T00:00:00.000000000",
          "2024-07-28T00:00:00.000000000",
          "2024-07-29T00:00:00.000000000",
          "2024-07-30T00:00:00.000000000",
          "2024-07-31T00:00:00.000000000",
          "2024-08-01T00:00:00.000000000",
          "2024-08-02T00:00:00.000000000",
          "2024-08-03T00:00:00.000000000",
          "2024-08-04T00:00:00.000000000",
          "2024-08-05T00:00:00.000000000",
          "2024-08-06T00:00:00.000000000",
          "2024-08-07T00:00:00.000000000",
          "2024-08-08T00:00:00.000000000",
          "2024-08-09T00:00:00.000000000",
          "2024-08-10T00:00:00.000000000",
          "2024-08-11T00:00:00.000000000",
          "2024-08-12T00:00:00.000000000",
          "2024-08-13T00:00:00.000000000",
          "2024-08-14T00:00:00.000000000",
          "2024-08-15T00:00:00.000000000",
          "2024-08-16T00:00:00.000000000",
          "2024-08-17T00:00:00.000000000",
          "2024-08-18T00:00:00.000000000",
          "2024-08-19T00:00:00.000000000",
          "2024-08-20T00:00:00.000000000",
          "2024-08-21T00:00:00.000000000",
          "2024-08-22T00:00:00.000000000",
          "2024-08-23T00:00:00.000000000",
          "2024-08-24T00:00:00.000000000",
          "2024-08-25T00:00:00.000000000",
          "2024-08-26T00:00:00.000000000",
          "2024-08-27T00:00:00.000000000",
          "2024-08-28T00:00:00.000000000",
          "2024-08-29T00:00:00.000000000",
          "2024-08-30T00:00:00.000000000",
          "2024-08-31T00:00:00.000000000",
          "2024-09-01T00:00:00.000000000",
          "2024-09-02T00:00:00.000000000",
          "2024-09-03T00:00:00.000000000",
          "2024-09-04T00:00:00.000000000",
          "2024-09-05T00:00:00.000000000",
          "2024-09-06T00:00:00.000000000",
          "2024-09-07T00:00:00.000000000",
          "2024-09-08T00:00:00.000000000",
          "2024-09-09T00:00:00.000000000",
          "2024-09-10T00:00:00.000000000",
          "2024-09-11T00:00:00.000000000",
          "2024-09-12T00:00:00.000000000",
          "2024-09-13T00:00:00.000000000",
          "2024-09-14T00:00:00.000000000",
          "2024-09-15T00:00:00.000000000",
          "2024-09-16T00:00:00.000000000",
          "2024-09-17T00:00:00.000000000",
          "2024-09-18T00:00:00.000000000",
          "2024-09-19T00:00:00.000000000",
          "2024-09-20T00:00:00.000000000",
          "2024-09-21T00:00:00.000000000",
          "2024-09-22T00:00:00.000000000",
          "2024-09-23T00:00:00.000000000",
          "2024-09-24T00:00:00.000000000",
          "2024-09-25T00:00:00.000000000",
          "2024-09-26T00:00:00.000000000",
          "2024-09-27T00:00:00.000000000",
          "2024-09-28T00:00:00.000000000",
          "2024-09-29T00:00:00.000000000",
          "2024-09-30T00:00:00.000000000",
          "2024-10-01T00:00:00.000000000",
          "2024-10-02T00:00:00.000000000",
          "2024-10-03T00:00:00.000000000",
          "2024-10-04T00:00:00.000000000",
          "2024-10-05T00:00:00.000000000",
          "2024-10-06T00:00:00.000000000",
          "2024-10-07T00:00:00.000000000",
          "2024-10-08T00:00:00.000000000",
          "2024-10-09T00:00:00.000000000",
          "2024-10-10T00:00:00.000000000",
          "2024-10-11T00:00:00.000000000",
          "2024-10-12T00:00:00.000000000",
          "2024-10-13T00:00:00.000000000",
          "2024-10-14T00:00:00.000000000",
          "2024-10-15T00:00:00.000000000",
          "2024-10-16T00:00:00.000000000",
          "2024-10-17T00:00:00.000000000",
          "2024-10-18T00:00:00.000000000",
          "2024-10-19T00:00:00.000000000",
          "2024-10-20T00:00:00.000000000",
          "2024-10-21T00:00:00.000000000",
          "2024-10-22T00:00:00.000000000",
          "2024-10-23T00:00:00.000000000",
          "2024-10-24T00:00:00.000000000",
          "2024-10-25T00:00:00.000000000",
          "2024-10-26T00:00:00.000000000",
          "2024-10-27T00:00:00.000000000",
          "2024-10-28T00:00:00.000000000",
          "2024-10-29T00:00:00.000000000",
          "2024-10-30T00:00:00.000000000",
          "2024-10-31T00:00:00.000000000",
          "2024-11-01T00:00:00.000000000",
          "2024-11-02T00:00:00.000000000",
          "2024-11-03T00:00:00.000000000",
          "2024-11-04T00:00:00.000000000",
          "2024-11-05T00:00:00.000000000",
          "2024-11-06T00:00:00.000000000",
          "2024-11-07T00:00:00.000000000",
          "2024-11-08T00:00:00.000000000",
          "2024-11-09T00:00:00.000000000",
          "2024-11-10T00:00:00.000000000",
          "2024-11-11T00:00:00.000000000",
          "2024-11-12T00:00:00.000000000",
          "2024-11-13T00:00:00.000000000",
          "2024-11-14T00:00:00.000000000",
          "2024-11-15T00:00:00.000000000",
          "2024-11-16T00:00:00.000000000",
          "2024-11-17T00:00:00.000000000",
          "2024-11-18T00:00:00.000000000",
          "2024-11-19T00:00:00.000000000",
          "2024-11-20T00:00:00.000000000",
          "2024-11-21T00:00:00.000000000",
          "2024-11-22T00:00:00.000000000",
          "2024-11-23T00:00:00.000000000",
          "2024-11-24T00:00:00.000000000",
          "2024-11-25T00:00:00.000000000",
          "2024-11-26T00:00:00.000000000",
          "2024-11-27T00:00:00.000000000",
          "2024-11-28T00:00:00.000000000",
          "2024-11-29T00:00:00.000000000",
          "2024-11-30T00:00:00.000000000",
          "2024-12-01T00:00:00.000000000",
          "2024-12-02T00:00:00.000000000",
          "2024-12-03T00:00:00.000000000",
          "2024-12-04T00:00:00.000000000",
          "2024-12-05T00:00:00.000000000",
          "2024-12-06T00:00:00.000000000",
          "2024-12-07T00:00:00.000000000",
          "2024-12-08T00:00:00.000000000",
          "2024-12-09T00:00:00.000000000",
          "2024-12-10T00:00:00.000000000",
          "2024-12-11T00:00:00.000000000",
          "2024-12-12T00:00:00.000000000",
          "2024-12-13T00:00:00.000000000",
          "2024-12-14T00:00:00.000000000",
          "2024-12-15T00:00:00.000000000",
          "2024-12-16T00:00:00.000000000",
          "2024-12-17T00:00:00.000000000",
          "2024-12-18T00:00:00.000000000",
          "2024-12-19T00:00:00.000000000",
          "2024-12-20T00:00:00.000000000",
          "2024-12-21T00:00:00.000000000",
          "2024-12-22T00:00:00.000000000",
          "2024-12-23T00:00:00.000000000",
          "2024-12-24T00:00:00.000000000",
          "2024-12-25T00:00:00.000000000",
          "2024-12-26T00:00:00.000000000",
          "2024-12-27T00:00:00.000000000",
          "2024-12-28T00:00:00.000000000",
          "2024-12-29T00:00:00.000000000",
          "2024-12-30T00:00:00.000000000",
          "2024-12-31T00:00:00.000000000",
          "2025-01-01T00:00:00.000000000",
          "2025-01-02T00:00:00.000000000",
          "2025-01-03T00:00:00.000000000",
          "2025-01-04T00:00:00.000000000",
          "2025-01-05T00:00:00.000000000",
          "2025-01-06T00:00:00.000000000",
          "2025-01-07T00:00:00.000000000",
          "2025-01-08T00:00:00.000000000",
          "2025-01-09T00:00:00.000000000",
          "2025-01-10T00:00:00.000000000",
          "2025-01-11T00:00:00.000000000",
          "2025-01-12T00:00:00.000000000",
          "2025-01-13T00:00:00.000000000",
          "2025-01-14T00:00:00.000000000",
          "2025-01-15T00:00:00.000000000",
          "2025-01-16T00:00:00.000000000",
          "2025-01-17T00:00:00.000000000",
          "2025-01-18T00:00:00.000000000",
          "2025-01-19T00:00:00.000000000",
          "2025-01-20T00:00:00.000000000",
          "2025-01-21T00:00:00.000000000",
          "2025-01-22T00:00:00.000000000",
          "2025-01-23T00:00:00.000000000",
          "2025-01-24T00:00:00.000000000",
          "2025-01-25T00:00:00.000000000",
          "2025-01-26T00:00:00.000000000",
          "2025-01-27T00:00:00.000000000",
          "2025-01-28T00:00:00.000000000",
          "2025-01-29T00:00:00.000000000",
          "2025-01-30T00:00:00.000000000",
          "2025-01-31T00:00:00.000000000",
          "2025-02-01T00:00:00.000000000",
          "2025-02-02T00:00:00.000000000",
          "2025-02-03T00:00:00.000000000",
          "2025-02-04T00:00:00.000000000",
          "2025-02-05T00:00:00.000000000",
          "2025-02-06T00:00:00.000000000",
          "2025-02-07T00:00:00.000000000",
          "2025-02-08T00:00:00.000000000",
          "2025-02-09T00:00:00.000000000",
          "2025-02-10T00:00:00.000000000",
          "2025-02-11T00:00:00.000000000",
          "2025-02-12T00:00:00.000000000",
          "2025-02-13T00:00:00.000000000",
          "2025-02-14T00:00:00.000000000",
          "2025-02-15T00:00:00.000000000",
          "2025-02-16T00:00:00.000000000",
          "2025-02-17T00:00:00.000000000",
          "2025-02-18T00:00:00.000000000",
          "2025-02-19T00:00:00.000000000",
          "2025-02-20T00:00:00.000000000",
          "2025-02-21T00:00:00.000000000",
          "2025-02-22T00:00:00.000000000",
          "2025-02-23T00:00:00.000000000",
          "2025-02-24T00:00:00.000000000",
          "2025-02-25T00:00:00.000000000",
          "2025-02-26T00:00:00.000000000",
          "2025-02-27T00:00:00.000000000",
          "2025-02-28T00:00:00.000000000",
          "2025-03-01T00:00:00.000000000",
          "2025-03-02T00:00:00.000000000",
          "2025-03-03T00:00:00.000000000",
          "2025-03-04T00:00:00.000000000",
          "2025-03-05T00:00:00.000000000",
          "2025-03-06T00:00:00.000000000",
          "2025-03-07T00:00:00.000000000",
          "2025-03-08T00:00:00.000000000",
          "2025-03-09T00:00:00.000000000",
          "2025-03-10T00:00:00.000000000",
          "2025-03-11T00:00:00.000000000",
          "2025-03-12T00:00:00.000000000",
          "2025-03-13T00:00:00.000000000",
          "2025-03-14T00:00:00.000000000",
          "2025-03-15T00:00:00.000000000",
          "2025-03-16T00:00:00.000000000",
          "2025-03-17T00:00:00.000000000",
          "2025-03-18T00:00:00.000000000",
          "2025-03-19T00:00:00.000000000",
          "2025-03-20T00:00:00.000000000",
          "2025-03-21T00:00:00.000000000",
          "2025-03-22T00:00:00.000000000",
          "2025-03-23T00:00:00.000000000",
          "2025-03-24T00:00:00.000000000",
          "2025-03-25T00:00:00.000000000",
          "2025-03-26T00:00:00.000000000",
          "2025-03-27T00:00:00.000000000",
          "2025-03-28T00:00:00.000000000",
          "2025-03-29T00:00:00.000000000",
          "2025-03-30T00:00:00.000000000",
          "2025-03-31T00:00:00.000000000",
          "2025-04-01T00:00:00.000000000",
          "2025-04-02T00:00:00.000000000",
          "2025-04-03T00:00:00.000000000",
          "2025-04-04T00:00:00.000000000",
          "2025-04-05T00:00:00.000000000",
          "2025-04-06T00:00:00.000000000",
          "2025-04-07T00:00:00.000000000",
          "2025-04-08T00:00:00.000000000",
          "2025-04-09T00:00:00.000000000",
          "2025-04-10T00:00:00.000000000",
          "2025-04-11T00:00:00.000000000",
          "2025-04-12T00:00:00.000000000",
          "2025-04-13T00:00:00.000000000",
          "2025-04-14T00:00:00.000000000",
          "2025-04-15T00:00:00.000000000",
          "2025-04-16T00:00:00.000000000",
          "2025-04-17T00:00:00.000000000",
          "2025-04-18T00:00:00.000000000",
          "2025-04-19T00:00:00.000000000",
          "2025-04-20T00:00:00.000000000",
          "2025-04-21T00:00:00.000000000",
          "2025-04-22T00:00:00.000000000",
          "2025-04-23T00:00:00.000000000",
          "2025-04-24T00:00:00.000000000",
          "2025-04-25T00:00:00.000000000",
          "2025-04-26T00:00:00.000000000",
          "2025-04-27T00:00:00.000000000",
          "2025-04-28T00:00:00.000000000",
          "2025-04-29T00:00:00.000000000",
          "2025-04-30T00:00:00.000000000",
          "2025-05-01T00:00:00.000000000",
          "2025-05-02T00:00:00.000000000",
          "2025-05-03T00:00:00.000000000",
          "2025-05-04T00:00:00.000000000",
          "2025-05-05T00:00:00.000000000",
          "2025-05-06T00:00:00.000000000",
          "2025-05-07T00:00:00.000000000",
          "2025-05-08T00:00:00.000000000"
         ],
         "xaxis": "x",
         "y": {
          "bdata": "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",
          "dtype": "f8"
         },
         "yaxis": "y"
        }
       ],
       "layout": {
        "annotations": [
         {
          "showarrow": false,
          "text": "HCF",
          "x": "2025-01-18",
          "xanchor": "left",
          "xref": "x",
          "y": 1,
          "yanchor": "top",
          "yref": "y domain"
         }
        ],
        "legend": {
         "title": {
          "text": "variable"
         },
         "tracegroupgap": 0
        },
        "shapes": [
         {
          "label": {
           "text": "Spring begins",
           "textangle": 0,
           "textposition": "end",
           "xanchor": "center"
          },
          "line": {
           "color": "red",
           "dash": "dash"
          },
          "type": "line",
          "x0": "2025-03-01T00:00:00",
          "x1": "2025-03-01T00:00:00",
          "xref": "x",
          "y0": 0,
          "y1": 1,
          "yref": "y domain"
         },
         {
          "label": {
           "text": "Winter begins",
           "textangle": 0,
           "textposition": "end",
           "xanchor": "center"
          },
          "line": {
           "color": "red",
           "dash": "dash"
          },
          "type": "line",
          "x0": "2024-12-01T00:00:00",
          "x1": "2024-12-01T00:00:00",
          "xref": "x",
          "y0": 0,
          "y1": 1,
          "yref": "y domain"
         },
         {
          "label": {
           "text": "Fall begins",
           "textangle": 0,
           "textposition": "end",
           "xanchor": "center"
          },
          "line": {
           "color": "red",
           "dash": "dash"
          },
          "type": "line",
          "x0": "2024-09-01T00:00:00",
          "x1": "2024-09-01T00:00:00",
          "xref": "x",
          "y0": 0,
          "y1": 1,
          "yref": "y domain"
         },
         {
          "fillcolor": "green",
          "line": {
           "width": 0
          },
          "opacity": 0.1,
          "type": "rect",
          "x0": "2025-01-18",
          "x1": "2025-2-14",
          "xref": "x",
          "y0": 0,
          "y1": 1,
          "yref": "y domain"
         }
        ],
        "template": {
         "data": {
          "bar": [
           {
            "error_x": {
             "color": "#2a3f5f"
            },
            "error_y": {
             "color": "#2a3f5f"
            },
            "marker": {
             "line": {
              "color": "#E5ECF6",
              "width": 0.5
             },
             "pattern": {
              "fillmode": "overlay",
              "size": 10,
              "solidity": 0.2
             }
            },
            "type": "bar"
           }
          ],
          "barpolar": [
           {
            "marker": {
             "line": {
              "color": "#E5ECF6",
              "width": 0.5
             },
             "pattern": {
              "fillmode": "overlay",
              "size": 10,
              "solidity": 0.2
             }
            },
            "type": "barpolar"
           }
          ],
          "carpet": [
           {
            "aaxis": {
             "endlinecolor": "#2a3f5f",
             "gridcolor": "white",
             "linecolor": "white",
             "minorgridcolor": "white",
             "startlinecolor": "#2a3f5f"
            },
            "baxis": {
             "endlinecolor": "#2a3f5f",
             "gridcolor": "white",
             "linecolor": "white",
             "minorgridcolor": "white",
             "startlinecolor": "#2a3f5f"
            },
            "type": "carpet"
           }
          ],
          "choropleth": [
           {
            "colorbar": {
             "outlinewidth": 0,
             "ticks": ""
            },
            "type": "choropleth"
           }
          ],
          "contour": [
           {
            "colorbar": {
             "outlinewidth": 0,
             "ticks": ""
            },
            "colorscale": [
             [
              0,
              "#0d0887"
             ],
             [
              0.1111111111111111,
              "#46039f"
             ],
             [
              0.2222222222222222,
              "#7201a8"
             ],
             [
              0.3333333333333333,
              "#9c179e"
             ],
             [
              0.4444444444444444,
              "#bd3786"
             ],
             [
              0.5555555555555556,
              "#d8576b"
             ],
             [
              0.6666666666666666,
              "#ed7953"
             ],
             [
              0.7777777777777778,
              "#fb9f3a"
             ],
             [
              0.8888888888888888,
              "#fdca26"
             ],
             [
              1,
              "#f0f921"
             ]
            ],
            "type": "contour"
           }
          ],
          "contourcarpet": [
           {
            "colorbar": {
             "outlinewidth": 0,
             "ticks": ""
            },
            "type": "contourcarpet"
           }
          ],
          "heatmap": [
           {
            "colorbar": {
             "outlinewidth": 0,
             "ticks": ""
            },
            "colorscale": [
             [
              0,
              "#0d0887"
             ],
             [
              0.1111111111111111,
              "#46039f"
             ],
             [
              0.2222222222222222,
              "#7201a8"
             ],
             [
              0.3333333333333333,
              "#9c179e"
             ],
             [
              0.4444444444444444,
              "#bd3786"
             ],
             [
              0.5555555555555556,
              "#d8576b"
             ],
             [
              0.6666666666666666,
              "#ed7953"
             ],
             [
              0.7777777777777778,
              "#fb9f3a"
             ],
             [
              0.8888888888888888,
              "#fdca26"
             ],
             [
              1,
              "#f0f921"
             ]
            ],
            "type": "heatmap"
           }
          ],
          "histogram": [
           {
            "marker": {
             "pattern": {
              "fillmode": "overlay",
              "size": 10,
              "solidity": 0.2
             }
            },
            "type": "histogram"
           }
          ],
          "histogram2d": [
           {
            "colorbar": {
             "outlinewidth": 0,
             "ticks": ""
            },
            "colorscale": [
             [
              0,
              "#0d0887"
             ],
             [
              0.1111111111111111,
              "#46039f"
             ],
             [
              0.2222222222222222,
              "#7201a8"
             ],
             [
              0.3333333333333333,
              "#9c179e"
             ],
             [
              0.4444444444444444,
              "#bd3786"
             ],
             [
              0.5555555555555556,
              "#d8576b"
             ],
             [
              0.6666666666666666,
              "#ed7953"
             ],
             [
              0.7777777777777778,
              "#fb9f3a"
             ],
             [
              0.8888888888888888,
              "#fdca26"
             ],
             [
              1,
              "#f0f921"
             ]
            ],
            "type": "histogram2d"
           }
          ],
          "histogram2dcontour": [
           {
            "colorbar": {
             "outlinewidth": 0,
             "ticks": ""
            },
            "colorscale": [
             [
              0,
              "#0d0887"
             ],
             [
              0.1111111111111111,
              "#46039f"
             ],
             [
              0.2222222222222222,
              "#7201a8"
             ],
             [
              0.3333333333333333,
              "#9c179e"
             ],
             [
              0.4444444444444444,
              "#bd3786"
             ],
             [
              0.5555555555555556,
              "#d8576b"
             ],
             [
              0.6666666666666666,
              "#ed7953"
             ],
             [
              0.7777777777777778,
              "#fb9f3a"
             ],
             [
              0.8888888888888888,
              "#fdca26"
             ],
             [
              1,
              "#f0f921"
             ]
            ],
            "type": "histogram2dcontour"
           }
          ],
          "mesh3d": [
           {
            "colorbar": {
             "outlinewidth": 0,
             "ticks": ""
            },
            "type": "mesh3d"
           }
          ],
          "parcoords": [
           {
            "line": {
             "colorbar": {
              "outlinewidth": 0,
              "ticks": ""
             }
            },
            "type": "parcoords"
           }
          ],
          "pie": [
           {
            "automargin": true,
            "type": "pie"
           }
          ],
          "scatter": [
           {
            "fillpattern": {
             "fillmode": "overlay",
             "size": 10,
             "solidity": 0.2
            },
            "type": "scatter"
           }
          ],
          "scatter3d": [
           {
            "line": {
             "colorbar": {
              "outlinewidth": 0,
              "ticks": ""
             }
            },
            "marker": {
             "colorbar": {
              "outlinewidth": 0,
              "ticks": ""
             }
            },
            "type": "scatter3d"
           }
          ],
          "scattercarpet": [
           {
            "marker": {
             "colorbar": {
              "outlinewidth": 0,
              "ticks": ""
             }
            },
            "type": "scattercarpet"
           }
          ],
          "scattergeo": [
           {
            "marker": {
             "colorbar": {
              "outlinewidth": 0,
              "ticks": ""
             }
            },
            "type": "scattergeo"
           }
          ],
          "scattergl": [
           {
            "marker": {
             "colorbar": {
              "outlinewidth": 0,
              "ticks": ""
             }
            },
            "type": "scattergl"
           }
          ],
          "scattermap": [
           {
            "marker": {
             "colorbar": {
              "outlinewidth": 0,
              "ticks": ""
             }
            },
            "type": "scattermap"
           }
          ],
          "scattermapbox": [
           {
            "marker": {
             "colorbar": {
              "outlinewidth": 0,
              "ticks": ""
             }
            },
            "type": "scattermapbox"
           }
          ],
          "scatterpolar": [
           {
            "marker": {
             "colorbar": {
              "outlinewidth": 0,
              "ticks": ""
             }
            },
            "type": "scatterpolar"
           }
          ],
          "scatterpolargl": [
           {
            "marker": {
             "colorbar": {
              "outlinewidth": 0,
              "ticks": ""
             }
            },
            "type": "scatterpolargl"
           }
          ],
          "scatterternary": [
           {
            "marker": {
             "colorbar": {
              "outlinewidth": 0,
              "ticks": ""
             }
            },
            "type": "scatterternary"
           }
          ],
          "surface": [
           {
            "colorbar": {
             "outlinewidth": 0,
             "ticks": ""
            },
            "colorscale": [
             [
              0,
              "#0d0887"
             ],
             [
              0.1111111111111111,
              "#46039f"
             ],
             [
              0.2222222222222222,
              "#7201a8"
             ],
             [
              0.3333333333333333,
              "#9c179e"
             ],
             [
              0.4444444444444444,
              "#bd3786"
             ],
             [
              0.5555555555555556,
              "#d8576b"
             ],
             [
              0.6666666666666666,
              "#ed7953"
             ],
             [
              0.7777777777777778,
              "#fb9f3a"
             ],
             [
              0.8888888888888888,
              "#fdca26"
             ],
             [
              1,
              "#f0f921"
             ]
            ],
            "type": "surface"
           }
          ],
          "table": [
           {
            "cells": {
             "fill": {
              "color": "#EBF0F8"
             },
             "line": {
              "color": "white"
             }
            },
            "header": {
             "fill": {
              "color": "#C8D4E3"
             },
             "line": {
              "color": "white"
             }
            },
            "type": "table"
           }
          ]
         },
         "layout": {
          "annotationdefaults": {
           "arrowcolor": "#2a3f5f",
           "arrowhead": 0,
           "arrowwidth": 1
          },
          "autotypenumbers": "strict",
          "coloraxis": {
           "colorbar": {
            "outlinewidth": 0,
            "ticks": ""
           }
          },
          "colorscale": {
           "diverging": [
            [
             0,
             "#8e0152"
            ],
            [
             0.1,
             "#c51b7d"
            ],
            [
             0.2,
             "#de77ae"
            ],
            [
             0.3,
             "#f1b6da"
            ],
            [
             0.4,
             "#fde0ef"
            ],
            [
             0.5,
             "#f7f7f7"
            ],
            [
             0.6,
             "#e6f5d0"
            ],
            [
             0.7,
             "#b8e186"
            ],
            [
             0.8,
             "#7fbc41"
            ],
            [
             0.9,
             "#4d9221"
            ],
            [
             1,
             "#276419"
            ]
           ],
           "sequential": [
            [
             0,
             "#0d0887"
            ],
            [
             0.1111111111111111,
             "#46039f"
            ],
            [
             0.2222222222222222,
             "#7201a8"
            ],
            [
             0.3333333333333333,
             "#9c179e"
            ],
            [
             0.4444444444444444,
             "#bd3786"
            ],
            [
             0.5555555555555556,
             "#d8576b"
            ],
            [
             0.6666666666666666,
             "#ed7953"
            ],
            [
             0.7777777777777778,
             "#fb9f3a"
            ],
            [
             0.8888888888888888,
             "#fdca26"
            ],
            [
             1,
             "#f0f921"
            ]
           ],
           "sequentialminus": [
            [
             0,
             "#0d0887"
            ],
            [
             0.1111111111111111,
             "#46039f"
            ],
            [
             0.2222222222222222,
             "#7201a8"
            ],
            [
             0.3333333333333333,
             "#9c179e"
            ],
            [
             0.4444444444444444,
             "#bd3786"
            ],
            [
             0.5555555555555556,
             "#d8576b"
            ],
            [
             0.6666666666666666,
             "#ed7953"
            ],
            [
             0.7777777777777778,
             "#fb9f3a"
            ],
            [
             0.8888888888888888,
             "#fdca26"
            ],
            [
             1,
             "#f0f921"
            ]
           ]
          },
          "colorway": [
           "#636efa",
           "#EF553B",
           "#00cc96",
           "#ab63fa",
           "#FFA15A",
           "#19d3f3",
           "#FF6692",
           "#B6E880",
           "#FF97FF",
           "#FECB52"
          ],
          "font": {
           "color": "#2a3f5f"
          },
          "geo": {
           "bgcolor": "white",
           "lakecolor": "white",
           "landcolor": "#E5ECF6",
           "showlakes": true,
           "showland": true,
           "subunitcolor": "white"
          },
          "hoverlabel": {
           "align": "left"
          },
          "hovermode": "closest",
          "mapbox": {
           "style": "light"
          },
          "paper_bgcolor": "white",
          "plot_bgcolor": "#E5ECF6",
          "polar": {
           "angularaxis": {
            "gridcolor": "white",
            "linecolor": "white",
            "ticks": ""
           },
           "bgcolor": "#E5ECF6",
           "radialaxis": {
            "gridcolor": "white",
            "linecolor": "white",
            "ticks": ""
           }
          },
          "scene": {
           "xaxis": {
            "backgroundcolor": "#E5ECF6",
            "gridcolor": "white",
            "gridwidth": 2,
            "linecolor": "white",
            "showbackground": true,
            "ticks": "",
            "zerolinecolor": "white"
           },
           "yaxis": {
            "backgroundcolor": "#E5ECF6",
            "gridcolor": "white",
            "gridwidth": 2,
            "linecolor": "white",
            "showbackground": true,
            "ticks": "",
            "zerolinecolor": "white"
           },
           "zaxis": {
            "backgroundcolor": "#E5ECF6",
            "gridcolor": "white",
            "gridwidth": 2,
            "linecolor": "white",
            "showbackground": true,
            "ticks": "",
            "zerolinecolor": "white"
           }
          },
          "shapedefaults": {
           "line": {
            "color": "#2a3f5f"
           }
          },
          "ternary": {
           "aaxis": {
            "gridcolor": "white",
            "linecolor": "white",
            "ticks": ""
           },
           "baxis": {
            "gridcolor": "white",
            "linecolor": "white",
            "ticks": ""
           },
           "bgcolor": "#E5ECF6",
           "caxis": {
            "gridcolor": "white",
            "linecolor": "white",
            "ticks": ""
           }
          },
          "title": {
           "x": 0.05
          },
          "xaxis": {
           "automargin": true,
           "gridcolor": "white",
           "linecolor": "white",
           "ticks": "",
           "title": {
            "standoff": 15
           },
           "zerolinecolor": "white",
           "zerolinewidth": 2
          },
          "yaxis": {
           "automargin": true,
           "gridcolor": "white",
           "linecolor": "white",
           "ticks": "",
           "title": {
            "standoff": 15
           },
           "zerolinecolor": "white",
           "zerolinewidth": 2
          }
         }
        },
        "title": {
         "text": "Daily sales"
        },
        "xaxis": {
         "anchor": "y",
         "domain": [
          0,
          1
         ],
         "title": {
          "text": "date"
         }
        },
        "yaxis": {
         "anchor": "x",
         "domain": [
          0,
          1
         ],
         "title": {
          "text": "value"
         }
        }
       }
      }
     },
     "metadata": {},
     "output_type": "display_data"
    }
   ],
   "source": [
    "fig = px.line(combined_sales_df, title='Daily sales')\n",
    "\n",
    "\n",
    "fig.add_vline(\n",
    "    x=pd.to_datetime('2025-03-01'),\n",
    "    line_dash='dash',\n",
    "    line_color='red',\n",
    "    label=dict(\n",
    "        text='Spring begins',\n",
    "        textangle=0,\n",
    "        textposition=\"end\",\n",
    "        xanchor='center'\n",
    "))\n",
    "\n",
    "fig.add_vline(\n",
    "    x=pd.to_datetime('2024-12-01'),\n",
    "    line_dash='dash',\n",
    "    line_color='red',\n",
    "    label=dict(\n",
    "        text='Winter begins',\n",
    "        textangle=0,\n",
    "        textposition=\"end\",\n",
    "        xanchor='center'\n",
    "))\n",
    "\n",
    "fig.add_vline(\n",
    "    x=pd.to_datetime('2024-09-01'),\n",
    "    line_dash='dash',\n",
    "    line_color='red',\n",
    "    label=dict(\n",
    "        text='Fall begins',\n",
    "        textangle=0,\n",
    "        textposition=\"end\",\n",
    "        xanchor='center'\n",
    "))\n",
    "\n",
    "fig.add_vrect(x0=\"2025-01-18\", x1=\"2025-2-14\", \n",
    "              annotation_text=\"HCF\", annotation_position=\"top left\",\n",
    "              fillcolor=\"green\", opacity=0.1, line_width=0)\n",
    "\n",
    "\n",
    "fig.show()"
   ]
  },
  {
   "cell_type": "code",
   "execution_count": 190,
   "metadata": {},
   "outputs": [
    {
     "data": {
      "application/vnd.plotly.v1+json": {
       "config": {
        "plotlyServerURL": "https://plot.ly"
       },
       "data": [
        {
         "hovertemplate": "variable=total_sales_normalized<br>date=%{x}<br>value=%{y}<extra></extra>",
         "legendgroup": "total_sales_normalized",
         "line": {
          "color": "#636efa",
          "dash": "solid"
         },
         "marker": {
          "symbol": "circle"
         },
         "mode": "lines",
         "name": "total_sales_normalized",
         "orientation": "v",
         "showlegend": true,
         "type": "scatter",
         "x": [
          "2024-06-02T00:00:00.000000000",
          "2024-06-09T00:00:00.000000000",
          "2024-06-16T00:00:00.000000000",
          "2024-06-23T00:00:00.000000000",
          "2024-06-30T00:00:00.000000000",
          "2024-07-07T00:00:00.000000000",
          "2024-07-14T00:00:00.000000000",
          "2024-07-21T00:00:00.000000000",
          "2024-07-28T00:00:00.000000000",
          "2024-08-04T00:00:00.000000000",
          "2024-08-11T00:00:00.000000000",
          "2024-08-18T00:00:00.000000000",
          "2024-08-25T00:00:00.000000000",
          "2024-09-01T00:00:00.000000000",
          "2024-09-08T00:00:00.000000000",
          "2024-09-15T00:00:00.000000000",
          "2024-09-22T00:00:00.000000000",
          "2024-09-29T00:00:00.000000000",
          "2024-10-06T00:00:00.000000000",
          "2024-10-13T00:00:00.000000000",
          "2024-10-20T00:00:00.000000000",
          "2024-10-27T00:00:00.000000000",
          "2024-11-03T00:00:00.000000000",
          "2024-11-10T00:00:00.000000000",
          "2024-11-17T00:00:00.000000000",
          "2024-11-24T00:00:00.000000000",
          "2024-12-01T00:00:00.000000000",
          "2024-12-08T00:00:00.000000000",
          "2024-12-15T00:00:00.000000000",
          "2024-12-22T00:00:00.000000000",
          "2024-12-29T00:00:00.000000000",
          "2025-01-05T00:00:00.000000000",
          "2025-01-12T00:00:00.000000000",
          "2025-01-19T00:00:00.000000000",
          "2025-01-26T00:00:00.000000000",
          "2025-02-02T00:00:00.000000000",
          "2025-02-09T00:00:00.000000000",
          "2025-02-16T00:00:00.000000000",
          "2025-02-23T00:00:00.000000000",
          "2025-03-02T00:00:00.000000000",
          "2025-03-09T00:00:00.000000000",
          "2025-03-16T00:00:00.000000000",
          "2025-03-23T00:00:00.000000000",
          "2025-03-30T00:00:00.000000000",
          "2025-04-06T00:00:00.000000000",
          "2025-04-13T00:00:00.000000000",
          "2025-04-20T00:00:00.000000000",
          "2025-04-27T00:00:00.000000000",
          "2025-05-04T00:00:00.000000000",
          "2025-05-11T00:00:00.000000000"
         ],
         "xaxis": "x",
         "y": {
          "bdata": "XI/C9WjatUDAk9XyRgezQN1nFxCbZ65AAbGpNKSLsEBPVssbI5ewQIhNpSEnS7BAVRpy7rO0sEDSkHOfXbeuQJ6sljdGBaxAJUmSJEkCrED6O1ktbwCuQO+zC4hNlKtA16NwPQoFqkCSJEmSpMyqQFktb4zgIadAMNHfyepOo0DOfXYBsRakQJDC9ShcJ6VAQ859doHEo0BJkiRJkvWhQJaGnPvsvp1AoF1AbCp/okCmIec+u9eeQEBsKg25fKJAdwGxqbQBo0A15Nxnl+ChQCy+4is+AaBA6qAO6qA5nUBTaci5z3KgQHLuswsIyaBAIDaVhhxypEAub4xgIvSlQBZf8RXfTqJAMoKJ/k76o0AK16Nwve2lQJPV8sYIbaJA++wCYtNfokBzn11A7IClQHE9Ctcj3qVAFl/xFd9OpUAub4xgojGmQCir5Y0Rn6VAU2nIuU/5pkCOEUz0d0uoQEesQYJH/6ZACaJq3lb3p0Dbtm3bNnmsQKYh5z671apAxwgm+jtjqkDsUbgepfKiQA==",
          "dtype": "f8"
         },
         "yaxis": "y"
        },
        {
         "hovertemplate": "variable=item_A_sales<br>date=%{x}<br>value=%{y}<extra></extra>",
         "legendgroup": "item_A_sales",
         "line": {
          "color": "#EF553B",
          "dash": "solid"
         },
         "marker": {
          "symbol": "circle"
         },
         "mode": "lines",
         "name": "item_A_sales",
         "orientation": "v",
         "showlegend": true,
         "type": "scatter",
         "x": [
          "2024-06-02T00:00:00.000000000",
          "2024-06-09T00:00:00.000000000",
          "2024-06-16T00:00:00.000000000",
          "2024-06-23T00:00:00.000000000",
          "2024-06-30T00:00:00.000000000",
          "2024-07-07T00:00:00.000000000",
          "2024-07-14T00:00:00.000000000",
          "2024-07-21T00:00:00.000000000",
          "2024-07-28T00:00:00.000000000",
          "2024-08-04T00:00:00.000000000",
          "2024-08-11T00:00:00.000000000",
          "2024-08-18T00:00:00.000000000",
          "2024-08-25T00:00:00.000000000",
          "2024-09-01T00:00:00.000000000",
          "2024-09-08T00:00:00.000000000",
          "2024-09-15T00:00:00.000000000",
          "2024-09-22T00:00:00.000000000",
          "2024-09-29T00:00:00.000000000",
          "2024-10-06T00:00:00.000000000",
          "2024-10-13T00:00:00.000000000",
          "2024-10-20T00:00:00.000000000",
          "2024-10-27T00:00:00.000000000",
          "2024-11-03T00:00:00.000000000",
          "2024-11-10T00:00:00.000000000",
          "2024-11-17T00:00:00.000000000",
          "2024-11-24T00:00:00.000000000",
          "2024-12-01T00:00:00.000000000",
          "2024-12-08T00:00:00.000000000",
          "2024-12-15T00:00:00.000000000",
          "2024-12-22T00:00:00.000000000",
          "2024-12-29T00:00:00.000000000",
          "2025-01-05T00:00:00.000000000",
          "2025-01-12T00:00:00.000000000",
          "2025-01-19T00:00:00.000000000",
          "2025-01-26T00:00:00.000000000",
          "2025-02-02T00:00:00.000000000",
          "2025-02-09T00:00:00.000000000",
          "2025-02-16T00:00:00.000000000",
          "2025-02-23T00:00:00.000000000",
          "2025-03-02T00:00:00.000000000",
          "2025-03-09T00:00:00.000000000",
          "2025-03-16T00:00:00.000000000",
          "2025-03-23T00:00:00.000000000",
          "2025-03-30T00:00:00.000000000",
          "2025-04-06T00:00:00.000000000",
          "2025-04-13T00:00:00.000000000",
          "2025-04-20T00:00:00.000000000",
          "2025-04-27T00:00:00.000000000",
          "2025-05-04T00:00:00.000000000",
          "2025-05-11T00:00:00.000000000"
         ],
         "xaxis": "x",
         "y": {
          "bdata": "rkfhetS4p0D1d7Ja3nyeQLGpNOTclZpAdwGxqTR+mECQwvUoXDaXQCHnPruAwZZArkfhehTzlECuR+F6FFmSQP6drJY3ApNAus8uIDYXkkAw0d/JapyUQNVBHdRBvZNAkML1KFx7k0ALiE2lIWuRQNbyxggmyJBAFl/xFV/VjkCfXUBsKh2QQDqogzqo9pFAoQ7qoA5Gj0C2vDGCiSaMQNu2bdu2cYpACtejcD0DkEDeGMFEf+2LQNOQc59d75BA4MlqeWMBk0AWX/EVX1uQQAUT/Z2sVo1AYaK/k9Wsi0DC9ShcjwyPQEmSJEmSoI1AWS1vjGAMk0AqDTn32X+UQGZmZmZmGJBAUrgehevAkUAgNpWGnDqRQLdt27ZtnY5AbSoNOffBj0CHnPvsAlmRQHE9CtejaJFAj8L1KFyZkEDKanljBN2RQMFEfyerNJFAwvUoXI/mkkCLr/iKr9mTQE9WyxsjMZBAZbW8MYInk0BDzn12AdaWQHE9Ctejm5VAm0pDzn14lUB7FK5HYTqQQA==",
          "dtype": "f8"
         },
         "yaxis": "y"
        },
        {
         "hovertemplate": "variable=item_B_sales<br>date=%{x}<br>value=%{y}<extra></extra>",
         "legendgroup": "item_B_sales",
         "line": {
          "color": "#00cc96",
          "dash": "solid"
         },
         "marker": {
          "symbol": "circle"
         },
         "mode": "lines",
         "name": "item_B_sales",
         "orientation": "v",
         "showlegend": true,
         "type": "scatter",
         "x": [
          "2024-06-02T00:00:00.000000000",
          "2024-06-09T00:00:00.000000000",
          "2024-06-16T00:00:00.000000000",
          "2024-06-23T00:00:00.000000000",
          "2024-06-30T00:00:00.000000000",
          "2024-07-07T00:00:00.000000000",
          "2024-07-14T00:00:00.000000000",
          "2024-07-21T00:00:00.000000000",
          "2024-07-28T00:00:00.000000000",
          "2024-08-04T00:00:00.000000000",
          "2024-08-11T00:00:00.000000000",
          "2024-08-18T00:00:00.000000000",
          "2024-08-25T00:00:00.000000000",
          "2024-09-01T00:00:00.000000000",
          "2024-09-08T00:00:00.000000000",
          "2024-09-15T00:00:00.000000000",
          "2024-09-22T00:00:00.000000000",
          "2024-09-29T00:00:00.000000000",
          "2024-10-06T00:00:00.000000000",
          "2024-10-13T00:00:00.000000000",
          "2024-10-20T00:00:00.000000000",
          "2024-10-27T00:00:00.000000000",
          "2024-11-03T00:00:00.000000000",
          "2024-11-10T00:00:00.000000000",
          "2024-11-17T00:00:00.000000000",
          "2024-11-24T00:00:00.000000000",
          "2024-12-01T00:00:00.000000000",
          "2024-12-08T00:00:00.000000000",
          "2024-12-15T00:00:00.000000000",
          "2024-12-22T00:00:00.000000000",
          "2024-12-29T00:00:00.000000000",
          "2025-01-05T00:00:00.000000000",
          "2025-01-12T00:00:00.000000000",
          "2025-01-19T00:00:00.000000000",
          "2025-01-26T00:00:00.000000000",
          "2025-02-02T00:00:00.000000000",
          "2025-02-09T00:00:00.000000000",
          "2025-02-16T00:00:00.000000000",
          "2025-02-23T00:00:00.000000000",
          "2025-03-02T00:00:00.000000000",
          "2025-03-09T00:00:00.000000000",
          "2025-03-16T00:00:00.000000000",
          "2025-03-23T00:00:00.000000000",
          "2025-03-30T00:00:00.000000000",
          "2025-04-06T00:00:00.000000000",
          "2025-04-13T00:00:00.000000000",
          "2025-04-20T00:00:00.000000000",
          "2025-04-27T00:00:00.000000000",
          "2025-05-04T00:00:00.000000000",
          "2025-05-11T00:00:00.000000000"
         ],
         "xaxis": "x",
         "y": {
          "bdata": "mpmZmZnumECF61G4HkGhQE6lIec+BppA16NwPQrVnkCF61G4nqegQPfZBcSmqqFAQh3UQR38oUDUQR3UwSChQPBktbwxQJ1AxVd8xVeVnkBDzn12AU+eQEcw0d/JpZpAEJtKQ87al0Bzn11AbIOcQMi5zy4gqpZA5o0RTPStkEAm+jtZLYaRQE6lIec+lpBAIDaVhpz2kEB1UAd1UDWQQJWGnPvs1IZAZbW8MYIljEDyxggm+umHQOc+u4DYFIpAk9XyxghIh0DKanljBLuJQKEO6qAOQIdAKg0599lFhECRc59dQK6GQIec++wC3ohA/k5Wyxs/jUCDOqiDOjCPQCer5Y0RnoxAbtu2bdu+ikBYfMVXfKWMQIec++wC3IdASZIkSZIEg0DW8sYIJliNQArXo3A9xJFAGyOY6O+rkUBzn11AbOyQQJWGnPvs05BADTn32QXtkUDbtm3btrGTQIuv+Iqvr5BApHA9CtdikUCiv5PV8tiWQPYoXI/CWJRAp9KQc58Uk0DhehSuR2+JQA==",
          "dtype": "f8"
         },
         "yaxis": "y"
        },
        {
         "hovertemplate": "variable=item_C_sales<br>date=%{x}<br>value=%{y}<extra></extra>",
         "legendgroup": "item_C_sales",
         "line": {
          "color": "#ab63fa",
          "dash": "solid"
         },
         "marker": {
          "symbol": "circle"
         },
         "mode": "lines",
         "name": "item_C_sales",
         "orientation": "v",
         "showlegend": true,
         "type": "scatter",
         "x": [
          "2024-06-02T00:00:00.000000000",
          "2024-06-09T00:00:00.000000000",
          "2024-06-16T00:00:00.000000000",
          "2024-06-23T00:00:00.000000000",
          "2024-06-30T00:00:00.000000000",
          "2024-07-07T00:00:00.000000000",
          "2024-07-14T00:00:00.000000000",
          "2024-07-21T00:00:00.000000000",
          "2024-07-28T00:00:00.000000000",
          "2024-08-04T00:00:00.000000000",
          "2024-08-11T00:00:00.000000000",
          "2024-08-18T00:00:00.000000000",
          "2024-08-25T00:00:00.000000000",
          "2024-09-01T00:00:00.000000000",
          "2024-09-08T00:00:00.000000000",
          "2024-09-15T00:00:00.000000000",
          "2024-09-22T00:00:00.000000000",
          "2024-09-29T00:00:00.000000000",
          "2024-10-06T00:00:00.000000000",
          "2024-10-13T00:00:00.000000000",
          "2024-10-20T00:00:00.000000000",
          "2024-10-27T00:00:00.000000000",
          "2024-11-03T00:00:00.000000000",
          "2024-11-10T00:00:00.000000000",
          "2024-11-17T00:00:00.000000000",
          "2024-11-24T00:00:00.000000000",
          "2024-12-01T00:00:00.000000000",
          "2024-12-08T00:00:00.000000000",
          "2024-12-15T00:00:00.000000000",
          "2024-12-22T00:00:00.000000000",
          "2024-12-29T00:00:00.000000000",
          "2025-01-05T00:00:00.000000000",
          "2025-01-12T00:00:00.000000000",
          "2025-01-19T00:00:00.000000000",
          "2025-01-26T00:00:00.000000000",
          "2025-02-02T00:00:00.000000000",
          "2025-02-09T00:00:00.000000000",
          "2025-02-16T00:00:00.000000000",
          "2025-02-23T00:00:00.000000000",
          "2025-03-02T00:00:00.000000000",
          "2025-03-09T00:00:00.000000000",
          "2025-03-16T00:00:00.000000000",
          "2025-03-23T00:00:00.000000000",
          "2025-03-30T00:00:00.000000000",
          "2025-04-06T00:00:00.000000000",
          "2025-04-13T00:00:00.000000000",
          "2025-04-20T00:00:00.000000000",
          "2025-04-27T00:00:00.000000000",
          "2025-05-04T00:00:00.000000000",
          "2025-05-11T00:00:00.000000000"
         ],
         "xaxis": "x",
         "y": {
          "bdata": "AAAAAAC3gkC3bdu2bQ9/QAAAAAAAcHZA6qAO6qDKe0Cogzqog0Z2QJIkSZIkyWlAX/EVX/Exd0C3bdu2bdN0QPEVX/EVc3BAdVAHdVDfcEDVQR3UQbVyQLdt27Ztd3FADjn32QX0bkDJuc8uIE5sQG7btm3bbm1AvuIrvuITbUD77AJiU9lpQNu2bdu2bW5AOqiDOqi7bEAlSZIkSRppQCVJkiRJkmZASZIkSZIEbkBu27Zt21ZlQLkehetRMGpAK77iK76iakDVQR3UQeVpQOIrvuIr5mdA27Zt27Y9ZEAAAAAAADhpQOaNEUz0R2dAVRpy7rNLbkCRc59dQFhwQEmSJEmSlGdAAAAAAAAQaUCd++wCYntnQGt5YwQTBWRA5o0RTPTvYUCZmZmZmaFrQEmSJEmSJG5AC4hNpSHHbEDLGyOY6L9uQNlUGnLuo2pA27Zt27YNb0BRB3VQBzVxQNu2bdu23W5AIuc+u4A4ckAAAAAAAGR2QM59dgGxkXdAoF1AbCrFeUAAAAAAACRxQA==",
          "dtype": "f8"
         },
         "yaxis": "y"
        }
       ],
       "layout": {
        "annotations": [
         {
          "showarrow": false,
          "text": "HCF",
          "x": "2025-01-18",
          "xanchor": "left",
          "xref": "x",
          "y": 1,
          "yanchor": "top",
          "yref": "y domain"
         }
        ],
        "legend": {
         "title": {
          "text": "variable"
         },
         "tracegroupgap": 0
        },
        "shapes": [
         {
          "label": {
           "text": "Spring begins",
           "textangle": 0,
           "textposition": "end",
           "xanchor": "center"
          },
          "line": {
           "color": "red",
           "dash": "dash"
          },
          "type": "line",
          "x0": "2025-03-01T00:00:00",
          "x1": "2025-03-01T00:00:00",
          "xref": "x",
          "y0": 0,
          "y1": 1,
          "yref": "y domain"
         },
         {
          "label": {
           "text": "Winter begins",
           "textangle": 0,
           "textposition": "end",
           "xanchor": "center"
          },
          "line": {
           "color": "red",
           "dash": "dash"
          },
          "type": "line",
          "x0": "2024-12-01T00:00:00",
          "x1": "2024-12-01T00:00:00",
          "xref": "x",
          "y0": 0,
          "y1": 1,
          "yref": "y domain"
         },
         {
          "label": {
           "text": "Fall begins",
           "textangle": 0,
           "textposition": "end",
           "xanchor": "center"
          },
          "line": {
           "color": "red",
           "dash": "dash"
          },
          "type": "line",
          "x0": "2024-09-01T00:00:00",
          "x1": "2024-09-01T00:00:00",
          "xref": "x",
          "y0": 0,
          "y1": 1,
          "yref": "y domain"
         },
         {
          "fillcolor": "green",
          "line": {
           "width": 0
          },
          "opacity": 0.1,
          "type": "rect",
          "x0": "2025-01-18",
          "x1": "2025-2-14",
          "xref": "x",
          "y0": 0,
          "y1": 1,
          "yref": "y domain"
         }
        ],
        "template": {
         "data": {
          "bar": [
           {
            "error_x": {
             "color": "#2a3f5f"
            },
            "error_y": {
             "color": "#2a3f5f"
            },
            "marker": {
             "line": {
              "color": "#E5ECF6",
              "width": 0.5
             },
             "pattern": {
              "fillmode": "overlay",
              "size": 10,
              "solidity": 0.2
             }
            },
            "type": "bar"
           }
          ],
          "barpolar": [
           {
            "marker": {
             "line": {
              "color": "#E5ECF6",
              "width": 0.5
             },
             "pattern": {
              "fillmode": "overlay",
              "size": 10,
              "solidity": 0.2
             }
            },
            "type": "barpolar"
           }
          ],
          "carpet": [
           {
            "aaxis": {
             "endlinecolor": "#2a3f5f",
             "gridcolor": "white",
             "linecolor": "white",
             "minorgridcolor": "white",
             "startlinecolor": "#2a3f5f"
            },
            "baxis": {
             "endlinecolor": "#2a3f5f",
             "gridcolor": "white",
             "linecolor": "white",
             "minorgridcolor": "white",
             "startlinecolor": "#2a3f5f"
            },
            "type": "carpet"
           }
          ],
          "choropleth": [
           {
            "colorbar": {
             "outlinewidth": 0,
             "ticks": ""
            },
            "type": "choropleth"
           }
          ],
          "contour": [
           {
            "colorbar": {
             "outlinewidth": 0,
             "ticks": ""
            },
            "colorscale": [
             [
              0,
              "#0d0887"
             ],
             [
              0.1111111111111111,
              "#46039f"
             ],
             [
              0.2222222222222222,
              "#7201a8"
             ],
             [
              0.3333333333333333,
              "#9c179e"
             ],
             [
              0.4444444444444444,
              "#bd3786"
             ],
             [
              0.5555555555555556,
              "#d8576b"
             ],
             [
              0.6666666666666666,
              "#ed7953"
             ],
             [
              0.7777777777777778,
              "#fb9f3a"
             ],
             [
              0.8888888888888888,
              "#fdca26"
             ],
             [
              1,
              "#f0f921"
             ]
            ],
            "type": "contour"
           }
          ],
          "contourcarpet": [
           {
            "colorbar": {
             "outlinewidth": 0,
             "ticks": ""
            },
            "type": "contourcarpet"
           }
          ],
          "heatmap": [
           {
            "colorbar": {
             "outlinewidth": 0,
             "ticks": ""
            },
            "colorscale": [
             [
              0,
              "#0d0887"
             ],
             [
              0.1111111111111111,
              "#46039f"
             ],
             [
              0.2222222222222222,
              "#7201a8"
             ],
             [
              0.3333333333333333,
              "#9c179e"
             ],
             [
              0.4444444444444444,
              "#bd3786"
             ],
             [
              0.5555555555555556,
              "#d8576b"
             ],
             [
              0.6666666666666666,
              "#ed7953"
             ],
             [
              0.7777777777777778,
              "#fb9f3a"
             ],
             [
              0.8888888888888888,
              "#fdca26"
             ],
             [
              1,
              "#f0f921"
             ]
            ],
            "type": "heatmap"
           }
          ],
          "histogram": [
           {
            "marker": {
             "pattern": {
              "fillmode": "overlay",
              "size": 10,
              "solidity": 0.2
             }
            },
            "type": "histogram"
           }
          ],
          "histogram2d": [
           {
            "colorbar": {
             "outlinewidth": 0,
             "ticks": ""
            },
            "colorscale": [
             [
              0,
              "#0d0887"
             ],
             [
              0.1111111111111111,
              "#46039f"
             ],
             [
              0.2222222222222222,
              "#7201a8"
             ],
             [
              0.3333333333333333,
              "#9c179e"
             ],
             [
              0.4444444444444444,
              "#bd3786"
             ],
             [
              0.5555555555555556,
              "#d8576b"
             ],
             [
              0.6666666666666666,
              "#ed7953"
             ],
             [
              0.7777777777777778,
              "#fb9f3a"
             ],
             [
              0.8888888888888888,
              "#fdca26"
             ],
             [
              1,
              "#f0f921"
             ]
            ],
            "type": "histogram2d"
           }
          ],
          "histogram2dcontour": [
           {
            "colorbar": {
             "outlinewidth": 0,
             "ticks": ""
            },
            "colorscale": [
             [
              0,
              "#0d0887"
             ],
             [
              0.1111111111111111,
              "#46039f"
             ],
             [
              0.2222222222222222,
              "#7201a8"
             ],
             [
              0.3333333333333333,
              "#9c179e"
             ],
             [
              0.4444444444444444,
              "#bd3786"
             ],
             [
              0.5555555555555556,
              "#d8576b"
             ],
             [
              0.6666666666666666,
              "#ed7953"
             ],
             [
              0.7777777777777778,
              "#fb9f3a"
             ],
             [
              0.8888888888888888,
              "#fdca26"
             ],
             [
              1,
              "#f0f921"
             ]
            ],
            "type": "histogram2dcontour"
           }
          ],
          "mesh3d": [
           {
            "colorbar": {
             "outlinewidth": 0,
             "ticks": ""
            },
            "type": "mesh3d"
           }
          ],
          "parcoords": [
           {
            "line": {
             "colorbar": {
              "outlinewidth": 0,
              "ticks": ""
             }
            },
            "type": "parcoords"
           }
          ],
          "pie": [
           {
            "automargin": true,
            "type": "pie"
           }
          ],
          "scatter": [
           {
            "fillpattern": {
             "fillmode": "overlay",
             "size": 10,
             "solidity": 0.2
            },
            "type": "scatter"
           }
          ],
          "scatter3d": [
           {
            "line": {
             "colorbar": {
              "outlinewidth": 0,
              "ticks": ""
             }
            },
            "marker": {
             "colorbar": {
              "outlinewidth": 0,
              "ticks": ""
             }
            },
            "type": "scatter3d"
           }
          ],
          "scattercarpet": [
           {
            "marker": {
             "colorbar": {
              "outlinewidth": 0,
              "ticks": ""
             }
            },
            "type": "scattercarpet"
           }
          ],
          "scattergeo": [
           {
            "marker": {
             "colorbar": {
              "outlinewidth": 0,
              "ticks": ""
             }
            },
            "type": "scattergeo"
           }
          ],
          "scattergl": [
           {
            "marker": {
             "colorbar": {
              "outlinewidth": 0,
              "ticks": ""
             }
            },
            "type": "scattergl"
           }
          ],
          "scattermap": [
           {
            "marker": {
             "colorbar": {
              "outlinewidth": 0,
              "ticks": ""
             }
            },
            "type": "scattermap"
           }
          ],
          "scattermapbox": [
           {
            "marker": {
             "colorbar": {
              "outlinewidth": 0,
              "ticks": ""
             }
            },
            "type": "scattermapbox"
           }
          ],
          "scatterpolar": [
           {
            "marker": {
             "colorbar": {
              "outlinewidth": 0,
              "ticks": ""
             }
            },
            "type": "scatterpolar"
           }
          ],
          "scatterpolargl": [
           {
            "marker": {
             "colorbar": {
              "outlinewidth": 0,
              "ticks": ""
             }
            },
            "type": "scatterpolargl"
           }
          ],
          "scatterternary": [
           {
            "marker": {
             "colorbar": {
              "outlinewidth": 0,
              "ticks": ""
             }
            },
            "type": "scatterternary"
           }
          ],
          "surface": [
           {
            "colorbar": {
             "outlinewidth": 0,
             "ticks": ""
            },
            "colorscale": [
             [
              0,
              "#0d0887"
             ],
             [
              0.1111111111111111,
              "#46039f"
             ],
             [
              0.2222222222222222,
              "#7201a8"
             ],
             [
              0.3333333333333333,
              "#9c179e"
             ],
             [
              0.4444444444444444,
              "#bd3786"
             ],
             [
              0.5555555555555556,
              "#d8576b"
             ],
             [
              0.6666666666666666,
              "#ed7953"
             ],
             [
              0.7777777777777778,
              "#fb9f3a"
             ],
             [
              0.8888888888888888,
              "#fdca26"
             ],
             [
              1,
              "#f0f921"
             ]
            ],
            "type": "surface"
           }
          ],
          "table": [
           {
            "cells": {
             "fill": {
              "color": "#EBF0F8"
             },
             "line": {
              "color": "white"
             }
            },
            "header": {
             "fill": {
              "color": "#C8D4E3"
             },
             "line": {
              "color": "white"
             }
            },
            "type": "table"
           }
          ]
         },
         "layout": {
          "annotationdefaults": {
           "arrowcolor": "#2a3f5f",
           "arrowhead": 0,
           "arrowwidth": 1
          },
          "autotypenumbers": "strict",
          "coloraxis": {
           "colorbar": {
            "outlinewidth": 0,
            "ticks": ""
           }
          },
          "colorscale": {
           "diverging": [
            [
             0,
             "#8e0152"
            ],
            [
             0.1,
             "#c51b7d"
            ],
            [
             0.2,
             "#de77ae"
            ],
            [
             0.3,
             "#f1b6da"
            ],
            [
             0.4,
             "#fde0ef"
            ],
            [
             0.5,
             "#f7f7f7"
            ],
            [
             0.6,
             "#e6f5d0"
            ],
            [
             0.7,
             "#b8e186"
            ],
            [
             0.8,
             "#7fbc41"
            ],
            [
             0.9,
             "#4d9221"
            ],
            [
             1,
             "#276419"
            ]
           ],
           "sequential": [
            [
             0,
             "#0d0887"
            ],
            [
             0.1111111111111111,
             "#46039f"
            ],
            [
             0.2222222222222222,
             "#7201a8"
            ],
            [
             0.3333333333333333,
             "#9c179e"
            ],
            [
             0.4444444444444444,
             "#bd3786"
            ],
            [
             0.5555555555555556,
             "#d8576b"
            ],
            [
             0.6666666666666666,
             "#ed7953"
            ],
            [
             0.7777777777777778,
             "#fb9f3a"
            ],
            [
             0.8888888888888888,
             "#fdca26"
            ],
            [
             1,
             "#f0f921"
            ]
           ],
           "sequentialminus": [
            [
             0,
             "#0d0887"
            ],
            [
             0.1111111111111111,
             "#46039f"
            ],
            [
             0.2222222222222222,
             "#7201a8"
            ],
            [
             0.3333333333333333,
             "#9c179e"
            ],
            [
             0.4444444444444444,
             "#bd3786"
            ],
            [
             0.5555555555555556,
             "#d8576b"
            ],
            [
             0.6666666666666666,
             "#ed7953"
            ],
            [
             0.7777777777777778,
             "#fb9f3a"
            ],
            [
             0.8888888888888888,
             "#fdca26"
            ],
            [
             1,
             "#f0f921"
            ]
           ]
          },
          "colorway": [
           "#636efa",
           "#EF553B",
           "#00cc96",
           "#ab63fa",
           "#FFA15A",
           "#19d3f3",
           "#FF6692",
           "#B6E880",
           "#FF97FF",
           "#FECB52"
          ],
          "font": {
           "color": "#2a3f5f"
          },
          "geo": {
           "bgcolor": "white",
           "lakecolor": "white",
           "landcolor": "#E5ECF6",
           "showlakes": true,
           "showland": true,
           "subunitcolor": "white"
          },
          "hoverlabel": {
           "align": "left"
          },
          "hovermode": "closest",
          "mapbox": {
           "style": "light"
          },
          "paper_bgcolor": "white",
          "plot_bgcolor": "#E5ECF6",
          "polar": {
           "angularaxis": {
            "gridcolor": "white",
            "linecolor": "white",
            "ticks": ""
           },
           "bgcolor": "#E5ECF6",
           "radialaxis": {
            "gridcolor": "white",
            "linecolor": "white",
            "ticks": ""
           }
          },
          "scene": {
           "xaxis": {
            "backgroundcolor": "#E5ECF6",
            "gridcolor": "white",
            "gridwidth": 2,
            "linecolor": "white",
            "showbackground": true,
            "ticks": "",
            "zerolinecolor": "white"
           },
           "yaxis": {
            "backgroundcolor": "#E5ECF6",
            "gridcolor": "white",
            "gridwidth": 2,
            "linecolor": "white",
            "showbackground": true,
            "ticks": "",
            "zerolinecolor": "white"
           },
           "zaxis": {
            "backgroundcolor": "#E5ECF6",
            "gridcolor": "white",
            "gridwidth": 2,
            "linecolor": "white",
            "showbackground": true,
            "ticks": "",
            "zerolinecolor": "white"
           }
          },
          "shapedefaults": {
           "line": {
            "color": "#2a3f5f"
           }
          },
          "ternary": {
           "aaxis": {
            "gridcolor": "white",
            "linecolor": "white",
            "ticks": ""
           },
           "baxis": {
            "gridcolor": "white",
            "linecolor": "white",
            "ticks": ""
           },
           "bgcolor": "#E5ECF6",
           "caxis": {
            "gridcolor": "white",
            "linecolor": "white",
            "ticks": ""
           }
          },
          "title": {
           "x": 0.05
          },
          "xaxis": {
           "automargin": true,
           "gridcolor": "white",
           "linecolor": "white",
           "ticks": "",
           "title": {
            "standoff": 15
           },
           "zerolinecolor": "white",
           "zerolinewidth": 2
          },
          "yaxis": {
           "automargin": true,
           "gridcolor": "white",
           "linecolor": "white",
           "ticks": "",
           "title": {
            "standoff": 15
           },
           "zerolinecolor": "white",
           "zerolinewidth": 2
          }
         }
        },
        "title": {
         "text": "Weekly sales"
        },
        "xaxis": {
         "anchor": "y",
         "domain": [
          0,
          1
         ],
         "title": {
          "text": "date"
         }
        },
        "yaxis": {
         "anchor": "x",
         "domain": [
          0,
          1
         ],
         "title": {
          "text": "value"
         }
        }
       }
      }
     },
     "metadata": {},
     "output_type": "display_data"
    }
   ],
   "source": [
    "combined_sales_resample = combined_sales_df.resample('W').mean()\n",
    "\n",
    "fig = px.line(combined_sales_resample, title='Weekly sales')\n",
    "\n",
    "fig.add_vline(\n",
    "    x=pd.to_datetime('2025-03-01'),\n",
    "    line_dash='dash',\n",
    "    line_color='red',\n",
    "    label=dict(\n",
    "        text='Spring begins',\n",
    "        textangle=0,\n",
    "        textposition=\"end\",\n",
    "        xanchor='center'\n",
    "))\n",
    "\n",
    "fig.add_vline(\n",
    "    x=pd.to_datetime('2024-12-01'),\n",
    "    line_dash='dash',\n",
    "    line_color='red',\n",
    "    label=dict(\n",
    "        text='Winter begins',\n",
    "        textangle=0,\n",
    "        textposition=\"end\",\n",
    "        xanchor='center'\n",
    "))\n",
    "\n",
    "fig.add_vline(\n",
    "    x=pd.to_datetime('2024-09-01'),\n",
    "    line_dash='dash',\n",
    "    line_color='red',\n",
    "    label=dict(\n",
    "        text='Fall begins',\n",
    "        textangle=0,\n",
    "        textposition=\"end\",\n",
    "        xanchor='center'\n",
    "))\n",
    "\n",
    "fig.add_vrect(x0=\"2025-01-18\", x1=\"2025-2-14\", \n",
    "              annotation_text=\"HCF\", annotation_position=\"top left\",\n",
    "              fillcolor=\"green\", opacity=0.1, line_width=0)\n",
    "\n",
    "\n",
    "fig.show()"
   ]
  },
  {
   "cell_type": "code",
   "execution_count": 226,
   "metadata": {},
   "outputs": [
    {
     "data": {
      "text/html": [
       "<div>\n",
       "<style scoped>\n",
       "    .dataframe tbody tr th:only-of-type {\n",
       "        vertical-align: middle;\n",
       "    }\n",
       "\n",
       "    .dataframe tbody tr th {\n",
       "        vertical-align: top;\n",
       "    }\n",
       "\n",
       "    .dataframe thead th {\n",
       "        text-align: right;\n",
       "    }\n",
       "</style>\n",
       "<table border=\"1\" class=\"dataframe\">\n",
       "  <thead>\n",
       "    <tr style=\"text-align: right;\">\n",
       "      <th></th>\n",
       "      <th>total_sales_normalized</th>\n",
       "      <th>trend</th>\n",
       "      <th>seasonal</th>\n",
       "      <th>residuals</th>\n",
       "      <th>day_of_week</th>\n",
       "    </tr>\n",
       "    <tr>\n",
       "      <th>date</th>\n",
       "      <th></th>\n",
       "      <th></th>\n",
       "      <th></th>\n",
       "      <th></th>\n",
       "      <th></th>\n",
       "    </tr>\n",
       "  </thead>\n",
       "  <tbody>\n",
       "    <tr>\n",
       "      <th>2024-06-01</th>\n",
       "      <td>6433.36</td>\n",
       "      <td>NaN</td>\n",
       "      <td>1426.468011</td>\n",
       "      <td>NaN</td>\n",
       "      <td>Saturday</td>\n",
       "    </tr>\n",
       "    <tr>\n",
       "      <th>2024-06-02</th>\n",
       "      <td>4755.46</td>\n",
       "      <td>NaN</td>\n",
       "      <td>1109.762267</td>\n",
       "      <td>NaN</td>\n",
       "      <td>Sunday</td>\n",
       "    </tr>\n",
       "    <tr>\n",
       "      <th>2024-06-03</th>\n",
       "      <td>3487.14</td>\n",
       "      <td>NaN</td>\n",
       "      <td>-648.246164</td>\n",
       "      <td>NaN</td>\n",
       "      <td>Monday</td>\n",
       "    </tr>\n",
       "    <tr>\n",
       "      <th>2024-06-04</th>\n",
       "      <td>3739.60</td>\n",
       "      <td>4498.997143</td>\n",
       "      <td>-947.793804</td>\n",
       "      <td>188.396661</td>\n",
       "      <td>Tuesday</td>\n",
       "    </tr>\n",
       "    <tr>\n",
       "      <th>2024-06-05</th>\n",
       "      <td>4172.75</td>\n",
       "      <td>4643.494286</td>\n",
       "      <td>-721.092376</td>\n",
       "      <td>250.348090</td>\n",
       "      <td>Wednesday</td>\n",
       "    </tr>\n",
       "    <tr>\n",
       "      <th>...</th>\n",
       "      <td>...</td>\n",
       "      <td>...</td>\n",
       "      <td>...</td>\n",
       "      <td>...</td>\n",
       "      <td>...</td>\n",
       "    </tr>\n",
       "    <tr>\n",
       "      <th>2025-05-04</th>\n",
       "      <td>4863.03</td>\n",
       "      <td>3440.885714</td>\n",
       "      <td>1109.762267</td>\n",
       "      <td>312.382018</td>\n",
       "      <td>Sunday</td>\n",
       "    </tr>\n",
       "    <tr>\n",
       "      <th>2025-05-05</th>\n",
       "      <td>2578.74</td>\n",
       "      <td>3382.581429</td>\n",
       "      <td>-648.246164</td>\n",
       "      <td>-155.595265</td>\n",
       "      <td>Monday</td>\n",
       "    </tr>\n",
       "    <tr>\n",
       "      <th>2025-05-06</th>\n",
       "      <td>2401.45</td>\n",
       "      <td>NaN</td>\n",
       "      <td>-947.793804</td>\n",
       "      <td>NaN</td>\n",
       "      <td>Tuesday</td>\n",
       "    </tr>\n",
       "    <tr>\n",
       "      <th>2025-05-07</th>\n",
       "      <td>2549.84</td>\n",
       "      <td>NaN</td>\n",
       "      <td>-721.092376</td>\n",
       "      <td>NaN</td>\n",
       "      <td>Wednesday</td>\n",
       "    </tr>\n",
       "    <tr>\n",
       "      <th>2025-05-08</th>\n",
       "      <td>2171.26</td>\n",
       "      <td>NaN</td>\n",
       "      <td>-708.720233</td>\n",
       "      <td>NaN</td>\n",
       "      <td>Thursday</td>\n",
       "    </tr>\n",
       "  </tbody>\n",
       "</table>\n",
       "<p>342 rows × 5 columns</p>\n",
       "</div>"
      ],
      "text/plain": [
       "            total_sales_normalized        trend     seasonal   residuals  \\\n",
       "date                                                                       \n",
       "2024-06-01                 6433.36          NaN  1426.468011         NaN   \n",
       "2024-06-02                 4755.46          NaN  1109.762267         NaN   \n",
       "2024-06-03                 3487.14          NaN  -648.246164         NaN   \n",
       "2024-06-04                 3739.60  4498.997143  -947.793804  188.396661   \n",
       "2024-06-05                 4172.75  4643.494286  -721.092376  250.348090   \n",
       "...                            ...          ...          ...         ...   \n",
       "2025-05-04                 4863.03  3440.885714  1109.762267  312.382018   \n",
       "2025-05-05                 2578.74  3382.581429  -648.246164 -155.595265   \n",
       "2025-05-06                 2401.45          NaN  -947.793804         NaN   \n",
       "2025-05-07                 2549.84          NaN  -721.092376         NaN   \n",
       "2025-05-08                 2171.26          NaN  -708.720233         NaN   \n",
       "\n",
       "           day_of_week  \n",
       "date                    \n",
       "2024-06-01    Saturday  \n",
       "2024-06-02      Sunday  \n",
       "2024-06-03      Monday  \n",
       "2024-06-04     Tuesday  \n",
       "2024-06-05   Wednesday  \n",
       "...                ...  \n",
       "2025-05-04      Sunday  \n",
       "2025-05-05      Monday  \n",
       "2025-05-06     Tuesday  \n",
       "2025-05-07   Wednesday  \n",
       "2025-05-08    Thursday  \n",
       "\n",
       "[342 rows x 5 columns]"
      ]
     },
     "execution_count": 226,
     "metadata": {},
     "output_type": "execute_result"
    }
   ],
   "source": [
    "decompose_model = seasonal_decompose(combined_df[[\"total_sales_normalized\"]], model=\"additive\", period=7)\n",
    "trend = decompose_model.trend \n",
    "seasonal = decompose_model.seasonal\n",
    "residuals = decompose_model.resid\n",
    "\n",
    "\n",
    "decompose_df = pd.DataFrame(\n",
    "    {\"total_sales_normalized\": combined_df['total_sales_normalized'],\n",
    "     'trend': trend,\n",
    "     'seasonal': seasonal,\n",
    "     'residuals': residuals\n",
    "    }\n",
    ")\n",
    "\n",
    "decompose_df.set_index(combined_df['date'], inplace=True)\n",
    "decompose_df['day_of_week'] = decompose_df.index.day_name()\n",
    "decompose_df"
   ]
  },
  {
   "cell_type": "code",
   "execution_count": 191,
   "metadata": {},
   "outputs": [
    {
     "data": {
      "text/plain": [
       "<Axes: title={'center': 'Seasonal differenced'}, xlabel='date'>"
      ]
     },
     "execution_count": 191,
     "metadata": {},
     "output_type": "execute_result"
    },
    {
     "data": {
      "image/png": "[encoded data removed]",
      "text/plain": [
       "<Figure size 1200x800 with 4 Axes>"
      ]
     },
     "metadata": {},
     "output_type": "display_data"
    }
   ],
   "source": [
    "fig, axes = plt.subplots(2, 2, figsize=(12,8))\n",
    "plt.subplots_adjust(hspace=0.5, wspace=0.3)\n",
    "\n",
    "total_sales_df.plot(ax=axes[0,0], title='Original Data')\n",
    "\n",
    "total_sales_diff = total_sales_df.diff().dropna() # 1st order diff\n",
    "total_sales_diff.plot(ax=axes[0,1], title='1st order differenced')\n",
    "\n",
    "total_sales_seasonal_diff = total_sales_df.diff(7).dropna()\n",
    "total_sales_seasonal_diff.plot(ax=axes[1,0], title='Seasonal differenced')\n"
   ]
  },
  {
   "cell_type": "code",
   "execution_count": 192,
   "metadata": {},
   "outputs": [
    {
     "name": "stdout",
     "output_type": "stream",
     "text": [
      "ADF Statistic: -8.005518\n",
      "p-value: 0.000000\n"
     ]
    }
   ],
   "source": [
    "result_adf = adfuller(total_sales_diff)\n",
    "\n",
    "print('ADF Statistic: %f' % result_adf[0])\n",
    "print('p-value: %f' % result_adf[1])"
   ]
  },
  {
   "cell_type": "markdown",
   "metadata": {},
   "source": [
    "### SARIMA"
   ]
  },
  {
   "cell_type": "code",
   "execution_count": 201,
   "metadata": {},
   "outputs": [],
   "source": [
    "y = combined_df[['date','total_sales_normalized']].set_index('date')\n",
    "y_train = y.iloc[0: - 14].assign(Label = 'train')\n",
    "y_valid = y.iloc[len(y) - 14 :].assign(Label = \"test\")"
   ]
  },
  {
   "cell_type": "code",
   "execution_count": 205,
   "metadata": {},
   "outputs": [
    {
     "data": {
      "text/html": [
       "<div>\n",
       "<style scoped>\n",
       "    .dataframe tbody tr th:only-of-type {\n",
       "        vertical-align: middle;\n",
       "    }\n",
       "\n",
       "    .dataframe tbody tr th {\n",
       "        vertical-align: top;\n",
       "    }\n",
       "\n",
       "    .dataframe thead th {\n",
       "        text-align: right;\n",
       "    }\n",
       "</style>\n",
       "<table border=\"1\" class=\"dataframe\">\n",
       "  <thead>\n",
       "    <tr style=\"text-align: right;\">\n",
       "      <th></th>\n",
       "      <th>total_sales_normalized</th>\n",
       "    </tr>\n",
       "    <tr>\n",
       "      <th>date</th>\n",
       "      <th></th>\n",
       "    </tr>\n",
       "  </thead>\n",
       "  <tbody>\n",
       "    <tr>\n",
       "      <th>2024-06-01</th>\n",
       "      <td>6433.36</td>\n",
       "    </tr>\n",
       "    <tr>\n",
       "      <th>2024-06-02</th>\n",
       "      <td>4755.46</td>\n",
       "    </tr>\n",
       "    <tr>\n",
       "      <th>2024-06-03</th>\n",
       "      <td>3487.14</td>\n",
       "    </tr>\n",
       "    <tr>\n",
       "      <th>2024-06-04</th>\n",
       "      <td>3739.60</td>\n",
       "    </tr>\n",
       "    <tr>\n",
       "      <th>2024-06-05</th>\n",
       "      <td>4172.75</td>\n",
       "    </tr>\n",
       "    <tr>\n",
       "      <th>...</th>\n",
       "      <td>...</td>\n",
       "    </tr>\n",
       "    <tr>\n",
       "      <th>2025-04-20</th>\n",
       "      <td>4605.99</td>\n",
       "    </tr>\n",
       "    <tr>\n",
       "      <th>2025-04-21</th>\n",
       "      <td>2746.16</td>\n",
       "    </tr>\n",
       "    <tr>\n",
       "      <th>2025-04-22</th>\n",
       "      <td>2115.67</td>\n",
       "    </tr>\n",
       "    <tr>\n",
       "      <th>2025-04-23</th>\n",
       "      <td>2307.26</td>\n",
       "    </tr>\n",
       "    <tr>\n",
       "      <th>2025-04-24</th>\n",
       "      <td>2967.81</td>\n",
       "    </tr>\n",
       "  </tbody>\n",
       "</table>\n",
       "<p>328 rows × 1 columns</p>\n",
       "</div>"
      ],
      "text/plain": [
       "            total_sales_normalized\n",
       "date                              \n",
       "2024-06-01                 6433.36\n",
       "2024-06-02                 4755.46\n",
       "2024-06-03                 3487.14\n",
       "2024-06-04                 3739.60\n",
       "2024-06-05                 4172.75\n",
       "...                            ...\n",
       "2025-04-20                 4605.99\n",
       "2025-04-21                 2746.16\n",
       "2025-04-22                 2115.67\n",
       "2025-04-23                 2307.26\n",
       "2025-04-24                 2967.81\n",
       "\n",
       "[328 rows x 1 columns]"
      ]
     },
     "execution_count": 205,
     "metadata": {},
     "output_type": "execute_result"
    }
   ],
   "source": [
    "total_sales_df.iloc[0:-14]"
   ]
  },
  {
   "cell_type": "code",
   "execution_count": 216,
   "metadata": {},
   "outputs": [],
   "source": [
    "autoarima = pm.auto_arima(total_sales_df.iloc[0:-14], seasonal=True, m=7)\n",
    "autoarima.get_params()\n",
    "\n",
    "best_order = autoarima.get_params()['order']\n",
    "best_seasonal_order = autoarima.get_params()['seasonal_order']"
   ]
  },
  {
   "cell_type": "code",
   "execution_count": 217,
   "metadata": {},
   "outputs": [
    {
     "name": "stderr",
     "output_type": "stream",
     "text": [
      "/Users/alexwong/miniforge3/envs/mds574/lib/python3.9/site-packages/statsmodels/tsa/base/tsa_model.py:473: ValueWarning:\n",
      "\n",
      "No frequency information was provided, so inferred frequency D will be used.\n",
      "\n",
      "/Users/alexwong/miniforge3/envs/mds574/lib/python3.9/site-packages/statsmodels/tsa/base/tsa_model.py:473: ValueWarning:\n",
      "\n",
      "No frequency information was provided, so inferred frequency D will be used.\n",
      "\n",
      "/Users/alexwong/miniforge3/envs/mds574/lib/python3.9/site-packages/statsmodels/tsa/base/tsa_model.py:473: ValueWarning:\n",
      "\n",
      "No frequency information was provided, so inferred frequency D will be used.\n",
      "\n",
      "/Users/alexwong/miniforge3/envs/mds574/lib/python3.9/site-packages/statsmodels/base/model.py:607: ConvergenceWarning:\n",
      "\n",
      "Maximum Likelihood optimization failed to converge. Check mle_retvals\n",
      "\n"
     ]
    }
   ],
   "source": [
    "sarima_model = ARIMA(y_train['total_sales_normalized'], order=best_order, seasonal_order=best_seasonal_order).fit()\n",
    "sarima_forecast = pd.DataFrame({\"total_sales_normalized\":sarima_model.forecast(len(y_valid)),\n",
    "                               \"Label\":\"SARIMA\"})\n",
    "sarima_forecast.index = y_valid.index"
   ]
  },
  {
   "cell_type": "code",
   "execution_count": 218,
   "metadata": {},
   "outputs": [
    {
     "data": {
      "application/vnd.plotly.v1+json": {
       "config": {
        "plotlyServerURL": "https://plot.ly"
       },
       "data": [
        {
         "hovertemplate": "Label=train<br>date=%{x}<br>total_sales_normalized=%{y}<extra></extra>",
         "legendgroup": "train",
         "line": {
          "color": "#636efa",
          "dash": "solid"
         },
         "marker": {
          "symbol": "circle"
         },
         "mode": "lines",
         "name": "train",
         "orientation": "v",
         "showlegend": true,
         "type": "scatter",
         "x": [
          "2024-06-01T00:00:00.000000000",
          "2024-06-02T00:00:00.000000000",
          "2024-06-03T00:00:00.000000000",
          "2024-06-04T00:00:00.000000000",
          "2024-06-05T00:00:00.000000000",
          "2024-06-06T00:00:00.000000000",
          "2024-06-07T00:00:00.000000000",
          "2024-06-08T00:00:00.000000000",
          "2024-06-09T00:00:00.000000000",
          "2024-06-10T00:00:00.000000000",
          "2024-06-11T00:00:00.000000000",
          "2024-06-12T00:00:00.000000000",
          "2024-06-13T00:00:00.000000000",
          "2024-06-14T00:00:00.000000000",
          "2024-06-15T00:00:00.000000000",
          "2024-06-16T00:00:00.000000000",
          "2024-06-17T00:00:00.000000000",
          "2024-06-18T00:00:00.000000000",
          "2024-06-19T00:00:00.000000000",
          "2024-06-20T00:00:00.000000000",
          "2024-06-21T00:00:00.000000000",
          "2024-06-22T00:00:00.000000000",
          "2024-06-23T00:00:00.000000000",
          "2024-06-24T00:00:00.000000000",
          "2024-06-25T00:00:00.000000000",
          "2024-06-26T00:00:00.000000000",
          "2024-06-27T00:00:00.000000000",
          "2024-06-28T00:00:00.000000000",
          "2024-06-29T00:00:00.000000000",
          "2024-06-30T00:00:00.000000000",
          "2024-07-01T00:00:00.000000000",
          "2024-07-02T00:00:00.000000000",
          "2024-07-03T00:00:00.000000000",
          "2024-07-04T00:00:00.000000000",
          "2024-07-05T00:00:00.000000000",
          "2024-07-06T00:00:00.000000000",
          "2024-07-07T00:00:00.000000000",
          "2024-07-08T00:00:00.000000000",
          "2024-07-09T00:00:00.000000000",
          "2024-07-10T00:00:00.000000000",
          "2024-07-11T00:00:00.000000000",
          "2024-07-12T00:00:00.000000000",
          "2024-07-13T00:00:00.000000000",
          "2024-07-14T00:00:00.000000000",
          "2024-07-15T00:00:00.000000000",
          "2024-07-16T00:00:00.000000000",
          "2024-07-17T00:00:00.000000000",
          "2024-07-18T00:00:00.000000000",
          "2024-07-19T00:00:00.000000000",
          "2024-07-20T00:00:00.000000000",
          "2024-07-21T00:00:00.000000000",
          "2024-07-22T00:00:00.000000000",
          "2024-07-23T00:00:00.000000000",
          "2024-07-24T00:00:00.000000000",
          "2024-07-25T00:00:00.000000000",
          "2024-07-26T00:00:00.000000000",
          "2024-07-27T00:00:00.000000000",
          "2024-07-28T00:00:00.000000000",
          "2024-07-29T00:00:00.000000000",
          "2024-07-30T00:00:00.000000000",
          "2024-07-31T00:00:00.000000000",
          "2024-08-01T00:00:00.000000000",
          "2024-08-02T00:00:00.000000000",
          "2024-08-03T00:00:00.000000000",
          "2024-08-04T00:00:00.000000000",
          "2024-08-05T00:00:00.000000000",
          "2024-08-06T00:00:00.000000000",
          "2024-08-07T00:00:00.000000000",
          "2024-08-08T00:00:00.000000000",
          "2024-08-09T00:00:00.000000000",
          "2024-08-10T00:00:00.000000000",
          "2024-08-11T00:00:00.000000000",
          "2024-08-12T00:00:00.000000000",
          "2024-08-13T00:00:00.000000000",
          "2024-08-14T00:00:00.000000000",
          "2024-08-15T00:00:00.000000000",
          "2024-08-16T00:00:00.000000000",
          "2024-08-17T00:00:00.000000000",
          "2024-08-18T00:00:00.000000000",
          "2024-08-19T00:00:00.000000000",
          "2024-08-20T00:00:00.000000000",
          "2024-08-21T00:00:00.000000000",
          "2024-08-22T00:00:00.000000000",
          "2024-08-23T00:00:00.000000000",
          "2024-08-24T00:00:00.000000000",
          "2024-08-25T00:00:00.000000000",
          "2024-08-26T00:00:00.000000000",
          "2024-08-27T00:00:00.000000000",
          "2024-08-28T00:00:00.000000000",
          "2024-08-29T00:00:00.000000000",
          "2024-08-30T00:00:00.000000000",
          "2024-08-31T00:00:00.000000000",
          "2024-09-01T00:00:00.000000000",
          "2024-09-02T00:00:00.000000000",
          "2024-09-03T00:00:00.000000000",
          "2024-09-04T00:00:00.000000000",
          "2024-09-05T00:00:00.000000000",
          "2024-09-06T00:00:00.000000000",
          "2024-09-07T00:00:00.000000000",
          "2024-09-08T00:00:00.000000000",
          "2024-09-09T00:00:00.000000000",
          "2024-09-10T00:00:00.000000000",
          "2024-09-11T00:00:00.000000000",
          "2024-09-12T00:00:00.000000000",
          "2024-09-13T00:00:00.000000000",
          "2024-09-14T00:00:00.000000000",
          "2024-09-15T00:00:00.000000000",
          "2024-09-16T00:00:00.000000000",
          "2024-09-17T00:00:00.000000000",
          "2024-09-18T00:00:00.000000000",
          "2024-09-19T00:00:00.000000000",
          "2024-09-20T00:00:00.000000000",
          "2024-09-21T00:00:00.000000000",
          "2024-09-22T00:00:00.000000000",
          "2024-09-23T00:00:00.000000000",
          "2024-09-24T00:00:00.000000000",
          "2024-09-25T00:00:00.000000000",
          "2024-09-26T00:00:00.000000000",
          "2024-09-27T00:00:00.000000000",
          "2024-09-28T00:00:00.000000000",
          "2024-09-29T00:00:00.000000000",
          "2024-09-30T00:00:00.000000000",
          "2024-10-01T00:00:00.000000000",
          "2024-10-02T00:00:00.000000000",
          "2024-10-03T00:00:00.000000000",
          "2024-10-04T00:00:00.000000000",
          "2024-10-05T00:00:00.000000000",
          "2024-10-06T00:00:00.000000000",
          "2024-10-07T00:00:00.000000000",
          "2024-10-08T00:00:00.000000000",
          "2024-10-09T00:00:00.000000000",
          "2024-10-10T00:00:00.000000000",
          "2024-10-11T00:00:00.000000000",
          "2024-10-12T00:00:00.000000000",
          "2024-10-13T00:00:00.000000000",
          "2024-10-14T00:00:00.000000000",
          "2024-10-15T00:00:00.000000000",
          "2024-10-16T00:00:00.000000000",
          "2024-10-17T00:00:00.000000000",
          "2024-10-18T00:00:00.000000000",
          "2024-10-19T00:00:00.000000000",
          "2024-10-20T00:00:00.000000000",
          "2024-10-21T00:00:00.000000000",
          "2024-10-22T00:00:00.000000000",
          "2024-10-23T00:00:00.000000000",
          "2024-10-24T00:00:00.000000000",
          "2024-10-25T00:00:00.000000000",
          "2024-10-26T00:00:00.000000000",
          "2024-10-27T00:00:00.000000000",
          "2024-10-28T00:00:00.000000000",
          "2024-10-29T00:00:00.000000000",
          "2024-10-30T00:00:00.000000000",
          "2024-10-31T00:00:00.000000000",
          "2024-11-01T00:00:00.000000000",
          "2024-11-02T00:00:00.000000000",
          "2024-11-03T00:00:00.000000000",
          "2024-11-04T00:00:00.000000000",
          "2024-11-05T00:00:00.000000000",
          "2024-11-06T00:00:00.000000000",
          "2024-11-07T00:00:00.000000000",
          "2024-11-08T00:00:00.000000000",
          "2024-11-09T00:00:00.000000000",
          "2024-11-10T00:00:00.000000000",
          "2024-11-11T00:00:00.000000000",
          "2024-11-12T00:00:00.000000000",
          "2024-11-13T00:00:00.000000000",
          "2024-11-14T00:00:00.000000000",
          "2024-11-15T00:00:00.000000000",
          "2024-11-16T00:00:00.000000000",
          "2024-11-17T00:00:00.000000000",
          "2024-11-18T00:00:00.000000000",
          "2024-11-19T00:00:00.000000000",
          "2024-11-20T00:00:00.000000000",
          "2024-11-21T00:00:00.000000000",
          "2024-11-22T00:00:00.000000000",
          "2024-11-23T00:00:00.000000000",
          "2024-11-24T00:00:00.000000000",
          "2024-11-25T00:00:00.000000000",
          "2024-11-26T00:00:00.000000000",
          "2024-11-27T00:00:00.000000000",
          "2024-11-28T00:00:00.000000000",
          "2024-11-29T00:00:00.000000000",
          "2024-11-30T00:00:00.000000000",
          "2024-12-01T00:00:00.000000000",
          "2024-12-02T00:00:00.000000000",
          "2024-12-03T00:00:00.000000000",
          "2024-12-04T00:00:00.000000000",
          "2024-12-05T00:00:00.000000000",
          "2024-12-06T00:00:00.000000000",
          "2024-12-07T00:00:00.000000000",
          "2024-12-08T00:00:00.000000000",
          "2024-12-09T00:00:00.000000000",
          "2024-12-10T00:00:00.000000000",
          "2024-12-11T00:00:00.000000000",
          "2024-12-12T00:00:00.000000000",
          "2024-12-13T00:00:00.000000000",
          "2024-12-14T00:00:00.000000000",
          "2024-12-15T00:00:00.000000000",
          "2024-12-16T00:00:00.000000000",
          "2024-12-17T00:00:00.000000000",
          "2024-12-18T00:00:00.000000000",
          "2024-12-19T00:00:00.000000000",
          "2024-12-20T00:00:00.000000000",
          "2024-12-21T00:00:00.000000000",
          "2024-12-22T00:00:00.000000000",
          "2024-12-23T00:00:00.000000000",
          "2024-12-24T00:00:00.000000000",
          "2024-12-25T00:00:00.000000000",
          "2024-12-26T00:00:00.000000000",
          "2024-12-27T00:00:00.000000000",
          "2024-12-28T00:00:00.000000000",
          "2024-12-29T00:00:00.000000000",
          "2024-12-30T00:00:00.000000000",
          "2024-12-31T00:00:00.000000000",
          "2025-01-01T00:00:00.000000000",
          "2025-01-02T00:00:00.000000000",
          "2025-01-03T00:00:00.000000000",
          "2025-01-04T00:00:00.000000000",
          "2025-01-05T00:00:00.000000000",
          "2025-01-06T00:00:00.000000000",
          "2025-01-07T00:00:00.000000000",
          "2025-01-08T00:00:00.000000000",
          "2025-01-09T00:00:00.000000000",
          "2025-01-10T00:00:00.000000000",
          "2025-01-11T00:00:00.000000000",
          "2025-01-12T00:00:00.000000000",
          "2025-01-13T00:00:00.000000000",
          "2025-01-14T00:00:00.000000000",
          "2025-01-15T00:00:00.000000000",
          "2025-01-16T00:00:00.000000000",
          "2025-01-17T00:00:00.000000000",
          "2025-01-18T00:00:00.000000000",
          "2025-01-19T00:00:00.000000000",
          "2025-01-20T00:00:00.000000000",
          "2025-01-21T00:00:00.000000000",
          "2025-01-22T00:00:00.000000000",
          "2025-01-23T00:00:00.000000000",
          "2025-01-24T00:00:00.000000000",
          "2025-01-25T00:00:00.000000000",
          "2025-01-26T00:00:00.000000000",
          "2025-01-27T00:00:00.000000000",
          "2025-01-28T00:00:00.000000000",
          "2025-01-29T00:00:00.000000000",
          "2025-01-30T00:00:00.000000000",
          "2025-01-31T00:00:00.000000000",
          "2025-02-01T00:00:00.000000000",
          "2025-02-02T00:00:00.000000000",
          "2025-02-03T00:00:00.000000000",
          "2025-02-04T00:00:00.000000000",
          "2025-02-05T00:00:00.000000000",
          "2025-02-06T00:00:00.000000000",
          "2025-02-07T00:00:00.000000000",
          "2025-02-08T00:00:00.000000000",
          "2025-02-09T00:00:00.000000000",
          "2025-02-10T00:00:00.000000000",
          "2025-02-11T00:00:00.000000000",
          "2025-02-12T00:00:00.000000000",
          "2025-02-13T00:00:00.000000000",
          "2025-02-14T00:00:00.000000000",
          "2025-02-15T00:00:00.000000000",
          "2025-02-16T00:00:00.000000000",
          "2025-02-17T00:00:00.000000000",
          "2025-02-18T00:00:00.000000000",
          "2025-02-19T00:00:00.000000000",
          "2025-02-20T00:00:00.000000000",
          "2025-02-21T00:00:00.000000000",
          "2025-02-22T00:00:00.000000000",
          "2025-02-23T00:00:00.000000000",
          "2025-02-24T00:00:00.000000000",
          "2025-02-25T00:00:00.000000000",
          "2025-02-26T00:00:00.000000000",
          "2025-02-27T00:00:00.000000000",
          "2025-02-28T00:00:00.000000000",
          "2025-03-01T00:00:00.000000000",
          "2025-03-02T00:00:00.000000000",
          "2025-03-03T00:00:00.000000000",
          "2025-03-04T00:00:00.000000000",
          "2025-03-05T00:00:00.000000000",
          "2025-03-06T00:00:00.000000000",
          "2025-03-07T00:00:00.000000000",
          "2025-03-08T00:00:00.000000000",
          "2025-03-09T00:00:00.000000000",
          "2025-03-10T00:00:00.000000000",
          "2025-03-11T00:00:00.000000000",
          "2025-03-12T00:00:00.000000000",
          "2025-03-13T00:00:00.000000000",
          "2025-03-14T00:00:00.000000000",
          "2025-03-15T00:00:00.000000000",
          "2025-03-16T00:00:00.000000000",
          "2025-03-17T00:00:00.000000000",
          "2025-03-18T00:00:00.000000000",
          "2025-03-19T00:00:00.000000000",
          "2025-03-20T00:00:00.000000000",
          "2025-03-21T00:00:00.000000000",
          "2025-03-22T00:00:00.000000000",
          "2025-03-23T00:00:00.000000000",
          "2025-03-24T00:00:00.000000000",
          "2025-03-25T00:00:00.000000000",
          "2025-03-26T00:00:00.000000000",
          "2025-03-27T00:00:00.000000000",
          "2025-03-28T00:00:00.000000000",
          "2025-03-29T00:00:00.000000000",
          "2025-03-30T00:00:00.000000000",
          "2025-03-31T00:00:00.000000000",
          "2025-04-01T00:00:00.000000000",
          "2025-04-02T00:00:00.000000000",
          "2025-04-03T00:00:00.000000000",
          "2025-04-04T00:00:00.000000000",
          "2025-04-05T00:00:00.000000000",
          "2025-04-06T00:00:00.000000000",
          "2025-04-07T00:00:00.000000000",
          "2025-04-08T00:00:00.000000000",
          "2025-04-09T00:00:00.000000000",
          "2025-04-10T00:00:00.000000000",
          "2025-04-11T00:00:00.000000000",
          "2025-04-12T00:00:00.000000000",
          "2025-04-13T00:00:00.000000000",
          "2025-04-14T00:00:00.000000000",
          "2025-04-15T00:00:00.000000000",
          "2025-04-16T00:00:00.000000000",
          "2025-04-17T00:00:00.000000000",
          "2025-04-18T00:00:00.000000000",
          "2025-04-19T00:00:00.000000000",
          "2025-04-20T00:00:00.000000000",
          "2025-04-21T00:00:00.000000000",
          "2025-04-22T00:00:00.000000000",
          "2025-04-23T00:00:00.000000000",
          "2025-04-24T00:00:00.000000000"
         ],
         "xaxis": "x",
         "y": {
          "bdata": "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",
          "dtype": "f8"
         },
         "yaxis": "y"
        },
        {
         "hovertemplate": "Label=test<br>date=%{x}<br>total_sales_normalized=%{y}<extra></extra>",
         "legendgroup": "test",
         "line": {
          "color": "#EF553B",
          "dash": "solid"
         },
         "marker": {
          "symbol": "circle"
         },
         "mode": "lines",
         "name": "test",
         "orientation": "v",
         "showlegend": true,
         "type": "scatter",
         "x": [
          "2025-04-25T00:00:00.000000000",
          "2025-04-26T00:00:00.000000000",
          "2025-04-27T00:00:00.000000000",
          "2025-04-28T00:00:00.000000000",
          "2025-04-29T00:00:00.000000000",
          "2025-04-30T00:00:00.000000000",
          "2025-05-01T00:00:00.000000000",
          "2025-05-02T00:00:00.000000000",
          "2025-05-03T00:00:00.000000000",
          "2025-05-04T00:00:00.000000000",
          "2025-05-05T00:00:00.000000000",
          "2025-05-06T00:00:00.000000000",
          "2025-05-07T00:00:00.000000000",
          "2025-05-08T00:00:00.000000000"
         ],
         "xaxis": "x",
         "y": {
          "bdata": "H4XrUbjKsECkcD0Kl1OyQJqZmZnZNLNAhetRuB5ToEBcj8L1qI6gQOxRuB6FfKZA4XoUrscmpEAUrkfhesKsQPYoXI+COLVA4XoUrgf/skAUrkfheiWkQGZmZmbmwqJASOF6FK7ro0DsUbgehfagQA==",
          "dtype": "f8"
         },
         "yaxis": "y"
        },
        {
         "hovertemplate": "Label=SARIMA<br>date=%{x}<br>total_sales_normalized=%{y}<extra></extra>",
         "legendgroup": "SARIMA",
         "line": {
          "color": "#00cc96",
          "dash": "solid"
         },
         "marker": {
          "symbol": "circle"
         },
         "mode": "lines",
         "name": "SARIMA",
         "orientation": "v",
         "showlegend": true,
         "type": "scatter",
         "x": [
          "2025-04-25T00:00:00.000000000",
          "2025-04-26T00:00:00.000000000",
          "2025-04-27T00:00:00.000000000",
          "2025-04-28T00:00:00.000000000",
          "2025-04-29T00:00:00.000000000",
          "2025-04-30T00:00:00.000000000",
          "2025-05-01T00:00:00.000000000",
          "2025-05-02T00:00:00.000000000",
          "2025-05-03T00:00:00.000000000",
          "2025-05-04T00:00:00.000000000",
          "2025-05-05T00:00:00.000000000",
          "2025-05-06T00:00:00.000000000",
          "2025-05-07T00:00:00.000000000",
          "2025-05-08T00:00:00.000000000"
         ],
         "xaxis": "x",
         "y": {
          "bdata": "SxD39K7MsEDCqTTizGyyQEEOACLZwq9AbNjktjYVo0CmJJNRg/2gQAXycxLSc6JAgROJe9LRpUDeegipzYSwQJO7kgbhQbJA8sl+Uzl7r0ALURpq6zajQBLC0Is6MaFAj5a5yF2hokCu2+8S3PWlQA==",
          "dtype": "f8"
         },
         "yaxis": "y"
        }
       ],
       "layout": {
        "legend": {
         "title": {
          "text": "Label"
         },
         "tracegroupgap": 0
        },
        "margin": {
         "t": 60
        },
        "template": {
         "data": {
          "bar": [
           {
            "error_x": {
             "color": "#2a3f5f"
            },
            "error_y": {
             "color": "#2a3f5f"
            },
            "marker": {
             "line": {
              "color": "#E5ECF6",
              "width": 0.5
             },
             "pattern": {
              "fillmode": "overlay",
              "size": 10,
              "solidity": 0.2
             }
            },
            "type": "bar"
           }
          ],
          "barpolar": [
           {
            "marker": {
             "line": {
              "color": "#E5ECF6",
              "width": 0.5
             },
             "pattern": {
              "fillmode": "overlay",
              "size": 10,
              "solidity": 0.2
             }
            },
            "type": "barpolar"
           }
          ],
          "carpet": [
           {
            "aaxis": {
             "endlinecolor": "#2a3f5f",
             "gridcolor": "white",
             "linecolor": "white",
             "minorgridcolor": "white",
             "startlinecolor": "#2a3f5f"
            },
            "baxis": {
             "endlinecolor": "#2a3f5f",
             "gridcolor": "white",
             "linecolor": "white",
             "minorgridcolor": "white",
             "startlinecolor": "#2a3f5f"
            },
            "type": "carpet"
           }
          ],
          "choropleth": [
           {
            "colorbar": {
             "outlinewidth": 0,
             "ticks": ""
            },
            "type": "choropleth"
           }
          ],
          "contour": [
           {
            "colorbar": {
             "outlinewidth": 0,
             "ticks": ""
            },
            "colorscale": [
             [
              0,
              "#0d0887"
             ],
             [
              0.1111111111111111,
              "#46039f"
             ],
             [
              0.2222222222222222,
              "#7201a8"
             ],
             [
              0.3333333333333333,
              "#9c179e"
             ],
             [
              0.4444444444444444,
              "#bd3786"
             ],
             [
              0.5555555555555556,
              "#d8576b"
             ],
             [
              0.6666666666666666,
              "#ed7953"
             ],
             [
              0.7777777777777778,
              "#fb9f3a"
             ],
             [
              0.8888888888888888,
              "#fdca26"
             ],
             [
              1,
              "#f0f921"
             ]
            ],
            "type": "contour"
           }
          ],
          "contourcarpet": [
           {
            "colorbar": {
             "outlinewidth": 0,
             "ticks": ""
            },
            "type": "contourcarpet"
           }
          ],
          "heatmap": [
           {
            "colorbar": {
             "outlinewidth": 0,
             "ticks": ""
            },
            "colorscale": [
             [
              0,
              "#0d0887"
             ],
             [
              0.1111111111111111,
              "#46039f"
             ],
             [
              0.2222222222222222,
              "#7201a8"
             ],
             [
              0.3333333333333333,
              "#9c179e"
             ],
             [
              0.4444444444444444,
              "#bd3786"
             ],
             [
              0.5555555555555556,
              "#d8576b"
             ],
             [
              0.6666666666666666,
              "#ed7953"
             ],
             [
              0.7777777777777778,
              "#fb9f3a"
             ],
             [
              0.8888888888888888,
              "#fdca26"
             ],
             [
              1,
              "#f0f921"
             ]
            ],
            "type": "heatmap"
           }
          ],
          "histogram": [
           {
            "marker": {
             "pattern": {
              "fillmode": "overlay",
              "size": 10,
              "solidity": 0.2
             }
            },
            "type": "histogram"
           }
          ],
          "histogram2d": [
           {
            "colorbar": {
             "outlinewidth": 0,
             "ticks": ""
            },
            "colorscale": [
             [
              0,
              "#0d0887"
             ],
             [
              0.1111111111111111,
              "#46039f"
             ],
             [
              0.2222222222222222,
              "#7201a8"
             ],
             [
              0.3333333333333333,
              "#9c179e"
             ],
             [
              0.4444444444444444,
              "#bd3786"
             ],
             [
              0.5555555555555556,
              "#d8576b"
             ],
             [
              0.6666666666666666,
              "#ed7953"
             ],
             [
              0.7777777777777778,
              "#fb9f3a"
             ],
             [
              0.8888888888888888,
              "#fdca26"
             ],
             [
              1,
              "#f0f921"
             ]
            ],
            "type": "histogram2d"
           }
          ],
          "histogram2dcontour": [
           {
            "colorbar": {
             "outlinewidth": 0,
             "ticks": ""
            },
            "colorscale": [
             [
              0,
              "#0d0887"
             ],
             [
              0.1111111111111111,
              "#46039f"
             ],
             [
              0.2222222222222222,
              "#7201a8"
             ],
             [
              0.3333333333333333,
              "#9c179e"
             ],
             [
              0.4444444444444444,
              "#bd3786"
             ],
             [
              0.5555555555555556,
              "#d8576b"
             ],
             [
              0.6666666666666666,
              "#ed7953"
             ],
             [
              0.7777777777777778,
              "#fb9f3a"
             ],
             [
              0.8888888888888888,
              "#fdca26"
             ],
             [
              1,
              "#f0f921"
             ]
            ],
            "type": "histogram2dcontour"
           }
          ],
          "mesh3d": [
           {
            "colorbar": {
             "outlinewidth": 0,
             "ticks": ""
            },
            "type": "mesh3d"
           }
          ],
          "parcoords": [
           {
            "line": {
             "colorbar": {
              "outlinewidth": 0,
              "ticks": ""
             }
            },
            "type": "parcoords"
           }
          ],
          "pie": [
           {
            "automargin": true,
            "type": "pie"
           }
          ],
          "scatter": [
           {
            "fillpattern": {
             "fillmode": "overlay",
             "size": 10,
             "solidity": 0.2
            },
            "type": "scatter"
           }
          ],
          "scatter3d": [
           {
            "line": {
             "colorbar": {
              "outlinewidth": 0,
              "ticks": ""
             }
            },
            "marker": {
             "colorbar": {
              "outlinewidth": 0,
              "ticks": ""
             }
            },
            "type": "scatter3d"
           }
          ],
          "scattercarpet": [
           {
            "marker": {
             "colorbar": {
              "outlinewidth": 0,
              "ticks": ""
             }
            },
            "type": "scattercarpet"
           }
          ],
          "scattergeo": [
           {
            "marker": {
             "colorbar": {
              "outlinewidth": 0,
              "ticks": ""
             }
            },
            "type": "scattergeo"
           }
          ],
          "scattergl": [
           {
            "marker": {
             "colorbar": {
              "outlinewidth": 0,
              "ticks": ""
             }
            },
            "type": "scattergl"
           }
          ],
          "scattermap": [
           {
            "marker": {
             "colorbar": {
              "outlinewidth": 0,
              "ticks": ""
             }
            },
            "type": "scattermap"
           }
          ],
          "scattermapbox": [
           {
            "marker": {
             "colorbar": {
              "outlinewidth": 0,
              "ticks": ""
             }
            },
            "type": "scattermapbox"
           }
          ],
          "scatterpolar": [
           {
            "marker": {
             "colorbar": {
              "outlinewidth": 0,
              "ticks": ""
             }
            },
            "type": "scatterpolar"
           }
          ],
          "scatterpolargl": [
           {
            "marker": {
             "colorbar": {
              "outlinewidth": 0,
              "ticks": ""
             }
            },
            "type": "scatterpolargl"
           }
          ],
          "scatterternary": [
           {
            "marker": {
             "colorbar": {
              "outlinewidth": 0,
              "ticks": ""
             }
            },
            "type": "scatterternary"
           }
          ],
          "surface": [
           {
            "colorbar": {
             "outlinewidth": 0,
             "ticks": ""
            },
            "colorscale": [
             [
              0,
              "#0d0887"
             ],
             [
              0.1111111111111111,
              "#46039f"
             ],
             [
              0.2222222222222222,
              "#7201a8"
             ],
             [
              0.3333333333333333,
              "#9c179e"
             ],
             [
              0.4444444444444444,
              "#bd3786"
             ],
             [
              0.5555555555555556,
              "#d8576b"
             ],
             [
              0.6666666666666666,
              "#ed7953"
             ],
             [
              0.7777777777777778,
              "#fb9f3a"
             ],
             [
              0.8888888888888888,
              "#fdca26"
             ],
             [
              1,
              "#f0f921"
             ]
            ],
            "type": "surface"
           }
          ],
          "table": [
           {
            "cells": {
             "fill": {
              "color": "#EBF0F8"
             },
             "line": {
              "color": "white"
             }
            },
            "header": {
             "fill": {
              "color": "#C8D4E3"
             },
             "line": {
              "color": "white"
             }
            },
            "type": "table"
           }
          ]
         },
         "layout": {
          "annotationdefaults": {
           "arrowcolor": "#2a3f5f",
           "arrowhead": 0,
           "arrowwidth": 1
          },
          "autotypenumbers": "strict",
          "coloraxis": {
           "colorbar": {
            "outlinewidth": 0,
            "ticks": ""
           }
          },
          "colorscale": {
           "diverging": [
            [
             0,
             "#8e0152"
            ],
            [
             0.1,
             "#c51b7d"
            ],
            [
             0.2,
             "#de77ae"
            ],
            [
             0.3,
             "#f1b6da"
            ],
            [
             0.4,
             "#fde0ef"
            ],
            [
             0.5,
             "#f7f7f7"
            ],
            [
             0.6,
             "#e6f5d0"
            ],
            [
             0.7,
             "#b8e186"
            ],
            [
             0.8,
             "#7fbc41"
            ],
            [
             0.9,
             "#4d9221"
            ],
            [
             1,
             "#276419"
            ]
           ],
           "sequential": [
            [
             0,
             "#0d0887"
            ],
            [
             0.1111111111111111,
             "#46039f"
            ],
            [
             0.2222222222222222,
             "#7201a8"
            ],
            [
             0.3333333333333333,
             "#9c179e"
            ],
            [
             0.4444444444444444,
             "#bd3786"
            ],
            [
             0.5555555555555556,
             "#d8576b"
            ],
            [
             0.6666666666666666,
             "#ed7953"
            ],
            [
             0.7777777777777778,
             "#fb9f3a"
            ],
            [
             0.8888888888888888,
             "#fdca26"
            ],
            [
             1,
             "#f0f921"
            ]
           ],
           "sequentialminus": [
            [
             0,
             "#0d0887"
            ],
            [
             0.1111111111111111,
             "#46039f"
            ],
            [
             0.2222222222222222,
             "#7201a8"
            ],
            [
             0.3333333333333333,
             "#9c179e"
            ],
            [
             0.4444444444444444,
             "#bd3786"
            ],
            [
             0.5555555555555556,
             "#d8576b"
            ],
            [
             0.6666666666666666,
             "#ed7953"
            ],
            [
             0.7777777777777778,
             "#fb9f3a"
            ],
            [
             0.8888888888888888,
             "#fdca26"
            ],
            [
             1,
             "#f0f921"
            ]
           ]
          },
          "colorway": [
           "#636efa",
           "#EF553B",
           "#00cc96",
           "#ab63fa",
           "#FFA15A",
           "#19d3f3",
           "#FF6692",
           "#B6E880",
           "#FF97FF",
           "#FECB52"
          ],
          "font": {
           "color": "#2a3f5f"
          },
          "geo": {
           "bgcolor": "white",
           "lakecolor": "white",
           "landcolor": "#E5ECF6",
           "showlakes": true,
           "showland": true,
           "subunitcolor": "white"
          },
          "hoverlabel": {
           "align": "left"
          },
          "hovermode": "closest",
          "mapbox": {
           "style": "light"
          },
          "paper_bgcolor": "white",
          "plot_bgcolor": "#E5ECF6",
          "polar": {
           "angularaxis": {
            "gridcolor": "white",
            "linecolor": "white",
            "ticks": ""
           },
           "bgcolor": "#E5ECF6",
           "radialaxis": {
            "gridcolor": "white",
            "linecolor": "white",
            "ticks": ""
           }
          },
          "scene": {
           "xaxis": {
            "backgroundcolor": "#E5ECF6",
            "gridcolor": "white",
            "gridwidth": 2,
            "linecolor": "white",
            "showbackground": true,
            "ticks": "",
            "zerolinecolor": "white"
           },
           "yaxis": {
            "backgroundcolor": "#E5ECF6",
            "gridcolor": "white",
            "gridwidth": 2,
            "linecolor": "white",
            "showbackground": true,
            "ticks": "",
            "zerolinecolor": "white"
           },
           "zaxis": {
            "backgroundcolor": "#E5ECF6",
            "gridcolor": "white",
            "gridwidth": 2,
            "linecolor": "white",
            "showbackground": true,
            "ticks": "",
            "zerolinecolor": "white"
           }
          },
          "shapedefaults": {
           "line": {
            "color": "#2a3f5f"
           }
          },
          "ternary": {
           "aaxis": {
            "gridcolor": "white",
            "linecolor": "white",
            "ticks": ""
           },
           "baxis": {
            "gridcolor": "white",
            "linecolor": "white",
            "ticks": ""
           },
           "bgcolor": "#E5ECF6",
           "caxis": {
            "gridcolor": "white",
            "linecolor": "white",
            "ticks": ""
           }
          },
          "title": {
           "x": 0.05
          },
          "xaxis": {
           "automargin": true,
           "gridcolor": "white",
           "linecolor": "white",
           "ticks": "",
           "title": {
            "standoff": 15
           },
           "zerolinecolor": "white",
           "zerolinewidth": 2
          },
          "yaxis": {
           "automargin": true,
           "gridcolor": "white",
           "linecolor": "white",
           "ticks": "",
           "title": {
            "standoff": 15
           },
           "zerolinecolor": "white",
           "zerolinewidth": 2
          }
         }
        },
        "width": 640,
        "xaxis": {
         "anchor": "y",
         "domain": [
          0,
          1
         ],
         "title": {
          "text": "date"
         }
        },
        "yaxis": {
         "anchor": "x",
         "domain": [
          0,
          1
         ],
         "title": {
          "text": "total_sales_normalized"
         }
        }
       }
      }
     },
     "metadata": {},
     "output_type": "display_data"
    }
   ],
   "source": [
    "px.line(pd.concat((y_train, y_valid, sarima_forecast)), y=\"total_sales_normalized\", width=640, color=\"Label\")"
   ]
  },
  {
   "cell_type": "code",
   "execution_count": 221,
   "metadata": {},
   "outputs": [
    {
     "data": {
      "text/html": [
       "<div>\n",
       "<style scoped>\n",
       "    .dataframe tbody tr th:only-of-type {\n",
       "        vertical-align: middle;\n",
       "    }\n",
       "\n",
       "    .dataframe tbody tr th {\n",
       "        vertical-align: top;\n",
       "    }\n",
       "\n",
       "    .dataframe thead th {\n",
       "        text-align: right;\n",
       "    }\n",
       "</style>\n",
       "<table border=\"1\" class=\"dataframe\">\n",
       "  <thead>\n",
       "    <tr style=\"text-align: right;\">\n",
       "      <th></th>\n",
       "      <th>valid</th>\n",
       "      <th>sarima(5,1,3)</th>\n",
       "      <th>Error</th>\n",
       "      <th>day_of_week</th>\n",
       "    </tr>\n",
       "    <tr>\n",
       "      <th>date</th>\n",
       "      <th></th>\n",
       "      <th></th>\n",
       "      <th></th>\n",
       "      <th></th>\n",
       "    </tr>\n",
       "  </thead>\n",
       "  <tbody>\n",
       "    <tr>\n",
       "      <th>2025-04-25</th>\n",
       "      <td>4298.72</td>\n",
       "      <td>4300.683425</td>\n",
       "      <td>1.963425</td>\n",
       "      <td>Friday</td>\n",
       "    </tr>\n",
       "    <tr>\n",
       "      <th>2025-04-26</th>\n",
       "      <td>4691.59</td>\n",
       "      <td>4716.800327</td>\n",
       "      <td>25.210327</td>\n",
       "      <td>Saturday</td>\n",
       "    </tr>\n",
       "    <tr>\n",
       "      <th>2025-04-27</th>\n",
       "      <td>4916.85</td>\n",
       "      <td>4065.424088</td>\n",
       "      <td>-851.425912</td>\n",
       "      <td>Sunday</td>\n",
       "    </tr>\n",
       "    <tr>\n",
       "      <th>2025-04-28</th>\n",
       "      <td>2089.56</td>\n",
       "      <td>2442.606864</td>\n",
       "      <td>353.046864</td>\n",
       "      <td>Monday</td>\n",
       "    </tr>\n",
       "    <tr>\n",
       "      <th>2025-04-29</th>\n",
       "      <td>2119.33</td>\n",
       "      <td>2174.756482</td>\n",
       "      <td>55.426482</td>\n",
       "      <td>Tuesday</td>\n",
       "    </tr>\n",
       "    <tr>\n",
       "      <th>2025-04-30</th>\n",
       "      <td>2878.26</td>\n",
       "      <td>2361.910297</td>\n",
       "      <td>-516.349703</td>\n",
       "      <td>Wednesday</td>\n",
       "    </tr>\n",
       "    <tr>\n",
       "      <th>2025-05-01</th>\n",
       "      <td>2579.39</td>\n",
       "      <td>2792.911099</td>\n",
       "      <td>213.521099</td>\n",
       "      <td>Thursday</td>\n",
       "    </tr>\n",
       "    <tr>\n",
       "      <th>2025-05-02</th>\n",
       "      <td>3681.24</td>\n",
       "      <td>4228.803360</td>\n",
       "      <td>547.563360</td>\n",
       "      <td>Friday</td>\n",
       "    </tr>\n",
       "    <tr>\n",
       "      <th>2025-05-03</th>\n",
       "      <td>5432.51</td>\n",
       "      <td>4673.879007</td>\n",
       "      <td>-758.630993</td>\n",
       "      <td>Saturday</td>\n",
       "    </tr>\n",
       "    <tr>\n",
       "      <th>2025-05-04</th>\n",
       "      <td>4863.03</td>\n",
       "      <td>4029.611965</td>\n",
       "      <td>-833.418035</td>\n",
       "      <td>Sunday</td>\n",
       "    </tr>\n",
       "    <tr>\n",
       "      <th>2025-05-05</th>\n",
       "      <td>2578.74</td>\n",
       "      <td>2459.459794</td>\n",
       "      <td>-119.280206</td>\n",
       "      <td>Monday</td>\n",
       "    </tr>\n",
       "    <tr>\n",
       "      <th>2025-05-06</th>\n",
       "      <td>2401.45</td>\n",
       "      <td>2200.614348</td>\n",
       "      <td>-200.835652</td>\n",
       "      <td>Tuesday</td>\n",
       "    </tr>\n",
       "    <tr>\n",
       "      <th>2025-05-07</th>\n",
       "      <td>2549.84</td>\n",
       "      <td>2384.683172</td>\n",
       "      <td>-165.156828</td>\n",
       "      <td>Wednesday</td>\n",
       "    </tr>\n",
       "    <tr>\n",
       "      <th>2025-05-08</th>\n",
       "      <td>2171.26</td>\n",
       "      <td>2810.929832</td>\n",
       "      <td>639.669832</td>\n",
       "      <td>Thursday</td>\n",
       "    </tr>\n",
       "  </tbody>\n",
       "</table>\n",
       "</div>"
      ],
      "text/plain": [
       "              valid  sarima(5,1,3)       Error day_of_week\n",
       "date                                                      \n",
       "2025-04-25  4298.72    4300.683425    1.963425      Friday\n",
       "2025-04-26  4691.59    4716.800327   25.210327    Saturday\n",
       "2025-04-27  4916.85    4065.424088 -851.425912      Sunday\n",
       "2025-04-28  2089.56    2442.606864  353.046864      Monday\n",
       "2025-04-29  2119.33    2174.756482   55.426482     Tuesday\n",
       "2025-04-30  2878.26    2361.910297 -516.349703   Wednesday\n",
       "2025-05-01  2579.39    2792.911099  213.521099    Thursday\n",
       "2025-05-02  3681.24    4228.803360  547.563360      Friday\n",
       "2025-05-03  5432.51    4673.879007 -758.630993    Saturday\n",
       "2025-05-04  4863.03    4029.611965 -833.418035      Sunday\n",
       "2025-05-05  2578.74    2459.459794 -119.280206      Monday\n",
       "2025-05-06  2401.45    2200.614348 -200.835652     Tuesday\n",
       "2025-05-07  2549.84    2384.683172 -165.156828   Wednesday\n",
       "2025-05-08  2171.26    2810.929832  639.669832    Thursday"
      ]
     },
     "execution_count": 221,
     "metadata": {},
     "output_type": "execute_result"
    }
   ],
   "source": [
    "comparison = pd.DataFrame({\n",
    "    'valid': y_valid['total_sales_normalized'],\n",
    "    'sarima(5,1,3)': sarima_forecast['total_sales_normalized']\n",
    "})\n",
    "comparison['Error'] = comparison['sarima(5,1,3)'] - comparison['valid'] \n",
    "comparison['day_of_week'] = comparison.index.day_name()\n",
    "comparison\n"
   ]
  },
  {
   "cell_type": "code",
   "execution_count": 249,
   "metadata": {},
   "outputs": [
    {
     "data": {
      "text/plain": [
       "377.2499084968612"
      ]
     },
     "execution_count": 249,
     "metadata": {},
     "output_type": "execute_result"
    }
   ],
   "source": [
    "abs(comparison['Error']).mean()\n"
   ]
  },
  {
   "cell_type": "code",
   "execution_count": 223,
   "metadata": {},
   "outputs": [],
   "source": []
  },
  {
   "cell_type": "code",
   "execution_count": 224,
   "metadata": {},
   "outputs": [
    {
     "data": {
      "text/html": [
       "<div>\n",
       "<style scoped>\n",
       "    .dataframe tbody tr th:only-of-type {\n",
       "        vertical-align: middle;\n",
       "    }\n",
       "\n",
       "    .dataframe tbody tr th {\n",
       "        vertical-align: top;\n",
       "    }\n",
       "\n",
       "    .dataframe thead th {\n",
       "        text-align: right;\n",
       "    }\n",
       "</style>\n",
       "<table border=\"1\" class=\"dataframe\">\n",
       "  <thead>\n",
       "    <tr style=\"text-align: right;\">\n",
       "      <th></th>\n",
       "      <th>total_sales_normalized</th>\n",
       "      <th>trend</th>\n",
       "      <th>seasonal</th>\n",
       "      <th>residuals</th>\n",
       "    </tr>\n",
       "    <tr>\n",
       "      <th>date</th>\n",
       "      <th></th>\n",
       "      <th></th>\n",
       "      <th></th>\n",
       "      <th></th>\n",
       "    </tr>\n",
       "  </thead>\n",
       "  <tbody>\n",
       "    <tr>\n",
       "      <th>2024-06-01</th>\n",
       "      <td>6433.36</td>\n",
       "      <td>NaN</td>\n",
       "      <td>1426.468011</td>\n",
       "      <td>NaN</td>\n",
       "    </tr>\n",
       "    <tr>\n",
       "      <th>2024-06-02</th>\n",
       "      <td>4755.46</td>\n",
       "      <td>NaN</td>\n",
       "      <td>1109.762267</td>\n",
       "      <td>NaN</td>\n",
       "    </tr>\n",
       "    <tr>\n",
       "      <th>2024-06-03</th>\n",
       "      <td>3487.14</td>\n",
       "      <td>NaN</td>\n",
       "      <td>-648.246164</td>\n",
       "      <td>NaN</td>\n",
       "    </tr>\n",
       "    <tr>\n",
       "      <th>2024-06-04</th>\n",
       "      <td>3739.60</td>\n",
       "      <td>4498.997143</td>\n",
       "      <td>-947.793804</td>\n",
       "      <td>188.396661</td>\n",
       "    </tr>\n",
       "    <tr>\n",
       "      <th>2024-06-05</th>\n",
       "      <td>4172.75</td>\n",
       "      <td>4643.494286</td>\n",
       "      <td>-721.092376</td>\n",
       "      <td>250.348090</td>\n",
       "    </tr>\n",
       "    <tr>\n",
       "      <th>...</th>\n",
       "      <td>...</td>\n",
       "      <td>...</td>\n",
       "      <td>...</td>\n",
       "      <td>...</td>\n",
       "    </tr>\n",
       "    <tr>\n",
       "      <th>2025-05-04</th>\n",
       "      <td>4863.03</td>\n",
       "      <td>3440.885714</td>\n",
       "      <td>1109.762267</td>\n",
       "      <td>312.382018</td>\n",
       "    </tr>\n",
       "    <tr>\n",
       "      <th>2025-05-05</th>\n",
       "      <td>2578.74</td>\n",
       "      <td>3382.581429</td>\n",
       "      <td>-648.246164</td>\n",
       "      <td>-155.595265</td>\n",
       "    </tr>\n",
       "    <tr>\n",
       "      <th>2025-05-06</th>\n",
       "      <td>2401.45</td>\n",
       "      <td>NaN</td>\n",
       "      <td>-947.793804</td>\n",
       "      <td>NaN</td>\n",
       "    </tr>\n",
       "    <tr>\n",
       "      <th>2025-05-07</th>\n",
       "      <td>2549.84</td>\n",
       "      <td>NaN</td>\n",
       "      <td>-721.092376</td>\n",
       "      <td>NaN</td>\n",
       "    </tr>\n",
       "    <tr>\n",
       "      <th>2025-05-08</th>\n",
       "      <td>2171.26</td>\n",
       "      <td>NaN</td>\n",
       "      <td>-708.720233</td>\n",
       "      <td>NaN</td>\n",
       "    </tr>\n",
       "  </tbody>\n",
       "</table>\n",
       "<p>342 rows × 4 columns</p>\n",
       "</div>"
      ],
      "text/plain": [
       "            total_sales_normalized        trend     seasonal   residuals\n",
       "date                                                                    \n",
       "2024-06-01                 6433.36          NaN  1426.468011         NaN\n",
       "2024-06-02                 4755.46          NaN  1109.762267         NaN\n",
       "2024-06-03                 3487.14          NaN  -648.246164         NaN\n",
       "2024-06-04                 3739.60  4498.997143  -947.793804  188.396661\n",
       "2024-06-05                 4172.75  4643.494286  -721.092376  250.348090\n",
       "...                            ...          ...          ...         ...\n",
       "2025-05-04                 4863.03  3440.885714  1109.762267  312.382018\n",
       "2025-05-05                 2578.74  3382.581429  -648.246164 -155.595265\n",
       "2025-05-06                 2401.45          NaN  -947.793804         NaN\n",
       "2025-05-07                 2549.84          NaN  -721.092376         NaN\n",
       "2025-05-08                 2171.26          NaN  -708.720233         NaN\n",
       "\n",
       "[342 rows x 4 columns]"
      ]
     },
     "execution_count": 224,
     "metadata": {},
     "output_type": "execute_result"
    }
   ],
   "source": [
    "decompose_df"
   ]
  },
  {
   "cell_type": "code",
   "execution_count": 145,
   "metadata": {},
   "outputs": [],
   "source": []
  },
  {
   "cell_type": "markdown",
   "metadata": {},
   "source": [
    "#### Notes \n",
    "\n",
    "- divide into 4 season blocks, do train/test within each block - regression\n",
    "- SARIMAX - whole series \n",
    "- 1000 random train / test split -> look at RMSE \n",
    "\n",
    "- Question:\n",
    "  - how to interpret when main variable is not significant but interaction affect is\n",
    "  - how big should test set be if i only want to forecast 7 days ahead"
   ]
  },
  {
   "cell_type": "markdown",
   "metadata": {},
   "source": []
  }
 ],
 "metadata": {
  "kernelspec": {
   "display_name": "mds574",
   "language": "python",
   "name": "python3"
  },
  "language_info": {
   "codemirror_mode": {
    "name": "ipython",
    "version": 3
   },
   "file_extension": ".py",
   "mimetype": "text/x-python",
   "name": "python",
   "nbconvert_exporter": "python",
   "pygments_lexer": "ipython3",
   "version": "3.9.21"
  }
 },
 "nbformat": 4,
 "nbformat_minor": 2
}
