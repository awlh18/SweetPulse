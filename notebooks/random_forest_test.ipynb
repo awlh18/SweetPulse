{
 "cells": [
  {
   "cell_type": "code",
   "execution_count": 1,
   "metadata": {},
   "outputs": [
    {
     "name": "stderr",
     "output_type": "stream",
     "text": [
      "/Users/alexwong/miniforge3/envs/sweet_pulse/lib/python3.9/site-packages/tqdm/auto.py:21: TqdmWarning: IProgress not found. Please update jupyter and ipywidgets. See https://ipywidgets.readthedocs.io/en/stable/user_install.html\n",
      "  from .autonotebook import tqdm as notebook_tqdm\n"
     ]
    }
   ],
   "source": [
    "# Core libraries\n",
    "import numpy as np\n",
    "import pandas as pd\n",
    "import calendar\n",
    "import os\n",
    "import sys\n",
    "import pickle\n",
    "\n",
    "# Visualization\n",
    "import matplotlib.pyplot as plt\n",
    "import seaborn as sns\n",
    "import plotly.express as px\n",
    "import plotly.graph_objects as go\n",
    "# import altair_ally as aly\n",
    "\n",
    "# Time series analysis\n",
    "from statsmodels.tsa.api import SimpleExpSmoothing, Holt, seasonal_decompose, SARIMAX\n",
    "from statsmodels.tsa.arima.model import ARIMA\n",
    "from statsmodels.tsa.stattools import adfuller\n",
    "from statsmodels.graphics.tsaplots import plot_acf, plot_pacf\n",
    "import statsmodels.api as sm\n",
    "import statsmodels.formula.api as smf\n",
    "\n",
    "# Forecasting models\n",
    "# from pmdarima import auto_arima\n",
    "\n",
    "# ML models\n",
    "from sklearn.linear_model import LinearRegression\n",
    "from xgboost import XGBRegressor\n",
    "from sklearn.ensemble import RandomForestRegressor\n",
    "\n",
    "# Preprocessing and pipelines\n",
    "from sklearn.compose import make_column_transformer\n",
    "from sklearn.preprocessing import OneHotEncoder, StandardScaler\n",
    "from sklearn.pipeline import make_pipeline\n",
    "\n",
    "# Model evaluation and cross-validation\n",
    "from sklearn.metrics import mean_squared_error, mean_absolute_error\n",
    "from sklearn.model_selection import (\n",
    "    train_test_split, TimeSeriesSplit, cross_validate, GridSearchCV\n",
    ")\n",
    "import shap \n",
    "\n",
    "# Optimization\n",
    "from scipy.optimize import minimize\n",
    "\n",
    "# sktime\n",
    "from sktime.forecasting.model_selection import ForecastingGridSearchCV, ExpandingWindowSplitter\n",
    "from sktime.forecasting.compose import make_reduction\n",
    "from sktime.forecasting.base import ForecastingHorizon\n",
    "\n",
    "%matplotlib inline"
   ]
  },
  {
   "cell_type": "markdown",
   "metadata": {},
   "source": [
    "### Random forest regressor"
   ]
  },
  {
   "cell_type": "code",
   "execution_count": 2,
   "metadata": {},
   "outputs": [],
   "source": [
    "train_df = pd.read_csv('../data/modelling/train.csv', index_col=0, parse_dates=True)\n",
    "test_df = pd.read_csv('../data/modelling/test.csv', index_col=0, parse_dates=True)"
   ]
  },
  {
   "cell_type": "code",
   "execution_count": 3,
   "metadata": {},
   "outputs": [],
   "source": [
    "X_train = train_df.drop(columns=['total_sales_normalized'])\n",
    "y_train = train_df['total_sales_normalized']\n",
    "\n",
    "X_test = test_df.drop(columns=['total_sales_normalized'])\n",
    "y_test = test_df['total_sales_normalized']"
   ]
  },
  {
   "cell_type": "code",
   "execution_count": 4,
   "metadata": {},
   "outputs": [],
   "source": [
    "numerical_features = ['hours_opened', 'avg_temperature', 'rain', 'snow']\n",
    "categorical_features = ['is_long_weekend', 'is_HCF', 'season', 'day_of_week', 'is_holiday']\n",
    "category_orders = [\n",
    "    [False, True],  # is_long_weekend\n",
    "    [False, True],  # is_HCF\n",
    "    ['Winter', 'Spring', 'Summer', 'Fall'],  # season\n",
    "    ['Monday', 'Tuesday', 'Wednesday', 'Thursday', 'Friday', 'Saturday', 'Sunday'],  # day_of_week\n",
    "    [False, True]  # is_holiday\n",
    "]\n",
    "drop_features = ['total_sales_normalized', 'item_B_sales', 'item_C_sales']\n",
    "\n",
    "preprocessor = make_column_transformer(\n",
    "    (OneHotEncoder(drop='first', categories=category_orders), categorical_features),\n",
    "    (StandardScaler(), numerical_features),\n",
    "    (\"drop\", drop_features)\n",
    ")\n",
    "\n",
    "\n",
    "rf = RandomForestRegressor(random_state=123)\n",
    "preprocessor = make_column_transformer(\n",
    "    (OneHotEncoder(drop='first', categories=category_orders), categorical_features),\n",
    "    (StandardScaler(), numerical_features)\n",
    ")\n",
    "\n",
    "rf_pipe = make_pipeline(preprocessor, rf)"
   ]
  },
  {
   "cell_type": "code",
   "execution_count": 5,
   "metadata": {},
   "outputs": [],
   "source": [
    "rf_pipe.fit(X_train, y_train)\n",
    "y_pred = rf_pipe.predict(X_test)\n",
    "y_train_pred = rf_pipe.predict(X_train)"
   ]
  },
  {
   "cell_type": "code",
   "execution_count": 6,
   "metadata": {},
   "outputs": [
    {
     "data": {
      "text/plain": [
       "332.1482333333321"
      ]
     },
     "execution_count": 6,
     "metadata": {},
     "output_type": "execute_result"
    }
   ],
   "source": [
    "mean_absolute_error(y_test, y_pred)"
   ]
  },
  {
   "cell_type": "code",
   "execution_count": 7,
   "metadata": {},
   "outputs": [
    {
     "data": {
      "application/vnd.plotly.v1+json": {
       "config": {
        "plotlyServerURL": "https://plot.ly"
       },
       "data": [
        {
         "hovertemplate": "label=train<br>date=%{x}<br>total_sales_normalized=%{y}<extra></extra>",
         "legendgroup": "train",
         "line": {
          "color": "#1f77b4",
          "dash": "solid"
         },
         "marker": {
          "symbol": "circle"
         },
         "mode": "lines",
         "name": "train",
         "orientation": "v",
         "showlegend": true,
         "type": "scatter",
         "x": [
          "2024-06-01T00:00:00",
          "2024-06-02T00:00:00",
          "2024-06-03T00:00:00",
          "2024-06-04T00:00:00",
          "2024-06-05T00:00:00",
          "2024-06-06T00:00:00",
          "2024-06-07T00:00:00",
          "2024-06-08T00:00:00",
          "2024-06-09T00:00:00",
          "2024-06-10T00:00:00",
          "2024-06-11T00:00:00",
          "2024-06-12T00:00:00",
          "2024-06-13T00:00:00",
          "2024-06-14T00:00:00",
          "2024-06-15T00:00:00",
          "2024-06-16T00:00:00",
          "2024-06-17T00:00:00",
          "2024-06-18T00:00:00",
          "2024-06-19T00:00:00",
          "2024-06-20T00:00:00",
          "2024-06-21T00:00:00",
          "2024-06-22T00:00:00",
          "2024-06-23T00:00:00",
          "2024-06-24T00:00:00",
          "2024-06-25T00:00:00",
          "2024-06-26T00:00:00",
          "2024-06-27T00:00:00",
          "2024-06-28T00:00:00",
          "2024-06-29T00:00:00",
          "2024-06-30T00:00:00",
          "2024-07-01T00:00:00",
          "2024-07-02T00:00:00",
          "2024-07-03T00:00:00",
          "2024-07-04T00:00:00",
          "2024-07-05T00:00:00",
          "2024-07-06T00:00:00",
          "2024-07-07T00:00:00",
          "2024-07-08T00:00:00",
          "2024-07-09T00:00:00",
          "2024-07-10T00:00:00",
          "2024-07-11T00:00:00",
          "2024-07-12T00:00:00",
          "2024-07-13T00:00:00",
          "2024-07-14T00:00:00",
          "2024-07-15T00:00:00",
          "2024-07-16T00:00:00",
          "2024-07-17T00:00:00",
          "2024-07-18T00:00:00",
          "2024-07-19T00:00:00",
          "2024-07-20T00:00:00",
          "2024-07-21T00:00:00",
          "2024-07-22T00:00:00",
          "2024-07-23T00:00:00",
          "2024-07-24T00:00:00",
          "2024-07-25T00:00:00",
          "2024-07-26T00:00:00",
          "2024-07-27T00:00:00",
          "2024-07-28T00:00:00",
          "2024-07-29T00:00:00",
          "2024-07-30T00:00:00",
          "2024-07-31T00:00:00",
          "2024-08-01T00:00:00",
          "2024-08-02T00:00:00",
          "2024-08-03T00:00:00",
          "2024-08-04T00:00:00",
          "2024-08-05T00:00:00",
          "2024-08-06T00:00:00",
          "2024-08-07T00:00:00",
          "2024-08-08T00:00:00",
          "2024-08-09T00:00:00",
          "2024-08-10T00:00:00",
          "2024-08-11T00:00:00",
          "2024-08-12T00:00:00",
          "2024-08-13T00:00:00",
          "2024-08-14T00:00:00",
          "2024-08-15T00:00:00",
          "2024-08-16T00:00:00",
          "2024-08-17T00:00:00",
          "2024-08-18T00:00:00",
          "2024-08-19T00:00:00",
          "2024-08-20T00:00:00",
          "2024-08-21T00:00:00",
          "2024-08-22T00:00:00",
          "2024-08-23T00:00:00",
          "2024-08-24T00:00:00",
          "2024-08-25T00:00:00",
          "2024-08-26T00:00:00",
          "2024-08-27T00:00:00",
          "2024-08-28T00:00:00",
          "2024-08-29T00:00:00",
          "2024-08-30T00:00:00",
          "2024-08-31T00:00:00",
          "2024-09-01T00:00:00",
          "2024-09-02T00:00:00",
          "2024-09-03T00:00:00",
          "2024-09-04T00:00:00",
          "2024-09-05T00:00:00",
          "2024-09-06T00:00:00",
          "2024-09-07T00:00:00",
          "2024-09-08T00:00:00",
          "2024-09-09T00:00:00",
          "2024-09-10T00:00:00",
          "2024-09-11T00:00:00",
          "2024-09-12T00:00:00",
          "2024-09-13T00:00:00",
          "2024-09-14T00:00:00",
          "2024-09-15T00:00:00",
          "2024-09-16T00:00:00",
          "2024-09-17T00:00:00",
          "2024-09-18T00:00:00",
          "2024-09-19T00:00:00",
          "2024-09-20T00:00:00",
          "2024-09-21T00:00:00",
          "2024-09-22T00:00:00",
          "2024-09-23T00:00:00",
          "2024-09-24T00:00:00",
          "2024-09-25T00:00:00",
          "2024-09-26T00:00:00",
          "2024-09-27T00:00:00",
          "2024-09-28T00:00:00",
          "2024-09-29T00:00:00",
          "2024-09-30T00:00:00",
          "2024-10-01T00:00:00",
          "2024-10-02T00:00:00",
          "2024-10-03T00:00:00",
          "2024-10-04T00:00:00",
          "2024-10-05T00:00:00",
          "2024-10-06T00:00:00",
          "2024-10-07T00:00:00",
          "2024-10-08T00:00:00",
          "2024-10-09T00:00:00",
          "2024-10-10T00:00:00",
          "2024-10-11T00:00:00",
          "2024-10-12T00:00:00",
          "2024-10-13T00:00:00",
          "2024-10-14T00:00:00",
          "2024-10-15T00:00:00",
          "2024-10-16T00:00:00",
          "2024-10-17T00:00:00",
          "2024-10-18T00:00:00",
          "2024-10-19T00:00:00",
          "2024-10-20T00:00:00",
          "2024-10-21T00:00:00",
          "2024-10-22T00:00:00",
          "2024-10-23T00:00:00",
          "2024-10-24T00:00:00",
          "2024-10-25T00:00:00",
          "2024-10-26T00:00:00",
          "2024-10-27T00:00:00",
          "2024-10-28T00:00:00",
          "2024-10-29T00:00:00",
          "2024-10-30T00:00:00",
          "2024-10-31T00:00:00",
          "2024-11-01T00:00:00",
          "2024-11-02T00:00:00",
          "2024-11-03T00:00:00",
          "2024-11-05T00:00:00",
          "2024-11-06T00:00:00",
          "2024-11-07T00:00:00",
          "2024-11-08T00:00:00",
          "2024-11-09T00:00:00",
          "2024-11-10T00:00:00",
          "2024-11-11T00:00:00",
          "2024-11-12T00:00:00",
          "2024-11-13T00:00:00",
          "2024-11-14T00:00:00",
          "2024-11-15T00:00:00",
          "2024-11-16T00:00:00",
          "2024-11-17T00:00:00",
          "2024-11-18T00:00:00",
          "2024-11-19T00:00:00",
          "2024-11-20T00:00:00",
          "2024-11-21T00:00:00",
          "2024-11-22T00:00:00",
          "2024-11-23T00:00:00",
          "2024-11-24T00:00:00",
          "2024-11-25T00:00:00",
          "2024-11-26T00:00:00",
          "2024-11-27T00:00:00",
          "2024-11-28T00:00:00",
          "2024-11-29T00:00:00",
          "2024-11-30T00:00:00",
          "2024-12-01T00:00:00",
          "2024-12-02T00:00:00",
          "2024-12-03T00:00:00",
          "2024-12-04T00:00:00",
          "2024-12-05T00:00:00",
          "2024-12-06T00:00:00",
          "2024-12-07T00:00:00",
          "2024-12-08T00:00:00",
          "2024-12-09T00:00:00",
          "2024-12-10T00:00:00",
          "2024-12-11T00:00:00",
          "2024-12-12T00:00:00",
          "2024-12-13T00:00:00",
          "2024-12-14T00:00:00",
          "2024-12-15T00:00:00",
          "2024-12-16T00:00:00",
          "2024-12-17T00:00:00",
          "2024-12-18T00:00:00",
          "2024-12-19T00:00:00",
          "2024-12-20T00:00:00",
          "2024-12-21T00:00:00",
          "2024-12-22T00:00:00",
          "2024-12-23T00:00:00",
          "2024-12-24T00:00:00",
          "2024-12-25T00:00:00",
          "2024-12-26T00:00:00",
          "2024-12-27T00:00:00",
          "2024-12-28T00:00:00",
          "2024-12-29T00:00:00",
          "2024-12-30T00:00:00",
          "2024-12-31T00:00:00",
          "2025-01-01T00:00:00",
          "2025-01-02T00:00:00",
          "2025-01-03T00:00:00",
          "2025-01-04T00:00:00",
          "2025-01-05T00:00:00",
          "2025-01-06T00:00:00",
          "2025-01-07T00:00:00",
          "2025-01-08T00:00:00",
          "2025-01-09T00:00:00",
          "2025-01-10T00:00:00",
          "2025-01-11T00:00:00",
          "2025-01-12T00:00:00",
          "2025-01-13T00:00:00",
          "2025-01-14T00:00:00",
          "2025-01-15T00:00:00",
          "2025-01-16T00:00:00",
          "2025-01-17T00:00:00",
          "2025-01-18T00:00:00",
          "2025-01-19T00:00:00",
          "2025-01-20T00:00:00",
          "2025-01-21T00:00:00",
          "2025-01-22T00:00:00",
          "2025-01-23T00:00:00",
          "2025-01-24T00:00:00",
          "2025-01-25T00:00:00",
          "2025-01-26T00:00:00",
          "2025-01-27T00:00:00",
          "2025-01-28T00:00:00",
          "2025-01-29T00:00:00",
          "2025-01-30T00:00:00",
          "2025-01-31T00:00:00",
          "2025-02-01T00:00:00",
          "2025-02-02T00:00:00",
          "2025-02-03T00:00:00",
          "2025-02-04T00:00:00",
          "2025-02-05T00:00:00",
          "2025-02-06T00:00:00",
          "2025-02-07T00:00:00",
          "2025-02-08T00:00:00",
          "2025-02-09T00:00:00",
          "2025-02-10T00:00:00",
          "2025-02-11T00:00:00",
          "2025-02-12T00:00:00",
          "2025-02-13T00:00:00",
          "2025-02-14T00:00:00",
          "2025-02-15T00:00:00",
          "2025-02-16T00:00:00",
          "2025-02-17T00:00:00",
          "2025-02-18T00:00:00",
          "2025-02-19T00:00:00",
          "2025-02-20T00:00:00",
          "2025-02-21T00:00:00",
          "2025-02-22T00:00:00",
          "2025-02-23T00:00:00",
          "2025-02-24T00:00:00",
          "2025-02-25T00:00:00",
          "2025-02-26T00:00:00",
          "2025-02-27T00:00:00",
          "2025-02-28T00:00:00",
          "2025-03-01T00:00:00",
          "2025-03-02T00:00:00",
          "2025-03-03T00:00:00",
          "2025-03-04T00:00:00",
          "2025-03-05T00:00:00",
          "2025-03-06T00:00:00",
          "2025-03-07T00:00:00",
          "2025-03-08T00:00:00",
          "2025-03-09T00:00:00",
          "2025-03-10T00:00:00",
          "2025-03-11T00:00:00",
          "2025-03-12T00:00:00",
          "2025-03-13T00:00:00",
          "2025-03-14T00:00:00",
          "2025-03-15T00:00:00",
          "2025-03-16T00:00:00",
          "2025-03-17T00:00:00",
          "2025-03-18T00:00:00",
          "2025-03-19T00:00:00",
          "2025-03-20T00:00:00",
          "2025-03-21T00:00:00",
          "2025-03-22T00:00:00",
          "2025-03-23T00:00:00",
          "2025-03-24T00:00:00",
          "2025-03-25T00:00:00",
          "2025-03-26T00:00:00",
          "2025-03-27T00:00:00",
          "2025-03-28T00:00:00",
          "2025-03-29T00:00:00",
          "2025-03-30T00:00:00",
          "2025-04-01T00:00:00",
          "2025-04-02T00:00:00",
          "2025-04-03T00:00:00",
          "2025-04-04T00:00:00",
          "2025-04-05T00:00:00",
          "2025-04-06T00:00:00",
          "2025-04-08T00:00:00"
         ],
         "xaxis": "x",
         "y": {
          "bdata": "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",
          "dtype": "f8"
         },
         "yaxis": "y"
        },
        {
         "hovertemplate": "label=test<br>date=%{x}<br>total_sales_normalized=%{y}<extra></extra>",
         "legendgroup": "test",
         "line": {
          "color": "#d62728",
          "dash": "solid"
         },
         "marker": {
          "symbol": "circle"
         },
         "mode": "lines",
         "name": "test",
         "orientation": "v",
         "showlegend": true,
         "type": "scatter",
         "x": [
          "2025-04-09T00:00:00",
          "2025-04-10T00:00:00",
          "2025-04-11T00:00:00",
          "2025-04-12T00:00:00",
          "2025-04-13T00:00:00",
          "2025-04-14T00:00:00",
          "2025-04-15T00:00:00",
          "2025-04-16T00:00:00",
          "2025-04-17T00:00:00",
          "2025-04-18T00:00:00",
          "2025-04-19T00:00:00",
          "2025-04-20T00:00:00",
          "2025-04-21T00:00:00",
          "2025-04-22T00:00:00",
          "2025-04-23T00:00:00",
          "2025-04-24T00:00:00",
          "2025-04-25T00:00:00",
          "2025-04-26T00:00:00",
          "2025-04-27T00:00:00",
          "2025-04-28T00:00:00",
          "2025-04-29T00:00:00",
          "2025-04-30T00:00:00",
          "2025-05-01T00:00:00",
          "2025-05-02T00:00:00",
          "2025-05-03T00:00:00",
          "2025-05-04T00:00:00",
          "2025-05-05T00:00:00",
          "2025-05-06T00:00:00",
          "2025-05-07T00:00:00",
          "2025-05-08T00:00:00"
         ],
         "xaxis": "x",
         "y": {
          "bdata": "j8L1KFyquEB7FK5HYfK3QDMzMzOzgb5A7FG4HiUdwUCkcD0KVzm/QHE9CtejPbhAcT0K1+NwuEAUrkfhOs+4QOxRuB4F/b1AexSuRwGpwkDXo3A96nHBQKRwPQo3ucBASOF6FO6EukDD9Shcjy+4QOF6FK5HrrhA7FG4HgUeu0AfhetR2CnAQArXo3Bd7sBA4XoUrodcwUDsUbgeheW3QFK4HoXr0rdApHA9ClekukAfhetR+OK5QIXrUbie7b1AXI/C9WiPwkAUrkfhunDBQJqZmZmZ4blAexSuR6EJuUApXI/CdX25QPYoXI/C7LdA",
          "dtype": "f8"
         },
         "yaxis": "y"
        },
        {
         "hovertemplate": "label=test_prediction<br>date=%{x}<br>total_sales_normalized=%{y}<extra></extra>",
         "legendgroup": "test_prediction",
         "line": {
          "color": "#8bc34a",
          "dash": "solid"
         },
         "marker": {
          "symbol": "circle"
         },
         "mode": "lines",
         "name": "test_prediction",
         "orientation": "v",
         "showlegend": true,
         "type": "scatter",
         "x": [
          "2025-04-09T00:00:00",
          "2025-04-10T00:00:00",
          "2025-04-11T00:00:00",
          "2025-04-12T00:00:00",
          "2025-04-13T00:00:00",
          "2025-04-14T00:00:00",
          "2025-04-15T00:00:00",
          "2025-04-16T00:00:00",
          "2025-04-17T00:00:00",
          "2025-04-18T00:00:00",
          "2025-04-19T00:00:00",
          "2025-04-20T00:00:00",
          "2025-04-21T00:00:00",
          "2025-04-22T00:00:00",
          "2025-04-23T00:00:00",
          "2025-04-24T00:00:00",
          "2025-04-25T00:00:00",
          "2025-04-26T00:00:00",
          "2025-04-27T00:00:00",
          "2025-04-28T00:00:00",
          "2025-04-29T00:00:00",
          "2025-04-30T00:00:00",
          "2025-05-01T00:00:00",
          "2025-05-02T00:00:00",
          "2025-05-03T00:00:00",
          "2025-05-04T00:00:00",
          "2025-05-05T00:00:00",
          "2025-05-06T00:00:00",
          "2025-05-07T00:00:00",
          "2025-05-08T00:00:00"
         ],
         "xaxis": "x",
         "y": {
          "bdata": "exSuRwEhuEDPK2UZwu64QLeUZYhTYb5AQYLix/ipwEBhB84Z0Qi/QP2QfvuqN7hApTXNO+7suEB7eqUsg4u4QL3KoUXWzbxA9P3UeCmevkBY07zjFH3AQFjTvOMk279A1NeBc0b2vEAv+MJkyge4QJOpglEZOLhAQK1p3mGwuEA3zTtOoVi+QHULJCjGdsBAvJ3vp+apv0C9nxovvb+3QKU1zTvu7LhAs4vbaGBguUCyN/jCNAq5QFhUUicAS75Auo0G8E7owEC64emVApy/QBEUP8b8zLhAFgRWDh3MuECFarx0w065QPip8dLNrbhA",
          "dtype": "f8"
         },
         "yaxis": "y"
        },
        {
         "hovertemplate": "label=train_prediction<br>date=%{x}<br>total_sales_normalized=%{y}<extra></extra>",
         "legendgroup": "train_prediction",
         "line": {
          "color": "#8bc34a",
          "dash": "solid"
         },
         "marker": {
          "symbol": "circle"
         },
         "mode": "lines",
         "name": "train_prediction",
         "orientation": "v",
         "showlegend": true,
         "type": "scatter",
         "x": [
          "2024-06-01T00:00:00",
          "2024-06-02T00:00:00",
          "2024-06-03T00:00:00",
          "2024-06-04T00:00:00",
          "2024-06-05T00:00:00",
          "2024-06-06T00:00:00",
          "2024-06-07T00:00:00",
          "2024-06-08T00:00:00",
          "2024-06-09T00:00:00",
          "2024-06-10T00:00:00",
          "2024-06-11T00:00:00",
          "2024-06-12T00:00:00",
          "2024-06-13T00:00:00",
          "2024-06-14T00:00:00",
          "2024-06-15T00:00:00",
          "2024-06-16T00:00:00",
          "2024-06-17T00:00:00",
          "2024-06-18T00:00:00",
          "2024-06-19T00:00:00",
          "2024-06-20T00:00:00",
          "2024-06-21T00:00:00",
          "2024-06-22T00:00:00",
          "2024-06-23T00:00:00",
          "2024-06-24T00:00:00",
          "2024-06-25T00:00:00",
          "2024-06-26T00:00:00",
          "2024-06-27T00:00:00",
          "2024-06-28T00:00:00",
          "2024-06-29T00:00:00",
          "2024-06-30T00:00:00",
          "2024-07-01T00:00:00",
          "2024-07-02T00:00:00",
          "2024-07-03T00:00:00",
          "2024-07-04T00:00:00",
          "2024-07-05T00:00:00",
          "2024-07-06T00:00:00",
          "2024-07-07T00:00:00",
          "2024-07-08T00:00:00",
          "2024-07-09T00:00:00",
          "2024-07-10T00:00:00",
          "2024-07-11T00:00:00",
          "2024-07-12T00:00:00",
          "2024-07-13T00:00:00",
          "2024-07-14T00:00:00",
          "2024-07-15T00:00:00",
          "2024-07-16T00:00:00",
          "2024-07-17T00:00:00",
          "2024-07-18T00:00:00",
          "2024-07-19T00:00:00",
          "2024-07-20T00:00:00",
          "2024-07-21T00:00:00",
          "2024-07-22T00:00:00",
          "2024-07-23T00:00:00",
          "2024-07-24T00:00:00",
          "2024-07-25T00:00:00",
          "2024-07-26T00:00:00",
          "2024-07-27T00:00:00",
          "2024-07-28T00:00:00",
          "2024-07-29T00:00:00",
          "2024-07-30T00:00:00",
          "2024-07-31T00:00:00",
          "2024-08-01T00:00:00",
          "2024-08-02T00:00:00",
          "2024-08-03T00:00:00",
          "2024-08-04T00:00:00",
          "2024-08-05T00:00:00",
          "2024-08-06T00:00:00",
          "2024-08-07T00:00:00",
          "2024-08-08T00:00:00",
          "2024-08-09T00:00:00",
          "2024-08-10T00:00:00",
          "2024-08-11T00:00:00",
          "2024-08-12T00:00:00",
          "2024-08-13T00:00:00",
          "2024-08-14T00:00:00",
          "2024-08-15T00:00:00",
          "2024-08-16T00:00:00",
          "2024-08-17T00:00:00",
          "2024-08-18T00:00:00",
          "2024-08-19T00:00:00",
          "2024-08-20T00:00:00",
          "2024-08-21T00:00:00",
          "2024-08-22T00:00:00",
          "2024-08-23T00:00:00",
          "2024-08-24T00:00:00",
          "2024-08-25T00:00:00",
          "2024-08-26T00:00:00",
          "2024-08-27T00:00:00",
          "2024-08-28T00:00:00",
          "2024-08-29T00:00:00",
          "2024-08-30T00:00:00",
          "2024-08-31T00:00:00",
          "2024-09-01T00:00:00",
          "2024-09-02T00:00:00",
          "2024-09-03T00:00:00",
          "2024-09-04T00:00:00",
          "2024-09-05T00:00:00",
          "2024-09-06T00:00:00",
          "2024-09-07T00:00:00",
          "2024-09-08T00:00:00",
          "2024-09-09T00:00:00",
          "2024-09-10T00:00:00",
          "2024-09-11T00:00:00",
          "2024-09-12T00:00:00",
          "2024-09-13T00:00:00",
          "2024-09-14T00:00:00",
          "2024-09-15T00:00:00",
          "2024-09-16T00:00:00",
          "2024-09-17T00:00:00",
          "2024-09-18T00:00:00",
          "2024-09-19T00:00:00",
          "2024-09-20T00:00:00",
          "2024-09-21T00:00:00",
          "2024-09-22T00:00:00",
          "2024-09-23T00:00:00",
          "2024-09-24T00:00:00",
          "2024-09-25T00:00:00",
          "2024-09-26T00:00:00",
          "2024-09-27T00:00:00",
          "2024-09-28T00:00:00",
          "2024-09-29T00:00:00",
          "2024-09-30T00:00:00",
          "2024-10-01T00:00:00",
          "2024-10-02T00:00:00",
          "2024-10-03T00:00:00",
          "2024-10-04T00:00:00",
          "2024-10-05T00:00:00",
          "2024-10-06T00:00:00",
          "2024-10-07T00:00:00",
          "2024-10-08T00:00:00",
          "2024-10-09T00:00:00",
          "2024-10-10T00:00:00",
          "2024-10-11T00:00:00",
          "2024-10-12T00:00:00",
          "2024-10-13T00:00:00",
          "2024-10-14T00:00:00",
          "2024-10-15T00:00:00",
          "2024-10-16T00:00:00",
          "2024-10-17T00:00:00",
          "2024-10-18T00:00:00",
          "2024-10-19T00:00:00",
          "2024-10-20T00:00:00",
          "2024-10-21T00:00:00",
          "2024-10-22T00:00:00",
          "2024-10-23T00:00:00",
          "2024-10-24T00:00:00",
          "2024-10-25T00:00:00",
          "2024-10-26T00:00:00",
          "2024-10-27T00:00:00",
          "2024-10-28T00:00:00",
          "2024-10-29T00:00:00",
          "2024-10-30T00:00:00",
          "2024-10-31T00:00:00",
          "2024-11-01T00:00:00",
          "2024-11-02T00:00:00",
          "2024-11-03T00:00:00",
          "2024-11-05T00:00:00",
          "2024-11-06T00:00:00",
          "2024-11-07T00:00:00",
          "2024-11-08T00:00:00",
          "2024-11-09T00:00:00",
          "2024-11-10T00:00:00",
          "2024-11-11T00:00:00",
          "2024-11-12T00:00:00",
          "2024-11-13T00:00:00",
          "2024-11-14T00:00:00",
          "2024-11-15T00:00:00",
          "2024-11-16T00:00:00",
          "2024-11-17T00:00:00",
          "2024-11-18T00:00:00",
          "2024-11-19T00:00:00",
          "2024-11-20T00:00:00",
          "2024-11-21T00:00:00",
          "2024-11-22T00:00:00",
          "2024-11-23T00:00:00",
          "2024-11-24T00:00:00",
          "2024-11-25T00:00:00",
          "2024-11-26T00:00:00",
          "2024-11-27T00:00:00",
          "2024-11-28T00:00:00",
          "2024-11-29T00:00:00",
          "2024-11-30T00:00:00",
          "2024-12-01T00:00:00",
          "2024-12-02T00:00:00",
          "2024-12-03T00:00:00",
          "2024-12-04T00:00:00",
          "2024-12-05T00:00:00",
          "2024-12-06T00:00:00",
          "2024-12-07T00:00:00",
          "2024-12-08T00:00:00",
          "2024-12-09T00:00:00",
          "2024-12-10T00:00:00",
          "2024-12-11T00:00:00",
          "2024-12-12T00:00:00",
          "2024-12-13T00:00:00",
          "2024-12-14T00:00:00",
          "2024-12-15T00:00:00",
          "2024-12-16T00:00:00",
          "2024-12-17T00:00:00",
          "2024-12-18T00:00:00",
          "2024-12-19T00:00:00",
          "2024-12-20T00:00:00",
          "2024-12-21T00:00:00",
          "2024-12-22T00:00:00",
          "2024-12-23T00:00:00",
          "2024-12-24T00:00:00",
          "2024-12-25T00:00:00",
          "2024-12-26T00:00:00",
          "2024-12-27T00:00:00",
          "2024-12-28T00:00:00",
          "2024-12-29T00:00:00",
          "2024-12-30T00:00:00",
          "2024-12-31T00:00:00",
          "2025-01-01T00:00:00",
          "2025-01-02T00:00:00",
          "2025-01-03T00:00:00",
          "2025-01-04T00:00:00",
          "2025-01-05T00:00:00",
          "2025-01-06T00:00:00",
          "2025-01-07T00:00:00",
          "2025-01-08T00:00:00",
          "2025-01-09T00:00:00",
          "2025-01-10T00:00:00",
          "2025-01-11T00:00:00",
          "2025-01-12T00:00:00",
          "2025-01-13T00:00:00",
          "2025-01-14T00:00:00",
          "2025-01-15T00:00:00",
          "2025-01-16T00:00:00",
          "2025-01-17T00:00:00",
          "2025-01-18T00:00:00",
          "2025-01-19T00:00:00",
          "2025-01-20T00:00:00",
          "2025-01-21T00:00:00",
          "2025-01-22T00:00:00",
          "2025-01-23T00:00:00",
          "2025-01-24T00:00:00",
          "2025-01-25T00:00:00",
          "2025-01-26T00:00:00",
          "2025-01-27T00:00:00",
          "2025-01-28T00:00:00",
          "2025-01-29T00:00:00",
          "2025-01-30T00:00:00",
          "2025-01-31T00:00:00",
          "2025-02-01T00:00:00",
          "2025-02-02T00:00:00",
          "2025-02-03T00:00:00",
          "2025-02-04T00:00:00",
          "2025-02-05T00:00:00",
          "2025-02-06T00:00:00",
          "2025-02-07T00:00:00",
          "2025-02-08T00:00:00",
          "2025-02-09T00:00:00",
          "2025-02-10T00:00:00",
          "2025-02-11T00:00:00",
          "2025-02-12T00:00:00",
          "2025-02-13T00:00:00",
          "2025-02-14T00:00:00",
          "2025-02-15T00:00:00",
          "2025-02-16T00:00:00",
          "2025-02-17T00:00:00",
          "2025-02-18T00:00:00",
          "2025-02-19T00:00:00",
          "2025-02-20T00:00:00",
          "2025-02-21T00:00:00",
          "2025-02-22T00:00:00",
          "2025-02-23T00:00:00",
          "2025-02-24T00:00:00",
          "2025-02-25T00:00:00",
          "2025-02-26T00:00:00",
          "2025-02-27T00:00:00",
          "2025-02-28T00:00:00",
          "2025-03-01T00:00:00",
          "2025-03-02T00:00:00",
          "2025-03-03T00:00:00",
          "2025-03-04T00:00:00",
          "2025-03-05T00:00:00",
          "2025-03-06T00:00:00",
          "2025-03-07T00:00:00",
          "2025-03-08T00:00:00",
          "2025-03-09T00:00:00",
          "2025-03-10T00:00:00",
          "2025-03-11T00:00:00",
          "2025-03-12T00:00:00",
          "2025-03-13T00:00:00",
          "2025-03-14T00:00:00",
          "2025-03-15T00:00:00",
          "2025-03-16T00:00:00",
          "2025-03-17T00:00:00",
          "2025-03-18T00:00:00",
          "2025-03-19T00:00:00",
          "2025-03-20T00:00:00",
          "2025-03-21T00:00:00",
          "2025-03-22T00:00:00",
          "2025-03-23T00:00:00",
          "2025-03-24T00:00:00",
          "2025-03-25T00:00:00",
          "2025-03-26T00:00:00",
          "2025-03-27T00:00:00",
          "2025-03-28T00:00:00",
          "2025-03-29T00:00:00",
          "2025-03-30T00:00:00",
          "2025-04-01T00:00:00",
          "2025-04-02T00:00:00",
          "2025-04-03T00:00:00",
          "2025-04-04T00:00:00",
          "2025-04-05T00:00:00",
          "2025-04-06T00:00:00",
          "2025-04-08T00:00:00"
         ],
         "xaxis": "x",
         "y": {
          "bdata": "aGZmZtbDwUAIVg4tSovAQAp4CyQod7xAEWpN8+7kvEB0TfOOc+m+QLJp3nFaX75AYag1zYs8wUB2owG8JaTEQA0LtabZGsNA6Z48LBS3u0DAdJMYlAm6QL8OnDOS07tAWxBYOXS3ukDlnBGllSzBQBS+MJnCacNA4eALk3ldwUBMN4lBUDO6QJYo7Q1e+LpAU6YKRgWSvECdQ4ts95m8QP0SF21TrcBA1k1iEKiKw0D8kH77qkvDQLr1KFxPgLxAbiSX/9A7vEA7rWneEV+7QC+yne8XfrtA+EpZhuh+wED9H9Jvb8jBQHNfB86ZY8NA6mGh1lwvwUCzwRcmUzm8QCGn6Eg+vLtAnZmZmYmCvEAcVjNY1mm/QNPDQq2JasJAV0ATYRN/wUBMr5RlyAm9QHPecYr+vbtA4+mVsnx+vECEH2Pu+om7QF/SubWx/MBAIy/dJM5gwkAMLbKdL2DCQOa+DpzTy7pATwwCK/eSu0AA5WGh5iG8QIGMuWsJW7xA5kRcE9nWv0AErBxazFHCQLOmeceJ48FAY23F/lLBukBlZmZmdui7QOq+DpxTebpAEx3J5R/oukDuriXkA5LAQAH3deCUiMBATVD8GOtMwUDpBDQRtgm5QI/Lf0jPtLpAbzSAtzCsu0CB2T15CMK6QCjPg7tr+r5Av9MrZSkVwkCm+lxtpULCQCJ8YTL1KMFA3DYawDsEukDs68A5Ezu7QOxjzF2rCbtAKM+Du2v6vkAhyeU/JPbAQFBAE2E7+cFAEdnO98OuukAAqvHSTYq6QMHqc7XFnLtAfMDKodXtvEAcVjNY1mm/QAesHFq0qMJAyiCwctjLwECbGi/dRPa4QD/G3LWEf7pAyCLb+Y5KvEAa0ETYgDC6QCq7Jw87jr1AbU3zjlv1wUCKjuTyFxvCQEbhehR+sLlAdl8HzjnXukCBgy9MZsq7QIyezar/VLpAU1/ioqUHwEDd+X5qZK7BQEDxY8wFYcBAVjJVMGr5vEBXdCSX7++2QCjJ5T/E/bdAUzAqqaPEt0CN3ZOH1dO8QIDysFC7Jr5AVuwvu8dGvkAy+MJk6su2QLIehevB7bZAE1g5tGgptkCR5PIf8uW2QBJaZDs/ObtAgy0hH8TLvUDMjzF3Xd28QIj9ZfdkRLZAt+pztVUqtkBOQBNhE6G2QKjGSzdZG7dAsWnecYrjvEBm/kP6rVq+QArwFkgQjbxAyF1LyOcZt0CqE9BE6Ai3QB8xCKz8MLZAfCbChqe2tUCzWfW5qiy7QAyTqYJhH8BA7P3UeAncvkBhVn2udt28QHf7OnC+i7RAZiv2lw2dtkBNuB6F2+G1QFs730+9abpA2LNZ9Qm1vkCP9NvX4b+8QOkNvjDZSbZA0arP1YYytUBfmEwVjAO1QOTiNhqg27VAElg5tNjou0BYuB6FCzu/QOCK/WVH2r1A2+dqK/bduUAqmSoY1d60QBgWak3TNrVAfRSuR7EMtkDM91PjRbK3QKSrrdi/VbpAxRlR2ov8uED4KocWqZK1QAjXo3CtorVAHVpkO9/ptkDjx5i75pK2QHhxGw2AFbxAnImw4ZkEvUBIm1WfG7y7QIVK6gT0Z7RACce6uC39tEAasHJoUZG0QJqpglH547RAvDf4wuRWuECtN/jClKS9QA8tsp1fgbxAgY7k8q/dtUA/TtGRjO21QKm0N/jSGbdAIUHxY8wLu0B/JsKG96K9QEjo2ayam75AdLUV+xtUu0B94seYy/u0QG09CtcjObVAJg8LtRbvtUAMmggbrr+7QCy5/IdkIrtAv/yH9GtUu0Ab/fZ14Pi0QAH5oGdjrbRAPwrXo7BntUAJ8BZIAJS2QICezaoPGbtAhVrTvJO6vkAqSnuDT6W7QGiad5xSSLVAzVTBqISytEBxxf6yq9i0QMjMzMy8IrVAHz/G3JXuuUDX8PRKyR++QC/LEMeqL71ACLN78rB+tEDoSC7/cfS0QLS2Yn9ZQbVA2HjpJoEbtkBR0ZFcjmq4QPEoXI+ySrxAittoAA9Au0CFjLlrubK1QKjx0k3CDbVAUlInoOnltUD8dwsk2Ke1QB0f9GwGwLlAoU5AE7Gvu0CFbOf7CXq9QIQ41sXtorVAcwn5oDdHtkD85GGhFl22QGHMXUuIgLZAjIeFWkM7ukDRmuYdF+q6QGQ730+9vrtA6i+7J+9AuEARx7q4jZGzQADM7skj97pAuJ3vp/YGu0CE61G4np66QHa1Ffu7i7xAoaROQHPSu0A4CtejkIy4QKlOQBOxsbNAQ71SlhEjvUBYUiegWb23QOb0SlkmyLpAs1n1uRpOvEBvRGlvIKa8QD2JQWClJrZAEiQofuwutEBkMlUwuue1QDeZKhil07VAPb1SlnHuuUDyt68DJ8q/QEG0yHb+6L1Am0OLbBektEClpE5AY4C0QCFaZDsv17VAqYJRSe1ltkBJUPwYgym7QOAtkKCgWMFAxFKWIT7XvkCPhVrTrKq3QFLjpZtUsbZAbaMBvLXztkBpb/CF6Qm3QCSgibAxorxApWez6uvIwEC9nxovTS6/QMNbIEHxL7dA1+dqKwautkAp5q4lNK+2QO8NvjCZpLVAO/FjzK0iu0AG54wonUnAQA4kKH4MybtAk7uWkG+8tUCcq63YT7i1QM7e4AtzarVA1CQGgbVitkCyv+ye/Ma7QHKDL0xmob9AdwTFj7HovkC2lGWIc7i1QHRGlPZm4bVAACuHFrnUtUD2qfHSbX+2QHMUrkfxqL5AjfTb1yGcvUDzudqKXXTAQGiIY12snr1AgGEyVfB1tkB0kxgEdim3QHiutmKvp7ZAzOU/pF8BukDRRNjwRKe9QBdseHqlQr1A+kpZhij0tUAyZRniWGW1QP0GX5gcQrdAFtnO94Mht0Dz68A5k8a8QIH7OnB2ccBABhlz1wKxv0D2oGezilu3QI8PejYbpLdAjmWIYw3+tkCgPldbgau3QGYSg8A6lr1AmjoBTRRMwUC9VMGolNy8QOCDns0qBLdAiJAPesautkBm7lpCHnK2QJ0sQxwLHLhArbZif6m2vUDTRNjw3ILAQLqGp1daQr9AtK8D5yxXt0DK3uALc5a4QNNvXwfOyrdACIofY273tkD9tKZ5R/69QPEf0m8fO8FAu/yH9Iu6vECR5PIfEkC3QAlGJXXSw7hA6aWbxFB6uUBuPQrXo3S4QGN4eqUMPr5AvScPC1UVwUDh8PRK6Ua+QMwZUdrLurZAJLn8h7Sot0B8SL99vcS4QG+z6nMFZ75AdXqlLOt+wEDMSzeJwb69QMb+snvC9bZA",
          "dtype": "f8"
         },
         "yaxis": "y"
        }
       ],
       "layout": {
        "legend": {
         "title": {
          "text": "label"
         },
         "tracegroupgap": 0
        },
        "template": {
         "data": {
          "bar": [
           {
            "error_x": {
             "color": "#2a3f5f"
            },
            "error_y": {
             "color": "#2a3f5f"
            },
            "marker": {
             "line": {
              "color": "#E5ECF6",
              "width": 0.5
             },
             "pattern": {
              "fillmode": "overlay",
              "size": 10,
              "solidity": 0.2
             }
            },
            "type": "bar"
           }
          ],
          "barpolar": [
           {
            "marker": {
             "line": {
              "color": "#E5ECF6",
              "width": 0.5
             },
             "pattern": {
              "fillmode": "overlay",
              "size": 10,
              "solidity": 0.2
             }
            },
            "type": "barpolar"
           }
          ],
          "carpet": [
           {
            "aaxis": {
             "endlinecolor": "#2a3f5f",
             "gridcolor": "white",
             "linecolor": "white",
             "minorgridcolor": "white",
             "startlinecolor": "#2a3f5f"
            },
            "baxis": {
             "endlinecolor": "#2a3f5f",
             "gridcolor": "white",
             "linecolor": "white",
             "minorgridcolor": "white",
             "startlinecolor": "#2a3f5f"
            },
            "type": "carpet"
           }
          ],
          "choropleth": [
           {
            "colorbar": {
             "outlinewidth": 0,
             "ticks": ""
            },
            "type": "choropleth"
           }
          ],
          "contour": [
           {
            "colorbar": {
             "outlinewidth": 0,
             "ticks": ""
            },
            "colorscale": [
             [
              0,
              "#0d0887"
             ],
             [
              0.1111111111111111,
              "#46039f"
             ],
             [
              0.2222222222222222,
              "#7201a8"
             ],
             [
              0.3333333333333333,
              "#9c179e"
             ],
             [
              0.4444444444444444,
              "#bd3786"
             ],
             [
              0.5555555555555556,
              "#d8576b"
             ],
             [
              0.6666666666666666,
              "#ed7953"
             ],
             [
              0.7777777777777778,
              "#fb9f3a"
             ],
             [
              0.8888888888888888,
              "#fdca26"
             ],
             [
              1,
              "#f0f921"
             ]
            ],
            "type": "contour"
           }
          ],
          "contourcarpet": [
           {
            "colorbar": {
             "outlinewidth": 0,
             "ticks": ""
            },
            "type": "contourcarpet"
           }
          ],
          "heatmap": [
           {
            "colorbar": {
             "outlinewidth": 0,
             "ticks": ""
            },
            "colorscale": [
             [
              0,
              "#0d0887"
             ],
             [
              0.1111111111111111,
              "#46039f"
             ],
             [
              0.2222222222222222,
              "#7201a8"
             ],
             [
              0.3333333333333333,
              "#9c179e"
             ],
             [
              0.4444444444444444,
              "#bd3786"
             ],
             [
              0.5555555555555556,
              "#d8576b"
             ],
             [
              0.6666666666666666,
              "#ed7953"
             ],
             [
              0.7777777777777778,
              "#fb9f3a"
             ],
             [
              0.8888888888888888,
              "#fdca26"
             ],
             [
              1,
              "#f0f921"
             ]
            ],
            "type": "heatmap"
           }
          ],
          "histogram": [
           {
            "marker": {
             "pattern": {
              "fillmode": "overlay",
              "size": 10,
              "solidity": 0.2
             }
            },
            "type": "histogram"
           }
          ],
          "histogram2d": [
           {
            "colorbar": {
             "outlinewidth": 0,
             "ticks": ""
            },
            "colorscale": [
             [
              0,
              "#0d0887"
             ],
             [
              0.1111111111111111,
              "#46039f"
             ],
             [
              0.2222222222222222,
              "#7201a8"
             ],
             [
              0.3333333333333333,
              "#9c179e"
             ],
             [
              0.4444444444444444,
              "#bd3786"
             ],
             [
              0.5555555555555556,
              "#d8576b"
             ],
             [
              0.6666666666666666,
              "#ed7953"
             ],
             [
              0.7777777777777778,
              "#fb9f3a"
             ],
             [
              0.8888888888888888,
              "#fdca26"
             ],
             [
              1,
              "#f0f921"
             ]
            ],
            "type": "histogram2d"
           }
          ],
          "histogram2dcontour": [
           {
            "colorbar": {
             "outlinewidth": 0,
             "ticks": ""
            },
            "colorscale": [
             [
              0,
              "#0d0887"
             ],
             [
              0.1111111111111111,
              "#46039f"
             ],
             [
              0.2222222222222222,
              "#7201a8"
             ],
             [
              0.3333333333333333,
              "#9c179e"
             ],
             [
              0.4444444444444444,
              "#bd3786"
             ],
             [
              0.5555555555555556,
              "#d8576b"
             ],
             [
              0.6666666666666666,
              "#ed7953"
             ],
             [
              0.7777777777777778,
              "#fb9f3a"
             ],
             [
              0.8888888888888888,
              "#fdca26"
             ],
             [
              1,
              "#f0f921"
             ]
            ],
            "type": "histogram2dcontour"
           }
          ],
          "mesh3d": [
           {
            "colorbar": {
             "outlinewidth": 0,
             "ticks": ""
            },
            "type": "mesh3d"
           }
          ],
          "parcoords": [
           {
            "line": {
             "colorbar": {
              "outlinewidth": 0,
              "ticks": ""
             }
            },
            "type": "parcoords"
           }
          ],
          "pie": [
           {
            "automargin": true,
            "type": "pie"
           }
          ],
          "scatter": [
           {
            "fillpattern": {
             "fillmode": "overlay",
             "size": 10,
             "solidity": 0.2
            },
            "type": "scatter"
           }
          ],
          "scatter3d": [
           {
            "line": {
             "colorbar": {
              "outlinewidth": 0,
              "ticks": ""
             }
            },
            "marker": {
             "colorbar": {
              "outlinewidth": 0,
              "ticks": ""
             }
            },
            "type": "scatter3d"
           }
          ],
          "scattercarpet": [
           {
            "marker": {
             "colorbar": {
              "outlinewidth": 0,
              "ticks": ""
             }
            },
            "type": "scattercarpet"
           }
          ],
          "scattergeo": [
           {
            "marker": {
             "colorbar": {
              "outlinewidth": 0,
              "ticks": ""
             }
            },
            "type": "scattergeo"
           }
          ],
          "scattergl": [
           {
            "marker": {
             "colorbar": {
              "outlinewidth": 0,
              "ticks": ""
             }
            },
            "type": "scattergl"
           }
          ],
          "scattermap": [
           {
            "marker": {
             "colorbar": {
              "outlinewidth": 0,
              "ticks": ""
             }
            },
            "type": "scattermap"
           }
          ],
          "scattermapbox": [
           {
            "marker": {
             "colorbar": {
              "outlinewidth": 0,
              "ticks": ""
             }
            },
            "type": "scattermapbox"
           }
          ],
          "scatterpolar": [
           {
            "marker": {
             "colorbar": {
              "outlinewidth": 0,
              "ticks": ""
             }
            },
            "type": "scatterpolar"
           }
          ],
          "scatterpolargl": [
           {
            "marker": {
             "colorbar": {
              "outlinewidth": 0,
              "ticks": ""
             }
            },
            "type": "scatterpolargl"
           }
          ],
          "scatterternary": [
           {
            "marker": {
             "colorbar": {
              "outlinewidth": 0,
              "ticks": ""
             }
            },
            "type": "scatterternary"
           }
          ],
          "surface": [
           {
            "colorbar": {
             "outlinewidth": 0,
             "ticks": ""
            },
            "colorscale": [
             [
              0,
              "#0d0887"
             ],
             [
              0.1111111111111111,
              "#46039f"
             ],
             [
              0.2222222222222222,
              "#7201a8"
             ],
             [
              0.3333333333333333,
              "#9c179e"
             ],
             [
              0.4444444444444444,
              "#bd3786"
             ],
             [
              0.5555555555555556,
              "#d8576b"
             ],
             [
              0.6666666666666666,
              "#ed7953"
             ],
             [
              0.7777777777777778,
              "#fb9f3a"
             ],
             [
              0.8888888888888888,
              "#fdca26"
             ],
             [
              1,
              "#f0f921"
             ]
            ],
            "type": "surface"
           }
          ],
          "table": [
           {
            "cells": {
             "fill": {
              "color": "#EBF0F8"
             },
             "line": {
              "color": "white"
             }
            },
            "header": {
             "fill": {
              "color": "#C8D4E3"
             },
             "line": {
              "color": "white"
             }
            },
            "type": "table"
           }
          ]
         },
         "layout": {
          "annotationdefaults": {
           "arrowcolor": "#2a3f5f",
           "arrowhead": 0,
           "arrowwidth": 1
          },
          "autotypenumbers": "strict",
          "coloraxis": {
           "colorbar": {
            "outlinewidth": 0,
            "ticks": ""
           }
          },
          "colorscale": {
           "diverging": [
            [
             0,
             "#8e0152"
            ],
            [
             0.1,
             "#c51b7d"
            ],
            [
             0.2,
             "#de77ae"
            ],
            [
             0.3,
             "#f1b6da"
            ],
            [
             0.4,
             "#fde0ef"
            ],
            [
             0.5,
             "#f7f7f7"
            ],
            [
             0.6,
             "#e6f5d0"
            ],
            [
             0.7,
             "#b8e186"
            ],
            [
             0.8,
             "#7fbc41"
            ],
            [
             0.9,
             "#4d9221"
            ],
            [
             1,
             "#276419"
            ]
           ],
           "sequential": [
            [
             0,
             "#0d0887"
            ],
            [
             0.1111111111111111,
             "#46039f"
            ],
            [
             0.2222222222222222,
             "#7201a8"
            ],
            [
             0.3333333333333333,
             "#9c179e"
            ],
            [
             0.4444444444444444,
             "#bd3786"
            ],
            [
             0.5555555555555556,
             "#d8576b"
            ],
            [
             0.6666666666666666,
             "#ed7953"
            ],
            [
             0.7777777777777778,
             "#fb9f3a"
            ],
            [
             0.8888888888888888,
             "#fdca26"
            ],
            [
             1,
             "#f0f921"
            ]
           ],
           "sequentialminus": [
            [
             0,
             "#0d0887"
            ],
            [
             0.1111111111111111,
             "#46039f"
            ],
            [
             0.2222222222222222,
             "#7201a8"
            ],
            [
             0.3333333333333333,
             "#9c179e"
            ],
            [
             0.4444444444444444,
             "#bd3786"
            ],
            [
             0.5555555555555556,
             "#d8576b"
            ],
            [
             0.6666666666666666,
             "#ed7953"
            ],
            [
             0.7777777777777778,
             "#fb9f3a"
            ],
            [
             0.8888888888888888,
             "#fdca26"
            ],
            [
             1,
             "#f0f921"
            ]
           ]
          },
          "colorway": [
           "#636efa",
           "#EF553B",
           "#00cc96",
           "#ab63fa",
           "#FFA15A",
           "#19d3f3",
           "#FF6692",
           "#B6E880",
           "#FF97FF",
           "#FECB52"
          ],
          "font": {
           "color": "#2a3f5f"
          },
          "geo": {
           "bgcolor": "white",
           "lakecolor": "white",
           "landcolor": "#E5ECF6",
           "showlakes": true,
           "showland": true,
           "subunitcolor": "white"
          },
          "hoverlabel": {
           "align": "left"
          },
          "hovermode": "closest",
          "mapbox": {
           "style": "light"
          },
          "paper_bgcolor": "white",
          "plot_bgcolor": "#E5ECF6",
          "polar": {
           "angularaxis": {
            "gridcolor": "white",
            "linecolor": "white",
            "ticks": ""
           },
           "bgcolor": "#E5ECF6",
           "radialaxis": {
            "gridcolor": "white",
            "linecolor": "white",
            "ticks": ""
           }
          },
          "scene": {
           "xaxis": {
            "backgroundcolor": "#E5ECF6",
            "gridcolor": "white",
            "gridwidth": 2,
            "linecolor": "white",
            "showbackground": true,
            "ticks": "",
            "zerolinecolor": "white"
           },
           "yaxis": {
            "backgroundcolor": "#E5ECF6",
            "gridcolor": "white",
            "gridwidth": 2,
            "linecolor": "white",
            "showbackground": true,
            "ticks": "",
            "zerolinecolor": "white"
           },
           "zaxis": {
            "backgroundcolor": "#E5ECF6",
            "gridcolor": "white",
            "gridwidth": 2,
            "linecolor": "white",
            "showbackground": true,
            "ticks": "",
            "zerolinecolor": "white"
           }
          },
          "shapedefaults": {
           "line": {
            "color": "#2a3f5f"
           }
          },
          "ternary": {
           "aaxis": {
            "gridcolor": "white",
            "linecolor": "white",
            "ticks": ""
           },
           "baxis": {
            "gridcolor": "white",
            "linecolor": "white",
            "ticks": ""
           },
           "bgcolor": "#E5ECF6",
           "caxis": {
            "gridcolor": "white",
            "linecolor": "white",
            "ticks": ""
           }
          },
          "title": {
           "x": 0.05
          },
          "xaxis": {
           "automargin": true,
           "gridcolor": "white",
           "linecolor": "white",
           "ticks": "",
           "title": {
            "standoff": 15
           },
           "zerolinecolor": "white",
           "zerolinewidth": 2
          },
          "yaxis": {
           "automargin": true,
           "gridcolor": "white",
           "linecolor": "white",
           "ticks": "",
           "title": {
            "standoff": 15
           },
           "zerolinecolor": "white",
           "zerolinewidth": 2
          }
         }
        },
        "title": {
         "text": "Prediction results - random forest"
        },
        "xaxis": {
         "anchor": "y",
         "domain": [
          0,
          1
         ],
         "title": {
          "text": "date"
         }
        },
        "yaxis": {
         "anchor": "x",
         "domain": [
          0,
          1
         ],
         "title": {
          "text": "total_sales_normalized"
         }
        }
       }
      }
     },
     "metadata": {},
     "output_type": "display_data"
    }
   ],
   "source": [
    "y_train_for_plot = pd.DataFrame(y_train).assign(label='train')\n",
    "y_test_for_plot = pd.DataFrame(y_test).assign(label='test')\n",
    "lr_pred_for_plot = pd.DataFrame(y_pred, columns=['total_sales_normalized'], index=y_test.index).assign(label='test_prediction')\n",
    "y_train_pred_for_plot = pd.DataFrame(y_train_pred, columns=['total_sales_normalized'], index=y_train.index).assign(label='train_prediction')\n",
    "\n",
    "custom_colors = {\n",
    "    'train': '#1f77b4',\n",
    "    'test': '#d62728',\n",
    "    'test_prediction': '#8bc34a',\n",
    "    'train_prediction': '#8bc34a'\n",
    "}\n",
    "\n",
    "rf_plot_fig = px.line(pd.concat((y_train_for_plot, y_test_for_plot, lr_pred_for_plot, y_train_pred_for_plot)), \n",
    "        y=\"total_sales_normalized\",\n",
    "        color='label', \n",
    "        title='Prediction results - random forest',\n",
    "        color_discrete_map=custom_colors\n",
    "        )\n",
    "\n",
    "rf_plot_fig.show()"
   ]
  },
  {
   "cell_type": "code",
   "execution_count": 8,
   "metadata": {},
   "outputs": [],
   "source": [
    "trained_rf = rf_pipe.named_steps['randomforestregressor']\n",
    "trained_preprocessor = rf_pipe.named_steps['columntransformer']\n",
    "\n",
    "columns = (rf_pipe.named_steps['columntransformer'].named_transformers_['onehotencoder'].get_feature_names_out().tolist() + \n",
    "           rf_pipe.named_steps['columntransformer'].named_transformers_['standardscaler'].get_feature_names_out().tolist()) "
   ]
  },
  {
   "cell_type": "code",
   "execution_count": 9,
   "metadata": {},
   "outputs": [
    {
     "data": {
      "image/png": "[encoded data removed]",
      "text/plain": [
       "<Figure size 800x790 with 1 Axes>"
      ]
     },
     "metadata": {},
     "output_type": "display_data"
    }
   ],
   "source": [
    "explainer = shap.TreeExplainer(trained_rf)\n",
    "observations = pd.DataFrame(trained_preprocessor.transform(X_train), columns=columns)\n",
    "shap_values = explainer.shap_values(observations)\n",
    "shap.summary_plot(shap_values, observations, plot_type='bar')"
   ]
  },
  {
   "cell_type": "code",
   "execution_count": 10,
   "metadata": {},
   "outputs": [
    {
     "data": {
      "image/png": "[encoded data removed]",
      "text/plain": [
       "<Figure size 800x790 with 2 Axes>"
      ]
     },
     "metadata": {},
     "output_type": "display_data"
    }
   ],
   "source": [
    "explanation = explainer(observations)\n",
    "shap.plots.beeswarm(explanation, max_display=50)"
   ]
  },
  {
   "cell_type": "code",
   "execution_count": 11,
   "metadata": {},
   "outputs": [
    {
     "data": {
      "image/png": "[encoded data removed]",
      "text/plain": [
       "<Figure size 800x650 with 3 Axes>"
      ]
     },
     "metadata": {},
     "output_type": "display_data"
    }
   ],
   "source": [
    "shap.plots.waterfall(explanation[200, :])"
   ]
  },
  {
   "cell_type": "markdown",
   "metadata": {},
   "source": [
    "### Hyperparameter tuning"
   ]
  },
  {
   "cell_type": "code",
   "execution_count": 12,
   "metadata": {},
   "outputs": [
    {
     "data": {
      "text/html": [
       "<style>#sk-container-id-1 {\n",
       "  /* Definition of color scheme common for light and dark mode */\n",
       "  --sklearn-color-text: #000;\n",
       "  --sklearn-color-text-muted: #666;\n",
       "  --sklearn-color-line: gray;\n",
       "  /* Definition of color scheme for unfitted estimators */\n",
       "  --sklearn-color-unfitted-level-0: #fff5e6;\n",
       "  --sklearn-color-unfitted-level-1: #f6e4d2;\n",
       "  --sklearn-color-unfitted-level-2: #ffe0b3;\n",
       "  --sklearn-color-unfitted-level-3: chocolate;\n",
       "  /* Definition of color scheme for fitted estimators */\n",
       "  --sklearn-color-fitted-level-0: #f0f8ff;\n",
       "  --sklearn-color-fitted-level-1: #d4ebff;\n",
       "  --sklearn-color-fitted-level-2: #b3dbfd;\n",
       "  --sklearn-color-fitted-level-3: cornflowerblue;\n",
       "\n",
       "  /* Specific color for light theme */\n",
       "  --sklearn-color-text-on-default-background: var(--sg-text-color, var(--theme-code-foreground, var(--jp-content-font-color1, black)));\n",
       "  --sklearn-color-background: var(--sg-background-color, var(--theme-background, var(--jp-layout-color0, white)));\n",
       "  --sklearn-color-border-box: var(--sg-text-color, var(--theme-code-foreground, var(--jp-content-font-color1, black)));\n",
       "  --sklearn-color-icon: #696969;\n",
       "\n",
       "  @media (prefers-color-scheme: dark) {\n",
       "    /* Redefinition of color scheme for dark theme */\n",
       "    --sklearn-color-text-on-default-background: var(--sg-text-color, var(--theme-code-foreground, var(--jp-content-font-color1, white)));\n",
       "    --sklearn-color-background: var(--sg-background-color, var(--theme-background, var(--jp-layout-color0, #111)));\n",
       "    --sklearn-color-border-box: var(--sg-text-color, var(--theme-code-foreground, var(--jp-content-font-color1, white)));\n",
       "    --sklearn-color-icon: #878787;\n",
       "  }\n",
       "}\n",
       "\n",
       "#sk-container-id-1 {\n",
       "  color: var(--sklearn-color-text);\n",
       "}\n",
       "\n",
       "#sk-container-id-1 pre {\n",
       "  padding: 0;\n",
       "}\n",
       "\n",
       "#sk-container-id-1 input.sk-hidden--visually {\n",
       "  border: 0;\n",
       "  clip: rect(1px 1px 1px 1px);\n",
       "  clip: rect(1px, 1px, 1px, 1px);\n",
       "  height: 1px;\n",
       "  margin: -1px;\n",
       "  overflow: hidden;\n",
       "  padding: 0;\n",
       "  position: absolute;\n",
       "  width: 1px;\n",
       "}\n",
       "\n",
       "#sk-container-id-1 div.sk-dashed-wrapped {\n",
       "  border: 1px dashed var(--sklearn-color-line);\n",
       "  margin: 0 0.4em 0.5em 0.4em;\n",
       "  box-sizing: border-box;\n",
       "  padding-bottom: 0.4em;\n",
       "  background-color: var(--sklearn-color-background);\n",
       "}\n",
       "\n",
       "#sk-container-id-1 div.sk-container {\n",
       "  /* jupyter's `normalize.less` sets `[hidden] { display: none; }`\n",
       "     but bootstrap.min.css set `[hidden] { display: none !important; }`\n",
       "     so we also need the `!important` here to be able to override the\n",
       "     default hidden behavior on the sphinx rendered scikit-learn.org.\n",
       "     See: https://github.com/scikit-learn/scikit-learn/issues/21755 */\n",
       "  display: inline-block !important;\n",
       "  position: relative;\n",
       "}\n",
       "\n",
       "#sk-container-id-1 div.sk-text-repr-fallback {\n",
       "  display: none;\n",
       "}\n",
       "\n",
       "div.sk-parallel-item,\n",
       "div.sk-serial,\n",
       "div.sk-item {\n",
       "  /* draw centered vertical line to link estimators */\n",
       "  background-image: linear-gradient(var(--sklearn-color-text-on-default-background), var(--sklearn-color-text-on-default-background));\n",
       "  background-size: 2px 100%;\n",
       "  background-repeat: no-repeat;\n",
       "  background-position: center center;\n",
       "}\n",
       "\n",
       "/* Parallel-specific style estimator block */\n",
       "\n",
       "#sk-container-id-1 div.sk-parallel-item::after {\n",
       "  content: \"\";\n",
       "  width: 100%;\n",
       "  border-bottom: 2px solid var(--sklearn-color-text-on-default-background);\n",
       "  flex-grow: 1;\n",
       "}\n",
       "\n",
       "#sk-container-id-1 div.sk-parallel {\n",
       "  display: flex;\n",
       "  align-items: stretch;\n",
       "  justify-content: center;\n",
       "  background-color: var(--sklearn-color-background);\n",
       "  position: relative;\n",
       "}\n",
       "\n",
       "#sk-container-id-1 div.sk-parallel-item {\n",
       "  display: flex;\n",
       "  flex-direction: column;\n",
       "}\n",
       "\n",
       "#sk-container-id-1 div.sk-parallel-item:first-child::after {\n",
       "  align-self: flex-end;\n",
       "  width: 50%;\n",
       "}\n",
       "\n",
       "#sk-container-id-1 div.sk-parallel-item:last-child::after {\n",
       "  align-self: flex-start;\n",
       "  width: 50%;\n",
       "}\n",
       "\n",
       "#sk-container-id-1 div.sk-parallel-item:only-child::after {\n",
       "  width: 0;\n",
       "}\n",
       "\n",
       "/* Serial-specific style estimator block */\n",
       "\n",
       "#sk-container-id-1 div.sk-serial {\n",
       "  display: flex;\n",
       "  flex-direction: column;\n",
       "  align-items: center;\n",
       "  background-color: var(--sklearn-color-background);\n",
       "  padding-right: 1em;\n",
       "  padding-left: 1em;\n",
       "}\n",
       "\n",
       "\n",
       "/* Toggleable style: style used for estimator/Pipeline/ColumnTransformer box that is\n",
       "clickable and can be expanded/collapsed.\n",
       "- Pipeline and ColumnTransformer use this feature and define the default style\n",
       "- Estimators will overwrite some part of the style using the `sk-estimator` class\n",
       "*/\n",
       "\n",
       "/* Pipeline and ColumnTransformer style (default) */\n",
       "\n",
       "#sk-container-id-1 div.sk-toggleable {\n",
       "  /* Default theme specific background. It is overwritten whether we have a\n",
       "  specific estimator or a Pipeline/ColumnTransformer */\n",
       "  background-color: var(--sklearn-color-background);\n",
       "}\n",
       "\n",
       "/* Toggleable label */\n",
       "#sk-container-id-1 label.sk-toggleable__label {\n",
       "  cursor: pointer;\n",
       "  display: flex;\n",
       "  width: 100%;\n",
       "  margin-bottom: 0;\n",
       "  padding: 0.5em;\n",
       "  box-sizing: border-box;\n",
       "  text-align: center;\n",
       "  align-items: start;\n",
       "  justify-content: space-between;\n",
       "  gap: 0.5em;\n",
       "}\n",
       "\n",
       "#sk-container-id-1 label.sk-toggleable__label .caption {\n",
       "  font-size: 0.6rem;\n",
       "  font-weight: lighter;\n",
       "  color: var(--sklearn-color-text-muted);\n",
       "}\n",
       "\n",
       "#sk-container-id-1 label.sk-toggleable__label-arrow:before {\n",
       "  /* Arrow on the left of the label */\n",
       "  content: \"▸\";\n",
       "  float: left;\n",
       "  margin-right: 0.25em;\n",
       "  color: var(--sklearn-color-icon);\n",
       "}\n",
       "\n",
       "#sk-container-id-1 label.sk-toggleable__label-arrow:hover:before {\n",
       "  color: var(--sklearn-color-text);\n",
       "}\n",
       "\n",
       "/* Toggleable content - dropdown */\n",
       "\n",
       "#sk-container-id-1 div.sk-toggleable__content {\n",
       "  max-height: 0;\n",
       "  max-width: 0;\n",
       "  overflow: hidden;\n",
       "  text-align: left;\n",
       "  /* unfitted */\n",
       "  background-color: var(--sklearn-color-unfitted-level-0);\n",
       "}\n",
       "\n",
       "#sk-container-id-1 div.sk-toggleable__content.fitted {\n",
       "  /* fitted */\n",
       "  background-color: var(--sklearn-color-fitted-level-0);\n",
       "}\n",
       "\n",
       "#sk-container-id-1 div.sk-toggleable__content pre {\n",
       "  margin: 0.2em;\n",
       "  border-radius: 0.25em;\n",
       "  color: var(--sklearn-color-text);\n",
       "  /* unfitted */\n",
       "  background-color: var(--sklearn-color-unfitted-level-0);\n",
       "}\n",
       "\n",
       "#sk-container-id-1 div.sk-toggleable__content.fitted pre {\n",
       "  /* unfitted */\n",
       "  background-color: var(--sklearn-color-fitted-level-0);\n",
       "}\n",
       "\n",
       "#sk-container-id-1 input.sk-toggleable__control:checked~div.sk-toggleable__content {\n",
       "  /* Expand drop-down */\n",
       "  max-height: 200px;\n",
       "  max-width: 100%;\n",
       "  overflow: auto;\n",
       "}\n",
       "\n",
       "#sk-container-id-1 input.sk-toggleable__control:checked~label.sk-toggleable__label-arrow:before {\n",
       "  content: \"▾\";\n",
       "}\n",
       "\n",
       "/* Pipeline/ColumnTransformer-specific style */\n",
       "\n",
       "#sk-container-id-1 div.sk-label input.sk-toggleable__control:checked~label.sk-toggleable__label {\n",
       "  color: var(--sklearn-color-text);\n",
       "  background-color: var(--sklearn-color-unfitted-level-2);\n",
       "}\n",
       "\n",
       "#sk-container-id-1 div.sk-label.fitted input.sk-toggleable__control:checked~label.sk-toggleable__label {\n",
       "  background-color: var(--sklearn-color-fitted-level-2);\n",
       "}\n",
       "\n",
       "/* Estimator-specific style */\n",
       "\n",
       "/* Colorize estimator box */\n",
       "#sk-container-id-1 div.sk-estimator input.sk-toggleable__control:checked~label.sk-toggleable__label {\n",
       "  /* unfitted */\n",
       "  background-color: var(--sklearn-color-unfitted-level-2);\n",
       "}\n",
       "\n",
       "#sk-container-id-1 div.sk-estimator.fitted input.sk-toggleable__control:checked~label.sk-toggleable__label {\n",
       "  /* fitted */\n",
       "  background-color: var(--sklearn-color-fitted-level-2);\n",
       "}\n",
       "\n",
       "#sk-container-id-1 div.sk-label label.sk-toggleable__label,\n",
       "#sk-container-id-1 div.sk-label label {\n",
       "  /* The background is the default theme color */\n",
       "  color: var(--sklearn-color-text-on-default-background);\n",
       "}\n",
       "\n",
       "/* On hover, darken the color of the background */\n",
       "#sk-container-id-1 div.sk-label:hover label.sk-toggleable__label {\n",
       "  color: var(--sklearn-color-text);\n",
       "  background-color: var(--sklearn-color-unfitted-level-2);\n",
       "}\n",
       "\n",
       "/* Label box, darken color on hover, fitted */\n",
       "#sk-container-id-1 div.sk-label.fitted:hover label.sk-toggleable__label.fitted {\n",
       "  color: var(--sklearn-color-text);\n",
       "  background-color: var(--sklearn-color-fitted-level-2);\n",
       "}\n",
       "\n",
       "/* Estimator label */\n",
       "\n",
       "#sk-container-id-1 div.sk-label label {\n",
       "  font-family: monospace;\n",
       "  font-weight: bold;\n",
       "  display: inline-block;\n",
       "  line-height: 1.2em;\n",
       "}\n",
       "\n",
       "#sk-container-id-1 div.sk-label-container {\n",
       "  text-align: center;\n",
       "}\n",
       "\n",
       "/* Estimator-specific */\n",
       "#sk-container-id-1 div.sk-estimator {\n",
       "  font-family: monospace;\n",
       "  border: 1px dotted var(--sklearn-color-border-box);\n",
       "  border-radius: 0.25em;\n",
       "  box-sizing: border-box;\n",
       "  margin-bottom: 0.5em;\n",
       "  /* unfitted */\n",
       "  background-color: var(--sklearn-color-unfitted-level-0);\n",
       "}\n",
       "\n",
       "#sk-container-id-1 div.sk-estimator.fitted {\n",
       "  /* fitted */\n",
       "  background-color: var(--sklearn-color-fitted-level-0);\n",
       "}\n",
       "\n",
       "/* on hover */\n",
       "#sk-container-id-1 div.sk-estimator:hover {\n",
       "  /* unfitted */\n",
       "  background-color: var(--sklearn-color-unfitted-level-2);\n",
       "}\n",
       "\n",
       "#sk-container-id-1 div.sk-estimator.fitted:hover {\n",
       "  /* fitted */\n",
       "  background-color: var(--sklearn-color-fitted-level-2);\n",
       "}\n",
       "\n",
       "/* Specification for estimator info (e.g. \"i\" and \"?\") */\n",
       "\n",
       "/* Common style for \"i\" and \"?\" */\n",
       "\n",
       ".sk-estimator-doc-link,\n",
       "a:link.sk-estimator-doc-link,\n",
       "a:visited.sk-estimator-doc-link {\n",
       "  float: right;\n",
       "  font-size: smaller;\n",
       "  line-height: 1em;\n",
       "  font-family: monospace;\n",
       "  background-color: var(--sklearn-color-background);\n",
       "  border-radius: 1em;\n",
       "  height: 1em;\n",
       "  width: 1em;\n",
       "  text-decoration: none !important;\n",
       "  margin-left: 0.5em;\n",
       "  text-align: center;\n",
       "  /* unfitted */\n",
       "  border: var(--sklearn-color-unfitted-level-1) 1pt solid;\n",
       "  color: var(--sklearn-color-unfitted-level-1);\n",
       "}\n",
       "\n",
       ".sk-estimator-doc-link.fitted,\n",
       "a:link.sk-estimator-doc-link.fitted,\n",
       "a:visited.sk-estimator-doc-link.fitted {\n",
       "  /* fitted */\n",
       "  border: var(--sklearn-color-fitted-level-1) 1pt solid;\n",
       "  color: var(--sklearn-color-fitted-level-1);\n",
       "}\n",
       "\n",
       "/* On hover */\n",
       "div.sk-estimator:hover .sk-estimator-doc-link:hover,\n",
       ".sk-estimator-doc-link:hover,\n",
       "div.sk-label-container:hover .sk-estimator-doc-link:hover,\n",
       ".sk-estimator-doc-link:hover {\n",
       "  /* unfitted */\n",
       "  background-color: var(--sklearn-color-unfitted-level-3);\n",
       "  color: var(--sklearn-color-background);\n",
       "  text-decoration: none;\n",
       "}\n",
       "\n",
       "div.sk-estimator.fitted:hover .sk-estimator-doc-link.fitted:hover,\n",
       ".sk-estimator-doc-link.fitted:hover,\n",
       "div.sk-label-container:hover .sk-estimator-doc-link.fitted:hover,\n",
       ".sk-estimator-doc-link.fitted:hover {\n",
       "  /* fitted */\n",
       "  background-color: var(--sklearn-color-fitted-level-3);\n",
       "  color: var(--sklearn-color-background);\n",
       "  text-decoration: none;\n",
       "}\n",
       "\n",
       "/* Span, style for the box shown on hovering the info icon */\n",
       ".sk-estimator-doc-link span {\n",
       "  display: none;\n",
       "  z-index: 9999;\n",
       "  position: relative;\n",
       "  font-weight: normal;\n",
       "  right: .2ex;\n",
       "  padding: .5ex;\n",
       "  margin: .5ex;\n",
       "  width: min-content;\n",
       "  min-width: 20ex;\n",
       "  max-width: 50ex;\n",
       "  color: var(--sklearn-color-text);\n",
       "  box-shadow: 2pt 2pt 4pt #999;\n",
       "  /* unfitted */\n",
       "  background: var(--sklearn-color-unfitted-level-0);\n",
       "  border: .5pt solid var(--sklearn-color-unfitted-level-3);\n",
       "}\n",
       "\n",
       ".sk-estimator-doc-link.fitted span {\n",
       "  /* fitted */\n",
       "  background: var(--sklearn-color-fitted-level-0);\n",
       "  border: var(--sklearn-color-fitted-level-3);\n",
       "}\n",
       "\n",
       ".sk-estimator-doc-link:hover span {\n",
       "  display: block;\n",
       "}\n",
       "\n",
       "/* \"?\"-specific style due to the `<a>` HTML tag */\n",
       "\n",
       "#sk-container-id-1 a.estimator_doc_link {\n",
       "  float: right;\n",
       "  font-size: 1rem;\n",
       "  line-height: 1em;\n",
       "  font-family: monospace;\n",
       "  background-color: var(--sklearn-color-background);\n",
       "  border-radius: 1rem;\n",
       "  height: 1rem;\n",
       "  width: 1rem;\n",
       "  text-decoration: none;\n",
       "  /* unfitted */\n",
       "  color: var(--sklearn-color-unfitted-level-1);\n",
       "  border: var(--sklearn-color-unfitted-level-1) 1pt solid;\n",
       "}\n",
       "\n",
       "#sk-container-id-1 a.estimator_doc_link.fitted {\n",
       "  /* fitted */\n",
       "  border: var(--sklearn-color-fitted-level-1) 1pt solid;\n",
       "  color: var(--sklearn-color-fitted-level-1);\n",
       "}\n",
       "\n",
       "/* On hover */\n",
       "#sk-container-id-1 a.estimator_doc_link:hover {\n",
       "  /* unfitted */\n",
       "  background-color: var(--sklearn-color-unfitted-level-3);\n",
       "  color: var(--sklearn-color-background);\n",
       "  text-decoration: none;\n",
       "}\n",
       "\n",
       "#sk-container-id-1 a.estimator_doc_link.fitted:hover {\n",
       "  /* fitted */\n",
       "  background-color: var(--sklearn-color-fitted-level-3);\n",
       "}\n",
       "</style><div id=\"sk-container-id-1\" class=\"sk-top-container\"><div class=\"sk-text-repr-fallback\"><pre>GridSearchCV(cv=5,\n",
       "             estimator=Pipeline(steps=[(&#x27;columntransformer&#x27;,\n",
       "                                        ColumnTransformer(transformers=[(&#x27;onehotencoder&#x27;,\n",
       "                                                                         OneHotEncoder(categories=[[False,\n",
       "                                                                                                    True],\n",
       "                                                                                                   [False,\n",
       "                                                                                                    True],\n",
       "                                                                                                   [&#x27;Winter&#x27;,\n",
       "                                                                                                    &#x27;Spring&#x27;,\n",
       "                                                                                                    &#x27;Summer&#x27;,\n",
       "                                                                                                    &#x27;Fall&#x27;],\n",
       "                                                                                                   [&#x27;Monday&#x27;,\n",
       "                                                                                                    &#x27;Tuesday&#x27;,\n",
       "                                                                                                    &#x27;Wednesday&#x27;,\n",
       "                                                                                                    &#x27;Thursday&#x27;,\n",
       "                                                                                                    &#x27;Friday&#x27;,\n",
       "                                                                                                    &#x27;Saturday&#x27;,\n",
       "                                                                                                    &#x27;Sunday&#x27;],\n",
       "                                                                                                   [False,\n",
       "                                                                                                    True]],\n",
       "                                                                                       drop=&#x27;first&#x27;),\n",
       "                                                                         [&#x27;is_long_weekend&#x27;,\n",
       "                                                                          &#x27;is_HCF&#x27;,\n",
       "                                                                          &#x27;season&#x27;,\n",
       "                                                                          &#x27;day_of_we...\n",
       "                                                              random_state=123))]),\n",
       "             n_jobs=-1,\n",
       "             param_grid={&#x27;randomforestregressor__max_depth&#x27;: [None, 5, 10, 20],\n",
       "                         &#x27;randomforestregressor__max_features&#x27;: [&#x27;sqrt&#x27;,\n",
       "                                                                 &#x27;log2&#x27;],\n",
       "                         &#x27;randomforestregressor__min_samples_leaf&#x27;: [1, 2, 4],\n",
       "                         &#x27;randomforestregressor__min_samples_split&#x27;: [2, 5, 10],\n",
       "                         &#x27;randomforestregressor__n_estimators&#x27;: [10, 50, 100]},\n",
       "             return_train_score=True, scoring=&#x27;neg_mean_absolute_error&#x27;)</pre><b>In a Jupyter environment, please rerun this cell to show the HTML representation or trust the notebook. <br />On GitHub, the HTML representation is unable to render, please try loading this page with nbviewer.org.</b></div><div class=\"sk-container\" hidden><div class=\"sk-item sk-dashed-wrapped\"><div class=\"sk-label-container\"><div class=\"sk-label fitted sk-toggleable\"><input class=\"sk-toggleable__control sk-hidden--visually\" id=\"sk-estimator-id-1\" type=\"checkbox\" ><label for=\"sk-estimator-id-1\" class=\"sk-toggleable__label fitted sk-toggleable__label-arrow\"><div><div>GridSearchCV</div></div><div><a class=\"sk-estimator-doc-link fitted\" rel=\"noreferrer\" target=\"_blank\" href=\"https://scikit-learn.org/1.6/modules/generated/sklearn.model_selection.GridSearchCV.html\">?<span>Documentation for GridSearchCV</span></a><span class=\"sk-estimator-doc-link fitted\">i<span>Fitted</span></span></div></label><div class=\"sk-toggleable__content fitted\"><pre>GridSearchCV(cv=5,\n",
       "             estimator=Pipeline(steps=[(&#x27;columntransformer&#x27;,\n",
       "                                        ColumnTransformer(transformers=[(&#x27;onehotencoder&#x27;,\n",
       "                                                                         OneHotEncoder(categories=[[False,\n",
       "                                                                                                    True],\n",
       "                                                                                                   [False,\n",
       "                                                                                                    True],\n",
       "                                                                                                   [&#x27;Winter&#x27;,\n",
       "                                                                                                    &#x27;Spring&#x27;,\n",
       "                                                                                                    &#x27;Summer&#x27;,\n",
       "                                                                                                    &#x27;Fall&#x27;],\n",
       "                                                                                                   [&#x27;Monday&#x27;,\n",
       "                                                                                                    &#x27;Tuesday&#x27;,\n",
       "                                                                                                    &#x27;Wednesday&#x27;,\n",
       "                                                                                                    &#x27;Thursday&#x27;,\n",
       "                                                                                                    &#x27;Friday&#x27;,\n",
       "                                                                                                    &#x27;Saturday&#x27;,\n",
       "                                                                                                    &#x27;Sunday&#x27;],\n",
       "                                                                                                   [False,\n",
       "                                                                                                    True]],\n",
       "                                                                                       drop=&#x27;first&#x27;),\n",
       "                                                                         [&#x27;is_long_weekend&#x27;,\n",
       "                                                                          &#x27;is_HCF&#x27;,\n",
       "                                                                          &#x27;season&#x27;,\n",
       "                                                                          &#x27;day_of_we...\n",
       "                                                              random_state=123))]),\n",
       "             n_jobs=-1,\n",
       "             param_grid={&#x27;randomforestregressor__max_depth&#x27;: [None, 5, 10, 20],\n",
       "                         &#x27;randomforestregressor__max_features&#x27;: [&#x27;sqrt&#x27;,\n",
       "                                                                 &#x27;log2&#x27;],\n",
       "                         &#x27;randomforestregressor__min_samples_leaf&#x27;: [1, 2, 4],\n",
       "                         &#x27;randomforestregressor__min_samples_split&#x27;: [2, 5, 10],\n",
       "                         &#x27;randomforestregressor__n_estimators&#x27;: [10, 50, 100]},\n",
       "             return_train_score=True, scoring=&#x27;neg_mean_absolute_error&#x27;)</pre></div> </div></div><div class=\"sk-parallel\"><div class=\"sk-parallel-item\"><div class=\"sk-item\"><div class=\"sk-label-container\"><div class=\"sk-label fitted sk-toggleable\"><input class=\"sk-toggleable__control sk-hidden--visually\" id=\"sk-estimator-id-2\" type=\"checkbox\" ><label for=\"sk-estimator-id-2\" class=\"sk-toggleable__label fitted sk-toggleable__label-arrow\"><div><div>best_estimator_: Pipeline</div></div></label><div class=\"sk-toggleable__content fitted\"><pre>Pipeline(steps=[(&#x27;columntransformer&#x27;,\n",
       "                 ColumnTransformer(transformers=[(&#x27;onehotencoder&#x27;,\n",
       "                                                  OneHotEncoder(categories=[[False,\n",
       "                                                                             True],\n",
       "                                                                            [False,\n",
       "                                                                             True],\n",
       "                                                                            [&#x27;Winter&#x27;,\n",
       "                                                                             &#x27;Spring&#x27;,\n",
       "                                                                             &#x27;Summer&#x27;,\n",
       "                                                                             &#x27;Fall&#x27;],\n",
       "                                                                            [&#x27;Monday&#x27;,\n",
       "                                                                             &#x27;Tuesday&#x27;,\n",
       "                                                                             &#x27;Wednesday&#x27;,\n",
       "                                                                             &#x27;Thursday&#x27;,\n",
       "                                                                             &#x27;Friday&#x27;,\n",
       "                                                                             &#x27;Saturday&#x27;,\n",
       "                                                                             &#x27;Sunday&#x27;],\n",
       "                                                                            [False,\n",
       "                                                                             True]],\n",
       "                                                                drop=&#x27;first&#x27;),\n",
       "                                                  [&#x27;is_long_weekend&#x27;, &#x27;is_HCF&#x27;,\n",
       "                                                   &#x27;season&#x27;, &#x27;day_of_week&#x27;,\n",
       "                                                   &#x27;is_holiday&#x27;]),\n",
       "                                                 (&#x27;standardscaler&#x27;,\n",
       "                                                  StandardScaler(),\n",
       "                                                  [&#x27;hours_opened&#x27;,\n",
       "                                                   &#x27;avg_temperature&#x27;, &#x27;rain&#x27;,\n",
       "                                                   &#x27;snow&#x27;])])),\n",
       "                (&#x27;randomforestregressor&#x27;,\n",
       "                 RandomForestRegressor(criterion=&#x27;absolute_error&#x27;, max_depth=20,\n",
       "                                       max_features=&#x27;sqrt&#x27;, min_samples_split=5,\n",
       "                                       n_estimators=50, random_state=123))])</pre></div> </div></div><div class=\"sk-serial\"><div class=\"sk-item\"><div class=\"sk-serial\"><div class=\"sk-item sk-dashed-wrapped\"><div class=\"sk-label-container\"><div class=\"sk-label fitted sk-toggleable\"><input class=\"sk-toggleable__control sk-hidden--visually\" id=\"sk-estimator-id-3\" type=\"checkbox\" ><label for=\"sk-estimator-id-3\" class=\"sk-toggleable__label fitted sk-toggleable__label-arrow\"><div><div>columntransformer: ColumnTransformer</div></div><div><a class=\"sk-estimator-doc-link fitted\" rel=\"noreferrer\" target=\"_blank\" href=\"https://scikit-learn.org/1.6/modules/generated/sklearn.compose.ColumnTransformer.html\">?<span>Documentation for columntransformer: ColumnTransformer</span></a></div></label><div class=\"sk-toggleable__content fitted\"><pre>ColumnTransformer(transformers=[(&#x27;onehotencoder&#x27;,\n",
       "                                 OneHotEncoder(categories=[[False, True],\n",
       "                                                           [False, True],\n",
       "                                                           [&#x27;Winter&#x27;, &#x27;Spring&#x27;,\n",
       "                                                            &#x27;Summer&#x27;, &#x27;Fall&#x27;],\n",
       "                                                           [&#x27;Monday&#x27;, &#x27;Tuesday&#x27;,\n",
       "                                                            &#x27;Wednesday&#x27;,\n",
       "                                                            &#x27;Thursday&#x27;,\n",
       "                                                            &#x27;Friday&#x27;,\n",
       "                                                            &#x27;Saturday&#x27;,\n",
       "                                                            &#x27;Sunday&#x27;],\n",
       "                                                           [False, True]],\n",
       "                                               drop=&#x27;first&#x27;),\n",
       "                                 [&#x27;is_long_weekend&#x27;, &#x27;is_HCF&#x27;, &#x27;season&#x27;,\n",
       "                                  &#x27;day_of_week&#x27;, &#x27;is_holiday&#x27;]),\n",
       "                                (&#x27;standardscaler&#x27;, StandardScaler(),\n",
       "                                 [&#x27;hours_opened&#x27;, &#x27;avg_temperature&#x27;, &#x27;rain&#x27;,\n",
       "                                  &#x27;snow&#x27;])])</pre></div> </div></div><div class=\"sk-parallel\"><div class=\"sk-parallel-item\"><div class=\"sk-item\"><div class=\"sk-label-container\"><div class=\"sk-label fitted sk-toggleable\"><input class=\"sk-toggleable__control sk-hidden--visually\" id=\"sk-estimator-id-4\" type=\"checkbox\" ><label for=\"sk-estimator-id-4\" class=\"sk-toggleable__label fitted sk-toggleable__label-arrow\"><div><div>onehotencoder</div></div></label><div class=\"sk-toggleable__content fitted\"><pre>[&#x27;is_long_weekend&#x27;, &#x27;is_HCF&#x27;, &#x27;season&#x27;, &#x27;day_of_week&#x27;, &#x27;is_holiday&#x27;]</pre></div> </div></div><div class=\"sk-serial\"><div class=\"sk-item\"><div class=\"sk-estimator fitted sk-toggleable\"><input class=\"sk-toggleable__control sk-hidden--visually\" id=\"sk-estimator-id-5\" type=\"checkbox\" ><label for=\"sk-estimator-id-5\" class=\"sk-toggleable__label fitted sk-toggleable__label-arrow\"><div><div>OneHotEncoder</div></div><div><a class=\"sk-estimator-doc-link fitted\" rel=\"noreferrer\" target=\"_blank\" href=\"https://scikit-learn.org/1.6/modules/generated/sklearn.preprocessing.OneHotEncoder.html\">?<span>Documentation for OneHotEncoder</span></a></div></label><div class=\"sk-toggleable__content fitted\"><pre>OneHotEncoder(categories=[[False, True], [False, True],\n",
       "                          [&#x27;Winter&#x27;, &#x27;Spring&#x27;, &#x27;Summer&#x27;, &#x27;Fall&#x27;],\n",
       "                          [&#x27;Monday&#x27;, &#x27;Tuesday&#x27;, &#x27;Wednesday&#x27;, &#x27;Thursday&#x27;,\n",
       "                           &#x27;Friday&#x27;, &#x27;Saturday&#x27;, &#x27;Sunday&#x27;],\n",
       "                          [False, True]],\n",
       "              drop=&#x27;first&#x27;)</pre></div> </div></div></div></div></div><div class=\"sk-parallel-item\"><div class=\"sk-item\"><div class=\"sk-label-container\"><div class=\"sk-label fitted sk-toggleable\"><input class=\"sk-toggleable__control sk-hidden--visually\" id=\"sk-estimator-id-6\" type=\"checkbox\" ><label for=\"sk-estimator-id-6\" class=\"sk-toggleable__label fitted sk-toggleable__label-arrow\"><div><div>standardscaler</div></div></label><div class=\"sk-toggleable__content fitted\"><pre>[&#x27;hours_opened&#x27;, &#x27;avg_temperature&#x27;, &#x27;rain&#x27;, &#x27;snow&#x27;]</pre></div> </div></div><div class=\"sk-serial\"><div class=\"sk-item\"><div class=\"sk-estimator fitted sk-toggleable\"><input class=\"sk-toggleable__control sk-hidden--visually\" id=\"sk-estimator-id-7\" type=\"checkbox\" ><label for=\"sk-estimator-id-7\" class=\"sk-toggleable__label fitted sk-toggleable__label-arrow\"><div><div>StandardScaler</div></div><div><a class=\"sk-estimator-doc-link fitted\" rel=\"noreferrer\" target=\"_blank\" href=\"https://scikit-learn.org/1.6/modules/generated/sklearn.preprocessing.StandardScaler.html\">?<span>Documentation for StandardScaler</span></a></div></label><div class=\"sk-toggleable__content fitted\"><pre>StandardScaler()</pre></div> </div></div></div></div></div></div></div><div class=\"sk-item\"><div class=\"sk-estimator fitted sk-toggleable\"><input class=\"sk-toggleable__control sk-hidden--visually\" id=\"sk-estimator-id-8\" type=\"checkbox\" ><label for=\"sk-estimator-id-8\" class=\"sk-toggleable__label fitted sk-toggleable__label-arrow\"><div><div>RandomForestRegressor</div></div><div><a class=\"sk-estimator-doc-link fitted\" rel=\"noreferrer\" target=\"_blank\" href=\"https://scikit-learn.org/1.6/modules/generated/sklearn.ensemble.RandomForestRegressor.html\">?<span>Documentation for RandomForestRegressor</span></a></div></label><div class=\"sk-toggleable__content fitted\"><pre>RandomForestRegressor(criterion=&#x27;absolute_error&#x27;, max_depth=20,\n",
       "                      max_features=&#x27;sqrt&#x27;, min_samples_split=5, n_estimators=50,\n",
       "                      random_state=123)</pre></div> </div></div></div></div></div></div></div></div></div></div></div>"
      ],
      "text/plain": [
       "GridSearchCV(cv=5,\n",
       "             estimator=Pipeline(steps=[('columntransformer',\n",
       "                                        ColumnTransformer(transformers=[('onehotencoder',\n",
       "                                                                         OneHotEncoder(categories=[[False,\n",
       "                                                                                                    True],\n",
       "                                                                                                   [False,\n",
       "                                                                                                    True],\n",
       "                                                                                                   ['Winter',\n",
       "                                                                                                    'Spring',\n",
       "                                                                                                    'Summer',\n",
       "                                                                                                    'Fall'],\n",
       "                                                                                                   ['Monday',\n",
       "                                                                                                    'Tuesday',\n",
       "                                                                                                    'Wednesday',\n",
       "                                                                                                    'Thursday',\n",
       "                                                                                                    'Friday',\n",
       "                                                                                                    'Saturday',\n",
       "                                                                                                    'Sunday'],\n",
       "                                                                                                   [False,\n",
       "                                                                                                    True]],\n",
       "                                                                                       drop='first'),\n",
       "                                                                         ['is_long_weekend',\n",
       "                                                                          'is_HCF',\n",
       "                                                                          'season',\n",
       "                                                                          'day_of_we...\n",
       "                                                              random_state=123))]),\n",
       "             n_jobs=-1,\n",
       "             param_grid={'randomforestregressor__max_depth': [None, 5, 10, 20],\n",
       "                         'randomforestregressor__max_features': ['sqrt',\n",
       "                                                                 'log2'],\n",
       "                         'randomforestregressor__min_samples_leaf': [1, 2, 4],\n",
       "                         'randomforestregressor__min_samples_split': [2, 5, 10],\n",
       "                         'randomforestregressor__n_estimators': [10, 50, 100]},\n",
       "             return_train_score=True, scoring='neg_mean_absolute_error')"
      ]
     },
     "execution_count": 12,
     "metadata": {},
     "output_type": "execute_result"
    }
   ],
   "source": [
    "param_grid = {\n",
    "    'randomforestregressor__n_estimators': [10, 50, 100],\n",
    "    'randomforestregressor__max_features': ['sqrt', 'log2'],\n",
    "    'randomforestregressor__max_depth': [None, 5, 10, 20],\n",
    "    'randomforestregressor__min_samples_split': [2, 5, 10],\n",
    "    'randomforestregressor__min_samples_leaf': [1, 2, 4],\n",
    "}\n",
    "\n",
    "rf = RandomForestRegressor(criterion='absolute_error',random_state=123)\n",
    "preprocessor = make_column_transformer(\n",
    "    (OneHotEncoder(drop='first', categories=category_orders), categorical_features),\n",
    "    (StandardScaler(), numerical_features)\n",
    ")\n",
    "rf_pipe = make_pipeline(preprocessor, rf)\n",
    "\n",
    "grid_search = GridSearchCV(rf_pipe, param_grid, n_jobs=-1, cv=5, return_train_score = True, scoring = 'neg_mean_absolute_error')\n",
    "grid_search.fit(X_train, y_train)"
   ]
  },
  {
   "cell_type": "code",
   "execution_count": 13,
   "metadata": {},
   "outputs": [
    {
     "data": {
      "text/html": [
       "<div>\n",
       "<style scoped>\n",
       "    .dataframe tbody tr th:only-of-type {\n",
       "        vertical-align: middle;\n",
       "    }\n",
       "\n",
       "    .dataframe tbody tr th {\n",
       "        vertical-align: top;\n",
       "    }\n",
       "\n",
       "    .dataframe thead th {\n",
       "        text-align: right;\n",
       "    }\n",
       "</style>\n",
       "<table border=\"1\" class=\"dataframe\">\n",
       "  <thead>\n",
       "    <tr style=\"text-align: right;\">\n",
       "      <th></th>\n",
       "      <th>mean_test_score</th>\n",
       "      <th>mean_train_score</th>\n",
       "      <th>mean_fit_time</th>\n",
       "      <th>mean_score_time</th>\n",
       "      <th>param_randomforestregressor__max_depth</th>\n",
       "      <th>param_randomforestregressor__max_features</th>\n",
       "      <th>param_randomforestregressor__min_samples_leaf</th>\n",
       "      <th>param_randomforestregressor__min_samples_split</th>\n",
       "      <th>param_randomforestregressor__n_estimators</th>\n",
       "    </tr>\n",
       "    <tr>\n",
       "      <th>rank_test_score</th>\n",
       "      <th></th>\n",
       "      <th></th>\n",
       "      <th></th>\n",
       "      <th></th>\n",
       "      <th></th>\n",
       "      <th></th>\n",
       "      <th></th>\n",
       "      <th></th>\n",
       "      <th></th>\n",
       "    </tr>\n",
       "  </thead>\n",
       "  <tbody>\n",
       "    <tr>\n",
       "      <th>1</th>\n",
       "      <td>-532.725413</td>\n",
       "      <td>-251.268660</td>\n",
       "      <td>0.077702</td>\n",
       "      <td>0.007217</td>\n",
       "      <td>20</td>\n",
       "      <td>log2</td>\n",
       "      <td>1</td>\n",
       "      <td>5</td>\n",
       "      <td>50</td>\n",
       "    </tr>\n",
       "    <tr>\n",
       "      <th>1</th>\n",
       "      <td>-532.725413</td>\n",
       "      <td>-251.268660</td>\n",
       "      <td>0.075962</td>\n",
       "      <td>0.007737</td>\n",
       "      <td>20</td>\n",
       "      <td>sqrt</td>\n",
       "      <td>1</td>\n",
       "      <td>5</td>\n",
       "      <td>50</td>\n",
       "    </tr>\n",
       "    <tr>\n",
       "      <th>3</th>\n",
       "      <td>-532.764806</td>\n",
       "      <td>-251.334406</td>\n",
       "      <td>0.137882</td>\n",
       "      <td>0.007583</td>\n",
       "      <td>None</td>\n",
       "      <td>sqrt</td>\n",
       "      <td>1</td>\n",
       "      <td>5</td>\n",
       "      <td>50</td>\n",
       "    </tr>\n",
       "    <tr>\n",
       "      <th>3</th>\n",
       "      <td>-532.764806</td>\n",
       "      <td>-251.334406</td>\n",
       "      <td>0.087690</td>\n",
       "      <td>0.008874</td>\n",
       "      <td>None</td>\n",
       "      <td>log2</td>\n",
       "      <td>1</td>\n",
       "      <td>5</td>\n",
       "      <td>50</td>\n",
       "    </tr>\n",
       "    <tr>\n",
       "      <th>5</th>\n",
       "      <td>-533.510144</td>\n",
       "      <td>-210.073821</td>\n",
       "      <td>0.173405</td>\n",
       "      <td>0.008991</td>\n",
       "      <td>10</td>\n",
       "      <td>log2</td>\n",
       "      <td>1</td>\n",
       "      <td>2</td>\n",
       "      <td>100</td>\n",
       "    </tr>\n",
       "    <tr>\n",
       "      <th>...</th>\n",
       "      <td>...</td>\n",
       "      <td>...</td>\n",
       "      <td>...</td>\n",
       "      <td>...</td>\n",
       "      <td>...</td>\n",
       "      <td>...</td>\n",
       "      <td>...</td>\n",
       "      <td>...</td>\n",
       "      <td>...</td>\n",
       "    </tr>\n",
       "    <tr>\n",
       "      <th>211</th>\n",
       "      <td>-675.337636</td>\n",
       "      <td>-444.443055</td>\n",
       "      <td>0.013372</td>\n",
       "      <td>0.004409</td>\n",
       "      <td>5</td>\n",
       "      <td>sqrt</td>\n",
       "      <td>4</td>\n",
       "      <td>5</td>\n",
       "      <td>10</td>\n",
       "    </tr>\n",
       "    <tr>\n",
       "      <th>211</th>\n",
       "      <td>-675.337636</td>\n",
       "      <td>-444.443055</td>\n",
       "      <td>0.016325</td>\n",
       "      <td>0.002874</td>\n",
       "      <td>5</td>\n",
       "      <td>log2</td>\n",
       "      <td>4</td>\n",
       "      <td>2</td>\n",
       "      <td>10</td>\n",
       "    </tr>\n",
       "    <tr>\n",
       "      <th>211</th>\n",
       "      <td>-675.337636</td>\n",
       "      <td>-444.443055</td>\n",
       "      <td>0.016485</td>\n",
       "      <td>0.004401</td>\n",
       "      <td>5</td>\n",
       "      <td>sqrt</td>\n",
       "      <td>4</td>\n",
       "      <td>2</td>\n",
       "      <td>10</td>\n",
       "    </tr>\n",
       "    <tr>\n",
       "      <th>215</th>\n",
       "      <td>-680.119484</td>\n",
       "      <td>-450.370317</td>\n",
       "      <td>0.017051</td>\n",
       "      <td>0.004418</td>\n",
       "      <td>5</td>\n",
       "      <td>log2</td>\n",
       "      <td>4</td>\n",
       "      <td>10</td>\n",
       "      <td>10</td>\n",
       "    </tr>\n",
       "    <tr>\n",
       "      <th>215</th>\n",
       "      <td>-680.119484</td>\n",
       "      <td>-450.370317</td>\n",
       "      <td>0.014545</td>\n",
       "      <td>0.002857</td>\n",
       "      <td>5</td>\n",
       "      <td>sqrt</td>\n",
       "      <td>4</td>\n",
       "      <td>10</td>\n",
       "      <td>10</td>\n",
       "    </tr>\n",
       "  </tbody>\n",
       "</table>\n",
       "<p>216 rows × 9 columns</p>\n",
       "</div>"
      ],
      "text/plain": [
       "                 mean_test_score  mean_train_score  mean_fit_time  \\\n",
       "rank_test_score                                                     \n",
       "1                    -532.725413       -251.268660       0.077702   \n",
       "1                    -532.725413       -251.268660       0.075962   \n",
       "3                    -532.764806       -251.334406       0.137882   \n",
       "3                    -532.764806       -251.334406       0.087690   \n",
       "5                    -533.510144       -210.073821       0.173405   \n",
       "...                          ...               ...            ...   \n",
       "211                  -675.337636       -444.443055       0.013372   \n",
       "211                  -675.337636       -444.443055       0.016325   \n",
       "211                  -675.337636       -444.443055       0.016485   \n",
       "215                  -680.119484       -450.370317       0.017051   \n",
       "215                  -680.119484       -450.370317       0.014545   \n",
       "\n",
       "                 mean_score_time param_randomforestregressor__max_depth  \\\n",
       "rank_test_score                                                           \n",
       "1                       0.007217                                     20   \n",
       "1                       0.007737                                     20   \n",
       "3                       0.007583                                   None   \n",
       "3                       0.008874                                   None   \n",
       "5                       0.008991                                     10   \n",
       "...                          ...                                    ...   \n",
       "211                     0.004409                                      5   \n",
       "211                     0.002874                                      5   \n",
       "211                     0.004401                                      5   \n",
       "215                     0.004418                                      5   \n",
       "215                     0.002857                                      5   \n",
       "\n",
       "                param_randomforestregressor__max_features  \\\n",
       "rank_test_score                                             \n",
       "1                                                    log2   \n",
       "1                                                    sqrt   \n",
       "3                                                    sqrt   \n",
       "3                                                    log2   \n",
       "5                                                    log2   \n",
       "...                                                   ...   \n",
       "211                                                  sqrt   \n",
       "211                                                  log2   \n",
       "211                                                  sqrt   \n",
       "215                                                  log2   \n",
       "215                                                  sqrt   \n",
       "\n",
       "                 param_randomforestregressor__min_samples_leaf  \\\n",
       "rank_test_score                                                  \n",
       "1                                                            1   \n",
       "1                                                            1   \n",
       "3                                                            1   \n",
       "3                                                            1   \n",
       "5                                                            1   \n",
       "...                                                        ...   \n",
       "211                                                          4   \n",
       "211                                                          4   \n",
       "211                                                          4   \n",
       "215                                                          4   \n",
       "215                                                          4   \n",
       "\n",
       "                 param_randomforestregressor__min_samples_split  \\\n",
       "rank_test_score                                                   \n",
       "1                                                             5   \n",
       "1                                                             5   \n",
       "3                                                             5   \n",
       "3                                                             5   \n",
       "5                                                             2   \n",
       "...                                                         ...   \n",
       "211                                                           5   \n",
       "211                                                           2   \n",
       "211                                                           2   \n",
       "215                                                          10   \n",
       "215                                                          10   \n",
       "\n",
       "                 param_randomforestregressor__n_estimators  \n",
       "rank_test_score                                             \n",
       "1                                                       50  \n",
       "1                                                       50  \n",
       "3                                                       50  \n",
       "3                                                       50  \n",
       "5                                                      100  \n",
       "...                                                    ...  \n",
       "211                                                     10  \n",
       "211                                                     10  \n",
       "211                                                     10  \n",
       "215                                                     10  \n",
       "215                                                     10  \n",
       "\n",
       "[216 rows x 9 columns]"
      ]
     },
     "execution_count": 13,
     "metadata": {},
     "output_type": "execute_result"
    }
   ],
   "source": [
    "pd.DataFrame(grid_search.cv_results_)[\n",
    "\n",
    "    ['rank_test_score',\n",
    "     'mean_test_score',\n",
    "     'mean_train_score',\n",
    "     'mean_fit_time',\n",
    "     'mean_score_time',\n",
    "     'param_randomforestregressor__max_depth', \n",
    "     'param_randomforestregressor__max_features', \n",
    "     'param_randomforestregressor__min_samples_leaf', \n",
    "     'param_randomforestregressor__min_samples_split', \n",
    "     'param_randomforestregressor__n_estimators',\n",
    "    ]\n",
    "].set_index('rank_test_score').sort_index()"
   ]
  }
 ],
 "metadata": {
  "kernelspec": {
   "display_name": "sales_forecast",
   "language": "python",
   "name": "python3"
  },
  "language_info": {
   "codemirror_mode": {
    "name": "ipython",
    "version": 3
   },
   "file_extension": ".py",
   "mimetype": "text/x-python",
   "name": "python",
   "nbconvert_exporter": "python",
   "pygments_lexer": "ipython3",
   "version": "3.9.23"
  }
 },
 "nbformat": 4,
 "nbformat_minor": 2
}
