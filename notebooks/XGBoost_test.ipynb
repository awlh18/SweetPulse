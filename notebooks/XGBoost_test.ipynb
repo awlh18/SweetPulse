{
 "cells": [
  {
   "cell_type": "code",
   "execution_count": 1,
   "metadata": {},
   "outputs": [
    {
     "name": "stderr",
     "output_type": "stream",
     "text": [
      "/Users/alexwong/miniforge3/envs/sweet_pulse/lib/python3.9/site-packages/tqdm/auto.py:21: TqdmWarning: IProgress not found. Please update jupyter and ipywidgets. See https://ipywidgets.readthedocs.io/en/stable/user_install.html\n",
      "  from .autonotebook import tqdm as notebook_tqdm\n"
     ]
    }
   ],
   "source": [
    "# Core libraries\n",
    "import numpy as np\n",
    "import pandas as pd\n",
    "import calendar\n",
    "import os\n",
    "import sys\n",
    "import pickle\n",
    "\n",
    "# Visualization\n",
    "import matplotlib.pyplot as plt\n",
    "import seaborn as sns\n",
    "import plotly.express as px\n",
    "import plotly.graph_objects as go\n",
    "# import altair_ally as aly\n",
    "\n",
    "# Time series analysis\n",
    "from statsmodels.tsa.api import SimpleExpSmoothing, Holt, seasonal_decompose, SARIMAX\n",
    "from statsmodels.tsa.arima.model import ARIMA\n",
    "from statsmodels.tsa.stattools import adfuller\n",
    "from statsmodels.graphics.tsaplots import plot_acf, plot_pacf\n",
    "import statsmodels.api as sm\n",
    "import statsmodels.formula.api as smf\n",
    "\n",
    "# Forecasting models\n",
    "# from pmdarima import auto_arima\n",
    "\n",
    "# ML models\n",
    "from sklearn.linear_model import LinearRegression\n",
    "from xgboost import XGBRegressor\n",
    "from sklearn.ensemble import RandomForestRegressor\n",
    "\n",
    "# Preprocessing and pipelines\n",
    "from sklearn.compose import make_column_transformer\n",
    "from sklearn.preprocessing import OneHotEncoder, StandardScaler\n",
    "from sklearn.pipeline import make_pipeline\n",
    "\n",
    "# Model evaluation and cross-validation\n",
    "from sklearn.metrics import mean_squared_error, mean_absolute_error\n",
    "from sklearn.model_selection import (\n",
    "    train_test_split, TimeSeriesSplit, cross_validate, GridSearchCV\n",
    ")\n",
    "import shap \n",
    "\n",
    "# Optimization\n",
    "from scipy.optimize import minimize\n",
    "\n",
    "# sktime\n",
    "from sktime.forecasting.model_selection import ForecastingGridSearchCV, ExpandingWindowSplitter\n",
    "from sktime.forecasting.compose import make_reduction\n",
    "from sktime.forecasting.base import ForecastingHorizon\n"
   ]
  },
  {
   "cell_type": "code",
   "execution_count": 2,
   "metadata": {},
   "outputs": [],
   "source": [
    "train_df = pd.read_csv('../data/modelling/train.csv', index_col=0, parse_dates=True)\n",
    "test_df = pd.read_csv('../data/modelling/test.csv', index_col=0, parse_dates=True)"
   ]
  },
  {
   "cell_type": "code",
   "execution_count": 3,
   "metadata": {},
   "outputs": [],
   "source": [
    "X_train = train_df.drop(columns=['total_sales_normalized'])\n",
    "y_train = train_df['total_sales_normalized']\n",
    "\n",
    "X_test = test_df.drop(columns=['total_sales_normalized'])\n",
    "y_test = test_df['total_sales_normalized']"
   ]
  },
  {
   "cell_type": "code",
   "execution_count": 4,
   "metadata": {},
   "outputs": [],
   "source": [
    "numerical_features = ['hours_opened', 'avg_temperature', 'rain', 'snow']\n",
    "categorical_features = ['is_long_weekend', 'is_HCF', 'season', 'day_of_week', 'is_holiday']\n",
    "category_orders = [\n",
    "    [False, True],  # is_long_weekend\n",
    "    [False, True],  # is_HCF\n",
    "    ['Winter', 'Spring', 'Summer', 'Fall'],  # season\n",
    "    ['Monday', 'Tuesday', 'Wednesday', 'Thursday', 'Friday', 'Saturday', 'Sunday'],  # day_of_week\n",
    "    [False, True]  # is_holiday\n",
    "]\n",
    "drop_features = ['total_sales_normalized', 'item_B_sales', 'item_C_sales']\n",
    "\n",
    "preprocessor = make_column_transformer(\n",
    "    (OneHotEncoder(drop='first', categories=category_orders), categorical_features),\n",
    "    (StandardScaler(), numerical_features),\n",
    "    (\"drop\", drop_features)\n",
    ")\n",
    "\n",
    "\n",
    "xgb = XGBRegressor(random_state=123)\n",
    "preprocessor = make_column_transformer(\n",
    "    (OneHotEncoder(drop='first', categories=category_orders), categorical_features),\n",
    "    (StandardScaler(), numerical_features)\n",
    ")\n",
    "\n",
    "xgb_pipe = make_pipeline(preprocessor, xgb)"
   ]
  },
  {
   "cell_type": "code",
   "execution_count": 5,
   "metadata": {},
   "outputs": [],
   "source": [
    "xgb_pipe.fit(X_train, y_train)\n",
    "y_pred = xgb_pipe.predict(X_test)\n",
    "y_train_pred = xgb_pipe.predict(X_train)"
   ]
  },
  {
   "cell_type": "code",
   "execution_count": 6,
   "metadata": {},
   "outputs": [
    {
     "data": {
      "application/vnd.plotly.v1+json": {
       "config": {
        "plotlyServerURL": "https://plot.ly"
       },
       "data": [
        {
         "hovertemplate": "label=train<br>date=%{x}<br>total_sales_normalized=%{y}<extra></extra>",
         "legendgroup": "train",
         "line": {
          "color": "#1f77b4",
          "dash": "solid"
         },
         "marker": {
          "symbol": "circle"
         },
         "mode": "lines",
         "name": "train",
         "orientation": "v",
         "showlegend": true,
         "type": "scatter",
         "x": [
          "2024-06-01T00:00:00",
          "2024-06-02T00:00:00",
          "2024-06-03T00:00:00",
          "2024-06-04T00:00:00",
          "2024-06-05T00:00:00",
          "2024-06-06T00:00:00",
          "2024-06-07T00:00:00",
          "2024-06-08T00:00:00",
          "2024-06-09T00:00:00",
          "2024-06-10T00:00:00",
          "2024-06-11T00:00:00",
          "2024-06-12T00:00:00",
          "2024-06-13T00:00:00",
          "2024-06-14T00:00:00",
          "2024-06-15T00:00:00",
          "2024-06-16T00:00:00",
          "2024-06-17T00:00:00",
          "2024-06-18T00:00:00",
          "2024-06-19T00:00:00",
          "2024-06-20T00:00:00",
          "2024-06-21T00:00:00",
          "2024-06-22T00:00:00",
          "2024-06-23T00:00:00",
          "2024-06-24T00:00:00",
          "2024-06-25T00:00:00",
          "2024-06-26T00:00:00",
          "2024-06-27T00:00:00",
          "2024-06-28T00:00:00",
          "2024-06-29T00:00:00",
          "2024-06-30T00:00:00",
          "2024-07-01T00:00:00",
          "2024-07-02T00:00:00",
          "2024-07-03T00:00:00",
          "2024-07-04T00:00:00",
          "2024-07-05T00:00:00",
          "2024-07-06T00:00:00",
          "2024-07-07T00:00:00",
          "2024-07-08T00:00:00",
          "2024-07-09T00:00:00",
          "2024-07-10T00:00:00",
          "2024-07-11T00:00:00",
          "2024-07-12T00:00:00",
          "2024-07-13T00:00:00",
          "2024-07-14T00:00:00",
          "2024-07-15T00:00:00",
          "2024-07-16T00:00:00",
          "2024-07-17T00:00:00",
          "2024-07-18T00:00:00",
          "2024-07-19T00:00:00",
          "2024-07-20T00:00:00",
          "2024-07-21T00:00:00",
          "2024-07-22T00:00:00",
          "2024-07-23T00:00:00",
          "2024-07-24T00:00:00",
          "2024-07-25T00:00:00",
          "2024-07-26T00:00:00",
          "2024-07-27T00:00:00",
          "2024-07-28T00:00:00",
          "2024-07-29T00:00:00",
          "2024-07-30T00:00:00",
          "2024-07-31T00:00:00",
          "2024-08-01T00:00:00",
          "2024-08-02T00:00:00",
          "2024-08-03T00:00:00",
          "2024-08-04T00:00:00",
          "2024-08-05T00:00:00",
          "2024-08-06T00:00:00",
          "2024-08-07T00:00:00",
          "2024-08-08T00:00:00",
          "2024-08-09T00:00:00",
          "2024-08-10T00:00:00",
          "2024-08-11T00:00:00",
          "2024-08-12T00:00:00",
          "2024-08-13T00:00:00",
          "2024-08-14T00:00:00",
          "2024-08-15T00:00:00",
          "2024-08-16T00:00:00",
          "2024-08-17T00:00:00",
          "2024-08-18T00:00:00",
          "2024-08-19T00:00:00",
          "2024-08-20T00:00:00",
          "2024-08-21T00:00:00",
          "2024-08-22T00:00:00",
          "2024-08-23T00:00:00",
          "2024-08-24T00:00:00",
          "2024-08-25T00:00:00",
          "2024-08-26T00:00:00",
          "2024-08-27T00:00:00",
          "2024-08-28T00:00:00",
          "2024-08-29T00:00:00",
          "2024-08-30T00:00:00",
          "2024-08-31T00:00:00",
          "2024-09-01T00:00:00",
          "2024-09-02T00:00:00",
          "2024-09-03T00:00:00",
          "2024-09-04T00:00:00",
          "2024-09-05T00:00:00",
          "2024-09-06T00:00:00",
          "2024-09-07T00:00:00",
          "2024-09-08T00:00:00",
          "2024-09-09T00:00:00",
          "2024-09-10T00:00:00",
          "2024-09-11T00:00:00",
          "2024-09-12T00:00:00",
          "2024-09-13T00:00:00",
          "2024-09-14T00:00:00",
          "2024-09-15T00:00:00",
          "2024-09-16T00:00:00",
          "2024-09-17T00:00:00",
          "2024-09-18T00:00:00",
          "2024-09-19T00:00:00",
          "2024-09-20T00:00:00",
          "2024-09-21T00:00:00",
          "2024-09-22T00:00:00",
          "2024-09-23T00:00:00",
          "2024-09-24T00:00:00",
          "2024-09-25T00:00:00",
          "2024-09-26T00:00:00",
          "2024-09-27T00:00:00",
          "2024-09-28T00:00:00",
          "2024-09-29T00:00:00",
          "2024-09-30T00:00:00",
          "2024-10-01T00:00:00",
          "2024-10-02T00:00:00",
          "2024-10-03T00:00:00",
          "2024-10-04T00:00:00",
          "2024-10-05T00:00:00",
          "2024-10-06T00:00:00",
          "2024-10-07T00:00:00",
          "2024-10-08T00:00:00",
          "2024-10-09T00:00:00",
          "2024-10-10T00:00:00",
          "2024-10-11T00:00:00",
          "2024-10-12T00:00:00",
          "2024-10-13T00:00:00",
          "2024-10-14T00:00:00",
          "2024-10-15T00:00:00",
          "2024-10-16T00:00:00",
          "2024-10-17T00:00:00",
          "2024-10-18T00:00:00",
          "2024-10-19T00:00:00",
          "2024-10-20T00:00:00",
          "2024-10-21T00:00:00",
          "2024-10-22T00:00:00",
          "2024-10-23T00:00:00",
          "2024-10-24T00:00:00",
          "2024-10-25T00:00:00",
          "2024-10-26T00:00:00",
          "2024-10-27T00:00:00",
          "2024-10-28T00:00:00",
          "2024-10-29T00:00:00",
          "2024-10-30T00:00:00",
          "2024-10-31T00:00:00",
          "2024-11-01T00:00:00",
          "2024-11-02T00:00:00",
          "2024-11-03T00:00:00",
          "2024-11-05T00:00:00",
          "2024-11-06T00:00:00",
          "2024-11-07T00:00:00",
          "2024-11-08T00:00:00",
          "2024-11-09T00:00:00",
          "2024-11-10T00:00:00",
          "2024-11-11T00:00:00",
          "2024-11-12T00:00:00",
          "2024-11-13T00:00:00",
          "2024-11-14T00:00:00",
          "2024-11-15T00:00:00",
          "2024-11-16T00:00:00",
          "2024-11-17T00:00:00",
          "2024-11-18T00:00:00",
          "2024-11-19T00:00:00",
          "2024-11-20T00:00:00",
          "2024-11-21T00:00:00",
          "2024-11-22T00:00:00",
          "2024-11-23T00:00:00",
          "2024-11-24T00:00:00",
          "2024-11-25T00:00:00",
          "2024-11-26T00:00:00",
          "2024-11-27T00:00:00",
          "2024-11-28T00:00:00",
          "2024-11-29T00:00:00",
          "2024-11-30T00:00:00",
          "2024-12-01T00:00:00",
          "2024-12-02T00:00:00",
          "2024-12-03T00:00:00",
          "2024-12-04T00:00:00",
          "2024-12-05T00:00:00",
          "2024-12-06T00:00:00",
          "2024-12-07T00:00:00",
          "2024-12-08T00:00:00",
          "2024-12-09T00:00:00",
          "2024-12-10T00:00:00",
          "2024-12-11T00:00:00",
          "2024-12-12T00:00:00",
          "2024-12-13T00:00:00",
          "2024-12-14T00:00:00",
          "2024-12-15T00:00:00",
          "2024-12-16T00:00:00",
          "2024-12-17T00:00:00",
          "2024-12-18T00:00:00",
          "2024-12-19T00:00:00",
          "2024-12-20T00:00:00",
          "2024-12-21T00:00:00",
          "2024-12-22T00:00:00",
          "2024-12-23T00:00:00",
          "2024-12-24T00:00:00",
          "2024-12-25T00:00:00",
          "2024-12-26T00:00:00",
          "2024-12-27T00:00:00",
          "2024-12-28T00:00:00",
          "2024-12-29T00:00:00",
          "2024-12-30T00:00:00",
          "2024-12-31T00:00:00",
          "2025-01-01T00:00:00",
          "2025-01-02T00:00:00",
          "2025-01-03T00:00:00",
          "2025-01-04T00:00:00",
          "2025-01-05T00:00:00",
          "2025-01-06T00:00:00",
          "2025-01-07T00:00:00",
          "2025-01-08T00:00:00",
          "2025-01-09T00:00:00",
          "2025-01-10T00:00:00",
          "2025-01-11T00:00:00",
          "2025-01-12T00:00:00",
          "2025-01-13T00:00:00",
          "2025-01-14T00:00:00",
          "2025-01-15T00:00:00",
          "2025-01-16T00:00:00",
          "2025-01-17T00:00:00",
          "2025-01-18T00:00:00",
          "2025-01-19T00:00:00",
          "2025-01-20T00:00:00",
          "2025-01-21T00:00:00",
          "2025-01-22T00:00:00",
          "2025-01-23T00:00:00",
          "2025-01-24T00:00:00",
          "2025-01-25T00:00:00",
          "2025-01-26T00:00:00",
          "2025-01-27T00:00:00",
          "2025-01-28T00:00:00",
          "2025-01-29T00:00:00",
          "2025-01-30T00:00:00",
          "2025-01-31T00:00:00",
          "2025-02-01T00:00:00",
          "2025-02-02T00:00:00",
          "2025-02-03T00:00:00",
          "2025-02-04T00:00:00",
          "2025-02-05T00:00:00",
          "2025-02-06T00:00:00",
          "2025-02-07T00:00:00",
          "2025-02-08T00:00:00",
          "2025-02-09T00:00:00",
          "2025-02-10T00:00:00",
          "2025-02-11T00:00:00",
          "2025-02-12T00:00:00",
          "2025-02-13T00:00:00",
          "2025-02-14T00:00:00",
          "2025-02-15T00:00:00",
          "2025-02-16T00:00:00",
          "2025-02-17T00:00:00",
          "2025-02-18T00:00:00",
          "2025-02-19T00:00:00",
          "2025-02-20T00:00:00",
          "2025-02-21T00:00:00",
          "2025-02-22T00:00:00",
          "2025-02-23T00:00:00",
          "2025-02-24T00:00:00",
          "2025-02-25T00:00:00",
          "2025-02-26T00:00:00",
          "2025-02-27T00:00:00",
          "2025-02-28T00:00:00",
          "2025-03-01T00:00:00",
          "2025-03-02T00:00:00",
          "2025-03-03T00:00:00",
          "2025-03-04T00:00:00",
          "2025-03-05T00:00:00",
          "2025-03-06T00:00:00",
          "2025-03-07T00:00:00",
          "2025-03-08T00:00:00",
          "2025-03-09T00:00:00",
          "2025-03-10T00:00:00",
          "2025-03-11T00:00:00",
          "2025-03-12T00:00:00",
          "2025-03-13T00:00:00",
          "2025-03-14T00:00:00",
          "2025-03-15T00:00:00",
          "2025-03-16T00:00:00",
          "2025-03-17T00:00:00",
          "2025-03-18T00:00:00",
          "2025-03-19T00:00:00",
          "2025-03-20T00:00:00",
          "2025-03-21T00:00:00",
          "2025-03-22T00:00:00",
          "2025-03-23T00:00:00",
          "2025-03-24T00:00:00",
          "2025-03-25T00:00:00",
          "2025-03-26T00:00:00",
          "2025-03-27T00:00:00",
          "2025-03-28T00:00:00",
          "2025-03-29T00:00:00",
          "2025-03-30T00:00:00",
          "2025-04-01T00:00:00",
          "2025-04-02T00:00:00",
          "2025-04-03T00:00:00",
          "2025-04-04T00:00:00",
          "2025-04-05T00:00:00",
          "2025-04-06T00:00:00",
          "2025-04-08T00:00:00"
         ],
         "xaxis": "x",
         "y": {
          "bdata": "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",
          "dtype": "f8"
         },
         "yaxis": "y"
        },
        {
         "hovertemplate": "label=test<br>date=%{x}<br>total_sales_normalized=%{y}<extra></extra>",
         "legendgroup": "test",
         "line": {
          "color": "#d62728",
          "dash": "solid"
         },
         "marker": {
          "symbol": "circle"
         },
         "mode": "lines",
         "name": "test",
         "orientation": "v",
         "showlegend": true,
         "type": "scatter",
         "x": [
          "2025-04-09T00:00:00",
          "2025-04-10T00:00:00",
          "2025-04-11T00:00:00",
          "2025-04-12T00:00:00",
          "2025-04-13T00:00:00",
          "2025-04-14T00:00:00",
          "2025-04-15T00:00:00",
          "2025-04-16T00:00:00",
          "2025-04-17T00:00:00",
          "2025-04-18T00:00:00",
          "2025-04-19T00:00:00",
          "2025-04-20T00:00:00",
          "2025-04-21T00:00:00",
          "2025-04-22T00:00:00",
          "2025-04-23T00:00:00",
          "2025-04-24T00:00:00",
          "2025-04-25T00:00:00",
          "2025-04-26T00:00:00",
          "2025-04-27T00:00:00",
          "2025-04-28T00:00:00",
          "2025-04-29T00:00:00",
          "2025-04-30T00:00:00",
          "2025-05-01T00:00:00",
          "2025-05-02T00:00:00",
          "2025-05-03T00:00:00",
          "2025-05-04T00:00:00",
          "2025-05-05T00:00:00",
          "2025-05-06T00:00:00",
          "2025-05-07T00:00:00",
          "2025-05-08T00:00:00"
         ],
         "xaxis": "x",
         "y": {
          "bdata": "j8L1KFyquEB7FK5HYfK3QDMzMzOzgb5A7FG4HiUdwUCkcD0KVzm/QHE9CtejPbhAcT0K1+NwuEAUrkfhOs+4QOxRuB4F/b1AexSuRwGpwkDXo3A96nHBQKRwPQo3ucBASOF6FO6EukDD9Shcjy+4QOF6FK5HrrhA7FG4HgUeu0AfhetR2CnAQArXo3Bd7sBA4XoUrodcwUDsUbgeheW3QFK4HoXr0rdApHA9ClekukAfhetR+OK5QIXrUbie7b1AXI/C9WiPwkAUrkfhunDBQJqZmZmZ4blAexSuR6EJuUApXI/CdX25QPYoXI/C7LdA",
          "dtype": "f8"
         },
         "yaxis": "y"
        },
        {
         "hovertemplate": "label=test_prediction<br>date=%{x}<br>total_sales_normalized=%{y}<extra></extra>",
         "legendgroup": "test_prediction",
         "line": {
          "color": "#8bc34a",
          "dash": "solid"
         },
         "marker": {
          "symbol": "circle"
         },
         "mode": "lines",
         "name": "test_prediction",
         "orientation": "v",
         "showlegend": true,
         "type": "scatter",
         "x": [
          "2025-04-09T00:00:00",
          "2025-04-10T00:00:00",
          "2025-04-11T00:00:00",
          "2025-04-12T00:00:00",
          "2025-04-13T00:00:00",
          "2025-04-14T00:00:00",
          "2025-04-15T00:00:00",
          "2025-04-16T00:00:00",
          "2025-04-17T00:00:00",
          "2025-04-18T00:00:00",
          "2025-04-19T00:00:00",
          "2025-04-20T00:00:00",
          "2025-04-21T00:00:00",
          "2025-04-22T00:00:00",
          "2025-04-23T00:00:00",
          "2025-04-24T00:00:00",
          "2025-04-25T00:00:00",
          "2025-04-26T00:00:00",
          "2025-04-27T00:00:00",
          "2025-04-28T00:00:00",
          "2025-04-29T00:00:00",
          "2025-04-30T00:00:00",
          "2025-05-01T00:00:00",
          "2025-05-02T00:00:00",
          "2025-05-03T00:00:00",
          "2025-05-04T00:00:00",
          "2025-05-05T00:00:00",
          "2025-05-06T00:00:00",
          "2025-05-07T00:00:00",
          "2025-05-08T00:00:00"
         ],
         "xaxis": "x",
         "y": {
          "bdata": "AAAAoGRCuEAAAADgvXK5QAAAAEDBG79AAAAA4CdDwUAAAABAqla/QAAAAOALoLhAAAAAANDwuEAAAAAg3TK5QAAAAABwOb5AAAAAoAE+v0AAAADAK4/BQAAAAMD4C8FAAAAAwEgDv0AAAAAAACK3QAAAAMDIi7hAAAAA4PVcuUAAAACg8bq9QAAAAMAPd8BAAAAAYC1tv0AAAADA9cS4QAAAAMDGT7lAAAAAwMFHuUAAAABA0dC5QAAAAMB1Nr5AAAAA4Mb5wEAAAADgp6a/QAAAAKBUF7lAAAAA4P1euEAAAADA0Mq5QAAAAOD1XLlA",
          "dtype": "f8"
         },
         "yaxis": "y"
        },
        {
         "hovertemplate": "label=train_prediction<br>date=%{x}<br>total_sales_normalized=%{y}<extra></extra>",
         "legendgroup": "train_prediction",
         "line": {
          "color": "#8bc34a",
          "dash": "solid"
         },
         "marker": {
          "symbol": "circle"
         },
         "mode": "lines",
         "name": "train_prediction",
         "orientation": "v",
         "showlegend": true,
         "type": "scatter",
         "x": [
          "2024-06-01T00:00:00",
          "2024-06-02T00:00:00",
          "2024-06-03T00:00:00",
          "2024-06-04T00:00:00",
          "2024-06-05T00:00:00",
          "2024-06-06T00:00:00",
          "2024-06-07T00:00:00",
          "2024-06-08T00:00:00",
          "2024-06-09T00:00:00",
          "2024-06-10T00:00:00",
          "2024-06-11T00:00:00",
          "2024-06-12T00:00:00",
          "2024-06-13T00:00:00",
          "2024-06-14T00:00:00",
          "2024-06-15T00:00:00",
          "2024-06-16T00:00:00",
          "2024-06-17T00:00:00",
          "2024-06-18T00:00:00",
          "2024-06-19T00:00:00",
          "2024-06-20T00:00:00",
          "2024-06-21T00:00:00",
          "2024-06-22T00:00:00",
          "2024-06-23T00:00:00",
          "2024-06-24T00:00:00",
          "2024-06-25T00:00:00",
          "2024-06-26T00:00:00",
          "2024-06-27T00:00:00",
          "2024-06-28T00:00:00",
          "2024-06-29T00:00:00",
          "2024-06-30T00:00:00",
          "2024-07-01T00:00:00",
          "2024-07-02T00:00:00",
          "2024-07-03T00:00:00",
          "2024-07-04T00:00:00",
          "2024-07-05T00:00:00",
          "2024-07-06T00:00:00",
          "2024-07-07T00:00:00",
          "2024-07-08T00:00:00",
          "2024-07-09T00:00:00",
          "2024-07-10T00:00:00",
          "2024-07-11T00:00:00",
          "2024-07-12T00:00:00",
          "2024-07-13T00:00:00",
          "2024-07-14T00:00:00",
          "2024-07-15T00:00:00",
          "2024-07-16T00:00:00",
          "2024-07-17T00:00:00",
          "2024-07-18T00:00:00",
          "2024-07-19T00:00:00",
          "2024-07-20T00:00:00",
          "2024-07-21T00:00:00",
          "2024-07-22T00:00:00",
          "2024-07-23T00:00:00",
          "2024-07-24T00:00:00",
          "2024-07-25T00:00:00",
          "2024-07-26T00:00:00",
          "2024-07-27T00:00:00",
          "2024-07-28T00:00:00",
          "2024-07-29T00:00:00",
          "2024-07-30T00:00:00",
          "2024-07-31T00:00:00",
          "2024-08-01T00:00:00",
          "2024-08-02T00:00:00",
          "2024-08-03T00:00:00",
          "2024-08-04T00:00:00",
          "2024-08-05T00:00:00",
          "2024-08-06T00:00:00",
          "2024-08-07T00:00:00",
          "2024-08-08T00:00:00",
          "2024-08-09T00:00:00",
          "2024-08-10T00:00:00",
          "2024-08-11T00:00:00",
          "2024-08-12T00:00:00",
          "2024-08-13T00:00:00",
          "2024-08-14T00:00:00",
          "2024-08-15T00:00:00",
          "2024-08-16T00:00:00",
          "2024-08-17T00:00:00",
          "2024-08-18T00:00:00",
          "2024-08-19T00:00:00",
          "2024-08-20T00:00:00",
          "2024-08-21T00:00:00",
          "2024-08-22T00:00:00",
          "2024-08-23T00:00:00",
          "2024-08-24T00:00:00",
          "2024-08-25T00:00:00",
          "2024-08-26T00:00:00",
          "2024-08-27T00:00:00",
          "2024-08-28T00:00:00",
          "2024-08-29T00:00:00",
          "2024-08-30T00:00:00",
          "2024-08-31T00:00:00",
          "2024-09-01T00:00:00",
          "2024-09-02T00:00:00",
          "2024-09-03T00:00:00",
          "2024-09-04T00:00:00",
          "2024-09-05T00:00:00",
          "2024-09-06T00:00:00",
          "2024-09-07T00:00:00",
          "2024-09-08T00:00:00",
          "2024-09-09T00:00:00",
          "2024-09-10T00:00:00",
          "2024-09-11T00:00:00",
          "2024-09-12T00:00:00",
          "2024-09-13T00:00:00",
          "2024-09-14T00:00:00",
          "2024-09-15T00:00:00",
          "2024-09-16T00:00:00",
          "2024-09-17T00:00:00",
          "2024-09-18T00:00:00",
          "2024-09-19T00:00:00",
          "2024-09-20T00:00:00",
          "2024-09-21T00:00:00",
          "2024-09-22T00:00:00",
          "2024-09-23T00:00:00",
          "2024-09-24T00:00:00",
          "2024-09-25T00:00:00",
          "2024-09-26T00:00:00",
          "2024-09-27T00:00:00",
          "2024-09-28T00:00:00",
          "2024-09-29T00:00:00",
          "2024-09-30T00:00:00",
          "2024-10-01T00:00:00",
          "2024-10-02T00:00:00",
          "2024-10-03T00:00:00",
          "2024-10-04T00:00:00",
          "2024-10-05T00:00:00",
          "2024-10-06T00:00:00",
          "2024-10-07T00:00:00",
          "2024-10-08T00:00:00",
          "2024-10-09T00:00:00",
          "2024-10-10T00:00:00",
          "2024-10-11T00:00:00",
          "2024-10-12T00:00:00",
          "2024-10-13T00:00:00",
          "2024-10-14T00:00:00",
          "2024-10-15T00:00:00",
          "2024-10-16T00:00:00",
          "2024-10-17T00:00:00",
          "2024-10-18T00:00:00",
          "2024-10-19T00:00:00",
          "2024-10-20T00:00:00",
          "2024-10-21T00:00:00",
          "2024-10-22T00:00:00",
          "2024-10-23T00:00:00",
          "2024-10-24T00:00:00",
          "2024-10-25T00:00:00",
          "2024-10-26T00:00:00",
          "2024-10-27T00:00:00",
          "2024-10-28T00:00:00",
          "2024-10-29T00:00:00",
          "2024-10-30T00:00:00",
          "2024-10-31T00:00:00",
          "2024-11-01T00:00:00",
          "2024-11-02T00:00:00",
          "2024-11-03T00:00:00",
          "2024-11-05T00:00:00",
          "2024-11-06T00:00:00",
          "2024-11-07T00:00:00",
          "2024-11-08T00:00:00",
          "2024-11-09T00:00:00",
          "2024-11-10T00:00:00",
          "2024-11-11T00:00:00",
          "2024-11-12T00:00:00",
          "2024-11-13T00:00:00",
          "2024-11-14T00:00:00",
          "2024-11-15T00:00:00",
          "2024-11-16T00:00:00",
          "2024-11-17T00:00:00",
          "2024-11-18T00:00:00",
          "2024-11-19T00:00:00",
          "2024-11-20T00:00:00",
          "2024-11-21T00:00:00",
          "2024-11-22T00:00:00",
          "2024-11-23T00:00:00",
          "2024-11-24T00:00:00",
          "2024-11-25T00:00:00",
          "2024-11-26T00:00:00",
          "2024-11-27T00:00:00",
          "2024-11-28T00:00:00",
          "2024-11-29T00:00:00",
          "2024-11-30T00:00:00",
          "2024-12-01T00:00:00",
          "2024-12-02T00:00:00",
          "2024-12-03T00:00:00",
          "2024-12-04T00:00:00",
          "2024-12-05T00:00:00",
          "2024-12-06T00:00:00",
          "2024-12-07T00:00:00",
          "2024-12-08T00:00:00",
          "2024-12-09T00:00:00",
          "2024-12-10T00:00:00",
          "2024-12-11T00:00:00",
          "2024-12-12T00:00:00",
          "2024-12-13T00:00:00",
          "2024-12-14T00:00:00",
          "2024-12-15T00:00:00",
          "2024-12-16T00:00:00",
          "2024-12-17T00:00:00",
          "2024-12-18T00:00:00",
          "2024-12-19T00:00:00",
          "2024-12-20T00:00:00",
          "2024-12-21T00:00:00",
          "2024-12-22T00:00:00",
          "2024-12-23T00:00:00",
          "2024-12-24T00:00:00",
          "2024-12-25T00:00:00",
          "2024-12-26T00:00:00",
          "2024-12-27T00:00:00",
          "2024-12-28T00:00:00",
          "2024-12-29T00:00:00",
          "2024-12-30T00:00:00",
          "2024-12-31T00:00:00",
          "2025-01-01T00:00:00",
          "2025-01-02T00:00:00",
          "2025-01-03T00:00:00",
          "2025-01-04T00:00:00",
          "2025-01-05T00:00:00",
          "2025-01-06T00:00:00",
          "2025-01-07T00:00:00",
          "2025-01-08T00:00:00",
          "2025-01-09T00:00:00",
          "2025-01-10T00:00:00",
          "2025-01-11T00:00:00",
          "2025-01-12T00:00:00",
          "2025-01-13T00:00:00",
          "2025-01-14T00:00:00",
          "2025-01-15T00:00:00",
          "2025-01-16T00:00:00",
          "2025-01-17T00:00:00",
          "2025-01-18T00:00:00",
          "2025-01-19T00:00:00",
          "2025-01-20T00:00:00",
          "2025-01-21T00:00:00",
          "2025-01-22T00:00:00",
          "2025-01-23T00:00:00",
          "2025-01-24T00:00:00",
          "2025-01-25T00:00:00",
          "2025-01-26T00:00:00",
          "2025-01-27T00:00:00",
          "2025-01-28T00:00:00",
          "2025-01-29T00:00:00",
          "2025-01-30T00:00:00",
          "2025-01-31T00:00:00",
          "2025-02-01T00:00:00",
          "2025-02-02T00:00:00",
          "2025-02-03T00:00:00",
          "2025-02-04T00:00:00",
          "2025-02-05T00:00:00",
          "2025-02-06T00:00:00",
          "2025-02-07T00:00:00",
          "2025-02-08T00:00:00",
          "2025-02-09T00:00:00",
          "2025-02-10T00:00:00",
          "2025-02-11T00:00:00",
          "2025-02-12T00:00:00",
          "2025-02-13T00:00:00",
          "2025-02-14T00:00:00",
          "2025-02-15T00:00:00",
          "2025-02-16T00:00:00",
          "2025-02-17T00:00:00",
          "2025-02-18T00:00:00",
          "2025-02-19T00:00:00",
          "2025-02-20T00:00:00",
          "2025-02-21T00:00:00",
          "2025-02-22T00:00:00",
          "2025-02-23T00:00:00",
          "2025-02-24T00:00:00",
          "2025-02-25T00:00:00",
          "2025-02-26T00:00:00",
          "2025-02-27T00:00:00",
          "2025-02-28T00:00:00",
          "2025-03-01T00:00:00",
          "2025-03-02T00:00:00",
          "2025-03-03T00:00:00",
          "2025-03-04T00:00:00",
          "2025-03-05T00:00:00",
          "2025-03-06T00:00:00",
          "2025-03-07T00:00:00",
          "2025-03-08T00:00:00",
          "2025-03-09T00:00:00",
          "2025-03-10T00:00:00",
          "2025-03-11T00:00:00",
          "2025-03-12T00:00:00",
          "2025-03-13T00:00:00",
          "2025-03-14T00:00:00",
          "2025-03-15T00:00:00",
          "2025-03-16T00:00:00",
          "2025-03-17T00:00:00",
          "2025-03-18T00:00:00",
          "2025-03-19T00:00:00",
          "2025-03-20T00:00:00",
          "2025-03-21T00:00:00",
          "2025-03-22T00:00:00",
          "2025-03-23T00:00:00",
          "2025-03-24T00:00:00",
          "2025-03-25T00:00:00",
          "2025-03-26T00:00:00",
          "2025-03-27T00:00:00",
          "2025-03-28T00:00:00",
          "2025-03-29T00:00:00",
          "2025-03-30T00:00:00",
          "2025-04-01T00:00:00",
          "2025-04-02T00:00:00",
          "2025-04-03T00:00:00",
          "2025-04-04T00:00:00",
          "2025-04-05T00:00:00",
          "2025-04-06T00:00:00",
          "2025-04-08T00:00:00"
         ],
         "xaxis": "x",
         "y": {
          "bdata": "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",
          "dtype": "f8"
         },
         "yaxis": "y"
        }
       ],
       "layout": {
        "legend": {
         "title": {
          "text": "label"
         },
         "tracegroupgap": 0
        },
        "template": {
         "data": {
          "bar": [
           {
            "error_x": {
             "color": "#2a3f5f"
            },
            "error_y": {
             "color": "#2a3f5f"
            },
            "marker": {
             "line": {
              "color": "#E5ECF6",
              "width": 0.5
             },
             "pattern": {
              "fillmode": "overlay",
              "size": 10,
              "solidity": 0.2
             }
            },
            "type": "bar"
           }
          ],
          "barpolar": [
           {
            "marker": {
             "line": {
              "color": "#E5ECF6",
              "width": 0.5
             },
             "pattern": {
              "fillmode": "overlay",
              "size": 10,
              "solidity": 0.2
             }
            },
            "type": "barpolar"
           }
          ],
          "carpet": [
           {
            "aaxis": {
             "endlinecolor": "#2a3f5f",
             "gridcolor": "white",
             "linecolor": "white",
             "minorgridcolor": "white",
             "startlinecolor": "#2a3f5f"
            },
            "baxis": {
             "endlinecolor": "#2a3f5f",
             "gridcolor": "white",
             "linecolor": "white",
             "minorgridcolor": "white",
             "startlinecolor": "#2a3f5f"
            },
            "type": "carpet"
           }
          ],
          "choropleth": [
           {
            "colorbar": {
             "outlinewidth": 0,
             "ticks": ""
            },
            "type": "choropleth"
           }
          ],
          "contour": [
           {
            "colorbar": {
             "outlinewidth": 0,
             "ticks": ""
            },
            "colorscale": [
             [
              0,
              "#0d0887"
             ],
             [
              0.1111111111111111,
              "#46039f"
             ],
             [
              0.2222222222222222,
              "#7201a8"
             ],
             [
              0.3333333333333333,
              "#9c179e"
             ],
             [
              0.4444444444444444,
              "#bd3786"
             ],
             [
              0.5555555555555556,
              "#d8576b"
             ],
             [
              0.6666666666666666,
              "#ed7953"
             ],
             [
              0.7777777777777778,
              "#fb9f3a"
             ],
             [
              0.8888888888888888,
              "#fdca26"
             ],
             [
              1,
              "#f0f921"
             ]
            ],
            "type": "contour"
           }
          ],
          "contourcarpet": [
           {
            "colorbar": {
             "outlinewidth": 0,
             "ticks": ""
            },
            "type": "contourcarpet"
           }
          ],
          "heatmap": [
           {
            "colorbar": {
             "outlinewidth": 0,
             "ticks": ""
            },
            "colorscale": [
             [
              0,
              "#0d0887"
             ],
             [
              0.1111111111111111,
              "#46039f"
             ],
             [
              0.2222222222222222,
              "#7201a8"
             ],
             [
              0.3333333333333333,
              "#9c179e"
             ],
             [
              0.4444444444444444,
              "#bd3786"
             ],
             [
              0.5555555555555556,
              "#d8576b"
             ],
             [
              0.6666666666666666,
              "#ed7953"
             ],
             [
              0.7777777777777778,
              "#fb9f3a"
             ],
             [
              0.8888888888888888,
              "#fdca26"
             ],
             [
              1,
              "#f0f921"
             ]
            ],
            "type": "heatmap"
           }
          ],
          "histogram": [
           {
            "marker": {
             "pattern": {
              "fillmode": "overlay",
              "size": 10,
              "solidity": 0.2
             }
            },
            "type": "histogram"
           }
          ],
          "histogram2d": [
           {
            "colorbar": {
             "outlinewidth": 0,
             "ticks": ""
            },
            "colorscale": [
             [
              0,
              "#0d0887"
             ],
             [
              0.1111111111111111,
              "#46039f"
             ],
             [
              0.2222222222222222,
              "#7201a8"
             ],
             [
              0.3333333333333333,
              "#9c179e"
             ],
             [
              0.4444444444444444,
              "#bd3786"
             ],
             [
              0.5555555555555556,
              "#d8576b"
             ],
             [
              0.6666666666666666,
              "#ed7953"
             ],
             [
              0.7777777777777778,
              "#fb9f3a"
             ],
             [
              0.8888888888888888,
              "#fdca26"
             ],
             [
              1,
              "#f0f921"
             ]
            ],
            "type": "histogram2d"
           }
          ],
          "histogram2dcontour": [
           {
            "colorbar": {
             "outlinewidth": 0,
             "ticks": ""
            },
            "colorscale": [
             [
              0,
              "#0d0887"
             ],
             [
              0.1111111111111111,
              "#46039f"
             ],
             [
              0.2222222222222222,
              "#7201a8"
             ],
             [
              0.3333333333333333,
              "#9c179e"
             ],
             [
              0.4444444444444444,
              "#bd3786"
             ],
             [
              0.5555555555555556,
              "#d8576b"
             ],
             [
              0.6666666666666666,
              "#ed7953"
             ],
             [
              0.7777777777777778,
              "#fb9f3a"
             ],
             [
              0.8888888888888888,
              "#fdca26"
             ],
             [
              1,
              "#f0f921"
             ]
            ],
            "type": "histogram2dcontour"
           }
          ],
          "mesh3d": [
           {
            "colorbar": {
             "outlinewidth": 0,
             "ticks": ""
            },
            "type": "mesh3d"
           }
          ],
          "parcoords": [
           {
            "line": {
             "colorbar": {
              "outlinewidth": 0,
              "ticks": ""
             }
            },
            "type": "parcoords"
           }
          ],
          "pie": [
           {
            "automargin": true,
            "type": "pie"
           }
          ],
          "scatter": [
           {
            "fillpattern": {
             "fillmode": "overlay",
             "size": 10,
             "solidity": 0.2
            },
            "type": "scatter"
           }
          ],
          "scatter3d": [
           {
            "line": {
             "colorbar": {
              "outlinewidth": 0,
              "ticks": ""
             }
            },
            "marker": {
             "colorbar": {
              "outlinewidth": 0,
              "ticks": ""
             }
            },
            "type": "scatter3d"
           }
          ],
          "scattercarpet": [
           {
            "marker": {
             "colorbar": {
              "outlinewidth": 0,
              "ticks": ""
             }
            },
            "type": "scattercarpet"
           }
          ],
          "scattergeo": [
           {
            "marker": {
             "colorbar": {
              "outlinewidth": 0,
              "ticks": ""
             }
            },
            "type": "scattergeo"
           }
          ],
          "scattergl": [
           {
            "marker": {
             "colorbar": {
              "outlinewidth": 0,
              "ticks": ""
             }
            },
            "type": "scattergl"
           }
          ],
          "scattermap": [
           {
            "marker": {
             "colorbar": {
              "outlinewidth": 0,
              "ticks": ""
             }
            },
            "type": "scattermap"
           }
          ],
          "scattermapbox": [
           {
            "marker": {
             "colorbar": {
              "outlinewidth": 0,
              "ticks": ""
             }
            },
            "type": "scattermapbox"
           }
          ],
          "scatterpolar": [
           {
            "marker": {
             "colorbar": {
              "outlinewidth": 0,
              "ticks": ""
             }
            },
            "type": "scatterpolar"
           }
          ],
          "scatterpolargl": [
           {
            "marker": {
             "colorbar": {
              "outlinewidth": 0,
              "ticks": ""
             }
            },
            "type": "scatterpolargl"
           }
          ],
          "scatterternary": [
           {
            "marker": {
             "colorbar": {
              "outlinewidth": 0,
              "ticks": ""
             }
            },
            "type": "scatterternary"
           }
          ],
          "surface": [
           {
            "colorbar": {
             "outlinewidth": 0,
             "ticks": ""
            },
            "colorscale": [
             [
              0,
              "#0d0887"
             ],
             [
              0.1111111111111111,
              "#46039f"
             ],
             [
              0.2222222222222222,
              "#7201a8"
             ],
             [
              0.3333333333333333,
              "#9c179e"
             ],
             [
              0.4444444444444444,
              "#bd3786"
             ],
             [
              0.5555555555555556,
              "#d8576b"
             ],
             [
              0.6666666666666666,
              "#ed7953"
             ],
             [
              0.7777777777777778,
              "#fb9f3a"
             ],
             [
              0.8888888888888888,
              "#fdca26"
             ],
             [
              1,
              "#f0f921"
             ]
            ],
            "type": "surface"
           }
          ],
          "table": [
           {
            "cells": {
             "fill": {
              "color": "#EBF0F8"
             },
             "line": {
              "color": "white"
             }
            },
            "header": {
             "fill": {
              "color": "#C8D4E3"
             },
             "line": {
              "color": "white"
             }
            },
            "type": "table"
           }
          ]
         },
         "layout": {
          "annotationdefaults": {
           "arrowcolor": "#2a3f5f",
           "arrowhead": 0,
           "arrowwidth": 1
          },
          "autotypenumbers": "strict",
          "coloraxis": {
           "colorbar": {
            "outlinewidth": 0,
            "ticks": ""
           }
          },
          "colorscale": {
           "diverging": [
            [
             0,
             "#8e0152"
            ],
            [
             0.1,
             "#c51b7d"
            ],
            [
             0.2,
             "#de77ae"
            ],
            [
             0.3,
             "#f1b6da"
            ],
            [
             0.4,
             "#fde0ef"
            ],
            [
             0.5,
             "#f7f7f7"
            ],
            [
             0.6,
             "#e6f5d0"
            ],
            [
             0.7,
             "#b8e186"
            ],
            [
             0.8,
             "#7fbc41"
            ],
            [
             0.9,
             "#4d9221"
            ],
            [
             1,
             "#276419"
            ]
           ],
           "sequential": [
            [
             0,
             "#0d0887"
            ],
            [
             0.1111111111111111,
             "#46039f"
            ],
            [
             0.2222222222222222,
             "#7201a8"
            ],
            [
             0.3333333333333333,
             "#9c179e"
            ],
            [
             0.4444444444444444,
             "#bd3786"
            ],
            [
             0.5555555555555556,
             "#d8576b"
            ],
            [
             0.6666666666666666,
             "#ed7953"
            ],
            [
             0.7777777777777778,
             "#fb9f3a"
            ],
            [
             0.8888888888888888,
             "#fdca26"
            ],
            [
             1,
             "#f0f921"
            ]
           ],
           "sequentialminus": [
            [
             0,
             "#0d0887"
            ],
            [
             0.1111111111111111,
             "#46039f"
            ],
            [
             0.2222222222222222,
             "#7201a8"
            ],
            [
             0.3333333333333333,
             "#9c179e"
            ],
            [
             0.4444444444444444,
             "#bd3786"
            ],
            [
             0.5555555555555556,
             "#d8576b"
            ],
            [
             0.6666666666666666,
             "#ed7953"
            ],
            [
             0.7777777777777778,
             "#fb9f3a"
            ],
            [
             0.8888888888888888,
             "#fdca26"
            ],
            [
             1,
             "#f0f921"
            ]
           ]
          },
          "colorway": [
           "#636efa",
           "#EF553B",
           "#00cc96",
           "#ab63fa",
           "#FFA15A",
           "#19d3f3",
           "#FF6692",
           "#B6E880",
           "#FF97FF",
           "#FECB52"
          ],
          "font": {
           "color": "#2a3f5f"
          },
          "geo": {
           "bgcolor": "white",
           "lakecolor": "white",
           "landcolor": "#E5ECF6",
           "showlakes": true,
           "showland": true,
           "subunitcolor": "white"
          },
          "hoverlabel": {
           "align": "left"
          },
          "hovermode": "closest",
          "mapbox": {
           "style": "light"
          },
          "paper_bgcolor": "white",
          "plot_bgcolor": "#E5ECF6",
          "polar": {
           "angularaxis": {
            "gridcolor": "white",
            "linecolor": "white",
            "ticks": ""
           },
           "bgcolor": "#E5ECF6",
           "radialaxis": {
            "gridcolor": "white",
            "linecolor": "white",
            "ticks": ""
           }
          },
          "scene": {
           "xaxis": {
            "backgroundcolor": "#E5ECF6",
            "gridcolor": "white",
            "gridwidth": 2,
            "linecolor": "white",
            "showbackground": true,
            "ticks": "",
            "zerolinecolor": "white"
           },
           "yaxis": {
            "backgroundcolor": "#E5ECF6",
            "gridcolor": "white",
            "gridwidth": 2,
            "linecolor": "white",
            "showbackground": true,
            "ticks": "",
            "zerolinecolor": "white"
           },
           "zaxis": {
            "backgroundcolor": "#E5ECF6",
            "gridcolor": "white",
            "gridwidth": 2,
            "linecolor": "white",
            "showbackground": true,
            "ticks": "",
            "zerolinecolor": "white"
           }
          },
          "shapedefaults": {
           "line": {
            "color": "#2a3f5f"
           }
          },
          "ternary": {
           "aaxis": {
            "gridcolor": "white",
            "linecolor": "white",
            "ticks": ""
           },
           "baxis": {
            "gridcolor": "white",
            "linecolor": "white",
            "ticks": ""
           },
           "bgcolor": "#E5ECF6",
           "caxis": {
            "gridcolor": "white",
            "linecolor": "white",
            "ticks": ""
           }
          },
          "title": {
           "x": 0.05
          },
          "xaxis": {
           "automargin": true,
           "gridcolor": "white",
           "linecolor": "white",
           "ticks": "",
           "title": {
            "standoff": 15
           },
           "zerolinecolor": "white",
           "zerolinewidth": 2
          },
          "yaxis": {
           "automargin": true,
           "gridcolor": "white",
           "linecolor": "white",
           "ticks": "",
           "title": {
            "standoff": 15
           },
           "zerolinecolor": "white",
           "zerolinewidth": 2
          }
         }
        },
        "title": {
         "text": "Prediction results - XGB"
        },
        "xaxis": {
         "anchor": "y",
         "domain": [
          0,
          1
         ],
         "title": {
          "text": "date"
         }
        },
        "yaxis": {
         "anchor": "x",
         "domain": [
          0,
          1
         ],
         "title": {
          "text": "total_sales_normalized"
         }
        }
       }
      }
     },
     "metadata": {},
     "output_type": "display_data"
    }
   ],
   "source": [
    "y_train_for_plot = pd.DataFrame(y_train).assign(label='train')\n",
    "y_test_for_plot = pd.DataFrame(y_test).assign(label='test')\n",
    "lr_pred_for_plot = pd.DataFrame(y_pred, columns=['total_sales_normalized'], index=y_test.index).assign(label='test_prediction')\n",
    "y_train_pred_for_plot = pd.DataFrame(y_train_pred, columns=['total_sales_normalized'], index=y_train.index).assign(label='train_prediction')\n",
    "\n",
    "custom_colors = {\n",
    "    'train': '#1f77b4',\n",
    "    'test': '#d62728',\n",
    "    'test_prediction': '#8bc34a',\n",
    "    'train_prediction': '#8bc34a'\n",
    "}\n",
    "\n",
    "xgb_plot_fig = px.line(pd.concat((y_train_for_plot, y_test_for_plot, lr_pred_for_plot, y_train_pred_for_plot)), \n",
    "        y=\"total_sales_normalized\",\n",
    "        color='label', \n",
    "        title='Prediction results - XGB',\n",
    "        color_discrete_map=custom_colors\n",
    "        )\n",
    "\n",
    "xgb_plot_fig.show()"
   ]
  },
  {
   "cell_type": "code",
   "execution_count": 7,
   "metadata": {},
   "outputs": [
    {
     "data": {
      "text/plain": [
       "335.5083554687499"
      ]
     },
     "execution_count": 7,
     "metadata": {},
     "output_type": "execute_result"
    }
   ],
   "source": [
    "mean_absolute_error(y_test, y_pred)"
   ]
  },
  {
   "cell_type": "code",
   "execution_count": 8,
   "metadata": {},
   "outputs": [
    {
     "data": {
      "text/html": [
       "<div>\n",
       "<style scoped>\n",
       "    .dataframe tbody tr th:only-of-type {\n",
       "        vertical-align: middle;\n",
       "    }\n",
       "\n",
       "    .dataframe tbody tr th {\n",
       "        vertical-align: top;\n",
       "    }\n",
       "\n",
       "    .dataframe thead th {\n",
       "        text-align: right;\n",
       "    }\n",
       "</style>\n",
       "<table border=\"1\" class=\"dataframe\">\n",
       "  <thead>\n",
       "    <tr style=\"text-align: right;\">\n",
       "      <th></th>\n",
       "      <th>total_sales_normalized</th>\n",
       "      <th>y_pred</th>\n",
       "      <th>prediction_error</th>\n",
       "      <th>error_percentage</th>\n",
       "    </tr>\n",
       "    <tr>\n",
       "      <th>day_of_week</th>\n",
       "      <th></th>\n",
       "      <th></th>\n",
       "      <th></th>\n",
       "      <th></th>\n",
       "    </tr>\n",
       "  </thead>\n",
       "  <tbody>\n",
       "    <tr>\n",
       "      <th>Monday</th>\n",
       "      <td>6434.42</td>\n",
       "      <td>6751.899902</td>\n",
       "      <td>317.48</td>\n",
       "      <td>0.049</td>\n",
       "    </tr>\n",
       "    <tr>\n",
       "      <th>Tuesday</th>\n",
       "      <td>6239.25</td>\n",
       "      <td>6256.399902</td>\n",
       "      <td>17.15</td>\n",
       "      <td>0.003</td>\n",
       "    </tr>\n",
       "    <tr>\n",
       "      <th>Wednesday</th>\n",
       "      <td>6465.93</td>\n",
       "      <td>6403.919922</td>\n",
       "      <td>-62.01</td>\n",
       "      <td>-0.010</td>\n",
       "    </tr>\n",
       "    <tr>\n",
       "      <th>Thursday</th>\n",
       "      <td>6700.23</td>\n",
       "      <td>6769.379883</td>\n",
       "      <td>69.15</td>\n",
       "      <td>0.010</td>\n",
       "    </tr>\n",
       "    <tr>\n",
       "      <th>Friday</th>\n",
       "      <td>8325.26</td>\n",
       "      <td>7826.790039</td>\n",
       "      <td>-498.46</td>\n",
       "      <td>-0.060</td>\n",
       "    </tr>\n",
       "    <tr>\n",
       "      <th>Saturday</th>\n",
       "      <td>8966.42</td>\n",
       "      <td>8737.580078</td>\n",
       "      <td>-228.83</td>\n",
       "      <td>-0.026</td>\n",
       "    </tr>\n",
       "    <tr>\n",
       "      <th>Sunday</th>\n",
       "      <td>8593.57</td>\n",
       "      <td>8224.610352</td>\n",
       "      <td>-368.96</td>\n",
       "      <td>-0.043</td>\n",
       "    </tr>\n",
       "  </tbody>\n",
       "</table>\n",
       "</div>"
      ],
      "text/plain": [
       "             total_sales_normalized       y_pred  prediction_error  \\\n",
       "day_of_week                                                          \n",
       "Monday                      6434.42  6751.899902            317.48   \n",
       "Tuesday                     6239.25  6256.399902             17.15   \n",
       "Wednesday                   6465.93  6403.919922            -62.01   \n",
       "Thursday                    6700.23  6769.379883             69.15   \n",
       "Friday                      8325.26  7826.790039           -498.46   \n",
       "Saturday                    8966.42  8737.580078           -228.83   \n",
       "Sunday                      8593.57  8224.610352           -368.96   \n",
       "\n",
       "             error_percentage  \n",
       "day_of_week                    \n",
       "Monday                  0.049  \n",
       "Tuesday                 0.003  \n",
       "Wednesday              -0.010  \n",
       "Thursday                0.010  \n",
       "Friday                 -0.060  \n",
       "Saturday               -0.026  \n",
       "Sunday                 -0.043  "
      ]
     },
     "execution_count": 8,
     "metadata": {},
     "output_type": "execute_result"
    }
   ],
   "source": [
    "pred_results = test_df.copy()\n",
    "pred_results['y_pred'] = y_pred\n",
    "pred_results['prediction_error'] = pred_results['y_pred'] - pred_results['total_sales_normalized'] \n",
    "\n",
    "mae_grouped_df = pred_results.groupby('day_of_week')[['total_sales_normalized', 'y_pred', 'prediction_error']].mean().round(2)\n",
    "mae_grouped_df['error_percentage'] = (mae_grouped_df['prediction_error'] / mae_grouped_df['total_sales_normalized']).round(3)\n",
    "mae_grouped_df.loc[['Monday', 'Tuesday', 'Wednesday', 'Thursday', 'Friday', 'Saturday', 'Sunday']]"
   ]
  },
  {
   "cell_type": "code",
   "execution_count": 9,
   "metadata": {},
   "outputs": [],
   "source": [
    "trained_xgb = xgb_pipe.named_steps['xgbregressor']\n",
    "trained_preprocessor = xgb_pipe.named_steps['columntransformer']\n",
    "\n",
    "columns = (xgb_pipe.named_steps['columntransformer'].named_transformers_['onehotencoder'].get_feature_names_out().tolist() + \n",
    "            xgb_pipe.named_steps['columntransformer'].named_transformers_['standardscaler'].get_feature_names_out().tolist()) "
   ]
  },
  {
   "cell_type": "code",
   "execution_count": 10,
   "metadata": {},
   "outputs": [
    {
     "data": {
      "image/png": "[encoded data removed]",
      "text/plain": [
       "<Figure size 800x790 with 1 Axes>"
      ]
     },
     "metadata": {},
     "output_type": "display_data"
    }
   ],
   "source": [
    "explainer = shap.TreeExplainer(trained_xgb)\n",
    "observations = pd.DataFrame(trained_preprocessor.transform(X_train), columns=columns)\n",
    "shap_values = explainer.shap_values(observations)\n",
    "shap.summary_plot(shap_values, observations, plot_type='bar')"
   ]
  },
  {
   "cell_type": "code",
   "execution_count": 16,
   "metadata": {},
   "outputs": [
    {
     "data": {
      "image/png": "[encoded data removed]",
      "text/plain": [
       "<Figure size 800x790 with 2 Axes>"
      ]
     },
     "metadata": {},
     "output_type": "display_data"
    }
   ],
   "source": [
    "explanation = explainer(observations)\n",
    "shap.plots.beeswarm(explanation, max_display=50)"
   ]
  }
 ],
 "metadata": {
  "kernelspec": {
   "display_name": "sales_forecast",
   "language": "python",
   "name": "python3"
  },
  "language_info": {
   "codemirror_mode": {
    "name": "ipython",
    "version": 3
   },
   "file_extension": ".py",
   "mimetype": "text/x-python",
   "name": "python",
   "nbconvert_exporter": "python",
   "pygments_lexer": "ipython3",
   "version": "3.9.23"
  }
 },
 "nbformat": 4,
 "nbformat_minor": 2
}
